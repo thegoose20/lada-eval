{
 "cells": [
  {
   "cell_type": "markdown",
   "id": "76dbc1be",
   "metadata": {},
   "source": [
    "# Evaluation\n",
    "\n",
    "### Linking Anthropology's Data and Archives (LADA)\n",
    "\n",
    "### AI-Generated Linked Data Evaluation (part II)\n",
    "\n",
    "**Considerations**:\n",
    " - Syntax (Does it adhere to the expected serialization format (e.g. well-formed XML)?)\n",
    " - Completeness (Fields are not empty or 'unknown')\n",
    " - Conformance to ontologies (i.e. CIDOC-CRM, Schema.org, Dublin Core)\n",
    " - Consistency (across generated data points)\n",
    "\n",
    "---\n",
    "\n",
    "**Table of Contents:**\n",
    "\n",
    "I. [Data Loading](#data-loading)\n",
    "\n",
    "II. [Syntax](#syntax)\n",
    "\n",
    "  * [XML](#xml)\n",
    "\n",
    "  * [JSON](#json)\n",
    "\n",
    "III. [Completeness](#completeness)\n",
    "\n",
    "IV. [Conformance and Consistency](#conformance-and-consistency)\n",
    "\n",
    "  * [Dublin Core](#dublin-core)\n",
    "\n",
    "  * [Schema.org](#schemaorg)\n",
    "\n",
    "  * [CIDOC-CRM](#cidoc-crm)\n",
    "\n",
    "---"
   ]
  },
  {
   "cell_type": "markdown",
   "id": "3f6d2e7c",
   "metadata": {},
   "source": [
    "### Data Loading"
   ]
  },
  {
   "cell_type": "code",
   "execution_count": 60,
   "id": "cd74052b",
   "metadata": {},
   "outputs": [],
   "source": [
    "import utils\n",
    "import config\n",
    "import pandas as pd\n",
    "import numpy as np\n",
    "import urllib.request\n",
    "import urllib\n",
    "import xml.etree.ElementTree as ET\n",
    "import json\n",
    "from lxml import etree\n",
    "import rdflib\n",
    "from rdflib.namespace import DC, SDO # Dublin Core, Schema.org\n",
    "from pathlib import Path\n",
    "import os\n",
    "import re\n",
    "\n",
    "# sax - to validate XML well-formed\n",
    "# xml.etree.ElementTree - to validate text between tags\n",
    "# xml.etree.ElementTree + xml.etree.ElementTree.XMLSchema's validate() - to validate XML well-formed\n",
    "# lxml etree.XMLParser - to validate well-formed based on input XML schema\n",
    "# json_checker - to validate Python data types (incl. but not limited to those obtained from JSON)\n",
    "# jsonschema.validate\n",
    "# ShEx - for RDF graphs, ShExJ for JSON - NOTE: couldn't install package\n",
    "# OntoME - for CIDOC-CRM ontology alignment"
   ]
  },
  {
   "cell_type": "code",
   "execution_count": null,
   "id": "b135b261",
   "metadata": {},
   "outputs": [],
   "source": [
    "dublin_path = \"cleaned/dublin_core/\"  # XML data files\n",
    "schema_path = \"cleaned/schema_org/\"   # JSON data files\n",
    "cidoc_path = \"cleaned/cidoc_crm/\"     # JSON data files\n",
    "\n",
    "dublin_t1_dir = config.task1_data+dublin_path\n",
    "schema_t1_dir = config.task1_data+schema_path\n",
    "cidoc_t1_dir = config.task1_data+cidoc_path\n",
    "\n",
    "dublin_p1_dir = config.playgrd1_data+dublin_path\n",
    "schema_p1_dir = config.playgrd1_data+schema_path\n",
    "cidoc_p1_dir = config.playgrd1_data+cidoc_path\n",
    "\n",
    "dublin_p3_dir = config.playgrd3_data+dublin_path\n",
    "schema_p3_dir = config.playgrd3_data+schema_path\n",
    "cidoc_p3_dir = config.playgrd3_data+cidoc_path"
   ]
  },
  {
   "cell_type": "code",
   "execution_count": 19,
   "id": "04930777",
   "metadata": {},
   "outputs": [
    {
     "name": "stdout",
     "output_type": "stream",
     "text": [
      "Total Dublin Core XML files: 96\n"
     ]
    }
   ],
   "source": [
    "dublin_file_paths = []\n",
    "dublin_files_t1 = os.listdir(dublin_t1_dir)\n",
    "dublin_file_paths += [dublin_t1_dir+f for f in dublin_files_t1]\n",
    "dublin_files_p1 = os.listdir(dublin_p1_dir) \n",
    "dublin_file_paths += [dublin_p1_dir+f for f in dublin_files_p1]\n",
    "dublin_files_p3 = os.listdir(dublin_p3_dir)\n",
    "dublin_file_paths += [dublin_p3_dir+f for f in dublin_files_p3]\n",
    "dublin_file_paths.sort()\n",
    "print(\"Total Dublin Core XML files:\", len(dublin_file_paths))"
   ]
  },
  {
   "cell_type": "code",
   "execution_count": 20,
   "id": "d743dd66",
   "metadata": {},
   "outputs": [
    {
     "data": {
      "text/plain": [
       "'data/data_playground_task1/cleaned/dublin_core/dc_record_000.xml'"
      ]
     },
     "execution_count": 20,
     "metadata": {},
     "output_type": "execute_result"
    }
   ],
   "source": [
    "dublin_file_paths[0]"
   ]
  },
  {
   "cell_type": "markdown",
   "id": "185155a0",
   "metadata": {},
   "source": [
    "## Syntax"
   ]
  },
  {
   "cell_type": "markdown",
   "id": "f280c775",
   "metadata": {},
   "source": [
    "### XML"
   ]
  },
  {
   "cell_type": "code",
   "execution_count": 38,
   "id": "a44fda9b",
   "metadata": {},
   "outputs": [
    {
     "name": "stdout",
     "output_type": "stream",
     "text": [
      "Files with errors: 38 of 96 (39.58%)\n"
     ]
    }
   ],
   "source": [
    "syntax_errors = []\n",
    "for f in dublin_file_paths:\n",
    "    try:\n",
    "        tree = etree.parse(f)\n",
    "    except Exception as e:\n",
    "        f_error = {\"file\": f, \"exception_type\": type(e), \"exception_message\": str(e)}\n",
    "        syntax_errors += [f_error]\n",
    "print(\"Files with errors:\", \n",
    "      len(syntax_errors), \"of\", len(dublin_file_paths),\n",
    "      f\"({(len(syntax_errors)/len(dublin_file_paths))*100:.2f}%)\")"
   ]
  },
  {
   "cell_type": "code",
   "execution_count": 54,
   "id": "ff46cd5a",
   "metadata": {},
   "outputs": [],
   "source": [
    "# TO DO: write report to TXT or CSV in dedicated directory!!!"
   ]
  },
  {
   "cell_type": "markdown",
   "id": "743ff4b9",
   "metadata": {},
   "source": [
    "### JSON"
   ]
  },
  {
   "cell_type": "code",
   "execution_count": 42,
   "id": "b9579af8",
   "metadata": {},
   "outputs": [
    {
     "name": "stdout",
     "output_type": "stream",
     "text": [
      "Total CIDOC-CRM JSON files: 91\n"
     ]
    }
   ],
   "source": [
    "cidoc_file_paths = []\n",
    "cidoc_files_t1 = os.listdir(cidoc_t1_dir)\n",
    "cidoc_file_paths += [cidoc_t1_dir+f for f in cidoc_files_t1]\n",
    "cidoc_files_p1 = os.listdir(cidoc_p1_dir)\n",
    "cidoc_file_paths += [cidoc_p1_dir+f for f in cidoc_files_p1]\n",
    "cidoc_files_p3 = os.listdir(cidoc_p3_dir)\n",
    "cidoc_file_paths += [cidoc_p3_dir+f for f in cidoc_files_p3]\n",
    "cidoc_file_paths.sort()\n",
    "print(\"Total CIDOC-CRM JSON files:\", len(cidoc_file_paths))"
   ]
  },
  {
   "cell_type": "code",
   "execution_count": 43,
   "id": "12c14058",
   "metadata": {},
   "outputs": [
    {
     "data": {
      "text/plain": [
       "'data/data_playground_task1/cleaned/cidoc_crm/cidoccrm_record_000.json'"
      ]
     },
     "execution_count": 43,
     "metadata": {},
     "output_type": "execute_result"
    }
   ],
   "source": [
    "cidoc_file_paths[0]"
   ]
  },
  {
   "cell_type": "code",
   "execution_count": null,
   "id": "7da00199",
   "metadata": {},
   "outputs": [
    {
     "name": "stdout",
     "output_type": "stream",
     "text": [
      "Total Schema.org JSON files: 107\n"
     ]
    },
    {
     "data": {
      "text/plain": [
       "'data/data_playground_task1/cleaned/schema_org/sdo_record_000.json'"
      ]
     },
     "execution_count": 40,
     "metadata": {},
     "output_type": "execute_result"
    }
   ],
   "source": [
    "schema_file_paths = []\n",
    "schema_files_t1 = os.listdir(schema_t1_dir)\n",
    "schema_file_paths += [schema_t1_dir+f for f in schema_files_t1]\n",
    "schema_files_p1 = os.listdir(schema_p1_dir)\n",
    "schema_file_paths += [schema_p1_dir+f for f in schema_files_p1]\n",
    "schema_files_p3 = os.listdir(schema_p3_dir)\n",
    "schema_file_paths += [schema_p3_dir+f for f in schema_files_p3]\n",
    "schema_file_paths.sort()\n",
    "print(\"Total Schema.org JSON files:\", len(schema_file_paths))"
   ]
  },
  {
   "cell_type": "code",
   "execution_count": 41,
   "id": "cab6e980",
   "metadata": {},
   "outputs": [
    {
     "data": {
      "text/plain": [
       "'data/data_playground_task1/cleaned/schema_org/sdo_record_000.json'"
      ]
     },
     "execution_count": 41,
     "metadata": {},
     "output_type": "execute_result"
    }
   ],
   "source": [
    "schema_file_paths[0]"
   ]
  },
  {
   "cell_type": "code",
   "execution_count": 46,
   "id": "e7122e42",
   "metadata": {},
   "outputs": [
    {
     "name": "stdout",
     "output_type": "stream",
     "text": [
      "198\n"
     ]
    }
   ],
   "source": [
    "json_file_paths = cidoc_file_paths + schema_file_paths\n",
    "print(len(json_file_paths))"
   ]
  },
  {
   "cell_type": "code",
   "execution_count": 47,
   "id": "34b0cfcd",
   "metadata": {},
   "outputs": [
    {
     "name": "stdout",
     "output_type": "stream",
     "text": [
      "Files with errors: 4 of 198 (2.02%)\n"
     ]
    }
   ],
   "source": [
    "syntax_errors = []\n",
    "for f in json_file_paths:\n",
    "    with open(f) as f:\n",
    "        try:\n",
    "            data = json.load(f)\n",
    "        except Exception as e:\n",
    "            f_error = {\"file\": f, \"exception_type\": type(e), \"exception_message\": str(e)}\n",
    "            syntax_errors += [f_error]\n",
    "print(\n",
    "    \"Files with errors:\", \n",
    "    len(syntax_errors), \"of\", len(json_file_paths),\n",
    "    f\"({(len(syntax_errors)/len(json_file_paths))*100:.2f}%)\"\n",
    "    )"
   ]
  },
  {
   "cell_type": "code",
   "execution_count": 52,
   "id": "6d3aedc3",
   "metadata": {},
   "outputs": [],
   "source": [
    "# TO DO: Write & export report on syntax/semantic errors!"
   ]
  },
  {
   "cell_type": "markdown",
   "id": "e76ad8fc",
   "metadata": {},
   "source": [
    "## Completeness"
   ]
  },
  {
   "cell_type": "markdown",
   "id": "6a91eef5",
   "metadata": {},
   "source": []
  },
  {
   "cell_type": "markdown",
   "id": "1da8d38c",
   "metadata": {},
   "source": [
    "## Conformance and Consistency"
   ]
  },
  {
   "cell_type": "markdown",
   "id": "e6519e50",
   "metadata": {},
   "source": [
    "### Dublin Core"
   ]
  },
  {
   "cell_type": "markdown",
   "id": "285cd567",
   "metadata": {},
   "source": [
    "***Note:***\n",
    "\n",
    "*The Dublin Core schemas' URLs below are from [dublincore.org](https://www.dublincore.org/schemas/xmls/) under \"Latest versions are always available as: ...\"*"
   ]
  },
  {
   "cell_type": "code",
   "execution_count": 65,
   "id": "7bd92425",
   "metadata": {},
   "outputs": [],
   "source": [
    "dc_elements_schema_url = \"https://www.dublincore.org/schemas/xmls/qdc/dc.xsd\"\n",
    "dc_terms_schema_url = \"https://www.dublincore.org/schemas/xmls/qdc/dcterms.xsd\"\n",
    "dc_mitype_schema_url = \"https://www.dublincore.org/schemas/xmls/qdc/dcmitype.xsd\""
   ]
  },
  {
   "cell_type": "code",
   "execution_count": 66,
   "id": "c7ee3d5d",
   "metadata": {},
   "outputs": [],
   "source": [
    "url = dc_elements_schema_url"
   ]
  },
  {
   "cell_type": "code",
   "execution_count": null,
   "id": "494e6b0e",
   "metadata": {},
   "outputs": [],
   "source": [
    "content = urllib.request.urlopen(url)\n",
    "parser = etree.XMLParser()\n",
    "dc_elements_tree = etree.parse(content, parser)\n",
    "dc_elements_schema = etree.XMLSchema(dc_elements_tree)\n",
    "\n",
    "    # dc_elements_tree = etree.parse(dc_elements_schema_path)\n",
    "    # dc_elements_schema = etree.XMLSchema(dc_elements_tree)"
   ]
  },
  {
   "cell_type": "code",
   "execution_count": null,
   "id": "4f8e8dd5",
   "metadata": {},
   "outputs": [],
   "source": [
    "xml_doc = etree.parse(dublin_file_paths[1]) # valid   #[0] - invalid as expected\n",
    "result = dc_elements_schema.validate(xml_doc)"
   ]
  },
  {
   "cell_type": "code",
   "execution_count": 79,
   "id": "ba78f639",
   "metadata": {},
   "outputs": [
    {
     "data": {
      "text/plain": [
       "'data/data_playground_task1/cleaned/dublin_core/dc_record_001.xml'"
      ]
     },
     "execution_count": 79,
     "metadata": {},
     "output_type": "execute_result"
    }
   ],
   "source": [
    "dublin_file_paths[1]"
   ]
  },
  {
   "cell_type": "markdown",
   "id": "ad6aada5",
   "metadata": {},
   "source": [
    "### Schema.org"
   ]
  },
  {
   "cell_type": "code",
   "execution_count": null,
   "id": "cf0fd7f3",
   "metadata": {},
   "outputs": [],
   "source": []
  },
  {
   "cell_type": "markdown",
   "id": "88f9d7ad",
   "metadata": {},
   "source": [
    "### CIDOC-CRM"
   ]
  },
  {
   "cell_type": "markdown",
   "id": "710305a5",
   "metadata": {},
   "source": []
  }
 ],
 "metadata": {
  "kernelspec": {
   "display_name": "ldeval",
   "language": "python",
   "name": "python3"
  },
  "language_info": {
   "codemirror_mode": {
    "name": "ipython",
    "version": 3
   },
   "file_extension": ".py",
   "mimetype": "text/x-python",
   "name": "python",
   "nbconvert_exporter": "python",
   "pygments_lexer": "ipython3",
   "version": "3.13.2"
  }
 },
 "nbformat": 4,
 "nbformat_minor": 5
}
