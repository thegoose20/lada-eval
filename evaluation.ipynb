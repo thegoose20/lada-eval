{
 "cells": [
  {
   "cell_type": "markdown",
   "id": "76dbc1be",
   "metadata": {},
   "source": [
    "# Evaluation\n",
    "\n",
    "### Linking Anthropology's Data and Archives (LADA)\n",
    "\n",
    "### AI-Generated Linked Data Evaluation (part II)\n",
    "\n",
    "**Considerations**:\n",
    " - Syntax (Does it adhere to the expected serialization format (e.g. well-formed XML)?)\n",
    " - Completeness (Fields are not empty or 'unknown')\n",
    " - Conformance to ontologies (i.e. CIDOC-CRM, Schema.org, Dublin Core)\n",
    " - Consistency (across generated data points)\n",
    "\n",
    "---\n",
    "\n",
    "**Table of Contents:**\n",
    "\n",
    "I. [Data Loading](#data-loading)\n",
    "\n",
    "II. [Syntax](#syntax)\n",
    "\n",
    "  * [XML](#xml)\n",
    "  \n",
    "    * [Automated Correction](#automated-correction)\n",
    "\n",
    "  * [JSON](#json)\n",
    "\n",
    "III. [Completeness](#completeness)\n",
    "\n",
    "IV. [Conformance and Consistency](#conformance-and-consistency)\n",
    "\n",
    "  * [Dublin Core](#dublin-core)\n",
    "\n",
    "  * [Schema.org](#schemaorg)\n",
    "\n",
    "  * [CIDOC-CRM](#cidoc-crm)\n",
    "\n",
    "---"
   ]
  },
  {
   "cell_type": "markdown",
   "id": "3f6d2e7c",
   "metadata": {},
   "source": [
    "### Data Loading"
   ]
  },
  {
   "cell_type": "code",
   "execution_count": 1,
   "id": "cd74052b",
   "metadata": {},
   "outputs": [],
   "source": [
    "import utils\n",
    "import config\n",
    "import pandas as pd\n",
    "import numpy as np\n",
    "import urllib.request\n",
    "import urllib\n",
    "import xml.etree.ElementTree as ET\n",
    "import json\n",
    "from lxml import etree\n",
    "import rdflib\n",
    "from rdflib.namespace import DC, SDO # Dublin Core, Schema.org\n",
    "from pathlib import Path\n",
    "import os\n",
    "import re\n",
    "\n",
    "# sax - to validate XML well-formed\n",
    "# xml.etree.ElementTree - to validate text between tags\n",
    "# xml.etree.ElementTree + xml.etree.ElementTree.XMLSchema's validate() - to validate XML well-formed\n",
    "# lxml etree.XMLParser - to validate well-formed based on input XML schema\n",
    "# json_checker - to validate Python data types (incl. but not limited to those obtained from JSON)\n",
    "# jsonschema.validate\n",
    "# ShEx - for RDF graphs, ShExJ for JSON - NOTE: couldn't install package\n",
    "# OntoME - for CIDOC-CRM ontology alignment"
   ]
  },
  {
   "cell_type": "markdown",
   "id": "f28c654d",
   "metadata": {},
   "source": [
    "Create variables to reference existing directories and files."
   ]
  },
  {
   "cell_type": "code",
   "execution_count": 2,
   "id": "b135b261",
   "metadata": {},
   "outputs": [],
   "source": [
    "dublin_path = \"cleaned/dublin_core/\"  # XML data files\n",
    "schema_path = \"cleaned/schema_org/\"   # JSON data files\n",
    "cidoc_path = \"cleaned/cidoc_crm/\"     # JSON data files\n",
    "\n",
    "dublin_t1_dir = config.task1_data+dublin_path\n",
    "schema_t1_dir = config.task1_data+schema_path\n",
    "cidoc_t1_dir = config.task1_data+cidoc_path\n",
    "\n",
    "dublin_p1_dir = config.playgrd1_data+dublin_path\n",
    "schema_p1_dir = config.playgrd1_data+schema_path\n",
    "cidoc_p1_dir = config.playgrd1_data+cidoc_path\n",
    "\n",
    "dublin_p3_dir = config.playgrd3_data+dublin_path\n",
    "schema_p3_dir = config.playgrd3_data+schema_path\n",
    "cidoc_p3_dir = config.playgrd3_data+cidoc_path"
   ]
  },
  {
   "cell_type": "markdown",
   "id": "dfa441c9",
   "metadata": {},
   "source": [
    "Create variables to reference automatically corrected files and their directories."
   ]
  },
  {
   "cell_type": "code",
   "execution_count": 3,
   "id": "f73e941c",
   "metadata": {},
   "outputs": [],
   "source": [
    "dublin_path = \"corrected/dublin_core/\"  # XML data files\n",
    "schema_path = \"corrected/schema_org/\"   # JSON data files\n",
    "cidoc_path = \"corrected/cidoc_crm/\"     # JSON data files\n",
    "\n",
    "dublin_t1_corrected_dir = config.task1_data+dublin_path\n",
    "schema_t1_corrected_dir = config.task1_data+schema_path\n",
    "cidoc_t1_corrected_dir = config.task1_data+cidoc_path\n",
    "\n",
    "dublin_p1_corrected_dir = config.playgrd1_data+dublin_path\n",
    "schema_p1_corrected_dir = config.playgrd1_data+schema_path\n",
    "cidoc_p1_corrected_dir = config.playgrd1_data+cidoc_path\n",
    "\n",
    "dublin_p3_corrected_dir = config.playgrd3_data+dublin_path\n",
    "schema_p3_corrected_dir = config.playgrd3_data+schema_path\n",
    "cidoc_p3_corrected_dir = config.playgrd3_data+cidoc_path\n",
    "\n",
    "corrected_dirs = [dublin_t1_corrected_dir, schema_t1_corrected_dir, cidoc_t1_corrected_dir,\n",
    "                  dublin_p1_corrected_dir, schema_p1_corrected_dir, cidoc_p1_corrected_dir,\n",
    "                  dublin_p3_corrected_dir, schema_p3_corrected_dir, cidoc_p3_corrected_dir\n",
    "                  ]\n",
    "for corrected_dir in corrected_dirs:\n",
    "    Path(corrected_dir).mkdir(parents=True, exist_ok=True)"
   ]
  },
  {
   "cell_type": "code",
   "execution_count": 4,
   "id": "04930777",
   "metadata": {},
   "outputs": [
    {
     "name": "stdout",
     "output_type": "stream",
     "text": [
      "Total Dublin Core XML files: 99\n"
     ]
    }
   ],
   "source": [
    "dublin_file_paths = []\n",
    "dublin_files_t1 = [f for f in os.listdir(dublin_t1_dir) if f.endswith(\".xml\")]\n",
    "dublin_file_paths += [dublin_t1_dir+f for f in dublin_files_t1]\n",
    "dublin_files_p1 = [f for f in os.listdir(dublin_p1_dir) if f.endswith(\".xml\")]\n",
    "dublin_file_paths += [dublin_p1_dir+f for f in dublin_files_p1]\n",
    "dublin_files_p3 = [f for f in os.listdir(dublin_p3_dir) if f.endswith(\".xml\")]\n",
    "dublin_file_paths += [dublin_p3_dir+f for f in dublin_files_p3]\n",
    "dublin_file_paths.sort()\n",
    "print(\"Total Dublin Core XML files:\", len(dublin_file_paths))"
   ]
  },
  {
   "cell_type": "markdown",
   "id": "185155a0",
   "metadata": {},
   "source": [
    "## Syntax"
   ]
  },
  {
   "cell_type": "markdown",
   "id": "f280c775",
   "metadata": {},
   "source": [
    "### XML\n",
    "\n",
    "First, read and evaluate only the files with a `.xml` extension."
   ]
  },
  {
   "cell_type": "code",
   "execution_count": 5,
   "id": "a44fda9b",
   "metadata": {},
   "outputs": [
    {
     "name": "stdout",
     "output_type": "stream",
     "text": [
      "Files with errors: 41 of 99 (41.41%)\n"
     ]
    }
   ],
   "source": [
    "syntax_errors = []\n",
    "for f in dublin_file_paths:\n",
    "    try:\n",
    "        tree = etree.parse(f)\n",
    "    except Exception as e:\n",
    "        f_error = {\"file\": f, \"exception_type\": type(e), \"exception_message\": str(e)}\n",
    "        syntax_errors += [f_error]\n",
    "print(\"Files with errors:\", \n",
    "      len(syntax_errors), \"of\", len(dublin_file_paths),\n",
    "      f\"({(len(syntax_errors)/len(dublin_file_paths))*100:.2f}%)\")"
   ]
  },
  {
   "cell_type": "code",
   "execution_count": 6,
   "id": "11d524bf",
   "metadata": {},
   "outputs": [
    {
     "name": "stdout",
     "output_type": "stream",
     "text": [
      "{'file': 'data/data_playground_task1/cleaned/dublin_core/dc_record_000.xml', 'exception_type': <class 'lxml.etree.XMLSyntaxError'>, 'exception_message': 'Namespace prefix dc on title is not defined, line 2, column 10 (dc_record_000.xml, line 2)'}\n"
     ]
    }
   ],
   "source": [
    "print(syntax_errors[0])"
   ]
  },
  {
   "cell_type": "code",
   "execution_count": 7,
   "id": "9a601f4a",
   "metadata": {},
   "outputs": [
    {
     "data": {
      "text/html": [
       "<div>\n",
       "<style scoped>\n",
       "    .dataframe tbody tr th:only-of-type {\n",
       "        vertical-align: middle;\n",
       "    }\n",
       "\n",
       "    .dataframe tbody tr th {\n",
       "        vertical-align: top;\n",
       "    }\n",
       "\n",
       "    .dataframe thead th {\n",
       "        text-align: right;\n",
       "    }\n",
       "</style>\n",
       "<table border=\"1\" class=\"dataframe\">\n",
       "  <thead>\n",
       "    <tr style=\"text-align: right;\">\n",
       "      <th></th>\n",
       "      <th>file</th>\n",
       "      <th>exception_type</th>\n",
       "      <th>exception_message</th>\n",
       "    </tr>\n",
       "  </thead>\n",
       "  <tbody>\n",
       "    <tr>\n",
       "      <th>0</th>\n",
       "      <td>data/data_playground_task1/cleaned/dublin_core...</td>\n",
       "      <td>&lt;class 'lxml.etree.XMLSyntaxError'&gt;</td>\n",
       "      <td>Namespace prefix dc on title is not defined, l...</td>\n",
       "    </tr>\n",
       "    <tr>\n",
       "      <th>1</th>\n",
       "      <td>data/data_playground_task1/cleaned/dublin_core...</td>\n",
       "      <td>&lt;class 'lxml.etree.XMLSyntaxError'&gt;</td>\n",
       "      <td>Namespace prefix rdf for about on Description ...</td>\n",
       "    </tr>\n",
       "    <tr>\n",
       "      <th>2</th>\n",
       "      <td>data/data_playground_task1/cleaned/dublin_core...</td>\n",
       "      <td>&lt;class 'lxml.etree.XMLSyntaxError'&gt;</td>\n",
       "      <td>Namespace prefix rdf on Description is not def...</td>\n",
       "    </tr>\n",
       "    <tr>\n",
       "      <th>3</th>\n",
       "      <td>data/data_playground_task1/cleaned/dublin_core...</td>\n",
       "      <td>&lt;class 'lxml.etree.XMLSyntaxError'&gt;</td>\n",
       "      <td>Namespace prefix rdf on Description is not def...</td>\n",
       "    </tr>\n",
       "    <tr>\n",
       "      <th>4</th>\n",
       "      <td>data/data_playground_task1/cleaned/dublin_core...</td>\n",
       "      <td>&lt;class 'lxml.etree.XMLSyntaxError'&gt;</td>\n",
       "      <td>xmlParseEntityRef: no name, line 3, column 28 ...</td>\n",
       "    </tr>\n",
       "  </tbody>\n",
       "</table>\n",
       "</div>"
      ],
      "text/plain": [
       "                                                file  \\\n",
       "0  data/data_playground_task1/cleaned/dublin_core...   \n",
       "1  data/data_playground_task1/cleaned/dublin_core...   \n",
       "2  data/data_playground_task1/cleaned/dublin_core...   \n",
       "3  data/data_playground_task1/cleaned/dublin_core...   \n",
       "4  data/data_playground_task1/cleaned/dublin_core...   \n",
       "\n",
       "                        exception_type  \\\n",
       "0  <class 'lxml.etree.XMLSyntaxError'>   \n",
       "1  <class 'lxml.etree.XMLSyntaxError'>   \n",
       "2  <class 'lxml.etree.XMLSyntaxError'>   \n",
       "3  <class 'lxml.etree.XMLSyntaxError'>   \n",
       "4  <class 'lxml.etree.XMLSyntaxError'>   \n",
       "\n",
       "                                   exception_message  \n",
       "0  Namespace prefix dc on title is not defined, l...  \n",
       "1  Namespace prefix rdf for about on Description ...  \n",
       "2  Namespace prefix rdf on Description is not def...  \n",
       "3  Namespace prefix rdf on Description is not def...  \n",
       "4  xmlParseEntityRef: no name, line 3, column 28 ...  "
      ]
     },
     "execution_count": 7,
     "metadata": {},
     "output_type": "execute_result"
    }
   ],
   "source": [
    "df_se = pd.DataFrame.from_dict(syntax_errors)\n",
    "df_se.head()"
   ]
  },
  {
   "cell_type": "code",
   "execution_count": 8,
   "id": "c6ca0891",
   "metadata": {},
   "outputs": [
    {
     "data": {
      "text/html": [
       "<div>\n",
       "<style scoped>\n",
       "    .dataframe tbody tr th:only-of-type {\n",
       "        vertical-align: middle;\n",
       "    }\n",
       "\n",
       "    .dataframe tbody tr th {\n",
       "        vertical-align: top;\n",
       "    }\n",
       "\n",
       "    .dataframe thead th {\n",
       "        text-align: right;\n",
       "    }\n",
       "</style>\n",
       "<table border=\"1\" class=\"dataframe\">\n",
       "  <thead>\n",
       "    <tr style=\"text-align: right;\">\n",
       "      <th></th>\n",
       "      <th>file_path</th>\n",
       "      <th>file_name</th>\n",
       "      <th>exception_type</th>\n",
       "      <th>exception_message</th>\n",
       "    </tr>\n",
       "  </thead>\n",
       "  <tbody>\n",
       "    <tr>\n",
       "      <th>0</th>\n",
       "      <td>data/data_playground_task1/cleaned/dublin_core...</td>\n",
       "      <td>dc_record_000.xml</td>\n",
       "      <td>&lt;class 'lxml.etree.XMLSyntaxError'&gt;</td>\n",
       "      <td>Namespace prefix dc on title is not defined, l...</td>\n",
       "    </tr>\n",
       "    <tr>\n",
       "      <th>1</th>\n",
       "      <td>data/data_playground_task1/cleaned/dublin_core...</td>\n",
       "      <td>dc_record_003.xml</td>\n",
       "      <td>&lt;class 'lxml.etree.XMLSyntaxError'&gt;</td>\n",
       "      <td>Namespace prefix rdf for about on Description ...</td>\n",
       "    </tr>\n",
       "    <tr>\n",
       "      <th>2</th>\n",
       "      <td>data/data_playground_task1/cleaned/dublin_core...</td>\n",
       "      <td>dc_record_018.xml</td>\n",
       "      <td>&lt;class 'lxml.etree.XMLSyntaxError'&gt;</td>\n",
       "      <td>Namespace prefix rdf on Description is not def...</td>\n",
       "    </tr>\n",
       "    <tr>\n",
       "      <th>3</th>\n",
       "      <td>data/data_playground_task1/cleaned/dublin_core...</td>\n",
       "      <td>dc_record_019.xml</td>\n",
       "      <td>&lt;class 'lxml.etree.XMLSyntaxError'&gt;</td>\n",
       "      <td>Namespace prefix rdf on Description is not def...</td>\n",
       "    </tr>\n",
       "    <tr>\n",
       "      <th>4</th>\n",
       "      <td>data/data_playground_task1/cleaned/dublin_core...</td>\n",
       "      <td>dc_record_020.xml</td>\n",
       "      <td>&lt;class 'lxml.etree.XMLSyntaxError'&gt;</td>\n",
       "      <td>xmlParseEntityRef: no name, line 3, column 28 ...</td>\n",
       "    </tr>\n",
       "  </tbody>\n",
       "</table>\n",
       "</div>"
      ],
      "text/plain": [
       "                                           file_path          file_name  \\\n",
       "0  data/data_playground_task1/cleaned/dublin_core...  dc_record_000.xml   \n",
       "1  data/data_playground_task1/cleaned/dublin_core...  dc_record_003.xml   \n",
       "2  data/data_playground_task1/cleaned/dublin_core...  dc_record_018.xml   \n",
       "3  data/data_playground_task1/cleaned/dublin_core...  dc_record_019.xml   \n",
       "4  data/data_playground_task1/cleaned/dublin_core...  dc_record_020.xml   \n",
       "\n",
       "                        exception_type  \\\n",
       "0  <class 'lxml.etree.XMLSyntaxError'>   \n",
       "1  <class 'lxml.etree.XMLSyntaxError'>   \n",
       "2  <class 'lxml.etree.XMLSyntaxError'>   \n",
       "3  <class 'lxml.etree.XMLSyntaxError'>   \n",
       "4  <class 'lxml.etree.XMLSyntaxError'>   \n",
       "\n",
       "                                   exception_message  \n",
       "0  Namespace prefix dc on title is not defined, l...  \n",
       "1  Namespace prefix rdf for about on Description ...  \n",
       "2  Namespace prefix rdf on Description is not def...  \n",
       "3  Namespace prefix rdf on Description is not def...  \n",
       "4  xmlParseEntityRef: no name, line 3, column 28 ...  "
      ]
     },
     "execution_count": 8,
     "metadata": {},
     "output_type": "execute_result"
    }
   ],
   "source": [
    "new_file_col = df_se[\"file\"].apply(lambda x: x.split(\"/\")[-1])\n",
    "df_se = df_se.rename(columns={\"file\":\"file_path\"})\n",
    "df_se.insert(1, \"file_name\", new_file_col)\n",
    "df_se.head()"
   ]
  },
  {
   "cell_type": "code",
   "execution_count": 9,
   "id": "01d99f7a",
   "metadata": {},
   "outputs": [],
   "source": [
    "assert(len(df_se.file_path.unique()) == df_se.shape[0]), \"File names may repeat, because they may be located in different directories (folders), but each file path should be unique\""
   ]
  },
  {
   "cell_type": "code",
   "execution_count": 10,
   "id": "bacc9f39",
   "metadata": {},
   "outputs": [
    {
     "name": "stderr",
     "output_type": "stream",
     "text": [
      "<>:1: SyntaxWarning: invalid escape sequence '\\D'\n",
      "<>:1: SyntaxWarning: invalid escape sequence '\\D'\n",
      "/var/folders/9c/dtt4chrx6lgcgnfz6r_z5ymm0000gn/T/ipykernel_18977/1625063161.py:1: SyntaxWarning: invalid escape sequence '\\D'\n",
      "  pattern = \"^[\\D]+,\"\n"
     ]
    },
    {
     "data": {
      "text/html": [
       "<div>\n",
       "<style scoped>\n",
       "    .dataframe tbody tr th:only-of-type {\n",
       "        vertical-align: middle;\n",
       "    }\n",
       "\n",
       "    .dataframe tbody tr th {\n",
       "        vertical-align: top;\n",
       "    }\n",
       "\n",
       "    .dataframe thead th {\n",
       "        text-align: right;\n",
       "    }\n",
       "</style>\n",
       "<table border=\"1\" class=\"dataframe\">\n",
       "  <thead>\n",
       "    <tr style=\"text-align: right;\">\n",
       "      <th></th>\n",
       "      <th>file_path</th>\n",
       "      <th>file_name</th>\n",
       "      <th>exception_type</th>\n",
       "      <th>exception_subtype</th>\n",
       "      <th>exception_message</th>\n",
       "    </tr>\n",
       "  </thead>\n",
       "  <tbody>\n",
       "    <tr>\n",
       "      <th>0</th>\n",
       "      <td>data/data_playground_task1/cleaned/dublin_core...</td>\n",
       "      <td>dc_record_000.xml</td>\n",
       "      <td>&lt;class 'lxml.etree.XMLSyntaxError'&gt;</td>\n",
       "      <td>Namespace prefix dc on title is not defined</td>\n",
       "      <td>Namespace prefix dc on title is not defined, l...</td>\n",
       "    </tr>\n",
       "    <tr>\n",
       "      <th>1</th>\n",
       "      <td>data/data_playground_task1/cleaned/dublin_core...</td>\n",
       "      <td>dc_record_003.xml</td>\n",
       "      <td>&lt;class 'lxml.etree.XMLSyntaxError'&gt;</td>\n",
       "      <td>Namespace prefix rdf for about on Description ...</td>\n",
       "      <td>Namespace prefix rdf for about on Description ...</td>\n",
       "    </tr>\n",
       "    <tr>\n",
       "      <th>2</th>\n",
       "      <td>data/data_playground_task1/cleaned/dublin_core...</td>\n",
       "      <td>dc_record_018.xml</td>\n",
       "      <td>&lt;class 'lxml.etree.XMLSyntaxError'&gt;</td>\n",
       "      <td>Namespace prefix rdf on Description is not def...</td>\n",
       "      <td>Namespace prefix rdf on Description is not def...</td>\n",
       "    </tr>\n",
       "    <tr>\n",
       "      <th>3</th>\n",
       "      <td>data/data_playground_task1/cleaned/dublin_core...</td>\n",
       "      <td>dc_record_019.xml</td>\n",
       "      <td>&lt;class 'lxml.etree.XMLSyntaxError'&gt;</td>\n",
       "      <td>Namespace prefix rdf on Description is not def...</td>\n",
       "      <td>Namespace prefix rdf on Description is not def...</td>\n",
       "    </tr>\n",
       "    <tr>\n",
       "      <th>4</th>\n",
       "      <td>data/data_playground_task1/cleaned/dublin_core...</td>\n",
       "      <td>dc_record_020.xml</td>\n",
       "      <td>&lt;class 'lxml.etree.XMLSyntaxError'&gt;</td>\n",
       "      <td>xmlParseEntityRef: no name</td>\n",
       "      <td>xmlParseEntityRef: no name, line 3, column 28 ...</td>\n",
       "    </tr>\n",
       "  </tbody>\n",
       "</table>\n",
       "</div>"
      ],
      "text/plain": [
       "                                           file_path          file_name  \\\n",
       "0  data/data_playground_task1/cleaned/dublin_core...  dc_record_000.xml   \n",
       "1  data/data_playground_task1/cleaned/dublin_core...  dc_record_003.xml   \n",
       "2  data/data_playground_task1/cleaned/dublin_core...  dc_record_018.xml   \n",
       "3  data/data_playground_task1/cleaned/dublin_core...  dc_record_019.xml   \n",
       "4  data/data_playground_task1/cleaned/dublin_core...  dc_record_020.xml   \n",
       "\n",
       "                        exception_type  \\\n",
       "0  <class 'lxml.etree.XMLSyntaxError'>   \n",
       "1  <class 'lxml.etree.XMLSyntaxError'>   \n",
       "2  <class 'lxml.etree.XMLSyntaxError'>   \n",
       "3  <class 'lxml.etree.XMLSyntaxError'>   \n",
       "4  <class 'lxml.etree.XMLSyntaxError'>   \n",
       "\n",
       "                                   exception_subtype  \\\n",
       "0        Namespace prefix dc on title is not defined   \n",
       "1  Namespace prefix rdf for about on Description ...   \n",
       "2  Namespace prefix rdf on Description is not def...   \n",
       "3  Namespace prefix rdf on Description is not def...   \n",
       "4                         xmlParseEntityRef: no name   \n",
       "\n",
       "                                   exception_message  \n",
       "0  Namespace prefix dc on title is not defined, l...  \n",
       "1  Namespace prefix rdf for about on Description ...  \n",
       "2  Namespace prefix rdf on Description is not def...  \n",
       "3  Namespace prefix rdf on Description is not def...  \n",
       "4  xmlParseEntityRef: no name, line 3, column 28 ...  "
      ]
     },
     "execution_count": 10,
     "metadata": {},
     "output_type": "execute_result"
    }
   ],
   "source": [
    "pattern = \"^[\\D]+,\"\n",
    "new_exception_col = df_se[\"exception_message\"].apply(lambda x: re.findall(pattern, x)[0][:-1])\n",
    "df_se.insert(len(df_se.columns)-1, \"exception_subtype\", new_exception_col)\n",
    "df_se.head()"
   ]
  },
  {
   "cell_type": "code",
   "execution_count": 11,
   "id": "59282269",
   "metadata": {},
   "outputs": [],
   "source": [
    "subtype_report = pd.DataFrame(df_se.exception_subtype.value_counts()).reset_index()\n",
    "subtype_report = subtype_report.rename(columns={\"exception_subtype\":\"exception\"})\n",
    "subtype_report.insert(0, \"dimension_counted\", [\"exception_subtype\"]*subtype_report.shape[0])"
   ]
  },
  {
   "cell_type": "code",
   "execution_count": 12,
   "id": "68bbdf3e",
   "metadata": {},
   "outputs": [],
   "source": [
    "type_report = pd.DataFrame(df_se.exception_type.value_counts()).reset_index()\n",
    "type_report = type_report.rename(columns={\"exception_type\":\"exception\"})\n",
    "type_report.insert(0, \"dimension_counted\", [\"exception_type\"]*type_report.shape[0])"
   ]
  },
  {
   "cell_type": "code",
   "execution_count": 13,
   "id": "957243eb",
   "metadata": {},
   "outputs": [],
   "source": [
    "totals_report = pd.DataFrame({\n",
    "    \"dimension_counted\": [\"total_files\", \"files_with_error\"],\n",
    "    \"exception\": [\"NA\", \"NA\"],\n",
    "    \"count\": [len(dublin_file_paths), len(syntax_errors)]\n",
    "    })"
   ]
  },
  {
   "cell_type": "code",
   "execution_count": 14,
   "id": "fe17dcca",
   "metadata": {},
   "outputs": [
    {
     "data": {
      "text/html": [
       "<div>\n",
       "<style scoped>\n",
       "    .dataframe tbody tr th:only-of-type {\n",
       "        vertical-align: middle;\n",
       "    }\n",
       "\n",
       "    .dataframe tbody tr th {\n",
       "        vertical-align: top;\n",
       "    }\n",
       "\n",
       "    .dataframe thead th {\n",
       "        text-align: right;\n",
       "    }\n",
       "</style>\n",
       "<table border=\"1\" class=\"dataframe\">\n",
       "  <thead>\n",
       "    <tr style=\"text-align: right;\">\n",
       "      <th></th>\n",
       "      <th>dimension_counted</th>\n",
       "      <th>exception</th>\n",
       "      <th>count</th>\n",
       "      <th>proportion_of_all_files</th>\n",
       "    </tr>\n",
       "  </thead>\n",
       "  <tbody>\n",
       "    <tr>\n",
       "      <th>0</th>\n",
       "      <td>exception_type</td>\n",
       "      <td>&lt;class 'lxml.etree.XMLSyntaxError'&gt;</td>\n",
       "      <td>41</td>\n",
       "      <td>42.71%</td>\n",
       "    </tr>\n",
       "    <tr>\n",
       "      <th>0</th>\n",
       "      <td>exception_subtype</td>\n",
       "      <td>Namespace prefix dc on title is not defined</td>\n",
       "      <td>31</td>\n",
       "      <td>32.29%</td>\n",
       "    </tr>\n",
       "    <tr>\n",
       "      <th>1</th>\n",
       "      <td>exception_subtype</td>\n",
       "      <td>Namespace prefix rdf for about on Description ...</td>\n",
       "      <td>7</td>\n",
       "      <td>7.29%</td>\n",
       "    </tr>\n",
       "    <tr>\n",
       "      <th>2</th>\n",
       "      <td>exception_subtype</td>\n",
       "      <td>Namespace prefix rdf on Description is not def...</td>\n",
       "      <td>2</td>\n",
       "      <td>2.08%</td>\n",
       "    </tr>\n",
       "    <tr>\n",
       "      <th>3</th>\n",
       "      <td>exception_subtype</td>\n",
       "      <td>xmlParseEntityRef: no name</td>\n",
       "      <td>1</td>\n",
       "      <td>1.04%</td>\n",
       "    </tr>\n",
       "    <tr>\n",
       "      <th>0</th>\n",
       "      <td>total_files</td>\n",
       "      <td>NA</td>\n",
       "      <td>99</td>\n",
       "      <td>103.12%</td>\n",
       "    </tr>\n",
       "    <tr>\n",
       "      <th>1</th>\n",
       "      <td>files_with_error</td>\n",
       "      <td>NA</td>\n",
       "      <td>41</td>\n",
       "      <td>42.71%</td>\n",
       "    </tr>\n",
       "  </tbody>\n",
       "</table>\n",
       "</div>"
      ],
      "text/plain": [
       "   dimension_counted                                          exception  \\\n",
       "0     exception_type                <class 'lxml.etree.XMLSyntaxError'>   \n",
       "0  exception_subtype        Namespace prefix dc on title is not defined   \n",
       "1  exception_subtype  Namespace prefix rdf for about on Description ...   \n",
       "2  exception_subtype  Namespace prefix rdf on Description is not def...   \n",
       "3  exception_subtype                         xmlParseEntityRef: no name   \n",
       "0        total_files                                                 NA   \n",
       "1   files_with_error                                                 NA   \n",
       "\n",
       "   count proportion_of_all_files  \n",
       "0     41                  42.71%  \n",
       "0     31                  32.29%  \n",
       "1      7                   7.29%  \n",
       "2      2                   2.08%  \n",
       "3      1                   1.04%  \n",
       "0     99                 103.12%  \n",
       "1     41                  42.71%  "
      ]
     },
     "execution_count": 14,
     "metadata": {},
     "output_type": "execute_result"
    }
   ],
   "source": [
    "xml_report = pd.concat([type_report, subtype_report, totals_report])\n",
    "proportions = (xml_report[[\"count\"]]/96).values\n",
    "percentages = [f\"{proportion[0]*100:.2f}%\" for proportion in proportions]\n",
    "# print(proportions)\n",
    "# print(percentages)\n",
    "xml_report.insert(len(xml_report.columns), \"proportion_of_all_files\", percentages)\n",
    "xml_report\n"
   ]
  },
  {
   "cell_type": "markdown",
   "id": "c3556315",
   "metadata": {},
   "source": [
    "Save the reports as CSV files."
   ]
  },
  {
   "cell_type": "code",
   "execution_count": 17,
   "id": "356a4ba3",
   "metadata": {},
   "outputs": [],
   "source": [
    "report_dir = \"data/error_reports/\"\n",
    "Path(report_dir).mkdir(parents=True, exist_ok=True)"
   ]
  },
  {
   "cell_type": "code",
   "execution_count": 18,
   "id": "8502541b",
   "metadata": {},
   "outputs": [],
   "source": [
    "metadata_standard = \"dublin_core\"\n",
    "data_serialization = \"xml\"\n",
    "report_type = \"syntax_error_stats\"\n",
    "xml_report.to_csv(\n",
    "    report_dir+\"{metadata_standard}_{data_serialization}_{report_type}.csv\".format(\n",
    "        metadata_standard=metadata_standard,\n",
    "        data_serialization=data_serialization,\n",
    "        report_type=report_type\n",
    "        ), index=False\n",
    "    )"
   ]
  },
  {
   "cell_type": "code",
   "execution_count": 19,
   "id": "36a4aa70",
   "metadata": {},
   "outputs": [],
   "source": [
    "metadata_standard = \"dublin_core\"\n",
    "data_serialization = \"xml\"\n",
    "report_type = \"syntax_errors\"\n",
    "df_se.to_csv(\n",
    "    report_dir+\"{metadata_standard}_{data_serialization}_{report_type}.csv\".format(\n",
    "        metadata_standard=metadata_standard,\n",
    "        data_serialization=data_serialization,\n",
    "        report_type=report_type\n",
    "        ), index=False\n",
    "    )"
   ]
  },
  {
   "cell_type": "markdown",
   "id": "9f5f979c",
   "metadata": {},
   "source": [
    "##### Automated Correction\n",
    "\n",
    "Try correcting undefined namespace prefix errors automatically, reading the errored files' equivalents with `.txt` extensions and saving the corrected files that can be parsed with an XML parser to a new directory, where each corrected file has a `.xml` extension."
   ]
  },
  {
   "cell_type": "code",
   "execution_count": 15,
   "id": "24307fb9",
   "metadata": {},
   "outputs": [
    {
     "data": {
      "text/plain": [
       "array(['Namespace prefix dc on title is not defined',\n",
       "       'Namespace prefix rdf for about on Description is not defined',\n",
       "       'Namespace prefix rdf on Description is not defined',\n",
       "       'xmlParseEntityRef: no name'], dtype=object)"
      ]
     },
     "execution_count": 15,
     "metadata": {},
     "output_type": "execute_result"
    }
   ],
   "source": [
    "df_se.exception_subtype.unique()"
   ]
  },
  {
   "cell_type": "code",
   "execution_count": 16,
   "id": "2a204569",
   "metadata": {},
   "outputs": [],
   "source": [
    "errored_files = list(df_se.file_path)\n",
    "error_list = list(df_se.exception_subtype)\n",
    "assert (len(error_list) == len(errored_files)), \"Error list and errored files lists should be of the same length\""
   ]
  },
  {
   "cell_type": "code",
   "execution_count": 17,
   "id": "4347f999",
   "metadata": {},
   "outputs": [
    {
     "name": "stdout",
     "output_type": "stream",
     "text": [
      "data/data_playground_task1/cleaned/dublin_core/dc_record_000.txt\n",
      "Namespace prefix dc on title is not defined\n"
     ]
    }
   ],
   "source": [
    "txt_errored_files = [f.replace(\".xml\", \".txt\") for f in errored_files]\n",
    "print(txt_errored_files[0])\n",
    "print(error_list[0])"
   ]
  },
  {
   "cell_type": "code",
   "execution_count": 18,
   "id": "283ffaa3",
   "metadata": {},
   "outputs": [
    {
     "name": "stdout",
     "output_type": "stream",
     "text": [
      "Total correct Dublin Core XML files: 58\n",
      "Sample: data/data_playground_task1/cleaned/dublin_core/dc_record_001.xml\n"
     ]
    }
   ],
   "source": [
    "correct_dc_files = []\n",
    "for f in dublin_file_paths:\n",
    "    if f not in errored_files:\n",
    "        correct_dc_files += [f]\n",
    "print(\"Total correct Dublin Core XML files:\", len(correct_dc_files))\n",
    "print(\"Sample:\", correct_dc_files[0])"
   ]
  },
  {
   "cell_type": "code",
   "execution_count": 28,
   "id": "93a350cc",
   "metadata": {},
   "outputs": [],
   "source": [
    "prolog = '<?xml version=\"1.0\" encoding=\"UTF-8\"?>'\n",
    "dc_prefix_open_tag = '<metadata xmlns:dcterms=\"http://purl.org/dc/terms/\" xmlns:dc=\"http://purl.org/dc/elements/1.1/\">'\n",
    "dc_prefix_close_tag = '</metadata>'"
   ]
  },
  {
   "cell_type": "code",
   "execution_count": 32,
   "id": "3c50f88b",
   "metadata": {},
   "outputs": [
    {
     "name": "stdout",
     "output_type": "stream",
     "text": [
      "data/data_playground_task1/cleaned/dublin_core/dc_record_000.txt\n",
      "Namespace prefix dc on title is not defined\n"
     ]
    }
   ],
   "source": [
    "print(txt_errored_files[0])\n",
    "print(error_list[0])"
   ]
  },
  {
   "cell_type": "code",
   "execution_count": 48,
   "id": "1683e3ac",
   "metadata": {},
   "outputs": [
    {
     "name": "stderr",
     "output_type": "stream",
     "text": [
      "<>:12: SyntaxWarning: invalid escape sequence '\\<'\n",
      "<>:12: SyntaxWarning: invalid escape sequence '\\<'\n",
      "/var/folders/9c/dtt4chrx6lgcgnfz6r_z5ymm0000gn/T/ipykernel_18977/824819816.py:12: SyntaxWarning: invalid escape sequence '\\<'\n",
      "  has_prolog = re.findall(\"^\\<\\?xml version=.+ encoding=.+\", f_string)\n"
     ]
    }
   ],
   "source": [
    "i, maxI = 0, 1 #len(error_list)\n",
    "still_incorrect = []\n",
    "# while i < maxI:\n",
    "txt_file, message = txt_errored_files[i], error_list[i]\n",
    "if \"Namespace prefix dc\" in message:\n",
    "    with open(txt_file, \"r\") as f:\n",
    "        # print(txt_file)\n",
    "        f_string = f.read()\n",
    "        # print(content)\n",
    "\n",
    "        # Look for different error patterns\n",
    "        has_prolog = re.findall(\"^\\<\\?xml version=.+ encoding=.+\", f_string)\n",
    "        if len(has_prolog) == 0:\n",
    "            f_string = prolog + \"\\n\" + f_string\n",
    "        #     print(\"with prolog:\", f_string)\n",
    "\n",
    "        open_tag = re.findall(\"<dublincore>\", f_string)\n",
    "        close_tag = re.findall(\"</dublincore>\", f_string)\n",
    "        # print(open_tag, close_tag)\n",
    "        if (len(open_tag) == 1) and (len(close_tag) == 1):\n",
    "            f_string = f_string.replace(open_tag[0], dc_prefix_open_tag)\n",
    "            f_string = f_string.replace(close_tag[0],dc_prefix_close_tag)\n",
    "\n",
    "try:\n",
    "     root = ET.fromstring(f_string)\n",
    "     xml_file = txt_file.replace(\"txt\", \"xml\")\n",
    "     with open(xml_file, \"w\") as f:\n",
    "         f.write(f_string)\n",
    "except:\n",
    "    still_incorrect += [txt_file]\n",
    "\n",
    "        \n",
    "# print(f_string)\n",
    "# To validate that the new data is well-formed, try parsing\n",
    "# it with an XML parser\n",
    "# new_xml = etree.fromstring(f_string)\n",
    "# parser = ET.XMLParser #(encoding=\"utf-8\", recover=True)\n",
    "# root = ET.fromstring(f_string)\n",
    "# print(root.tag)\n",
    "    \n",
    "    \n",
    "\n",
    "    # i += 1"
   ]
  },
  {
   "cell_type": "code",
   "execution_count": 25,
   "id": "fb761ae6",
   "metadata": {},
   "outputs": [
    {
     "name": "stdout",
     "output_type": "stream",
     "text": [
      "<dublincore>\n",
      "<dc:title>Inquisition Report on Ann Aldrich</dc:title>\n",
      "<dc:creator>John Chichester (Coroner)</dc:creator>\n",
      "<dc:subject>Accidental Death, Coroner's Inquest, 18th Century Legal Document</dc:subject>\n",
      "<dc:description>An inquisition report dated January 9, 1793, documenting the accidental drowning of Ann Aldrich, a two-year-old child, in Mushmilling Hundred, Kent County. The report includes witness testimonies and jury findings.</dc:description>\n",
      "<dc:publisher>Kent County Court Records</dc:publisher>\n",
      "<dc:contributor>James Houston, John Grist, James White, David Judd, John Borie, John White, John Reed, John Farris, Richard Houston, William White, Anthony Pain, Edward Chimber</dc:contributor>\n",
      "<dc:date>1793-01-09</dc:date>\n",
      "<dc:type>Text</dc:type>\n",
      "<dc:format>Manuscript, Handwritten Document</dc:format>\n",
      "<dc:identifier>urn:kentcounty:inquest:1793:AnnAldrich</dc:identifier>\n",
      "<dc:source>Kent County Archives</dc:source>\n",
      "<dc:language>English</dc:language>\n",
      "<dc:relation>Legal and Judicial Records of Kent County</dc:relation>\n",
      "<dc:coverage>Kent County, Delaware, 1793</dc:coverage>\n",
      "<dc:rights>Public Domain</dc:rights>\n",
      "</dublincore>\n",
      "\n"
     ]
    }
   ],
   "source": [
    "# f_string = str(f_string).strip('b\"')\n",
    "print(str(f_string))"
   ]
  },
  {
   "cell_type": "markdown",
   "id": "743ff4b9",
   "metadata": {},
   "source": [
    "### JSON"
   ]
  },
  {
   "cell_type": "markdown",
   "id": "e7fcf079",
   "metadata": {},
   "source": [
    "First, read and evaluate only the files with a `.json` extension."
   ]
  },
  {
   "cell_type": "code",
   "execution_count": 66,
   "id": "b9579af8",
   "metadata": {},
   "outputs": [
    {
     "name": "stdout",
     "output_type": "stream",
     "text": [
      "Total CIDOC-CRM JSON files: 91\n"
     ]
    }
   ],
   "source": [
    "cidoc_file_paths = []\n",
    "cidoc_files_t1 = [f for f in os.listdir(cidoc_t1_dir) if f.endswith(\".json\")]\n",
    "cidoc_file_paths += [cidoc_t1_dir+f for f in cidoc_files_t1]\n",
    "cidoc_files_p1 = [f for f in os.listdir(cidoc_p1_dir) if f.endswith(\".json\")]\n",
    "cidoc_file_paths += [cidoc_p1_dir+f for f in cidoc_files_p1]\n",
    "cidoc_files_p3 = [f for f in os.listdir(cidoc_p3_dir) if f.endswith(\".json\")]\n",
    "cidoc_file_paths += [cidoc_p3_dir+f for f in cidoc_files_p3]\n",
    "cidoc_file_paths.sort()\n",
    "print(\"Total CIDOC-CRM JSON files:\", len(cidoc_file_paths))"
   ]
  },
  {
   "cell_type": "code",
   "execution_count": 43,
   "id": "12c14058",
   "metadata": {},
   "outputs": [
    {
     "data": {
      "text/plain": [
       "'data/data_playground_task1/cleaned/cidoc_crm/cidoccrm_record_000.json'"
      ]
     },
     "execution_count": 43,
     "metadata": {},
     "output_type": "execute_result"
    }
   ],
   "source": [
    "cidoc_file_paths[0]"
   ]
  },
  {
   "cell_type": "code",
   "execution_count": null,
   "id": "7da00199",
   "metadata": {},
   "outputs": [
    {
     "name": "stdout",
     "output_type": "stream",
     "text": [
      "Total Schema.org JSON files: 107\n"
     ]
    },
    {
     "data": {
      "text/plain": [
       "'data/data_playground_task1/cleaned/schema_org/sdo_record_000.json'"
      ]
     },
     "execution_count": 40,
     "metadata": {},
     "output_type": "execute_result"
    }
   ],
   "source": [
    "schema_file_paths = []\n",
    "schema_files_t1 = os.listdir(schema_t1_dir)\n",
    "schema_file_paths += [schema_t1_dir+f for f in schema_files_t1]\n",
    "schema_files_p1 = os.listdir(schema_p1_dir)\n",
    "schema_file_paths += [schema_p1_dir+f for f in schema_files_p1]\n",
    "schema_files_p3 = os.listdir(schema_p3_dir)\n",
    "schema_file_paths += [schema_p3_dir+f for f in schema_files_p3]\n",
    "schema_file_paths.sort()\n",
    "print(\"Total Schema.org JSON files:\", len(schema_file_paths))"
   ]
  },
  {
   "cell_type": "code",
   "execution_count": 41,
   "id": "cab6e980",
   "metadata": {},
   "outputs": [
    {
     "data": {
      "text/plain": [
       "'data/data_playground_task1/cleaned/schema_org/sdo_record_000.json'"
      ]
     },
     "execution_count": 41,
     "metadata": {},
     "output_type": "execute_result"
    }
   ],
   "source": [
    "schema_file_paths[0]"
   ]
  },
  {
   "cell_type": "code",
   "execution_count": 46,
   "id": "e7122e42",
   "metadata": {},
   "outputs": [
    {
     "name": "stdout",
     "output_type": "stream",
     "text": [
      "198\n"
     ]
    }
   ],
   "source": [
    "json_file_paths = cidoc_file_paths + schema_file_paths\n",
    "print(len(json_file_paths))"
   ]
  },
  {
   "cell_type": "code",
   "execution_count": 47,
   "id": "34b0cfcd",
   "metadata": {},
   "outputs": [
    {
     "name": "stdout",
     "output_type": "stream",
     "text": [
      "Files with errors: 4 of 198 (2.02%)\n"
     ]
    }
   ],
   "source": [
    "syntax_errors = []\n",
    "for f in json_file_paths:\n",
    "    with open(f) as f:\n",
    "        try:\n",
    "            data = json.load(f)\n",
    "        except Exception as e:\n",
    "            f_error = {\"file\": f, \"exception_type\": type(e), \"exception_message\": str(e)}\n",
    "            syntax_errors += [f_error]\n",
    "print(\n",
    "    \"Files with errors:\", \n",
    "    len(syntax_errors), \"of\", len(json_file_paths),\n",
    "    f\"({(len(syntax_errors)/len(json_file_paths))*100:.2f}%)\"\n",
    "    )"
   ]
  },
  {
   "cell_type": "code",
   "execution_count": 52,
   "id": "6d3aedc3",
   "metadata": {},
   "outputs": [],
   "source": [
    "# TO DO: Write & export report on syntax/semantic errors!"
   ]
  },
  {
   "cell_type": "markdown",
   "id": "e76ad8fc",
   "metadata": {},
   "source": [
    "## Completeness"
   ]
  },
  {
   "cell_type": "markdown",
   "id": "6a91eef5",
   "metadata": {},
   "source": []
  },
  {
   "cell_type": "markdown",
   "id": "1da8d38c",
   "metadata": {},
   "source": [
    "## Conformance and Consistency\n",
    "\n",
    "Consider conformance to standards and consistency of presentation (e.g., is all data on one or two lines, or does each tag, subtag, etc. appear on its own line?)"
   ]
  },
  {
   "cell_type": "markdown",
   "id": "e6519e50",
   "metadata": {},
   "source": [
    "### Dublin Core"
   ]
  },
  {
   "cell_type": "markdown",
   "id": "285cd567",
   "metadata": {},
   "source": [
    "***Note:***\n",
    "\n",
    "*The Dublin Core schemas' URLs below are from [dublincore.org](https://www.dublincore.org/schemas/xmls/) under \"Latest versions are always available as: ...\"*"
   ]
  },
  {
   "cell_type": "code",
   "execution_count": 65,
   "id": "7bd92425",
   "metadata": {},
   "outputs": [],
   "source": [
    "dc_elements_schema_url = \"https://www.dublincore.org/schemas/xmls/qdc/dc.xsd\"\n",
    "dc_terms_schema_url = \"https://www.dublincore.org/schemas/xmls/qdc/dcterms.xsd\"\n",
    "dc_mitype_schema_url = \"https://www.dublincore.org/schemas/xmls/qdc/dcmitype.xsd\""
   ]
  },
  {
   "cell_type": "code",
   "execution_count": 66,
   "id": "c7ee3d5d",
   "metadata": {},
   "outputs": [],
   "source": [
    "url = dc_elements_schema_url"
   ]
  },
  {
   "cell_type": "code",
   "execution_count": null,
   "id": "494e6b0e",
   "metadata": {},
   "outputs": [],
   "source": [
    "content = urllib.request.urlopen(url)\n",
    "parser = etree.XMLParser()\n",
    "dc_elements_tree = etree.parse(content, parser)\n",
    "dc_elements_schema = etree.XMLSchema(dc_elements_tree)\n",
    "\n",
    "    # dc_elements_tree = etree.parse(dc_elements_schema_path)\n",
    "    # dc_elements_schema = etree.XMLSchema(dc_elements_tree)"
   ]
  },
  {
   "cell_type": "code",
   "execution_count": null,
   "id": "4f8e8dd5",
   "metadata": {},
   "outputs": [],
   "source": [
    "xml_doc = etree.parse(dublin_file_paths[1]) # valid   #[0] - invalid as expected\n",
    "result = dc_elements_schema.validate(xml_doc)"
   ]
  },
  {
   "cell_type": "code",
   "execution_count": 79,
   "id": "ba78f639",
   "metadata": {},
   "outputs": [
    {
     "data": {
      "text/plain": [
       "'data/data_playground_task1/cleaned/dublin_core/dc_record_001.xml'"
      ]
     },
     "execution_count": 79,
     "metadata": {},
     "output_type": "execute_result"
    }
   ],
   "source": [
    "dublin_file_paths[1]"
   ]
  },
  {
   "cell_type": "markdown",
   "id": "ad6aada5",
   "metadata": {},
   "source": [
    "### Schema.org"
   ]
  },
  {
   "cell_type": "code",
   "execution_count": null,
   "id": "cf0fd7f3",
   "metadata": {},
   "outputs": [],
   "source": []
  },
  {
   "cell_type": "markdown",
   "id": "88f9d7ad",
   "metadata": {},
   "source": [
    "### CIDOC-CRM"
   ]
  },
  {
   "cell_type": "markdown",
   "id": "710305a5",
   "metadata": {},
   "source": []
  }
 ],
 "metadata": {
  "kernelspec": {
   "display_name": "ldeval",
   "language": "python",
   "name": "python3"
  },
  "language_info": {
   "codemirror_mode": {
    "name": "ipython",
    "version": 3
   },
   "file_extension": ".py",
   "mimetype": "text/x-python",
   "name": "python",
   "nbconvert_exporter": "python",
   "pygments_lexer": "ipython3",
   "version": "3.13.2"
  }
 },
 "nbformat": 4,
 "nbformat_minor": 5
}
