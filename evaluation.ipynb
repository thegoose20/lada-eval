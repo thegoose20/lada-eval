{
 "cells": [
  {
   "cell_type": "markdown",
   "id": "76dbc1be",
   "metadata": {},
   "source": [
    "# Evaluation\n",
    "\n",
    "### Linking Anthropology's Data and Archives (LADA)\n",
    "\n",
    "### AI-Generated Linked Data Evaluation (part II)\n",
    "\n",
    "**Considerations**:\n",
    " - Syntax (Does it adhere to the expected serialization format (e.g. well-formed XML)?)\n",
    " - Completeness (Fields are not empty or 'unknown')\n",
    " - Conformance to ontologies (i.e. CIDOC-CRM, Schema.org, Dublin Core)\n",
    " - Consistency (across generated data points)\n",
    "\n",
    "---\n",
    "\n",
    "**Table of Contents:**\n",
    "\n",
    "I. [Data Loading](#data-loading)\n",
    "\n",
    "II. [Syntax](#syntax)\n",
    "\n",
    "  * [XML](#xml)\n",
    "  \n",
    "    * [Automated Correction](#automated-correction)\n",
    "\n",
    "  * [JSON](#json)\n",
    "\n",
    "III. [Completeness](#completeness)\n",
    "\n",
    "IV. [Conformance and Consistency](#conformance-and-consistency)\n",
    "\n",
    "  * [Dublin Core](#dublin-core)\n",
    "\n",
    "  * [Schema.org](#schemaorg)\n",
    "\n",
    "  * [CIDOC-CRM](#cidoc-crm)\n",
    "\n",
    "---"
   ]
  },
  {
   "cell_type": "markdown",
   "id": "3f6d2e7c",
   "metadata": {},
   "source": [
    "### Data Loading"
   ]
  },
  {
   "cell_type": "code",
   "execution_count": 72,
   "id": "cd74052b",
   "metadata": {},
   "outputs": [],
   "source": [
    "import utils\n",
    "import config\n",
    "import pandas as pd\n",
    "import numpy as np\n",
    "import urllib.request\n",
    "import urllib\n",
    "import xml.etree.ElementTree as ET\n",
    "import json\n",
    "from lxml import etree\n",
    "import rdflib\n",
    "from rdflib.namespace import DC, SDO # Dublin Core, Schema.org\n",
    "from pathlib import Path\n",
    "import os\n",
    "import re\n",
    "\n",
    "# sax - to validate XML well-formed\n",
    "# xml.etree.ElementTree - to validate text between tags\n",
    "# xml.etree.ElementTree + xml.etree.ElementTree.XMLSchema's validate() - to validate XML well-formed\n",
    "# lxml etree.XMLParser - to validate well-formed based on input XML schema\n",
    "# json_checker - to validate Python data types (incl. but not limited to those obtained from JSON)\n",
    "# jsonschema.validate\n",
    "# ShEx - for RDF graphs, ShExJ for JSON - NOTE: couldn't install package\n",
    "# OntoME - for CIDOC-CRM ontology alignment"
   ]
  },
  {
   "cell_type": "markdown",
   "id": "f28c654d",
   "metadata": {},
   "source": [
    "Create variables to reference existing directories and files."
   ]
  },
  {
   "cell_type": "code",
   "execution_count": 73,
   "id": "b135b261",
   "metadata": {},
   "outputs": [],
   "source": [
    "dublin_path = \"cleaned/dublin_core/\"  # XML data files\n",
    "schema_path = \"cleaned/schema_org/\"   # JSON data files\n",
    "cidoc_path = \"cleaned/cidoc_crm/\"     # JSON data files\n",
    "\n",
    "dublin_t1_dir = config.task1_data+dublin_path\n",
    "schema_t1_dir = config.task1_data+schema_path\n",
    "cidoc_t1_dir = config.task1_data+cidoc_path\n",
    "\n",
    "dublin_p1_dir = config.playgrd1_data+dublin_path\n",
    "schema_p1_dir = config.playgrd1_data+schema_path\n",
    "cidoc_p1_dir = config.playgrd1_data+cidoc_path\n",
    "\n",
    "dublin_p3_dir = config.playgrd3_data+dublin_path\n",
    "schema_p3_dir = config.playgrd3_data+schema_path\n",
    "cidoc_p3_dir = config.playgrd3_data+cidoc_path"
   ]
  },
  {
   "cell_type": "markdown",
   "id": "dfa441c9",
   "metadata": {},
   "source": [
    "Create variables to reference automatically corrected files and their directories."
   ]
  },
  {
   "cell_type": "code",
   "execution_count": 74,
   "id": "f73e941c",
   "metadata": {},
   "outputs": [],
   "source": [
    "dublin_path = \"corrected/dublin_core/\"  # XML data files\n",
    "schema_path = \"corrected/schema_org/\"   # JSON data files\n",
    "cidoc_path = \"corrected/cidoc_crm/\"     # JSON data files\n",
    "\n",
    "dublin_t1_corrected_dir = config.task1_data+dublin_path\n",
    "schema_t1_corrected_dir = config.task1_data+schema_path\n",
    "cidoc_t1_corrected_dir = config.task1_data+cidoc_path\n",
    "\n",
    "dublin_p1_corrected_dir = config.playgrd1_data+dublin_path\n",
    "schema_p1_corrected_dir = config.playgrd1_data+schema_path\n",
    "cidoc_p1_corrected_dir = config.playgrd1_data+cidoc_path\n",
    "\n",
    "dublin_p3_corrected_dir = config.playgrd3_data+dublin_path\n",
    "schema_p3_corrected_dir = config.playgrd3_data+schema_path\n",
    "cidoc_p3_corrected_dir = config.playgrd3_data+cidoc_path\n",
    "\n",
    "corrected_dirs = [dublin_t1_corrected_dir, schema_t1_corrected_dir, cidoc_t1_corrected_dir,\n",
    "                  dublin_p1_corrected_dir, schema_p1_corrected_dir, cidoc_p1_corrected_dir,\n",
    "                  dublin_p3_corrected_dir, schema_p3_corrected_dir, cidoc_p3_corrected_dir\n",
    "                  ]\n",
    "for corrected_dir in corrected_dirs:\n",
    "    Path(corrected_dir).mkdir(parents=True, exist_ok=True)"
   ]
  },
  {
   "cell_type": "markdown",
   "id": "185155a0",
   "metadata": {},
   "source": [
    "## Syntax"
   ]
  },
  {
   "cell_type": "markdown",
   "id": "f280c775",
   "metadata": {},
   "source": [
    "### XML\n",
    "\n",
    "First, read and evaluate only the files with a `.xml` extension."
   ]
  },
  {
   "cell_type": "code",
   "execution_count": 4,
   "id": "b800f812",
   "metadata": {},
   "outputs": [
    {
     "name": "stdout",
     "output_type": "stream",
     "text": [
      "Total Dublin Core XML files: 107\n"
     ]
    }
   ],
   "source": [
    "dublin_file_paths = []\n",
    "dublin_files_t1 = [f for f in os.listdir(dublin_t1_dir) if f.endswith(\".xml\")]\n",
    "dublin_file_paths += [dublin_t1_dir+f for f in dublin_files_t1]\n",
    "dublin_files_p1 = [f for f in os.listdir(dublin_p1_dir) if f.endswith(\".xml\")]\n",
    "dublin_file_paths += [dublin_p1_dir+f for f in dublin_files_p1]\n",
    "dublin_files_p3 = [f for f in os.listdir(dublin_p3_dir) if f.endswith(\".xml\")]\n",
    "dublin_file_paths += [dublin_p3_dir+f for f in dublin_files_p3]\n",
    "dublin_file_paths.sort()\n",
    "total_dcxml_files = len(dublin_file_paths)\n",
    "print(\"Total Dublin Core XML files:\", total_dcxml_files)"
   ]
  },
  {
   "cell_type": "code",
   "execution_count": 5,
   "id": "a44fda9b",
   "metadata": {},
   "outputs": [
    {
     "name": "stdout",
     "output_type": "stream",
     "text": [
      "Files with errors: 43 of 107 (40.19%)\n"
     ]
    }
   ],
   "source": [
    "syntax_errors = []\n",
    "for f in dublin_file_paths:\n",
    "    try:\n",
    "        tree = etree.parse(f)\n",
    "    except Exception as e:\n",
    "        f_error = {\"file\": f, \"exception_type\": type(e), \"exception_message\": str(e)}\n",
    "        syntax_errors += [f_error]\n",
    "print(\"Files with errors:\", \n",
    "      len(syntax_errors), \"of\", total_dcxml_files,\n",
    "      f\"({(len(syntax_errors)/total_dcxml_files)*100:.2f}%)\")"
   ]
  },
  {
   "cell_type": "code",
   "execution_count": 6,
   "id": "11d524bf",
   "metadata": {},
   "outputs": [
    {
     "name": "stdout",
     "output_type": "stream",
     "text": [
      "{'file': 'data/data_playground_task1/cleaned/dublin_core/dc_record_005.xml', 'exception_type': <class 'lxml.etree.XMLSyntaxError'>, 'exception_message': 'Namespace prefix dc on title is not defined, line 1, column 10 (dc_record_005.xml, line 1)'}\n"
     ]
    }
   ],
   "source": [
    "print(syntax_errors[0])"
   ]
  },
  {
   "cell_type": "code",
   "execution_count": 7,
   "id": "9a601f4a",
   "metadata": {},
   "outputs": [
    {
     "data": {
      "text/html": [
       "<div>\n",
       "<style scoped>\n",
       "    .dataframe tbody tr th:only-of-type {\n",
       "        vertical-align: middle;\n",
       "    }\n",
       "\n",
       "    .dataframe tbody tr th {\n",
       "        vertical-align: top;\n",
       "    }\n",
       "\n",
       "    .dataframe thead th {\n",
       "        text-align: right;\n",
       "    }\n",
       "</style>\n",
       "<table border=\"1\" class=\"dataframe\">\n",
       "  <thead>\n",
       "    <tr style=\"text-align: right;\">\n",
       "      <th></th>\n",
       "      <th>file</th>\n",
       "      <th>exception_type</th>\n",
       "      <th>exception_message</th>\n",
       "    </tr>\n",
       "  </thead>\n",
       "  <tbody>\n",
       "    <tr>\n",
       "      <th>0</th>\n",
       "      <td>data/data_playground_task1/cleaned/dublin_core...</td>\n",
       "      <td>&lt;class 'lxml.etree.XMLSyntaxError'&gt;</td>\n",
       "      <td>Namespace prefix dc on title is not defined, l...</td>\n",
       "    </tr>\n",
       "    <tr>\n",
       "      <th>1</th>\n",
       "      <td>data/data_playground_task1/cleaned/dublin_core...</td>\n",
       "      <td>&lt;class 'lxml.etree.XMLSyntaxError'&gt;</td>\n",
       "      <td>Namespace prefix dc on title is not defined, l...</td>\n",
       "    </tr>\n",
       "    <tr>\n",
       "      <th>2</th>\n",
       "      <td>data/data_playground_task1/cleaned/dublin_core...</td>\n",
       "      <td>&lt;class 'lxml.etree.XMLSyntaxError'&gt;</td>\n",
       "      <td>Namespace prefix dc on title is not defined, l...</td>\n",
       "    </tr>\n",
       "    <tr>\n",
       "      <th>3</th>\n",
       "      <td>data/data_playground_task1/cleaned/dublin_core...</td>\n",
       "      <td>&lt;class 'lxml.etree.XMLSyntaxError'&gt;</td>\n",
       "      <td>Namespace prefix dc on title is not defined, l...</td>\n",
       "    </tr>\n",
       "    <tr>\n",
       "      <th>4</th>\n",
       "      <td>data/data_playground_task1/cleaned/dublin_core...</td>\n",
       "      <td>&lt;class 'lxml.etree.XMLSyntaxError'&gt;</td>\n",
       "      <td>Namespace prefix dc on title is not defined, l...</td>\n",
       "    </tr>\n",
       "  </tbody>\n",
       "</table>\n",
       "</div>"
      ],
      "text/plain": [
       "                                                file  \\\n",
       "0  data/data_playground_task1/cleaned/dublin_core...   \n",
       "1  data/data_playground_task1/cleaned/dublin_core...   \n",
       "2  data/data_playground_task1/cleaned/dublin_core...   \n",
       "3  data/data_playground_task1/cleaned/dublin_core...   \n",
       "4  data/data_playground_task1/cleaned/dublin_core...   \n",
       "\n",
       "                        exception_type  \\\n",
       "0  <class 'lxml.etree.XMLSyntaxError'>   \n",
       "1  <class 'lxml.etree.XMLSyntaxError'>   \n",
       "2  <class 'lxml.etree.XMLSyntaxError'>   \n",
       "3  <class 'lxml.etree.XMLSyntaxError'>   \n",
       "4  <class 'lxml.etree.XMLSyntaxError'>   \n",
       "\n",
       "                                   exception_message  \n",
       "0  Namespace prefix dc on title is not defined, l...  \n",
       "1  Namespace prefix dc on title is not defined, l...  \n",
       "2  Namespace prefix dc on title is not defined, l...  \n",
       "3  Namespace prefix dc on title is not defined, l...  \n",
       "4  Namespace prefix dc on title is not defined, l...  "
      ]
     },
     "execution_count": 7,
     "metadata": {},
     "output_type": "execute_result"
    }
   ],
   "source": [
    "df_se = pd.DataFrame.from_dict(syntax_errors)\n",
    "df_se.head()"
   ]
  },
  {
   "cell_type": "code",
   "execution_count": 8,
   "id": "c6ca0891",
   "metadata": {},
   "outputs": [
    {
     "data": {
      "text/html": [
       "<div>\n",
       "<style scoped>\n",
       "    .dataframe tbody tr th:only-of-type {\n",
       "        vertical-align: middle;\n",
       "    }\n",
       "\n",
       "    .dataframe tbody tr th {\n",
       "        vertical-align: top;\n",
       "    }\n",
       "\n",
       "    .dataframe thead th {\n",
       "        text-align: right;\n",
       "    }\n",
       "</style>\n",
       "<table border=\"1\" class=\"dataframe\">\n",
       "  <thead>\n",
       "    <tr style=\"text-align: right;\">\n",
       "      <th></th>\n",
       "      <th>file_path</th>\n",
       "      <th>file_name</th>\n",
       "      <th>exception_type</th>\n",
       "      <th>exception_message</th>\n",
       "    </tr>\n",
       "  </thead>\n",
       "  <tbody>\n",
       "    <tr>\n",
       "      <th>0</th>\n",
       "      <td>data/data_playground_task1/cleaned/dublin_core...</td>\n",
       "      <td>dc_record_005.xml</td>\n",
       "      <td>&lt;class 'lxml.etree.XMLSyntaxError'&gt;</td>\n",
       "      <td>Namespace prefix dc on title is not defined, l...</td>\n",
       "    </tr>\n",
       "    <tr>\n",
       "      <th>1</th>\n",
       "      <td>data/data_playground_task1/cleaned/dublin_core...</td>\n",
       "      <td>dc_record_006.xml</td>\n",
       "      <td>&lt;class 'lxml.etree.XMLSyntaxError'&gt;</td>\n",
       "      <td>Namespace prefix dc on title is not defined, l...</td>\n",
       "    </tr>\n",
       "    <tr>\n",
       "      <th>2</th>\n",
       "      <td>data/data_playground_task1/cleaned/dublin_core...</td>\n",
       "      <td>dc_record_007.xml</td>\n",
       "      <td>&lt;class 'lxml.etree.XMLSyntaxError'&gt;</td>\n",
       "      <td>Namespace prefix dc on title is not defined, l...</td>\n",
       "    </tr>\n",
       "    <tr>\n",
       "      <th>3</th>\n",
       "      <td>data/data_playground_task1/cleaned/dublin_core...</td>\n",
       "      <td>dc_record_008.xml</td>\n",
       "      <td>&lt;class 'lxml.etree.XMLSyntaxError'&gt;</td>\n",
       "      <td>Namespace prefix dc on title is not defined, l...</td>\n",
       "    </tr>\n",
       "    <tr>\n",
       "      <th>4</th>\n",
       "      <td>data/data_playground_task1/cleaned/dublin_core...</td>\n",
       "      <td>dc_record_009.xml</td>\n",
       "      <td>&lt;class 'lxml.etree.XMLSyntaxError'&gt;</td>\n",
       "      <td>Namespace prefix dc on title is not defined, l...</td>\n",
       "    </tr>\n",
       "  </tbody>\n",
       "</table>\n",
       "</div>"
      ],
      "text/plain": [
       "                                           file_path          file_name  \\\n",
       "0  data/data_playground_task1/cleaned/dublin_core...  dc_record_005.xml   \n",
       "1  data/data_playground_task1/cleaned/dublin_core...  dc_record_006.xml   \n",
       "2  data/data_playground_task1/cleaned/dublin_core...  dc_record_007.xml   \n",
       "3  data/data_playground_task1/cleaned/dublin_core...  dc_record_008.xml   \n",
       "4  data/data_playground_task1/cleaned/dublin_core...  dc_record_009.xml   \n",
       "\n",
       "                        exception_type  \\\n",
       "0  <class 'lxml.etree.XMLSyntaxError'>   \n",
       "1  <class 'lxml.etree.XMLSyntaxError'>   \n",
       "2  <class 'lxml.etree.XMLSyntaxError'>   \n",
       "3  <class 'lxml.etree.XMLSyntaxError'>   \n",
       "4  <class 'lxml.etree.XMLSyntaxError'>   \n",
       "\n",
       "                                   exception_message  \n",
       "0  Namespace prefix dc on title is not defined, l...  \n",
       "1  Namespace prefix dc on title is not defined, l...  \n",
       "2  Namespace prefix dc on title is not defined, l...  \n",
       "3  Namespace prefix dc on title is not defined, l...  \n",
       "4  Namespace prefix dc on title is not defined, l...  "
      ]
     },
     "execution_count": 8,
     "metadata": {},
     "output_type": "execute_result"
    }
   ],
   "source": [
    "new_file_col = df_se[\"file\"].apply(lambda x: x.split(\"/\")[-1])\n",
    "df_se = df_se.rename(columns={\"file\":\"file_path\"})\n",
    "df_se.insert(1, \"file_name\", new_file_col)\n",
    "df_se.head()"
   ]
  },
  {
   "cell_type": "code",
   "execution_count": 9,
   "id": "01d99f7a",
   "metadata": {},
   "outputs": [],
   "source": [
    "assert(len(df_se.file_path.unique()) == df_se.shape[0]), \"File names may repeat, because they may be located in different directories (folders), but each file path should be unique\""
   ]
  },
  {
   "cell_type": "code",
   "execution_count": 10,
   "id": "bacc9f39",
   "metadata": {},
   "outputs": [
    {
     "name": "stderr",
     "output_type": "stream",
     "text": [
      "<>:1: SyntaxWarning: invalid escape sequence '\\D'\n",
      "<>:1: SyntaxWarning: invalid escape sequence '\\D'\n",
      "/var/folders/9c/dtt4chrx6lgcgnfz6r_z5ymm0000gn/T/ipykernel_7609/1625063161.py:1: SyntaxWarning: invalid escape sequence '\\D'\n",
      "  pattern = \"^[\\D]+,\"\n"
     ]
    },
    {
     "data": {
      "text/html": [
       "<div>\n",
       "<style scoped>\n",
       "    .dataframe tbody tr th:only-of-type {\n",
       "        vertical-align: middle;\n",
       "    }\n",
       "\n",
       "    .dataframe tbody tr th {\n",
       "        vertical-align: top;\n",
       "    }\n",
       "\n",
       "    .dataframe thead th {\n",
       "        text-align: right;\n",
       "    }\n",
       "</style>\n",
       "<table border=\"1\" class=\"dataframe\">\n",
       "  <thead>\n",
       "    <tr style=\"text-align: right;\">\n",
       "      <th></th>\n",
       "      <th>file_path</th>\n",
       "      <th>file_name</th>\n",
       "      <th>exception_type</th>\n",
       "      <th>exception_subtype</th>\n",
       "      <th>exception_message</th>\n",
       "    </tr>\n",
       "  </thead>\n",
       "  <tbody>\n",
       "    <tr>\n",
       "      <th>0</th>\n",
       "      <td>data/data_playground_task1/cleaned/dublin_core...</td>\n",
       "      <td>dc_record_005.xml</td>\n",
       "      <td>&lt;class 'lxml.etree.XMLSyntaxError'&gt;</td>\n",
       "      <td>Namespace prefix dc on title is not defined</td>\n",
       "      <td>Namespace prefix dc on title is not defined, l...</td>\n",
       "    </tr>\n",
       "    <tr>\n",
       "      <th>1</th>\n",
       "      <td>data/data_playground_task1/cleaned/dublin_core...</td>\n",
       "      <td>dc_record_006.xml</td>\n",
       "      <td>&lt;class 'lxml.etree.XMLSyntaxError'&gt;</td>\n",
       "      <td>Namespace prefix dc on title is not defined</td>\n",
       "      <td>Namespace prefix dc on title is not defined, l...</td>\n",
       "    </tr>\n",
       "    <tr>\n",
       "      <th>2</th>\n",
       "      <td>data/data_playground_task1/cleaned/dublin_core...</td>\n",
       "      <td>dc_record_007.xml</td>\n",
       "      <td>&lt;class 'lxml.etree.XMLSyntaxError'&gt;</td>\n",
       "      <td>Namespace prefix dc on title is not defined</td>\n",
       "      <td>Namespace prefix dc on title is not defined, l...</td>\n",
       "    </tr>\n",
       "    <tr>\n",
       "      <th>3</th>\n",
       "      <td>data/data_playground_task1/cleaned/dublin_core...</td>\n",
       "      <td>dc_record_008.xml</td>\n",
       "      <td>&lt;class 'lxml.etree.XMLSyntaxError'&gt;</td>\n",
       "      <td>Namespace prefix dc on title is not defined</td>\n",
       "      <td>Namespace prefix dc on title is not defined, l...</td>\n",
       "    </tr>\n",
       "    <tr>\n",
       "      <th>4</th>\n",
       "      <td>data/data_playground_task1/cleaned/dublin_core...</td>\n",
       "      <td>dc_record_009.xml</td>\n",
       "      <td>&lt;class 'lxml.etree.XMLSyntaxError'&gt;</td>\n",
       "      <td>Namespace prefix dc on title is not defined</td>\n",
       "      <td>Namespace prefix dc on title is not defined, l...</td>\n",
       "    </tr>\n",
       "  </tbody>\n",
       "</table>\n",
       "</div>"
      ],
      "text/plain": [
       "                                           file_path          file_name  \\\n",
       "0  data/data_playground_task1/cleaned/dublin_core...  dc_record_005.xml   \n",
       "1  data/data_playground_task1/cleaned/dublin_core...  dc_record_006.xml   \n",
       "2  data/data_playground_task1/cleaned/dublin_core...  dc_record_007.xml   \n",
       "3  data/data_playground_task1/cleaned/dublin_core...  dc_record_008.xml   \n",
       "4  data/data_playground_task1/cleaned/dublin_core...  dc_record_009.xml   \n",
       "\n",
       "                        exception_type  \\\n",
       "0  <class 'lxml.etree.XMLSyntaxError'>   \n",
       "1  <class 'lxml.etree.XMLSyntaxError'>   \n",
       "2  <class 'lxml.etree.XMLSyntaxError'>   \n",
       "3  <class 'lxml.etree.XMLSyntaxError'>   \n",
       "4  <class 'lxml.etree.XMLSyntaxError'>   \n",
       "\n",
       "                             exception_subtype  \\\n",
       "0  Namespace prefix dc on title is not defined   \n",
       "1  Namespace prefix dc on title is not defined   \n",
       "2  Namespace prefix dc on title is not defined   \n",
       "3  Namespace prefix dc on title is not defined   \n",
       "4  Namespace prefix dc on title is not defined   \n",
       "\n",
       "                                   exception_message  \n",
       "0  Namespace prefix dc on title is not defined, l...  \n",
       "1  Namespace prefix dc on title is not defined, l...  \n",
       "2  Namespace prefix dc on title is not defined, l...  \n",
       "3  Namespace prefix dc on title is not defined, l...  \n",
       "4  Namespace prefix dc on title is not defined, l...  "
      ]
     },
     "execution_count": 10,
     "metadata": {},
     "output_type": "execute_result"
    }
   ],
   "source": [
    "pattern = \"^[\\D]+,\"\n",
    "new_exception_col = df_se[\"exception_message\"].apply(lambda x: re.findall(pattern, x)[0][:-1])\n",
    "df_se.insert(len(df_se.columns)-1, \"exception_subtype\", new_exception_col)\n",
    "df_se.head()"
   ]
  },
  {
   "cell_type": "code",
   "execution_count": 11,
   "id": "59282269",
   "metadata": {},
   "outputs": [],
   "source": [
    "subtype_report = pd.DataFrame(df_se.exception_subtype.value_counts()).reset_index()\n",
    "subtype_report = subtype_report.rename(columns={\"exception_subtype\":\"exception\"})\n",
    "subtype_report.insert(0, \"dimension_counted\", [\"exception_subtype\"]*subtype_report.shape[0])"
   ]
  },
  {
   "cell_type": "code",
   "execution_count": 12,
   "id": "68bbdf3e",
   "metadata": {},
   "outputs": [],
   "source": [
    "type_report = pd.DataFrame(df_se.exception_type.value_counts()).reset_index()\n",
    "type_report = type_report.rename(columns={\"exception_type\":\"exception\"})\n",
    "type_report.insert(0, \"dimension_counted\", [\"exception_type\"]*type_report.shape[0])"
   ]
  },
  {
   "cell_type": "code",
   "execution_count": 13,
   "id": "957243eb",
   "metadata": {},
   "outputs": [],
   "source": [
    "totals_report = pd.DataFrame({\n",
    "    \"dimension_counted\": [\"total_files\", \"files_with_error\"],\n",
    "    \"exception\": [\"NA\", \"NA\"],\n",
    "    \"count\": [len(dublin_file_paths), len(syntax_errors)]\n",
    "    })"
   ]
  },
  {
   "cell_type": "code",
   "execution_count": 14,
   "id": "fe17dcca",
   "metadata": {},
   "outputs": [
    {
     "data": {
      "text/html": [
       "<div>\n",
       "<style scoped>\n",
       "    .dataframe tbody tr th:only-of-type {\n",
       "        vertical-align: middle;\n",
       "    }\n",
       "\n",
       "    .dataframe tbody tr th {\n",
       "        vertical-align: top;\n",
       "    }\n",
       "\n",
       "    .dataframe thead th {\n",
       "        text-align: right;\n",
       "    }\n",
       "</style>\n",
       "<table border=\"1\" class=\"dataframe\">\n",
       "  <thead>\n",
       "    <tr style=\"text-align: right;\">\n",
       "      <th></th>\n",
       "      <th>dimension_counted</th>\n",
       "      <th>exception</th>\n",
       "      <th>count</th>\n",
       "      <th>proportion_of_all_files</th>\n",
       "    </tr>\n",
       "  </thead>\n",
       "  <tbody>\n",
       "    <tr>\n",
       "      <th>0</th>\n",
       "      <td>exception_type</td>\n",
       "      <td>&lt;class 'lxml.etree.XMLSyntaxError'&gt;</td>\n",
       "      <td>43</td>\n",
       "      <td>40.19%</td>\n",
       "    </tr>\n",
       "    <tr>\n",
       "      <th>1</th>\n",
       "      <td>exception_subtype</td>\n",
       "      <td>Namespace prefix dc on title is not defined</td>\n",
       "      <td>33</td>\n",
       "      <td>30.84%</td>\n",
       "    </tr>\n",
       "    <tr>\n",
       "      <th>2</th>\n",
       "      <td>exception_subtype</td>\n",
       "      <td>Namespace prefix rdf for about on Description ...</td>\n",
       "      <td>7</td>\n",
       "      <td>6.54%</td>\n",
       "    </tr>\n",
       "    <tr>\n",
       "      <th>3</th>\n",
       "      <td>exception_subtype</td>\n",
       "      <td>xmlns:dc: Empty XML namespace is not allowed</td>\n",
       "      <td>1</td>\n",
       "      <td>0.93%</td>\n",
       "    </tr>\n",
       "    <tr>\n",
       "      <th>4</th>\n",
       "      <td>exception_subtype</td>\n",
       "      <td>Namespace prefix rdf on Description is not def...</td>\n",
       "      <td>1</td>\n",
       "      <td>0.93%</td>\n",
       "    </tr>\n",
       "    <tr>\n",
       "      <th>5</th>\n",
       "      <td>exception_subtype</td>\n",
       "      <td>xmlParseEntityRef: no name</td>\n",
       "      <td>1</td>\n",
       "      <td>0.93%</td>\n",
       "    </tr>\n",
       "    <tr>\n",
       "      <th>6</th>\n",
       "      <td>total_files</td>\n",
       "      <td>NA</td>\n",
       "      <td>107</td>\n",
       "      <td>100.00%</td>\n",
       "    </tr>\n",
       "    <tr>\n",
       "      <th>7</th>\n",
       "      <td>files_with_error</td>\n",
       "      <td>NA</td>\n",
       "      <td>43</td>\n",
       "      <td>40.19%</td>\n",
       "    </tr>\n",
       "  </tbody>\n",
       "</table>\n",
       "</div>"
      ],
      "text/plain": [
       "   dimension_counted                                          exception  \\\n",
       "0     exception_type                <class 'lxml.etree.XMLSyntaxError'>   \n",
       "1  exception_subtype        Namespace prefix dc on title is not defined   \n",
       "2  exception_subtype  Namespace prefix rdf for about on Description ...   \n",
       "3  exception_subtype       xmlns:dc: Empty XML namespace is not allowed   \n",
       "4  exception_subtype  Namespace prefix rdf on Description is not def...   \n",
       "5  exception_subtype                         xmlParseEntityRef: no name   \n",
       "6        total_files                                                 NA   \n",
       "7   files_with_error                                                 NA   \n",
       "\n",
       "   count proportion_of_all_files  \n",
       "0     43                  40.19%  \n",
       "1     33                  30.84%  \n",
       "2      7                   6.54%  \n",
       "3      1                   0.93%  \n",
       "4      1                   0.93%  \n",
       "5      1                   0.93%  \n",
       "6    107                 100.00%  \n",
       "7     43                  40.19%  "
      ]
     },
     "execution_count": 14,
     "metadata": {},
     "output_type": "execute_result"
    }
   ],
   "source": [
    "xml_report = pd.concat([type_report, subtype_report, totals_report])\n",
    "proportions = (xml_report[[\"count\"]]/total_dcxml_files).values\n",
    "percentages = [f\"{proportion[0]*100:.2f}%\" for proportion in proportions]\n",
    "# print(proportions)\n",
    "# print(percentages)\n",
    "xml_report.insert(len(xml_report.columns), \"proportion_of_all_files\", percentages)\n",
    "xml_report = xml_report.reset_index().drop(columns=[\"index\"])\n",
    "xml_report\n"
   ]
  },
  {
   "cell_type": "markdown",
   "id": "c3556315",
   "metadata": {},
   "source": [
    "Save the reports as CSV files."
   ]
  },
  {
   "cell_type": "code",
   "execution_count": 15,
   "id": "356a4ba3",
   "metadata": {},
   "outputs": [],
   "source": [
    "report_dir = \"data/error_reports/\"\n",
    "Path(report_dir).mkdir(parents=True, exist_ok=True)"
   ]
  },
  {
   "cell_type": "code",
   "execution_count": 16,
   "id": "8502541b",
   "metadata": {},
   "outputs": [],
   "source": [
    "metadata_standard = \"dublin_core\"\n",
    "data_serialization = \"xml\"\n",
    "report_type = \"syntax_error_stats\"\n",
    "xml_report.to_csv(\n",
    "    report_dir+\"{metadata_standard}_{data_serialization}_{report_type}.csv\".format(\n",
    "        metadata_standard=metadata_standard,\n",
    "        data_serialization=data_serialization,\n",
    "        report_type=report_type\n",
    "        ), index=False\n",
    "    )"
   ]
  },
  {
   "cell_type": "code",
   "execution_count": 17,
   "id": "36a4aa70",
   "metadata": {},
   "outputs": [],
   "source": [
    "metadata_standard = \"dublin_core\"\n",
    "data_serialization = \"xml\"\n",
    "report_type = \"syntax_errors\"\n",
    "df_se.to_csv(\n",
    "    report_dir+\"{metadata_standard}_{data_serialization}_{report_type}.csv\".format(\n",
    "        metadata_standard=metadata_standard,\n",
    "        data_serialization=data_serialization,\n",
    "        report_type=report_type\n",
    "        ), index=False\n",
    "    )"
   ]
  },
  {
   "cell_type": "markdown",
   "id": "9f5f979c",
   "metadata": {},
   "source": [
    "##### Automated Correction\n",
    "\n",
    "Try correcting undefined namespace prefix errors automatically, reading the errored files' equivalents with `.txt` extensions and saving the corrected files that can be parsed with an XML parser to a new directory, where each corrected file has a `.xml` extension."
   ]
  },
  {
   "cell_type": "code",
   "execution_count": 18,
   "id": "24307fb9",
   "metadata": {},
   "outputs": [
    {
     "data": {
      "text/plain": [
       "array(['Namespace prefix dc on title is not defined',\n",
       "       'Namespace prefix rdf for about on Description is not defined',\n",
       "       'xmlns:dc: Empty XML namespace is not allowed',\n",
       "       'Namespace prefix rdf on Description is not defined',\n",
       "       'xmlParseEntityRef: no name'], dtype=object)"
      ]
     },
     "execution_count": 18,
     "metadata": {},
     "output_type": "execute_result"
    }
   ],
   "source": [
    "df_se.exception_subtype.unique()"
   ]
  },
  {
   "cell_type": "code",
   "execution_count": 19,
   "id": "2a204569",
   "metadata": {},
   "outputs": [],
   "source": [
    "errored_files = list(df_se.file_path)\n",
    "error_list = list(df_se.exception_subtype)\n",
    "assert (len(error_list) == len(errored_files)), \"Error list and errored files lists should be of the same length\""
   ]
  },
  {
   "cell_type": "code",
   "execution_count": 20,
   "id": "4347f999",
   "metadata": {},
   "outputs": [
    {
     "name": "stdout",
     "output_type": "stream",
     "text": [
      "data/data_playground_task1/cleaned/dublin_core/dc_record_005.txt\n",
      "Namespace prefix dc on title is not defined\n"
     ]
    }
   ],
   "source": [
    "txt_errored_files = [f.replace(\".xml\", \".txt\") for f in errored_files]\n",
    "print(txt_errored_files[0])\n",
    "print(error_list[0])"
   ]
  },
  {
   "cell_type": "code",
   "execution_count": 21,
   "id": "283ffaa3",
   "metadata": {},
   "outputs": [
    {
     "name": "stdout",
     "output_type": "stream",
     "text": [
      "Total correct Dublin Core XML files: 64\n",
      "Sample: data/data_playground_task1/cleaned/dublin_core/dc_record_003.xml\n"
     ]
    }
   ],
   "source": [
    "correct_dc_files = []\n",
    "for f in dublin_file_paths:\n",
    "    if f not in errored_files:\n",
    "        correct_dc_files += [f]\n",
    "print(\"Total correct Dublin Core XML files:\", len(correct_dc_files))\n",
    "print(\"Sample:\", correct_dc_files[0])"
   ]
  },
  {
   "cell_type": "code",
   "execution_count": 22,
   "id": "93a350cc",
   "metadata": {},
   "outputs": [],
   "source": [
    "still_incorrect = utils.correctDCXML(txt_errored_files, error_list)\n",
    "assert len(still_incorrect) == 0, f\"There are still {len(still_incorrect)} files that need correcting.\""
   ]
  },
  {
   "cell_type": "markdown",
   "id": "43d64569",
   "metadata": {},
   "source": [
    "Great!  We corrected all the Dublin Core XML metadata!\n",
    "\n",
    "Update the report to show this."
   ]
  },
  {
   "cell_type": "code",
   "execution_count": null,
   "id": "32986074",
   "metadata": {},
   "outputs": [
    {
     "data": {
      "text/html": [
       "<div>\n",
       "<style scoped>\n",
       "    .dataframe tbody tr th:only-of-type {\n",
       "        vertical-align: middle;\n",
       "    }\n",
       "\n",
       "    .dataframe tbody tr th {\n",
       "        vertical-align: top;\n",
       "    }\n",
       "\n",
       "    .dataframe thead th {\n",
       "        text-align: right;\n",
       "    }\n",
       "</style>\n",
       "<table border=\"1\" class=\"dataframe\">\n",
       "  <thead>\n",
       "    <tr style=\"text-align: right;\">\n",
       "      <th></th>\n",
       "      <th>dimension_counted</th>\n",
       "      <th>exception</th>\n",
       "      <th>count</th>\n",
       "      <th>proportion_of_all_files</th>\n",
       "    </tr>\n",
       "  </thead>\n",
       "  <tbody>\n",
       "    <tr>\n",
       "      <th>0</th>\n",
       "      <td>exception_type</td>\n",
       "      <td>&lt;class 'lxml.etree.XMLSyntaxError'&gt;</td>\n",
       "      <td>43</td>\n",
       "      <td>40.19%</td>\n",
       "    </tr>\n",
       "    <tr>\n",
       "      <th>1</th>\n",
       "      <td>exception_subtype</td>\n",
       "      <td>Namespace prefix dc on title is not defined</td>\n",
       "      <td>33</td>\n",
       "      <td>30.84%</td>\n",
       "    </tr>\n",
       "    <tr>\n",
       "      <th>2</th>\n",
       "      <td>exception_subtype</td>\n",
       "      <td>Namespace prefix rdf for about on Description ...</td>\n",
       "      <td>7</td>\n",
       "      <td>6.54%</td>\n",
       "    </tr>\n",
       "    <tr>\n",
       "      <th>3</th>\n",
       "      <td>exception_subtype</td>\n",
       "      <td>xmlns:dc: Empty XML namespace is not allowed</td>\n",
       "      <td>1</td>\n",
       "      <td>0.93%</td>\n",
       "    </tr>\n",
       "    <tr>\n",
       "      <th>4</th>\n",
       "      <td>exception_subtype</td>\n",
       "      <td>Namespace prefix rdf on Description is not def...</td>\n",
       "      <td>1</td>\n",
       "      <td>0.93%</td>\n",
       "    </tr>\n",
       "    <tr>\n",
       "      <th>5</th>\n",
       "      <td>exception_subtype</td>\n",
       "      <td>xmlParseEntityRef: no name</td>\n",
       "      <td>1</td>\n",
       "      <td>0.93%</td>\n",
       "    </tr>\n",
       "    <tr>\n",
       "      <th>6</th>\n",
       "      <td>total_files</td>\n",
       "      <td>NA</td>\n",
       "      <td>107</td>\n",
       "      <td>100.00%</td>\n",
       "    </tr>\n",
       "    <tr>\n",
       "      <th>7</th>\n",
       "      <td>files_with_error</td>\n",
       "      <td>NA</td>\n",
       "      <td>43</td>\n",
       "      <td>40.19%</td>\n",
       "    </tr>\n",
       "    <tr>\n",
       "      <th>8</th>\n",
       "      <td>errored_files_after_auto_correction</td>\n",
       "      <td>NA</td>\n",
       "      <td>0</td>\n",
       "      <td>0.0</td>\n",
       "    </tr>\n",
       "  </tbody>\n",
       "</table>\n",
       "</div>"
      ],
      "text/plain": [
       "                     dimension_counted  \\\n",
       "0                       exception_type   \n",
       "1                    exception_subtype   \n",
       "2                    exception_subtype   \n",
       "3                    exception_subtype   \n",
       "4                    exception_subtype   \n",
       "5                    exception_subtype   \n",
       "6                          total_files   \n",
       "7                     files_with_error   \n",
       "8  errored_files_after_auto_correction   \n",
       "\n",
       "                                           exception  count  \\\n",
       "0                <class 'lxml.etree.XMLSyntaxError'>     43   \n",
       "1        Namespace prefix dc on title is not defined     33   \n",
       "2  Namespace prefix rdf for about on Description ...      7   \n",
       "3       xmlns:dc: Empty XML namespace is not allowed      1   \n",
       "4  Namespace prefix rdf on Description is not def...      1   \n",
       "5                         xmlParseEntityRef: no name      1   \n",
       "6                                                 NA    107   \n",
       "7                                                 NA     43   \n",
       "8                                                 NA      0   \n",
       "\n",
       "  proportion_of_all_files  \n",
       "0                  40.19%  \n",
       "1                  30.84%  \n",
       "2                   6.54%  \n",
       "3                   0.93%  \n",
       "4                   0.93%  \n",
       "5                   0.93%  \n",
       "6                 100.00%  \n",
       "7                  40.19%  \n",
       "8                     0.0  "
      ]
     },
     "execution_count": 23,
     "metadata": {},
     "output_type": "execute_result"
    }
   ],
   "source": [
    "updated = pd.concat([\n",
    "    xml_report, \n",
    "    pd.DataFrame({\n",
    "        \"dimension_counted\":\"errored_files_after_auto_correction\",\n",
    "        \"exception\": \"NA\",\n",
    "        \"count\":len(still_incorrect),\n",
    "        \"proportion_of_all_files\":(len(still_incorrect)/total_dcxml_files)\n",
    "    }, index=[xml_report.shape[0]])\n",
    "])\n",
    "updated"
   ]
  },
  {
   "cell_type": "code",
   "execution_count": 24,
   "id": "894a2c75",
   "metadata": {},
   "outputs": [],
   "source": [
    "metadata_standard = \"dublin_core\"\n",
    "data_serialization = \"xml\"\n",
    "report_type = \"syntax_error_stats\"\n",
    "xml_report.to_csv(\n",
    "    report_dir+\"{metadata_standard}_{data_serialization}_{report_type}.csv\".format(\n",
    "        metadata_standard=metadata_standard,\n",
    "        data_serialization=data_serialization,\n",
    "        report_type=report_type\n",
    "        ), index=False\n",
    "    )"
   ]
  },
  {
   "cell_type": "markdown",
   "id": "d0f7afe8",
   "metadata": {},
   "source": [
    "Put a copy of all the initially correct files in the same `corrected` directory as the corrected files."
   ]
  },
  {
   "cell_type": "code",
   "execution_count": 57,
   "id": "0fbdf662",
   "metadata": {},
   "outputs": [
    {
     "name": "stdout",
     "output_type": "stream",
     "text": [
      "Copied the rest of the correct files into the corrected directory!\n"
     ]
    }
   ],
   "source": [
    "corrected_dir_name = \"corrected\"\n",
    "for correct_dc in correct_dc_files:\n",
    "    with open(correct_dc, \"r\") as f:\n",
    "        content = f.read()\n",
    "        f.close()\n",
    "    new_path = correct_dc.replace(\"cleaned\", corrected_dir_name)\n",
    "    with open(new_path, \"w\") as f:\n",
    "        f.write(content)\n",
    "        f.close()\n",
    "print(f\"Copied the rest of the correct files into the {corrected_dir_name} directory!\")"
   ]
  },
  {
   "cell_type": "markdown",
   "id": "743ff4b9",
   "metadata": {},
   "source": [
    "### JSON"
   ]
  },
  {
   "cell_type": "markdown",
   "id": "e7fcf079",
   "metadata": {},
   "source": [
    "First, read and evaluate only the files with a `.json` extension."
   ]
  },
  {
   "cell_type": "code",
   "execution_count": 75,
   "id": "b9579af8",
   "metadata": {},
   "outputs": [
    {
     "name": "stdout",
     "output_type": "stream",
     "text": [
      "Total CIDOC-CRM JSON files: 97\n"
     ]
    }
   ],
   "source": [
    "cidoc_file_paths = []\n",
    "cidoc_files_t1 = [f for f in os.listdir(cidoc_t1_dir) if f.endswith(\".json\")]\n",
    "cidoc_file_paths += [cidoc_t1_dir+f for f in cidoc_files_t1]\n",
    "cidoc_files_p1 = [f for f in os.listdir(cidoc_p1_dir) if f.endswith(\".json\")]\n",
    "cidoc_file_paths += [cidoc_p1_dir+f for f in cidoc_files_p1]\n",
    "cidoc_files_p3 = [f for f in os.listdir(cidoc_p3_dir) if f.endswith(\".json\")]\n",
    "cidoc_file_paths += [cidoc_p3_dir+f for f in cidoc_files_p3]\n",
    "cidoc_file_paths.sort()\n",
    "print(\"Total CIDOC-CRM JSON files:\", len(cidoc_file_paths))"
   ]
  },
  {
   "cell_type": "code",
   "execution_count": 76,
   "id": "12c14058",
   "metadata": {},
   "outputs": [
    {
     "data": {
      "text/plain": [
       "'data/data_playground_task1/cleaned/cidoc_crm/cidoccrm_record_003.json'"
      ]
     },
     "execution_count": 76,
     "metadata": {},
     "output_type": "execute_result"
    }
   ],
   "source": [
    "cidoc_file_paths[0]"
   ]
  },
  {
   "cell_type": "code",
   "execution_count": 77,
   "id": "7da00199",
   "metadata": {},
   "outputs": [
    {
     "name": "stdout",
     "output_type": "stream",
     "text": [
      "Total Schema.org JSON files: 116\n"
     ]
    }
   ],
   "source": [
    "schema_file_paths = []\n",
    "schema_files_t1 = os.listdir(schema_t1_dir)\n",
    "schema_file_paths += [schema_t1_dir+f for f in schema_files_t1 if f.endswith(\".json\")]\n",
    "schema_files_p1 = os.listdir(schema_p1_dir)\n",
    "schema_file_paths += [schema_p1_dir+f for f in schema_files_p1 if f.endswith(\".json\")]\n",
    "schema_files_p3 = os.listdir(schema_p3_dir)\n",
    "schema_file_paths += [schema_p3_dir+f for f in schema_files_p3 if f.endswith(\".json\")]\n",
    "schema_file_paths.sort()\n",
    "print(\"Total Schema.org JSON files:\", len(schema_file_paths))"
   ]
  },
  {
   "cell_type": "code",
   "execution_count": 78,
   "id": "cab6e980",
   "metadata": {},
   "outputs": [
    {
     "data": {
      "text/plain": [
       "'data/data_playground_task1/cleaned/schema_org/sdo_record_003.json'"
      ]
     },
     "execution_count": 78,
     "metadata": {},
     "output_type": "execute_result"
    }
   ],
   "source": [
    "schema_file_paths[0]"
   ]
  },
  {
   "cell_type": "code",
   "execution_count": 108,
   "id": "e7122e42",
   "metadata": {},
   "outputs": [
    {
     "name": "stdout",
     "output_type": "stream",
     "text": [
      "213\n"
     ]
    }
   ],
   "source": [
    "json_file_paths = cidoc_file_paths + schema_file_paths\n",
    "total_json_files = len(json_file_paths)\n",
    "print(len(json_file_paths))"
   ]
  },
  {
   "cell_type": "code",
   "execution_count": 80,
   "id": "34b0cfcd",
   "metadata": {},
   "outputs": [
    {
     "name": "stdout",
     "output_type": "stream",
     "text": [
      "Files with errors: 4 of 213 (1.88%)\n"
     ]
    }
   ],
   "source": [
    "syntax_errors = []\n",
    "for json_f in json_file_paths:\n",
    "    with open(json_f) as f:\n",
    "        try:\n",
    "            data = json.load(f)\n",
    "        except Exception as e:\n",
    "            f_error = {\"file\": json_f, \"exception_type\": type(e), \"exception_message\": str(e)}\n",
    "            syntax_errors += [f_error]\n",
    "        f.close()\n",
    "print(\n",
    "    \"Files with errors:\", \n",
    "    len(syntax_errors), \"of\", len(json_file_paths),\n",
    "    f\"({(len(syntax_errors)/len(json_file_paths))*100:.2f}%)\"\n",
    "    )"
   ]
  },
  {
   "cell_type": "code",
   "execution_count": 81,
   "id": "8e8c67ce",
   "metadata": {},
   "outputs": [
    {
     "data": {
      "text/html": [
       "<div>\n",
       "<style scoped>\n",
       "    .dataframe tbody tr th:only-of-type {\n",
       "        vertical-align: middle;\n",
       "    }\n",
       "\n",
       "    .dataframe tbody tr th {\n",
       "        vertical-align: top;\n",
       "    }\n",
       "\n",
       "    .dataframe thead th {\n",
       "        text-align: right;\n",
       "    }\n",
       "</style>\n",
       "<table border=\"1\" class=\"dataframe\">\n",
       "  <thead>\n",
       "    <tr style=\"text-align: right;\">\n",
       "      <th></th>\n",
       "      <th>file_path</th>\n",
       "      <th>file_name</th>\n",
       "      <th>exception_type</th>\n",
       "      <th>exception_message</th>\n",
       "    </tr>\n",
       "  </thead>\n",
       "  <tbody>\n",
       "    <tr>\n",
       "      <th>0</th>\n",
       "      <td>data/data_playground_task1/cleaned/cidoc_crm/c...</td>\n",
       "      <td>cidoccrm_record_018.json</td>\n",
       "      <td>&lt;class 'json.decoder.JSONDecodeError'&gt;</td>\n",
       "      <td>Expecting ',' delimiter: line 99 column 5 (cha...</td>\n",
       "    </tr>\n",
       "    <tr>\n",
       "      <th>1</th>\n",
       "      <td>data/data_playground_task1/cleaned/cidoc_crm/c...</td>\n",
       "      <td>cidoccrm_record_070.json</td>\n",
       "      <td>&lt;class 'json.decoder.JSONDecodeError'&gt;</td>\n",
       "      <td>Expecting ',' delimiter: line 35 column 1 (cha...</td>\n",
       "    </tr>\n",
       "    <tr>\n",
       "      <th>2</th>\n",
       "      <td>data/data_playground_task1/cleaned/schema_org/...</td>\n",
       "      <td>sdo_record_018.json</td>\n",
       "      <td>&lt;class 'json.decoder.JSONDecodeError'&gt;</td>\n",
       "      <td>Expecting ',' delimiter: line 27 column 1 (cha...</td>\n",
       "    </tr>\n",
       "    <tr>\n",
       "      <th>3</th>\n",
       "      <td>data/data_task1/cleaned/schema_org/sdo_record_...</td>\n",
       "      <td>sdo_record_006.json</td>\n",
       "      <td>&lt;class 'json.decoder.JSONDecodeError'&gt;</td>\n",
       "      <td>Expecting ':' delimiter: line 2 column 5 (char 6)</td>\n",
       "    </tr>\n",
       "  </tbody>\n",
       "</table>\n",
       "</div>"
      ],
      "text/plain": [
       "                                           file_path  \\\n",
       "0  data/data_playground_task1/cleaned/cidoc_crm/c...   \n",
       "1  data/data_playground_task1/cleaned/cidoc_crm/c...   \n",
       "2  data/data_playground_task1/cleaned/schema_org/...   \n",
       "3  data/data_task1/cleaned/schema_org/sdo_record_...   \n",
       "\n",
       "                  file_name                          exception_type  \\\n",
       "0  cidoccrm_record_018.json  <class 'json.decoder.JSONDecodeError'>   \n",
       "1  cidoccrm_record_070.json  <class 'json.decoder.JSONDecodeError'>   \n",
       "2       sdo_record_018.json  <class 'json.decoder.JSONDecodeError'>   \n",
       "3       sdo_record_006.json  <class 'json.decoder.JSONDecodeError'>   \n",
       "\n",
       "                                   exception_message  \n",
       "0  Expecting ',' delimiter: line 99 column 5 (cha...  \n",
       "1  Expecting ',' delimiter: line 35 column 1 (cha...  \n",
       "2  Expecting ',' delimiter: line 27 column 1 (cha...  \n",
       "3  Expecting ':' delimiter: line 2 column 5 (char 6)  "
      ]
     },
     "execution_count": 81,
     "metadata": {},
     "output_type": "execute_result"
    }
   ],
   "source": [
    "df_se = pd.DataFrame.from_dict(syntax_errors)\n",
    "new_file_col = df_se[\"file\"].apply(lambda x: x.split(\"/\")[-1])\n",
    "df_se = df_se.rename(columns={\"file\":\"file_path\"})\n",
    "df_se.insert(1, \"file_name\", new_file_col)\n",
    "df_se"
   ]
  },
  {
   "cell_type": "code",
   "execution_count": 82,
   "id": "55495fbd",
   "metadata": {},
   "outputs": [
    {
     "data": {
      "text/plain": [
       "array([<class 'json.decoder.JSONDecodeError'>], dtype=object)"
      ]
     },
     "execution_count": 82,
     "metadata": {},
     "output_type": "execute_result"
    }
   ],
   "source": [
    "df_se.exception_type.unique()"
   ]
  },
  {
   "cell_type": "code",
   "execution_count": 83,
   "id": "6d3aedc3",
   "metadata": {},
   "outputs": [
    {
     "data": {
      "text/plain": [
       "array([\"Expecting ',' delimiter: line 99 column 5 (char 3125)\",\n",
       "       \"Expecting ',' delimiter: line 35 column 1 (char 1407)\",\n",
       "       \"Expecting ',' delimiter: line 27 column 1 (char 914)\",\n",
       "       \"Expecting ':' delimiter: line 2 column 5 (char 6)\"], dtype=object)"
      ]
     },
     "execution_count": 83,
     "metadata": {},
     "output_type": "execute_result"
    }
   ],
   "source": [
    "df_se.exception_message.unique()"
   ]
  },
  {
   "cell_type": "markdown",
   "id": "a557380d",
   "metadata": {},
   "source": [
    "Looking at the files that triggered the above error messages, it seems that often what's missing is the final curly brace.  Also, in one file, the quotes surrounding strings were doubled (e.g., `\"\"@context\"\":...` instead of `\"@context\"`) and in another file, an attempt at a comment was made using `//`.  While the error messages are useful in locating the general source of the error within a file, they're less informative for distinguishing what needs to be changed to correct the file."
   ]
  },
  {
   "cell_type": "markdown",
   "id": "90898c0f",
   "metadata": {},
   "source": [
    "Export a reports about the JSON errors."
   ]
  },
  {
   "cell_type": "code",
   "execution_count": 84,
   "id": "969d8e9d",
   "metadata": {},
   "outputs": [],
   "source": [
    "type_report = pd.DataFrame(df_se.exception_type.value_counts()).reset_index()\n",
    "type_report = type_report.rename(columns={\"exception_type\":\"exception\"})\n",
    "type_report.insert(0, \"dimension_counted\", [\"exception_type\"]*type_report.shape[0])"
   ]
  },
  {
   "cell_type": "code",
   "execution_count": 85,
   "id": "b0f4cd17",
   "metadata": {},
   "outputs": [],
   "source": [
    "totals_report = pd.DataFrame({\n",
    "    \"dimension_counted\": [\"total_files\", \"files_with_error\"],\n",
    "    \"exception\": [\"NA\", \"NA\"],\n",
    "    \"count\": [len(json_file_paths), len(syntax_errors)]\n",
    "    })"
   ]
  },
  {
   "cell_type": "code",
   "execution_count": 86,
   "id": "897aba6c",
   "metadata": {},
   "outputs": [
    {
     "data": {
      "text/html": [
       "<div>\n",
       "<style scoped>\n",
       "    .dataframe tbody tr th:only-of-type {\n",
       "        vertical-align: middle;\n",
       "    }\n",
       "\n",
       "    .dataframe tbody tr th {\n",
       "        vertical-align: top;\n",
       "    }\n",
       "\n",
       "    .dataframe thead th {\n",
       "        text-align: right;\n",
       "    }\n",
       "</style>\n",
       "<table border=\"1\" class=\"dataframe\">\n",
       "  <thead>\n",
       "    <tr style=\"text-align: right;\">\n",
       "      <th></th>\n",
       "      <th>dimension_counted</th>\n",
       "      <th>exception</th>\n",
       "      <th>count</th>\n",
       "      <th>proportion_of_all_files</th>\n",
       "    </tr>\n",
       "  </thead>\n",
       "  <tbody>\n",
       "    <tr>\n",
       "      <th>0</th>\n",
       "      <td>exception_type</td>\n",
       "      <td>&lt;class 'json.decoder.JSONDecodeError'&gt;</td>\n",
       "      <td>4</td>\n",
       "      <td>1.88%</td>\n",
       "    </tr>\n",
       "    <tr>\n",
       "      <th>1</th>\n",
       "      <td>total_files</td>\n",
       "      <td>NA</td>\n",
       "      <td>213</td>\n",
       "      <td>100.00%</td>\n",
       "    </tr>\n",
       "    <tr>\n",
       "      <th>2</th>\n",
       "      <td>files_with_error</td>\n",
       "      <td>NA</td>\n",
       "      <td>4</td>\n",
       "      <td>1.88%</td>\n",
       "    </tr>\n",
       "  </tbody>\n",
       "</table>\n",
       "</div>"
      ],
      "text/plain": [
       "  dimension_counted                               exception  count  \\\n",
       "0    exception_type  <class 'json.decoder.JSONDecodeError'>      4   \n",
       "1       total_files                                      NA    213   \n",
       "2  files_with_error                                      NA      4   \n",
       "\n",
       "  proportion_of_all_files  \n",
       "0                   1.88%  \n",
       "1                 100.00%  \n",
       "2                   1.88%  "
      ]
     },
     "execution_count": 86,
     "metadata": {},
     "output_type": "execute_result"
    }
   ],
   "source": [
    "json_report = pd.concat([type_report, totals_report])\n",
    "proportions = (json_report[[\"count\"]]/(len(json_file_paths))).values\n",
    "percentages = [f\"{proportion[0]*100:.2f}%\" for proportion in proportions]\n",
    "# print(proportions)\n",
    "# print(percentages)\n",
    "json_report.insert(len(json_report.columns), \"proportion_of_all_files\", percentages)\n",
    "json_report = json_report.reset_index().drop(columns=[\"index\"])\n",
    "json_report\n"
   ]
  },
  {
   "cell_type": "markdown",
   "id": "94d786ff",
   "metadata": {},
   "source": [
    "Save the reports as CSV files."
   ]
  },
  {
   "cell_type": "code",
   "execution_count": 87,
   "id": "74a78c45",
   "metadata": {},
   "outputs": [],
   "source": [
    "report_dir = \"data/error_reports/\"\n",
    "Path(report_dir).mkdir(parents=True, exist_ok=True)"
   ]
  },
  {
   "cell_type": "code",
   "execution_count": 88,
   "id": "18c1206c",
   "metadata": {},
   "outputs": [],
   "source": [
    "metadata_standard = \"cidoc-and-sdo\"\n",
    "data_serialization = \"json\"\n",
    "report_type = \"syntax_error_stats\""
   ]
  },
  {
   "cell_type": "code",
   "execution_count": 89,
   "id": "f44a5299",
   "metadata": {},
   "outputs": [],
   "source": [
    "json_report.to_csv(\n",
    "    report_dir+\"{metadata_standard}_{data_serialization}_{report_type}.csv\".format(\n",
    "        metadata_standard=metadata_standard,\n",
    "        data_serialization=data_serialization,\n",
    "        report_type=report_type\n",
    "        ), index=False\n",
    "    )"
   ]
  },
  {
   "cell_type": "code",
   "execution_count": 90,
   "id": "2a56cf64",
   "metadata": {},
   "outputs": [],
   "source": [
    "df_se.to_csv(\n",
    "    report_dir+\"{metadata_standard}_{data_serialization}_{report_type}.csv\".format(\n",
    "        metadata_standard=metadata_standard,\n",
    "        data_serialization=data_serialization,\n",
    "        report_type=report_type\n",
    "        ), index=False\n",
    "    )"
   ]
  },
  {
   "cell_type": "markdown",
   "id": "366b1326",
   "metadata": {},
   "source": [
    "#### Automated Correction"
   ]
  },
  {
   "cell_type": "code",
   "execution_count": 91,
   "id": "69dfbbbf",
   "metadata": {},
   "outputs": [
    {
     "name": "stdout",
     "output_type": "stream",
     "text": [
      "data/data_playground_task1/cleaned/cidoc_crm/cidoccrm_record_018.txt\n"
     ]
    }
   ],
   "source": [
    "errored_files = list(df_se.file_path)\n",
    "txt_errored_files = [f.replace(\".json\", \".txt\") for f in errored_files]\n",
    "print(txt_errored_files[0])"
   ]
  },
  {
   "cell_type": "code",
   "execution_count": 92,
   "id": "69c37539",
   "metadata": {},
   "outputs": [
    {
     "name": "stdout",
     "output_type": "stream",
     "text": [
      "Total correct JSON files: 209\n",
      "Sample: data/data_playground_task1/cleaned/cidoc_crm/cidoccrm_record_003.json\n"
     ]
    }
   ],
   "source": [
    "correct_json_files = []\n",
    "for f in cidoc_file_paths:\n",
    "    if f not in errored_files:\n",
    "        correct_json_files += [f]\n",
    "for f in schema_file_paths:\n",
    "    if f not in errored_files:\n",
    "        correct_json_files += [f]\n",
    "print(\"Total correct JSON files:\", len(correct_json_files))\n",
    "print(\"Sample:\", correct_json_files[0])"
   ]
  },
  {
   "cell_type": "code",
   "execution_count": null,
   "id": "546d9e73",
   "metadata": {},
   "outputs": [],
   "source": [
    "still_incorrect, comments_found, new_syntax_errors = utils.correctJSON(txt_errored_files)\n",
    "\n",
    "        "
   ]
  },
  {
   "cell_type": "code",
   "execution_count": 103,
   "id": "13dd58e9",
   "metadata": {},
   "outputs": [
    {
     "name": "stdout",
     "output_type": "stream",
     "text": [
      "4 still incorrect: ['data/data_playground_task1/cleaned/cidoc_crm/cidoccrm_record_018.txt', 'data/data_playground_task1/cleaned/cidoc_crm/cidoccrm_record_070.txt', 'data/data_playground_task1/cleaned/schema_org/sdo_record_018.txt', 'data/data_task1/cleaned/schema_org/sdo_record_006.txt']\n",
      "1 comments(s) found: [{'errored_file': 'data/data_playground_task1/cleaned/cidoc_crm/cidoccrm_record_018.txt', 'comment': ['\\n    // Additional members go here']}]\n",
      "New errors: 4\n"
     ]
    }
   ],
   "source": [
    "print(len(still_incorrect), \"still incorrect:\", still_incorrect)\n",
    "print(len(comments_found), \"comments(s) found:\", comments_found)\n",
    "print(\"New errors:\", len(new_syntax_errors))\n"
   ]
  },
  {
   "cell_type": "code",
   "execution_count": 104,
   "id": "d3535451",
   "metadata": {},
   "outputs": [
    {
     "name": "stdout",
     "output_type": "stream",
     "text": [
      "{'file': 'data/data_playground_task1/cleaned/cidoc_crm/cidoccrm_record_018.json', 'exception_type': <class 'io.UnsupportedOperation'>, 'exception_message': 'not readable'}\n",
      "{'file': 'data/data_playground_task1/cleaned/cidoc_crm/cidoccrm_record_070.json', 'exception_type': <class 'io.UnsupportedOperation'>, 'exception_message': 'not readable'}\n",
      "{'file': 'data/data_playground_task1/cleaned/schema_org/sdo_record_018.json', 'exception_type': <class 'io.UnsupportedOperation'>, 'exception_message': 'not readable'}\n",
      "{'file': 'data/data_task1/cleaned/schema_org/sdo_record_006.json', 'exception_type': <class 'io.UnsupportedOperation'>, 'exception_message': 'not readable'}\n"
     ]
    }
   ],
   "source": [
    "for new_e in new_syntax_errors:\n",
    "    print(new_e)"
   ]
  },
  {
   "cell_type": "code",
   "execution_count": 106,
   "id": "db53d442",
   "metadata": {},
   "outputs": [
    {
     "name": "stdout",
     "output_type": "stream",
     "text": [
      "Files with errors: 0 of 213 (0.00%)\n"
     ]
    }
   ],
   "source": [
    "errors = []\n",
    "for txt_f in still_incorrect:\n",
    "    json_f = txt_f.replace(\".txt\", \".json\")\n",
    "    new_json_path = json_f.replace(\"cleaned\", \"corrected\")\n",
    "    with open(new_json_path) as f:\n",
    "        try:\n",
    "            data = json.load(f)\n",
    "        except Exception as e:\n",
    "            f_error = {\"file\": json_f, \"exception_type\": type(e), \"exception_message\": str(e)}\n",
    "            errors += [f_error]\n",
    "        f.close()\n",
    "print(\n",
    "    \"Files with errors:\", \n",
    "    len(errors), \"of\", len(json_file_paths),\n",
    "    f\"({(len(errors)/len(json_file_paths))*100:.2f}%)\"\n",
    "    )"
   ]
  },
  {
   "cell_type": "code",
   "execution_count": 107,
   "id": "a122d756",
   "metadata": {},
   "outputs": [],
   "source": [
    "assert len(errors) == 0, f\"There are still {len(still_incorrect)} files that need correcting.\""
   ]
  },
  {
   "cell_type": "markdown",
   "id": "9cb1c7c2",
   "metadata": {},
   "source": [
    "THEN WHY AM I GETTING ERRORS FROM THE FIRST TRY/EXCEPT LOOP???\n",
    "\n",
    "Update the report to show all resolved errors."
   ]
  },
  {
   "cell_type": "code",
   "execution_count": null,
   "id": "3f4f850d",
   "metadata": {},
   "outputs": [
    {
     "data": {
      "text/html": [
       "<div>\n",
       "<style scoped>\n",
       "    .dataframe tbody tr th:only-of-type {\n",
       "        vertical-align: middle;\n",
       "    }\n",
       "\n",
       "    .dataframe tbody tr th {\n",
       "        vertical-align: top;\n",
       "    }\n",
       "\n",
       "    .dataframe thead th {\n",
       "        text-align: right;\n",
       "    }\n",
       "</style>\n",
       "<table border=\"1\" class=\"dataframe\">\n",
       "  <thead>\n",
       "    <tr style=\"text-align: right;\">\n",
       "      <th></th>\n",
       "      <th>dimension_counted</th>\n",
       "      <th>exception</th>\n",
       "      <th>count</th>\n",
       "      <th>proportion_of_all_files</th>\n",
       "    </tr>\n",
       "  </thead>\n",
       "  <tbody>\n",
       "    <tr>\n",
       "      <th>0</th>\n",
       "      <td>exception_type</td>\n",
       "      <td>&lt;class 'lxml.etree.XMLSyntaxError'&gt;</td>\n",
       "      <td>43</td>\n",
       "      <td>40.19%</td>\n",
       "    </tr>\n",
       "    <tr>\n",
       "      <th>1</th>\n",
       "      <td>exception_subtype</td>\n",
       "      <td>Namespace prefix dc on title is not defined</td>\n",
       "      <td>33</td>\n",
       "      <td>30.84%</td>\n",
       "    </tr>\n",
       "    <tr>\n",
       "      <th>2</th>\n",
       "      <td>exception_subtype</td>\n",
       "      <td>Namespace prefix rdf for about on Description ...</td>\n",
       "      <td>7</td>\n",
       "      <td>6.54%</td>\n",
       "    </tr>\n",
       "    <tr>\n",
       "      <th>3</th>\n",
       "      <td>exception_subtype</td>\n",
       "      <td>xmlns:dc: Empty XML namespace is not allowed</td>\n",
       "      <td>1</td>\n",
       "      <td>0.93%</td>\n",
       "    </tr>\n",
       "    <tr>\n",
       "      <th>4</th>\n",
       "      <td>exception_subtype</td>\n",
       "      <td>Namespace prefix rdf on Description is not def...</td>\n",
       "      <td>1</td>\n",
       "      <td>0.93%</td>\n",
       "    </tr>\n",
       "    <tr>\n",
       "      <th>5</th>\n",
       "      <td>exception_subtype</td>\n",
       "      <td>xmlParseEntityRef: no name</td>\n",
       "      <td>1</td>\n",
       "      <td>0.93%</td>\n",
       "    </tr>\n",
       "    <tr>\n",
       "      <th>6</th>\n",
       "      <td>total_files</td>\n",
       "      <td>NA</td>\n",
       "      <td>107</td>\n",
       "      <td>100.00%</td>\n",
       "    </tr>\n",
       "    <tr>\n",
       "      <th>7</th>\n",
       "      <td>files_with_error</td>\n",
       "      <td>NA</td>\n",
       "      <td>43</td>\n",
       "      <td>40.19%</td>\n",
       "    </tr>\n",
       "    <tr>\n",
       "      <th>8</th>\n",
       "      <td>errored_files_after_auto_correction</td>\n",
       "      <td>NA</td>\n",
       "      <td>0</td>\n",
       "      <td>0.0</td>\n",
       "    </tr>\n",
       "  </tbody>\n",
       "</table>\n",
       "</div>"
      ],
      "text/plain": [
       "                     dimension_counted  \\\n",
       "0                       exception_type   \n",
       "1                    exception_subtype   \n",
       "2                    exception_subtype   \n",
       "3                    exception_subtype   \n",
       "4                    exception_subtype   \n",
       "5                    exception_subtype   \n",
       "6                          total_files   \n",
       "7                     files_with_error   \n",
       "8  errored_files_after_auto_correction   \n",
       "\n",
       "                                           exception  count  \\\n",
       "0                <class 'lxml.etree.XMLSyntaxError'>     43   \n",
       "1        Namespace prefix dc on title is not defined     33   \n",
       "2  Namespace prefix rdf for about on Description ...      7   \n",
       "3       xmlns:dc: Empty XML namespace is not allowed      1   \n",
       "4  Namespace prefix rdf on Description is not def...      1   \n",
       "5                         xmlParseEntityRef: no name      1   \n",
       "6                                                 NA    107   \n",
       "7                                                 NA     43   \n",
       "8                                                 NA      0   \n",
       "\n",
       "  proportion_of_all_files  \n",
       "0                  40.19%  \n",
       "1                  30.84%  \n",
       "2                   6.54%  \n",
       "3                   0.93%  \n",
       "4                   0.93%  \n",
       "5                   0.93%  \n",
       "6                 100.00%  \n",
       "7                  40.19%  \n",
       "8                     0.0  "
      ]
     },
     "metadata": {},
     "output_type": "display_data"
    }
   ],
   "source": [
    "updated = pd.concat([\n",
    "    json_report, \n",
    "    pd.DataFrame({\n",
    "        \"dimension_counted\":\"errored_files_after_auto_correction\",\n",
    "        \"exception\": \"NA\",\n",
    "        \"count\":len(still_incorrect),\n",
    "        \"proportion_of_all_files\":(len(still_incorrect)/total_json_files)\n",
    "    }, index=[json_report.shape[0]])\n",
    "])\n",
    "updated"
   ]
  },
  {
   "cell_type": "code",
   "execution_count": null,
   "id": "3485ec73",
   "metadata": {},
   "outputs": [],
   "source": [
    "metadata_standard = \"dublin_core\"\n",
    "data_serialization = \"xml\"\n",
    "report_type = \"syntax_error_stats\"\n",
    "xml_report.to_csv(\n",
    "    report_dir+\"{metadata_standard}_{data_serialization}_{report_type}.csv\".format(\n",
    "        metadata_standard=metadata_standard,\n",
    "        data_serialization=data_serialization,\n",
    "        report_type=report_type\n",
    "        ), index=False\n",
    "    )"
   ]
  },
  {
   "cell_type": "markdown",
   "id": "79560688",
   "metadata": {},
   "source": [
    "Put a copy of all the initially correct files in the same `corrected` directory as the corrected files."
   ]
  },
  {
   "cell_type": "code",
   "execution_count": null,
   "id": "028b1ab5",
   "metadata": {},
   "outputs": [
    {
     "name": "stdout",
     "output_type": "stream",
     "text": [
      "Copied the rest of the correct files into the corrected directory!\n"
     ]
    }
   ],
   "source": [
    "corrected_dir_name = \"corrected\"\n",
    "for correct_dc in correct_dc_files:\n",
    "    with open(correct_dc, \"r\") as f:\n",
    "        content = f.read()\n",
    "        f.close()\n",
    "    new_path = correct_dc.replace(\"cleaned\", corrected_dir_name)\n",
    "    with open(new_path, \"w\") as f:\n",
    "        f.write(content)\n",
    "        f.close()\n",
    "print(f\"Copied the rest of the correct files into the {corrected_dir_name} directory!\")"
   ]
  },
  {
   "cell_type": "markdown",
   "id": "dd17b92c",
   "metadata": {},
   "source": [
    "THEN WHY AM I GETTING ERRORS FROM THE FIRST TRY/EXCEPT LOOP???"
   ]
  },
  {
   "cell_type": "markdown",
   "id": "e76ad8fc",
   "metadata": {},
   "source": [
    "## Completeness"
   ]
  },
  {
   "cell_type": "markdown",
   "id": "6a91eef5",
   "metadata": {},
   "source": []
  },
  {
   "cell_type": "markdown",
   "id": "1da8d38c",
   "metadata": {},
   "source": [
    "## Conformance and Consistency\n",
    "\n",
    "Consider conformance to standards and consistency of presentation (e.g., is all data on one or two lines, or does each tag, subtag, etc. appear on its own line?)"
   ]
  },
  {
   "cell_type": "markdown",
   "id": "e6519e50",
   "metadata": {},
   "source": [
    "### Dublin Core"
   ]
  },
  {
   "cell_type": "markdown",
   "id": "285cd567",
   "metadata": {},
   "source": [
    "***Note:***\n",
    "\n",
    "*The Dublin Core schemas' URLs below are from [dublincore.org](https://www.dublincore.org/schemas/xmls/) under \"Latest versions are always available as: ...\"*"
   ]
  },
  {
   "cell_type": "code",
   "execution_count": 46,
   "id": "7bd92425",
   "metadata": {},
   "outputs": [],
   "source": [
    "dc_elements_schema_url = \"https://www.dublincore.org/schemas/xmls/qdc/dc.xsd\"\n",
    "dc_terms_schema_url = \"https://www.dublincore.org/schemas/xmls/qdc/dcterms.xsd\"\n",
    "dc_mitype_schema_url = \"https://www.dublincore.org/schemas/xmls/qdc/dcmitype.xsd\""
   ]
  },
  {
   "cell_type": "code",
   "execution_count": 47,
   "id": "c7ee3d5d",
   "metadata": {},
   "outputs": [],
   "source": [
    "url = dc_elements_schema_url"
   ]
  },
  {
   "cell_type": "code",
   "execution_count": 48,
   "id": "494e6b0e",
   "metadata": {},
   "outputs": [],
   "source": [
    "content = urllib.request.urlopen(url)\n",
    "parser = etree.XMLParser()\n",
    "dc_elements_tree = etree.parse(content, parser)\n",
    "dc_elements_schema = etree.XMLSchema(dc_elements_tree)\n",
    "\n",
    "    # dc_elements_tree = etree.parse(dc_elements_schema_path)\n",
    "    # dc_elements_schema = etree.XMLSchema(dc_elements_tree)"
   ]
  },
  {
   "cell_type": "code",
   "execution_count": 49,
   "id": "4f8e8dd5",
   "metadata": {},
   "outputs": [
    {
     "ename": "XMLSyntaxError",
     "evalue": "Namespace prefix dc on title is not defined, line 1, column 10 (dc_record_005.xml, line 1)",
     "output_type": "error",
     "traceback": [
      "Traceback \u001b[36m(most recent call last)\u001b[39m:\n",
      "  File \u001b[92m~/miniconda3/envs/ldeval/lib/python3.13/site-packages/IPython/core/interactiveshell.py:3670\u001b[39m in \u001b[95mrun_code\u001b[39m\n    exec(code_obj, self.user_global_ns, self.user_ns)\n",
      "  Cell \u001b[92mIn[49]\u001b[39m\u001b[92m, line 1\u001b[39m\n    xml_doc = etree.parse(dublin_file_paths[1]) # valid   #[0] - invalid as expected\n",
      "  File \u001b[92msrc/lxml/etree.pyx:3589\u001b[39m in \u001b[95mlxml.etree.parse\u001b[39m\n",
      "  File \u001b[92msrc/lxml/parser.pxi:1958\u001b[39m in \u001b[95mlxml.etree._parseDocument\u001b[39m\n",
      "  File \u001b[92msrc/lxml/parser.pxi:1984\u001b[39m in \u001b[95mlxml.etree._parseDocumentFromURL\u001b[39m\n",
      "  File \u001b[92msrc/lxml/parser.pxi:1887\u001b[39m in \u001b[95mlxml.etree._parseDocFromFile\u001b[39m\n",
      "  File \u001b[92msrc/lxml/parser.pxi:1200\u001b[39m in \u001b[95mlxml.etree._BaseParser._parseDocFromFile\u001b[39m\n",
      "  File \u001b[92msrc/lxml/parser.pxi:633\u001b[39m in \u001b[95mlxml.etree._ParserContext._handleParseResultDoc\u001b[39m\n",
      "  File \u001b[92msrc/lxml/parser.pxi:743\u001b[39m in \u001b[95mlxml.etree._handleParseResult\u001b[39m\n",
      "\u001b[36m  \u001b[39m\u001b[36mFile \u001b[39m\u001b[32msrc/lxml/parser.pxi:672\u001b[39m\u001b[36m in \u001b[39m\u001b[35mlxml.etree._raiseParseError\u001b[39m\n",
      "  \u001b[36mFile \u001b[39m\u001b[32mdata/data_playground_task1/cleaned/dublin_core/dc_record_005.xml:1\u001b[39m\n\u001b[31m    \u001b[39m\u001b[31m<dc:title>Climbing Up: Fun Activities for You and Your Cat</dc:title>\u001b[39m\n            ^\n\u001b[31mXMLSyntaxError\u001b[39m\u001b[31m:\u001b[39m Namespace prefix dc on title is not defined, line 1, column 10\n"
     ]
    }
   ],
   "source": [
    "xml_doc = etree.parse(dublin_file_paths[1]) # valid   #[0] - invalid as expected\n",
    "result = dc_elements_schema.validate(xml_doc)"
   ]
  },
  {
   "cell_type": "code",
   "execution_count": null,
   "id": "ba78f639",
   "metadata": {},
   "outputs": [
    {
     "data": {
      "text/plain": [
       "'data/data_playground_task1/cleaned/dublin_core/dc_record_001.xml'"
      ]
     },
     "execution_count": 79,
     "metadata": {},
     "output_type": "execute_result"
    }
   ],
   "source": [
    "dublin_file_paths[1]"
   ]
  },
  {
   "cell_type": "markdown",
   "id": "ad6aada5",
   "metadata": {},
   "source": [
    "### Schema.org"
   ]
  },
  {
   "cell_type": "code",
   "execution_count": null,
   "id": "cf0fd7f3",
   "metadata": {},
   "outputs": [],
   "source": []
  },
  {
   "cell_type": "markdown",
   "id": "88f9d7ad",
   "metadata": {},
   "source": [
    "### CIDOC-CRM"
   ]
  },
  {
   "cell_type": "markdown",
   "id": "710305a5",
   "metadata": {},
   "source": []
  }
 ],
 "metadata": {
  "kernelspec": {
   "display_name": "ldeval",
   "language": "python",
   "name": "python3"
  },
  "language_info": {
   "codemirror_mode": {
    "name": "ipython",
    "version": 3
   },
   "file_extension": ".py",
   "mimetype": "text/x-python",
   "name": "python",
   "nbconvert_exporter": "python",
   "pygments_lexer": "ipython3",
   "version": "3.13.2"
  }
 },
 "nbformat": 4,
 "nbformat_minor": 5
}
