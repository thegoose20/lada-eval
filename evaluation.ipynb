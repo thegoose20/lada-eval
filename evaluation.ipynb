{
 "cells": [
  {
   "cell_type": "markdown",
   "id": "76dbc1be",
   "metadata": {},
   "source": [
    "# Evaluation\n",
    "\n",
    "### Linking Anthropology's Data and Archives (LADA)\n",
    "\n",
    "### AI-Generated Linked Data Evaluation (part II)\n",
    "\n",
    "**Considerations**:\n",
    " - Syntax (Does it adhere to the expected serialization format (e.g. well-formed XML)?)\n",
    " - Completeness (Fields are not empty or 'unknown')\n",
    " - Conformance to ontologies (i.e. CIDOC-CRM, Schema.org, Dublin Core)\n",
    " - Consistency (across generated data points)\n",
    "\n",
    "---\n",
    "\n",
    "**Table of Contents:**\n",
    "\n",
    "I. [Data Preparation](#data-preparation)\n",
    "\n",
    "II. [Dublin Core](#dublin-core)\n",
    "\n",
    "III. [Schema.org](#schemaorg)\n",
    "\n",
    "IV. [CIDOC-CRM](#cidoc-crm)\n",
    "\n",
    "---"
   ]
  },
  {
   "cell_type": "markdown",
   "id": "3f6d2e7c",
   "metadata": {},
   "source": [
    "### Data Preparation"
   ]
  },
  {
   "cell_type": "code",
   "execution_count": null,
   "id": "cd74052b",
   "metadata": {},
   "outputs": [],
   "source": [
    "import utils\n",
    "import pandas as pd\n",
    "import numpy as np\n",
    "import xml.etree.ElementTree as ET\n",
    "import json\n",
    "import lxml\n",
    "import rdflib\n",
    "from rdflib.namespace import DC, SDO # Dublin Core, Schema.org\n",
    "from pathlib import Path\n",
    "import os\n",
    "import re\n",
    "\n",
    "# sax - to validate XML well-formed\n",
    "# xml.etree.ElementTree - to validate text between tags\n",
    "# xml.etree.ElementTree + xml.etree.ElementTree.XMLSchema's validate() - to validate XML well-formed\n",
    "# lxml etree.XMLParser - to validate well-formed based on input XML schema\n",
    "# json_checker - to validate Python data types (incl. but not limited to those obtained from JSON)\n",
    "# jsonschema.validate\n",
    "# ShEx - for RDF graphs, ShExJ for JSON - NOTE: couldn't install package\n",
    "# OntoME - for CIDOC-CRM ontology alignment"
   ]
  }
 ],
 "metadata": {
  "language_info": {
   "name": "python"
  }
 },
 "nbformat": 4,
 "nbformat_minor": 5
}
