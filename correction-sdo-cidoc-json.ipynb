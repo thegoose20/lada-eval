{
 "cells": [
  {
   "cell_type": "markdown",
   "id": "e26597b6",
   "metadata": {},
   "source": [
    "# Automated Correction: Schema.org and CIDOC-CRM JSON-LD Syntax\n",
    "\n",
    "Part V of the computational evaluation of AI-generated linked data for [Linking Anthropology's Data and Archives (LADA)](https://ischool.umd.edu/projects/building-a-sustainable-future-for-anthropologys-archives-researching-primary-source-data-lifecycles-infrastructures-and-reuse/), focused on syntax (e.g., do the metadata adhere to the expected serialization formats?).\n",
    "\n",
    "---\n",
    "\n",
    "**Table of Contents:**\n",
    "\n",
    "I. [Data Loading](#data-loading)\n",
    "\n",
    "II. [Auomated Correction](#automated-correction)\n",
    "\n",
    "  * [Schema.org](#schema-org)\n",
    "  \n",
    "  * [CIDOC-CRM](#cidoc-crm)\n",
    "\n",
    "---"
   ]
  },
  {
   "cell_type": "markdown",
   "id": "a539c65a",
   "metadata": {},
   "source": [
    "## Data Loading"
   ]
  },
  {
   "cell_type": "code",
   "execution_count": null,
   "id": "55582f66",
   "metadata": {},
   "outputs": [],
   "source": [
    "import utils\n",
    "import config\n",
    "import pandas as pd\n",
    "import numpy as np\n",
    "import urllib.request\n",
    "import urllib\n",
    "import xml.etree.ElementTree as ET\n",
    "import json\n",
    "from lxml import etree\n",
    "import rdflib\n",
    "from rdflib.namespace import DC, SDO # Dublin Core, Schema.org\n",
    "from pathlib import Path\n",
    "import os\n",
    "import re"
   ]
  },
  {
   "cell_type": "markdown",
   "id": "fa5c5d10",
   "metadata": {},
   "source": [
    "Create variables to reference existing directories and files."
   ]
  },
  {
   "cell_type": "code",
   "execution_count": null,
   "id": "955d1955",
   "metadata": {},
   "outputs": [],
   "source": [
    "dublin_path = \"cleaned/dublin_core/\"  # XML data files\n",
    "schema_path = \"cleaned/schema_org/\"   # JSON data files\n",
    "cidoc_path = \"cleaned/cidoc_crm/\"     # JSON data files\n",
    "\n",
    "dublin_t1_dir = config.task1_data+dublin_path\n",
    "schema_t1_dir = config.task1_data+schema_path\n",
    "cidoc_t1_dir = config.task1_data+cidoc_path\n",
    "\n",
    "dublin_p1_dir = config.playgrd1_data+dublin_path\n",
    "schema_p1_dir = config.playgrd1_data+schema_path\n",
    "cidoc_p1_dir = config.playgrd1_data+cidoc_path\n",
    "\n",
    "dublin_p3_dir = config.playgrd3_data+dublin_path\n",
    "schema_p3_dir = config.playgrd3_data+schema_path\n",
    "cidoc_p3_dir = config.playgrd3_data+cidoc_path"
   ]
  },
  {
   "cell_type": "markdown",
   "id": "a49ca69b",
   "metadata": {},
   "source": [
    "Create directories to store automatically corrected files and variables to reference them."
   ]
  },
  {
   "cell_type": "code",
   "execution_count": null,
   "id": "db1f6a6c",
   "metadata": {},
   "outputs": [],
   "source": [
    "dublin_path = \"corrected/dublin_core/\"  # XML data files\n",
    "schema_path = \"corrected/schema_org/\"   # JSON data files\n",
    "cidoc_path = \"corrected/cidoc_crm/\"     # JSON data files\n",
    "\n",
    "dublin_t1_corrected_dir = config.task1_data+dublin_path\n",
    "schema_t1_corrected_dir = config.task1_data+schema_path\n",
    "cidoc_t1_corrected_dir = config.task1_data+cidoc_path\n",
    "\n",
    "dublin_p1_corrected_dir = config.playgrd1_data+dublin_path\n",
    "schema_p1_corrected_dir = config.playgrd1_data+schema_path\n",
    "cidoc_p1_corrected_dir = config.playgrd1_data+cidoc_path\n",
    "\n",
    "dublin_p3_corrected_dir = config.playgrd3_data+dublin_path\n",
    "schema_p3_corrected_dir = config.playgrd3_data+schema_path\n",
    "cidoc_p3_corrected_dir = config.playgrd3_data+cidoc_path\n",
    "\n",
    "corrected_dirs = [dublin_t1_corrected_dir, schema_t1_corrected_dir, cidoc_t1_corrected_dir,\n",
    "                  dublin_p1_corrected_dir, schema_p1_corrected_dir, cidoc_p1_corrected_dir,\n",
    "                  dublin_p3_corrected_dir, schema_p3_corrected_dir, cidoc_p3_corrected_dir\n",
    "                  ]\n",
    "for corrected_dir in corrected_dirs:\n",
    "    Path(corrected_dir).mkdir(parents=True, exist_ok=True)"
   ]
  },
  {
   "cell_type": "code",
   "execution_count": null,
   "id": "b9fa06a3",
   "metadata": {},
   "outputs": [],
   "source": []
  },
  {
   "cell_type": "markdown",
   "id": "725ddccc",
   "metadata": {},
   "source": [
    "## Automated Correction"
   ]
  },
  {
   "cell_type": "code",
   "execution_count": null,
   "id": "982238cc",
   "metadata": {},
   "outputs": [
    {
     "name": "stdout",
     "output_type": "stream",
     "text": [
      "data/data_playground_task1/cleaned/cidoc_crm/cidoccrm_record_018.txt\n"
     ]
    }
   ],
   "source": [
    "errored_files = list(df_se.file_path)\n",
    "txt_errored_files = [f.replace(\".json\", \".txt\") for f in errored_files]\n",
    "print(txt_errored_files[0])"
   ]
  },
  {
   "cell_type": "code",
   "execution_count": null,
   "id": "3d355dee",
   "metadata": {},
   "outputs": [
    {
     "name": "stdout",
     "output_type": "stream",
     "text": [
      "Total correct JSON files: 209\n",
      "Sample: data/data_playground_task1/cleaned/cidoc_crm/cidoccrm_record_003.json\n"
     ]
    }
   ],
   "source": [
    "correct_json_files = []\n",
    "for f in cidoc_file_paths:\n",
    "    if f not in errored_files:\n",
    "        correct_json_files += [f]\n",
    "for f in schema_file_paths:\n",
    "    if f not in errored_files:\n",
    "        correct_json_files += [f]\n",
    "print(\"Total correct JSON files:\", len(correct_json_files))\n",
    "print(\"Sample:\", correct_json_files[0])"
   ]
  },
  {
   "cell_type": "code",
   "execution_count": null,
   "id": "272ca84d",
   "metadata": {},
   "outputs": [],
   "source": [
    "still_incorrect, comments_found, new_syntax_errors = utils.correctJSON(txt_errored_files)"
   ]
  },
  {
   "cell_type": "code",
   "execution_count": null,
   "id": "ae08ccc4",
   "metadata": {},
   "outputs": [
    {
     "name": "stdout",
     "output_type": "stream",
     "text": [
      "4 still incorrect: ['data/data_playground_task1/cleaned/cidoc_crm/cidoccrm_record_018.txt', 'data/data_playground_task1/cleaned/cidoc_crm/cidoccrm_record_070.txt', 'data/data_playground_task1/cleaned/schema_org/sdo_record_018.txt', 'data/data_task1/cleaned/schema_org/sdo_record_006.txt']\n",
      "1 comments(s) found: [{'errored_file': 'data/data_playground_task1/cleaned/cidoc_crm/cidoccrm_record_018.txt', 'comment': ['\\n    // Additional members go here']}]\n",
      "New errors: 4\n"
     ]
    }
   ],
   "source": [
    "print(len(still_incorrect), \"still incorrect:\", still_incorrect)\n",
    "print(len(comments_found), \"comments(s) found:\", comments_found)\n",
    "print(\"New errors:\", len(new_syntax_errors))\n"
   ]
  },
  {
   "cell_type": "code",
   "execution_count": null,
   "id": "dd9b1541",
   "metadata": {},
   "outputs": [
    {
     "name": "stdout",
     "output_type": "stream",
     "text": [
      "{'file': 'data/data_playground_task1/cleaned/cidoc_crm/cidoccrm_record_018.json', 'exception_type': <class 'io.UnsupportedOperation'>, 'exception_message': 'not readable'}\n",
      "{'file': 'data/data_playground_task1/cleaned/cidoc_crm/cidoccrm_record_070.json', 'exception_type': <class 'io.UnsupportedOperation'>, 'exception_message': 'not readable'}\n",
      "{'file': 'data/data_playground_task1/cleaned/schema_org/sdo_record_018.json', 'exception_type': <class 'io.UnsupportedOperation'>, 'exception_message': 'not readable'}\n",
      "{'file': 'data/data_task1/cleaned/schema_org/sdo_record_006.json', 'exception_type': <class 'io.UnsupportedOperation'>, 'exception_message': 'not readable'}\n"
     ]
    }
   ],
   "source": [
    "for new_e in new_syntax_errors:\n",
    "    print(new_e)"
   ]
  },
  {
   "cell_type": "code",
   "execution_count": null,
   "id": "df4f6eba",
   "metadata": {},
   "outputs": [
    {
     "name": "stdout",
     "output_type": "stream",
     "text": [
      "Files with errors: 0 of 213 (0.00%)\n"
     ]
    }
   ],
   "source": [
    "errors = []\n",
    "for txt_f in still_incorrect:\n",
    "    json_f = txt_f.replace(\".txt\", \".json\")\n",
    "    new_json_path = json_f.replace(\"cleaned\", \"corrected\")\n",
    "    with open(new_json_path) as f:\n",
    "        try:\n",
    "            data = json.load(f)\n",
    "        except Exception as e:\n",
    "            f_error = {\"file\": json_f, \"exception_type\": type(e), \"exception_message\": str(e)}\n",
    "            errors += [f_error]\n",
    "        f.close()\n",
    "print(\n",
    "    \"Files with errors:\", \n",
    "    len(errors), \"of\", len(json_file_paths),\n",
    "    f\"({(len(errors)/len(json_file_paths))*100:.2f}%)\"\n",
    "    )"
   ]
  },
  {
   "cell_type": "code",
   "execution_count": null,
   "id": "9cdbe1d1",
   "metadata": {},
   "outputs": [],
   "source": [
    "assert len(errors) == 0, f\"There are still {len(still_incorrect)} files that need correcting.\""
   ]
  },
  {
   "cell_type": "markdown",
   "id": "4ec0186a",
   "metadata": {},
   "source": [
    "THEN WHY AM I GETTING ERRORS FROM THE FIRST TRY/EXCEPT LOOP???\n",
    "\n",
    "Update the report to show all resolved errors."
   ]
  },
  {
   "cell_type": "code",
   "execution_count": null,
   "id": "d3855778",
   "metadata": {},
   "outputs": [
    {
     "data": {
      "text/html": [
       "<div>\n",
       "<style scoped>\n",
       "    .dataframe tbody tr th:only-of-type {\n",
       "        vertical-align: middle;\n",
       "    }\n",
       "\n",
       "    .dataframe tbody tr th {\n",
       "        vertical-align: top;\n",
       "    }\n",
       "\n",
       "    .dataframe thead th {\n",
       "        text-align: right;\n",
       "    }\n",
       "</style>\n",
       "<table border=\"1\" class=\"dataframe\">\n",
       "  <thead>\n",
       "    <tr style=\"text-align: right;\">\n",
       "      <th></th>\n",
       "      <th>dimension_counted</th>\n",
       "      <th>exception</th>\n",
       "      <th>count</th>\n",
       "      <th>proportion_of_all_files</th>\n",
       "    </tr>\n",
       "  </thead>\n",
       "  <tbody>\n",
       "    <tr>\n",
       "      <th>0</th>\n",
       "      <td>exception_type</td>\n",
       "      <td>&lt;class 'lxml.etree.XMLSyntaxError'&gt;</td>\n",
       "      <td>43</td>\n",
       "      <td>40.19%</td>\n",
       "    </tr>\n",
       "    <tr>\n",
       "      <th>1</th>\n",
       "      <td>exception_subtype</td>\n",
       "      <td>Namespace prefix dc on title is not defined</td>\n",
       "      <td>33</td>\n",
       "      <td>30.84%</td>\n",
       "    </tr>\n",
       "    <tr>\n",
       "      <th>2</th>\n",
       "      <td>exception_subtype</td>\n",
       "      <td>Namespace prefix rdf for about on Description ...</td>\n",
       "      <td>7</td>\n",
       "      <td>6.54%</td>\n",
       "    </tr>\n",
       "    <tr>\n",
       "      <th>3</th>\n",
       "      <td>exception_subtype</td>\n",
       "      <td>xmlns:dc: Empty XML namespace is not allowed</td>\n",
       "      <td>1</td>\n",
       "      <td>0.93%</td>\n",
       "    </tr>\n",
       "    <tr>\n",
       "      <th>4</th>\n",
       "      <td>exception_subtype</td>\n",
       "      <td>Namespace prefix rdf on Description is not def...</td>\n",
       "      <td>1</td>\n",
       "      <td>0.93%</td>\n",
       "    </tr>\n",
       "    <tr>\n",
       "      <th>5</th>\n",
       "      <td>exception_subtype</td>\n",
       "      <td>xmlParseEntityRef: no name</td>\n",
       "      <td>1</td>\n",
       "      <td>0.93%</td>\n",
       "    </tr>\n",
       "    <tr>\n",
       "      <th>6</th>\n",
       "      <td>total_files</td>\n",
       "      <td>NA</td>\n",
       "      <td>107</td>\n",
       "      <td>100.00%</td>\n",
       "    </tr>\n",
       "    <tr>\n",
       "      <th>7</th>\n",
       "      <td>files_with_error</td>\n",
       "      <td>NA</td>\n",
       "      <td>43</td>\n",
       "      <td>40.19%</td>\n",
       "    </tr>\n",
       "    <tr>\n",
       "      <th>8</th>\n",
       "      <td>errored_files_after_auto_correction</td>\n",
       "      <td>NA</td>\n",
       "      <td>0</td>\n",
       "      <td>0.0</td>\n",
       "    </tr>\n",
       "  </tbody>\n",
       "</table>\n",
       "</div>"
      ],
      "text/plain": [
       "                     dimension_counted  \\\n",
       "0                       exception_type   \n",
       "1                    exception_subtype   \n",
       "2                    exception_subtype   \n",
       "3                    exception_subtype   \n",
       "4                    exception_subtype   \n",
       "5                    exception_subtype   \n",
       "6                          total_files   \n",
       "7                     files_with_error   \n",
       "8  errored_files_after_auto_correction   \n",
       "\n",
       "                                           exception  count  \\\n",
       "0                <class 'lxml.etree.XMLSyntaxError'>     43   \n",
       "1        Namespace prefix dc on title is not defined     33   \n",
       "2  Namespace prefix rdf for about on Description ...      7   \n",
       "3       xmlns:dc: Empty XML namespace is not allowed      1   \n",
       "4  Namespace prefix rdf on Description is not def...      1   \n",
       "5                         xmlParseEntityRef: no name      1   \n",
       "6                                                 NA    107   \n",
       "7                                                 NA     43   \n",
       "8                                                 NA      0   \n",
       "\n",
       "  proportion_of_all_files  \n",
       "0                  40.19%  \n",
       "1                  30.84%  \n",
       "2                   6.54%  \n",
       "3                   0.93%  \n",
       "4                   0.93%  \n",
       "5                   0.93%  \n",
       "6                 100.00%  \n",
       "7                  40.19%  \n",
       "8                     0.0  "
      ]
     },
     "metadata": {},
     "output_type": "display_data"
    }
   ],
   "source": [
    "updated = pd.concat([\n",
    "    json_report, \n",
    "    pd.DataFrame({\n",
    "        \"dimension_counted\":\"errored_files_after_auto_correction\",\n",
    "        \"exception\": \"NA\",\n",
    "        \"count\":len(still_incorrect),\n",
    "        \"proportion_of_all_files\":(len(still_incorrect)/total_json_files)\n",
    "    }, index=[json_report.shape[0]])\n",
    "])\n",
    "updated"
   ]
  },
  {
   "cell_type": "code",
   "execution_count": null,
   "id": "2d7bab98",
   "metadata": {},
   "outputs": [],
   "source": [
    "metadata_standard = \"cidoc-and-sdo\"\n",
    "data_serialization = \"json\"\n",
    "report_type = \"syntax_error_stats\"\n",
    "json_report.to_csv(\n",
    "    report_dir+\"{metadata_standard}_{data_serialization}_{report_type}.csv\".format(\n",
    "        metadata_standard=metadata_standard,\n",
    "        data_serialization=data_serialization,\n",
    "        report_type=report_type\n",
    "        ), index=False\n",
    "    )"
   ]
  },
  {
   "cell_type": "markdown",
   "id": "de5658fb",
   "metadata": {},
   "source": [
    "Put a copy of all the initially correct files in the same `corrected` directory as the corrected files."
   ]
  },
  {
   "cell_type": "code",
   "execution_count": null,
   "id": "6cb3d7f3",
   "metadata": {},
   "outputs": [
    {
     "name": "stdout",
     "output_type": "stream",
     "text": [
      "Copied the rest of the correct files into the corrected directory!\n"
     ]
    }
   ],
   "source": [
    "corrected_dir_name = \"corrected\"\n",
    "for correct_dc in correct_dc_files:\n",
    "    with open(correct_dc, \"r\") as f:\n",
    "        content = f.read()\n",
    "        f.close()\n",
    "    new_path = correct_dc.replace(\"cleaned\", corrected_dir_name)\n",
    "    with open(new_path, \"w\") as f:\n",
    "        f.write(content)\n",
    "        f.close()\n",
    "print(f\"Copied the rest of the correct files into the {corrected_dir_name} directory!\")"
   ]
  },
  {
   "cell_type": "markdown",
   "id": "f18cdfa0",
   "metadata": {},
   "source": [
    "THEN WHY AM I GETTING ERRORS FROM THE FIRST TRY/EXCEPT LOOP???"
   ]
  }
 ],
 "metadata": {
  "language_info": {
   "name": "python"
  }
 },
 "nbformat": 4,
 "nbformat_minor": 5
}
