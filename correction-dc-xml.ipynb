{
 "cells": [
  {
   "cell_type": "markdown",
   "id": "bf701b58",
   "metadata": {},
   "source": [
    "# Automated Correction: Dublin Core XML Syntax\n",
    "\n",
    "Part IV of the computational evaluation of AI-generated linked data for [Linking Anthropology's Data and Archives (LADA)](https://ischool.umd.edu/projects/building-a-sustainable-future-for-anthropologys-archives-researching-primary-source-data-lifecycles-infrastructures-and-reuse/), focused on syntax (e.g., do the metadata adhere to the expected serialization formats?).\n",
    "\n",
    "---\n",
    "\n",
    "**Table of Contents:**\n",
    "\n",
    "I. [Data Loading](#data-loading)\n",
    "\n",
    "II. [Auomated Correction](#automated-correction)\n",
    "\n",
    "---"
   ]
  },
  {
   "cell_type": "markdown",
   "id": "d9c016d4",
   "metadata": {},
   "source": [
    "## Data Loading"
   ]
  },
  {
   "cell_type": "code",
   "execution_count": null,
   "id": "40d8dc82",
   "metadata": {},
   "outputs": [],
   "source": [
    "import utils\n",
    "import config\n",
    "import pandas as pd\n",
    "import numpy as np\n",
    "import urllib.request\n",
    "import urllib\n",
    "import xml.etree.ElementTree as ET\n",
    "import json\n",
    "from lxml import etree\n",
    "import rdflib\n",
    "from rdflib.namespace import DC, SDO # Dublin Core, Schema.org\n",
    "from pathlib import Path\n",
    "import os\n",
    "import re"
   ]
  },
  {
   "cell_type": "code",
   "execution_count": null,
   "id": "1aeb2223",
   "metadata": {},
   "outputs": [],
   "source": []
  },
  {
   "cell_type": "code",
   "execution_count": null,
   "id": "6a357c65",
   "metadata": {},
   "outputs": [],
   "source": []
  },
  {
   "cell_type": "markdown",
   "id": "d940d1d4",
   "metadata": {},
   "source": [
    "## Automated Correction\n",
    "\n",
    "Try correcting undefined namespace prefix errors automatically, reading the errored files' equivalents with `.txt` extensions and saving the corrected files that can be parsed with an XML parser to a new directory, where each corrected file has a `.xml` extension."
   ]
  },
  {
   "cell_type": "code",
   "execution_count": null,
   "id": "c5e7aabb",
   "metadata": {},
   "outputs": [
    {
     "data": {
      "text/plain": [
       "array(['Namespace prefix dc on title is not defined',\n",
       "       'Namespace prefix rdf for about on Description is not defined',\n",
       "       'xmlns:dc: Empty XML namespace is not allowed',\n",
       "       'Namespace prefix rdf on Description is not defined',\n",
       "       'xmlParseEntityRef: no name', 'Missing namespace',\n",
       "       'Missing prolog'], dtype=object)"
      ]
     },
     "metadata": {},
     "output_type": "display_data"
    }
   ],
   "source": [
    "df_se.exception_subtype.unique()"
   ]
  },
  {
   "cell_type": "code",
   "execution_count": null,
   "id": "eb0e1343",
   "metadata": {},
   "outputs": [],
   "source": [
    "errored_files = list(df_se.file_path)\n",
    "error_list = list(df_se.exception_subtype)\n",
    "assert (len(error_list) == len(errored_files)), \"Error list and errored files lists should be of the same length\""
   ]
  },
  {
   "cell_type": "code",
   "execution_count": null,
   "id": "a2686b36",
   "metadata": {},
   "outputs": [
    {
     "name": "stdout",
     "output_type": "stream",
     "text": [
      "data/data_playground_task1/cleaned/dublin_core/dc_record_005.txt\n",
      "Namespace prefix dc on title is not defined\n"
     ]
    }
   ],
   "source": [
    "txt_errored_files = [f.replace(\".xml\", \".txt\") for f in errored_files]\n",
    "print(txt_errored_files[0])\n",
    "print(error_list[0])"
   ]
  },
  {
   "cell_type": "code",
   "execution_count": null,
   "id": "6f064ed7",
   "metadata": {},
   "outputs": [
    {
     "name": "stdout",
     "output_type": "stream",
     "text": [
      "Files that still need correcting: [{'file': 'data/data_playground_task1/cleaned/dublin_core/dc_record_005.txt', 'exception_type': <class 'xml.etree.ElementTree.ParseError'>, 'exception_message': 'unbound prefix: line 1, column 0'}, {'file': 'data/data_playground_task1/cleaned/dublin_core/dc_record_006.txt', 'exception_type': <class 'xml.etree.ElementTree.ParseError'>, 'exception_message': 'unbound prefix: line 3, column 0'}, {'file': 'data/data_playground_task1/cleaned/dublin_core/dc_record_007.txt', 'exception_type': <class 'xml.etree.ElementTree.ParseError'>, 'exception_message': 'unbound prefix: line 1, column 0'}, {'file': 'data/data_playground_task1/cleaned/dublin_core/dc_record_008.txt', 'exception_type': <class 'xml.etree.ElementTree.ParseError'>, 'exception_message': 'unbound prefix: line 2, column 0'}, {'file': 'data/data_playground_task1/cleaned/dublin_core/dc_record_009.txt', 'exception_type': <class 'xml.etree.ElementTree.ParseError'>, 'exception_message': 'unbound prefix: line 3, column 0'}, {'file': 'data/data_playground_task1/cleaned/dublin_core/dc_record_010.txt', 'exception_type': <class 'xml.etree.ElementTree.ParseError'>, 'exception_message': 'unbound prefix: line 2, column 0'}, {'file': 'data/data_playground_task1/cleaned/dublin_core/dc_record_011.txt', 'exception_type': <class 'xml.etree.ElementTree.ParseError'>, 'exception_message': 'unbound prefix: line 3, column 0'}, {'file': 'data/data_playground_task1/cleaned/dublin_core/dc_record_013.txt', 'exception_type': <class 'xml.etree.ElementTree.ParseError'>, 'exception_message': 'unbound prefix: line 2, column 0'}, {'file': 'data/data_playground_task1/cleaned/dublin_core/dc_record_014.txt', 'exception_type': <class 'xml.etree.ElementTree.ParseError'>, 'exception_message': 'unbound prefix: line 3, column 0'}, {'file': 'data/data_playground_task1/cleaned/dublin_core/dc_record_017.txt', 'exception_type': <class 'xml.etree.ElementTree.ParseError'>, 'exception_message': 'unbound prefix: line 1, column 0'}, {'file': 'data/data_playground_task1/cleaned/dublin_core/dc_record_019.txt', 'exception_type': <class 'xml.etree.ElementTree.ParseError'>, 'exception_message': 'unbound prefix: line 1, column 0'}, {'file': 'data/data_playground_task1/cleaned/dublin_core/dc_record_038.txt', 'exception_type': <class 'xml.etree.ElementTree.ParseError'>, 'exception_message': 'unbound prefix: line 1, column 0'}, {'file': 'data/data_playground_task1/cleaned/dublin_core/dc_record_043.txt', 'exception_type': <class 'xml.etree.ElementTree.ParseError'>, 'exception_message': 'unbound prefix: line 1, column 0'}, {'file': 'data/data_playground_task1/cleaned/dublin_core/dc_record_052.txt', 'exception_type': <class 'xml.etree.ElementTree.ParseError'>, 'exception_message': 'unbound prefix: line 2, column 0'}, {'file': 'data/data_playground_task1/cleaned/dublin_core/dc_record_053.txt', 'exception_type': <class 'xml.etree.ElementTree.ParseError'>, 'exception_message': 'unbound prefix: line 2, column 0'}, {'file': 'data/data_playground_task1/cleaned/dublin_core/dc_record_055.txt', 'exception_type': <class 'xml.etree.ElementTree.ParseError'>, 'exception_message': 'unbound prefix: line 1, column 0'}, {'file': 'data/data_playground_task1/cleaned/dublin_core/dc_record_059.txt', 'exception_type': <class 'xml.etree.ElementTree.ParseError'>, 'exception_message': 'unbound prefix: line 2, column 0'}, {'file': 'data/data_playground_task1/cleaned/dublin_core/dc_record_062.txt', 'exception_type': <class 'xml.etree.ElementTree.ParseError'>, 'exception_message': 'unbound prefix: line 2, column 0'}, {'file': 'data/data_playground_task1/cleaned/dublin_core/dc_record_063.txt', 'exception_type': <class 'xml.etree.ElementTree.ParseError'>, 'exception_message': 'unbound prefix: line 2, column 0'}, {'file': 'data/data_playground_task1/cleaned/dublin_core/dc_record_064.txt', 'exception_type': <class 'xml.etree.ElementTree.ParseError'>, 'exception_message': 'unbound prefix: line 3, column 0'}, {'file': 'data/data_playground_task1/cleaned/dublin_core/dc_record_068.txt', 'exception_type': <class 'xml.etree.ElementTree.ParseError'>, 'exception_message': 'unbound prefix: line 2, column 0'}, {'file': 'data/data_playground_task1/cleaned/dublin_core/dc_record_070.txt', 'exception_type': <class 'xml.etree.ElementTree.ParseError'>, 'exception_message': 'unbound prefix: line 2, column 0'}, {'file': 'data/data_playground_task1/cleaned/dublin_core/dc_record_073.txt', 'exception_type': <class 'xml.etree.ElementTree.ParseError'>, 'exception_message': 'unbound prefix: line 2, column 0'}, {'file': 'data/data_playground_task1/cleaned/dublin_core/dc_record_075.txt', 'exception_type': <class 'xml.etree.ElementTree.ParseError'>, 'exception_message': 'unbound prefix: line 2, column 0'}, {'file': 'data/data_playground_task1/cleaned/dublin_core/dc_record_078.txt', 'exception_type': <class 'xml.etree.ElementTree.ParseError'>, 'exception_message': 'unbound prefix: line 2, column 0'}, {'file': 'data/data_playground_task1/cleaned/dublin_core/dc_record_079.txt', 'exception_type': <class 'xml.etree.ElementTree.ParseError'>, 'exception_message': 'unbound prefix: line 2, column 0'}, {'file': 'data/data_playground_task1/cleaned/dublin_core/dc_record_088.txt', 'exception_type': <class 'xml.etree.ElementTree.ParseError'>, 'exception_message': 'unbound prefix: line 2, column 0'}, {'file': 'data/data_playground_task1/cleaned/dublin_core/dc_record_089.txt', 'exception_type': <class 'xml.etree.ElementTree.ParseError'>, 'exception_message': 'unbound prefix: line 2, column 0'}, {'file': 'data/data_task1/cleaned/dublin_core/dc_record_003.txt', 'exception_type': <class 'xml.etree.ElementTree.ParseError'>, 'exception_message': 'unbound prefix: line 2, column 0'}, {'file': 'data/data_task1/cleaned/dublin_core/dc_record_018.txt', 'exception_type': <class 'xml.etree.ElementTree.ParseError'>, 'exception_message': 'unbound prefix: line 2, column 0'}, {'file': 'data/data_task1/cleaned/dublin_core/dc_record_020.txt', 'exception_type': <class 'xml.etree.ElementTree.ParseError'>, 'exception_message': 'not well-formed (invalid token): line 3, column 27'}, {'file': 'data/data_task1/cleaned/dublin_core/dc_record_023.txt', 'exception_type': <class 'xml.etree.ElementTree.ParseError'>, 'exception_message': 'unbound prefix: line 1, column 0'}, {'file': 'data/data_task1/cleaned/dublin_core/dc_record_026.txt', 'exception_type': <class 'xml.etree.ElementTree.ParseError'>, 'exception_message': 'unbound prefix: line 1, column 0'}, {'file': 'data/data_task1/cleaned/dublin_core/dc_record_027.txt', 'exception_type': <class 'xml.etree.ElementTree.ParseError'>, 'exception_message': 'unbound prefix: line 2, column 0'}, {'file': 'data/data_task1/cleaned/dublin_core/dc_record_028.txt', 'exception_type': <class 'xml.etree.ElementTree.ParseError'>, 'exception_message': 'unbound prefix: line 2, column 0'}].\n"
     ]
    }
   ],
   "source": [
    "still_incorrect = utils.correctXML(txt_errored_files, error_list)\n",
    "print(f\"Files that still need correcting: {still_incorrect}.\")  #assert len(still_incorrect) == 0, "
   ]
  },
  {
   "cell_type": "code",
   "execution_count": null,
   "id": "27512758",
   "metadata": {},
   "outputs": [
    {
     "data": {
      "text/html": [
       "<div>\n",
       "<style scoped>\n",
       "    .dataframe tbody tr th:only-of-type {\n",
       "        vertical-align: middle;\n",
       "    }\n",
       "\n",
       "    .dataframe tbody tr th {\n",
       "        vertical-align: top;\n",
       "    }\n",
       "\n",
       "    .dataframe thead th {\n",
       "        text-align: right;\n",
       "    }\n",
       "</style>\n",
       "<table border=\"1\" class=\"dataframe\">\n",
       "  <thead>\n",
       "    <tr style=\"text-align: right;\">\n",
       "      <th></th>\n",
       "      <th>file</th>\n",
       "      <th>file_name</th>\n",
       "      <th>exception_type</th>\n",
       "      <th>exception_message</th>\n",
       "    </tr>\n",
       "  </thead>\n",
       "  <tbody>\n",
       "    <tr>\n",
       "      <th>0</th>\n",
       "      <td>data/data_playground_task1/cleaned/dublin_core...</td>\n",
       "      <td>dc_record_005.xml</td>\n",
       "      <td>Malformed XML</td>\n",
       "      <td>No closing tag found for outermost element.</td>\n",
       "    </tr>\n",
       "    <tr>\n",
       "      <th>1</th>\n",
       "      <td>data/data_playground_task1/cleaned/dublin_core...</td>\n",
       "      <td>dc_record_006.xml</td>\n",
       "      <td>Malformed XML</td>\n",
       "      <td>No closing tag found for outermost element.</td>\n",
       "    </tr>\n",
       "    <tr>\n",
       "      <th>2</th>\n",
       "      <td>data/data_playground_task1/cleaned/dublin_core...</td>\n",
       "      <td>dc_record_007.xml</td>\n",
       "      <td>Malformed XML</td>\n",
       "      <td>No closing tag found for outermost element.</td>\n",
       "    </tr>\n",
       "    <tr>\n",
       "      <th>3</th>\n",
       "      <td>data/data_playground_task1/cleaned/dublin_core...</td>\n",
       "      <td>dc_record_008.xml</td>\n",
       "      <td>Malformed XML</td>\n",
       "      <td>No closing tag found for outermost element.</td>\n",
       "    </tr>\n",
       "    <tr>\n",
       "      <th>4</th>\n",
       "      <td>data/data_playground_task1/cleaned/dublin_core...</td>\n",
       "      <td>dc_record_009.xml</td>\n",
       "      <td>Malformed XML</td>\n",
       "      <td>No closing tag found for outermost element.</td>\n",
       "    </tr>\n",
       "  </tbody>\n",
       "</table>\n",
       "</div>"
      ],
      "text/plain": [
       "                                                file          file_name  \\\n",
       "0  data/data_playground_task1/cleaned/dublin_core...  dc_record_005.xml   \n",
       "1  data/data_playground_task1/cleaned/dublin_core...  dc_record_006.xml   \n",
       "2  data/data_playground_task1/cleaned/dublin_core...  dc_record_007.xml   \n",
       "3  data/data_playground_task1/cleaned/dublin_core...  dc_record_008.xml   \n",
       "4  data/data_playground_task1/cleaned/dublin_core...  dc_record_009.xml   \n",
       "\n",
       "  exception_type                            exception_message  \n",
       "0  Malformed XML  No closing tag found for outermost element.  \n",
       "1  Malformed XML  No closing tag found for outermost element.  \n",
       "2  Malformed XML  No closing tag found for outermost element.  \n",
       "3  Malformed XML  No closing tag found for outermost element.  \n",
       "4  Malformed XML  No closing tag found for outermost element.  "
      ]
     },
     "metadata": {},
     "output_type": "display_data"
    }
   ],
   "source": [
    "more_df_se = pd.DataFrame.from_dict(still_incorrect)\n",
    "new_file_col = df_se[\"file_path\"].apply(lambda x: x.split(\"/\")[-1])\n",
    "more_df_se.insert(1, \"file_name\", new_file_col)\n",
    "more_df_se.head()"
   ]
  },
  {
   "cell_type": "markdown",
   "id": "fd4b309b",
   "metadata": {},
   "source": [
    "Great!  We corrected all the Dublin Core XML metadata!\n",
    "\n",
    "Update the report to show this."
   ]
  },
  {
   "cell_type": "code",
   "execution_count": null,
   "id": "c8bc42e9",
   "metadata": {},
   "outputs": [
    {
     "data": {
      "text/html": [
       "<div>\n",
       "<style scoped>\n",
       "    .dataframe tbody tr th:only-of-type {\n",
       "        vertical-align: middle;\n",
       "    }\n",
       "\n",
       "    .dataframe tbody tr th {\n",
       "        vertical-align: top;\n",
       "    }\n",
       "\n",
       "    .dataframe thead th {\n",
       "        text-align: right;\n",
       "    }\n",
       "</style>\n",
       "<table border=\"1\" class=\"dataframe\">\n",
       "  <thead>\n",
       "    <tr style=\"text-align: right;\">\n",
       "      <th></th>\n",
       "      <th>dimension_counted</th>\n",
       "      <th>exception</th>\n",
       "      <th>count</th>\n",
       "      <th>proportion_of_all_files</th>\n",
       "    </tr>\n",
       "  </thead>\n",
       "  <tbody>\n",
       "    <tr>\n",
       "      <th>0</th>\n",
       "      <td>exception_type</td>\n",
       "      <td>&lt;class 'lxml.etree.XMLSyntaxError'&gt;</td>\n",
       "      <td>43</td>\n",
       "      <td>40.19%</td>\n",
       "    </tr>\n",
       "    <tr>\n",
       "      <th>1</th>\n",
       "      <td>exception_subtype</td>\n",
       "      <td>Namespace prefix dc on title is not defined</td>\n",
       "      <td>33</td>\n",
       "      <td>30.84%</td>\n",
       "    </tr>\n",
       "    <tr>\n",
       "      <th>2</th>\n",
       "      <td>exception_subtype</td>\n",
       "      <td>Namespace prefix rdf for about on Description ...</td>\n",
       "      <td>7</td>\n",
       "      <td>6.54%</td>\n",
       "    </tr>\n",
       "    <tr>\n",
       "      <th>3</th>\n",
       "      <td>exception_subtype</td>\n",
       "      <td>xmlns:dc: Empty XML namespace is not allowed</td>\n",
       "      <td>1</td>\n",
       "      <td>0.93%</td>\n",
       "    </tr>\n",
       "    <tr>\n",
       "      <th>4</th>\n",
       "      <td>exception_subtype</td>\n",
       "      <td>Namespace prefix rdf on Description is not def...</td>\n",
       "      <td>1</td>\n",
       "      <td>0.93%</td>\n",
       "    </tr>\n",
       "    <tr>\n",
       "      <th>5</th>\n",
       "      <td>exception_subtype</td>\n",
       "      <td>xmlParseEntityRef: no name</td>\n",
       "      <td>1</td>\n",
       "      <td>0.93%</td>\n",
       "    </tr>\n",
       "    <tr>\n",
       "      <th>6</th>\n",
       "      <td>total_files</td>\n",
       "      <td>NA</td>\n",
       "      <td>107</td>\n",
       "      <td>100.00%</td>\n",
       "    </tr>\n",
       "    <tr>\n",
       "      <th>7</th>\n",
       "      <td>files_with_error</td>\n",
       "      <td>NA</td>\n",
       "      <td>43</td>\n",
       "      <td>40.19%</td>\n",
       "    </tr>\n",
       "    <tr>\n",
       "      <th>8</th>\n",
       "      <td>errored_files_after_auto_correction</td>\n",
       "      <td>NA</td>\n",
       "      <td>0</td>\n",
       "      <td>0.0</td>\n",
       "    </tr>\n",
       "  </tbody>\n",
       "</table>\n",
       "</div>"
      ],
      "text/plain": [
       "                     dimension_counted  \\\n",
       "0                       exception_type   \n",
       "1                    exception_subtype   \n",
       "2                    exception_subtype   \n",
       "3                    exception_subtype   \n",
       "4                    exception_subtype   \n",
       "5                    exception_subtype   \n",
       "6                          total_files   \n",
       "7                     files_with_error   \n",
       "8  errored_files_after_auto_correction   \n",
       "\n",
       "                                           exception  count  \\\n",
       "0                <class 'lxml.etree.XMLSyntaxError'>     43   \n",
       "1        Namespace prefix dc on title is not defined     33   \n",
       "2  Namespace prefix rdf for about on Description ...      7   \n",
       "3       xmlns:dc: Empty XML namespace is not allowed      1   \n",
       "4  Namespace prefix rdf on Description is not def...      1   \n",
       "5                         xmlParseEntityRef: no name      1   \n",
       "6                                                 NA    107   \n",
       "7                                                 NA     43   \n",
       "8                                                 NA      0   \n",
       "\n",
       "  proportion_of_all_files  \n",
       "0                  40.19%  \n",
       "1                  30.84%  \n",
       "2                   6.54%  \n",
       "3                   0.93%  \n",
       "4                   0.93%  \n",
       "5                   0.93%  \n",
       "6                 100.00%  \n",
       "7                  40.19%  \n",
       "8                     0.0  "
      ]
     },
     "metadata": {},
     "output_type": "display_data"
    }
   ],
   "source": [
    "updated = pd.concat([\n",
    "    xml_report, \n",
    "    pd.DataFrame({\n",
    "        \"dimension_counted\":\"errored_files_after_auto_correction\",\n",
    "        \"exception\": \"NA\",\n",
    "        \"count\":len(still_incorrect),\n",
    "        \"proportion_of_all_files\":(len(still_incorrect)/total_dcxml_files)\n",
    "    }, index=[xml_report.shape[0]])\n",
    "])\n",
    "updated"
   ]
  },
  {
   "cell_type": "code",
   "execution_count": null,
   "id": "93885bd6",
   "metadata": {},
   "outputs": [],
   "source": [
    "metadata_standard = \"dublin_core\"\n",
    "data_serialization = \"xml\"\n",
    "report_type = \"syntax_error_stats\"\n",
    "xml_report.to_csv(\n",
    "    report_dir+\"{metadata_standard}_{data_serialization}_{report_type}.csv\".format(\n",
    "        metadata_standard=metadata_standard,\n",
    "        data_serialization=data_serialization,\n",
    "        report_type=report_type\n",
    "        ), index=False\n",
    "    )"
   ]
  },
  {
   "cell_type": "markdown",
   "id": "97cb2bca",
   "metadata": {},
   "source": [
    "Put a copy of all the initially correct files in the same `corrected` directory as the corrected files."
   ]
  },
  {
   "cell_type": "code",
   "execution_count": null,
   "id": "487cd133",
   "metadata": {},
   "outputs": [],
   "source": [
    "correct_dc_files = []\n",
    "for f in dublin_file_paths:\n",
    "    if f not in errored_files:\n",
    "        correct_dc_files += [f]\n",
    "print(\"Files with correct syntax:\", len(correct_dc_files), \"of\", len(dublin_file_paths))"
   ]
  },
  {
   "cell_type": "code",
   "execution_count": null,
   "id": "5ab6d8d6",
   "metadata": {},
   "outputs": [
    {
     "name": "stdout",
     "output_type": "stream",
     "text": [
      "Copied the rest of the correct files into the corrected directory!\n"
     ]
    }
   ],
   "source": [
    "corrected_dir_name = \"corrected\"\n",
    "for correct_dc in correct_dc_files:\n",
    "    with open(correct_dc, \"r\") as f:\n",
    "        content = f.read()\n",
    "        f.close()\n",
    "    new_path = correct_dc.replace(\"cleaned\", corrected_dir_name)\n",
    "    with open(new_path, \"w\") as f:\n",
    "        f.write(content)\n",
    "        f.close()\n",
    "print(f\"Copied the rest of the correct files into the {corrected_dir_name} directory!\")"
   ]
  }
 ],
 "metadata": {
  "language_info": {
   "name": "python"
  }
 },
 "nbformat": 4,
 "nbformat_minor": 5
}
