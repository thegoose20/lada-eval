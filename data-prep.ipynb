{
 "cells": [
  {
   "cell_type": "markdown",
   "id": "66c8d9a5",
   "metadata": {},
   "source": [
    "# Data Preparation \n",
    "\n",
    "### Linking Anthropology's Data and Archives (LADA)\n",
    "\n",
    "### AI-Generated Linked Data Evaluation (part I)"
   ]
  },
  {
   "cell_type": "code",
   "execution_count": 48,
   "id": "135b41ea",
   "metadata": {},
   "outputs": [],
   "source": [
    "import config\n",
    "import utils\n",
    "import pandas as pd\n",
    "import numpy as np\n",
    "from pathlib import Path\n",
    "import os\n",
    "import re"
   ]
  },
  {
   "cell_type": "markdown",
   "id": "1ae15684",
   "metadata": {},
   "source": [
    "Read in CSV data as a pandas DataFrame, where `f` is the name of the data file:"
   ]
  },
  {
   "cell_type": "code",
   "execution_count": 49,
   "id": "7e446e04",
   "metadata": {},
   "outputs": [],
   "source": [
    "# Uncomment one of the following code lines or replace with your own\n",
    "# path to the folder (directory) where the data file f is located\n",
    "# ------------------------------------\n",
    "# data_dir = config.task1_data\n",
    "# data_dir = config.playgrd1_data\n",
    "data_dir = config.playgrd3_data\n",
    "# data_dir = \"path/to/your/data/\"\n",
    "\n",
    "# The name of the data file\n",
    "# ------------------------------------\n",
    "# f = \"4-HDataExperimentAssignmentsAndOutcomes_Outcomes_Task1.csv\"\n",
    "# f = \"4-HDataExperimentAssignmentsAndOutcomes_Playground_Task1.csv\"\n",
    "f = \"4-HDataExperimentAssignmentsAndOutcomes_Playground_Task3.csv\"\n",
    "# f = \"your_data_file_name.csv\""
   ]
  },
  {
   "cell_type": "code",
   "execution_count": 50,
   "id": "01d10216",
   "metadata": {},
   "outputs": [
    {
     "data": {
      "text/html": [
       "<div>\n",
       "<style scoped>\n",
       "    .dataframe tbody tr th:only-of-type {\n",
       "        vertical-align: middle;\n",
       "    }\n",
       "\n",
       "    .dataframe tbody tr th {\n",
       "        vertical-align: top;\n",
       "    }\n",
       "\n",
       "    .dataframe thead th {\n",
       "        text-align: right;\n",
       "    }\n",
       "</style>\n",
       "<table border=\"1\" class=\"dataframe\">\n",
       "  <thead>\n",
       "    <tr style=\"text-align: right;\">\n",
       "      <th></th>\n",
       "      <th>ID</th>\n",
       "      <th>Model</th>\n",
       "      <th>Original Catalog Link</th>\n",
       "      <th>Name of Collection</th>\n",
       "      <th>File Name/Link to File</th>\n",
       "      <th>Metadata record</th>\n",
       "      <th>Identifiers?</th>\n",
       "      <th>Schema.org Record</th>\n",
       "      <th>CIDOC-CRM Record</th>\n",
       "      <th>Unnamed: 9</th>\n",
       "      <th>...</th>\n",
       "      <th>Unnamed: 17</th>\n",
       "      <th>Unnamed: 18</th>\n",
       "      <th>Unnamed: 19</th>\n",
       "      <th>Unnamed: 20</th>\n",
       "      <th>Unnamed: 21</th>\n",
       "      <th>Unnamed: 22</th>\n",
       "      <th>Unnamed: 23</th>\n",
       "      <th>Unnamed: 24</th>\n",
       "      <th>Unnamed: 25</th>\n",
       "      <th>Unnamed: 26</th>\n",
       "    </tr>\n",
       "  </thead>\n",
       "  <tbody>\n",
       "    <tr>\n",
       "      <th>0</th>\n",
       "      <td>1.0</td>\n",
       "      <td>Model pre-1</td>\n",
       "      <td>NaN</td>\n",
       "      <td>NaN</td>\n",
       "      <td>NaN</td>\n",
       "      <td>NaN</td>\n",
       "      <td>NaN</td>\n",
       "      <td>NaN</td>\n",
       "      <td>NaN</td>\n",
       "      <td>NaN</td>\n",
       "      <td>...</td>\n",
       "      <td>NaN</td>\n",
       "      <td>NaN</td>\n",
       "      <td>NaN</td>\n",
       "      <td>NaN</td>\n",
       "      <td>NaN</td>\n",
       "      <td>NaN</td>\n",
       "      <td>NaN</td>\n",
       "      <td>NaN</td>\n",
       "      <td>NaN</td>\n",
       "      <td>NaN</td>\n",
       "    </tr>\n",
       "    <tr>\n",
       "      <th>1</th>\n",
       "      <td>2.0</td>\n",
       "      <td>Model 1</td>\n",
       "      <td>NaN</td>\n",
       "      <td>NaN</td>\n",
       "      <td>NaN</td>\n",
       "      <td>NaN</td>\n",
       "      <td>NaN</td>\n",
       "      <td>NaN</td>\n",
       "      <td>NaN</td>\n",
       "      <td>NaN</td>\n",
       "      <td>...</td>\n",
       "      <td>NaN</td>\n",
       "      <td>NaN</td>\n",
       "      <td>NaN</td>\n",
       "      <td>NaN</td>\n",
       "      <td>NaN</td>\n",
       "      <td>NaN</td>\n",
       "      <td>NaN</td>\n",
       "      <td>NaN</td>\n",
       "      <td>NaN</td>\n",
       "      <td>NaN</td>\n",
       "    </tr>\n",
       "    <tr>\n",
       "      <th>2</th>\n",
       "      <td>3.0</td>\n",
       "      <td>Model 2</td>\n",
       "      <td>NaN</td>\n",
       "      <td>NaN</td>\n",
       "      <td>NaN</td>\n",
       "      <td>NaN</td>\n",
       "      <td>NaN</td>\n",
       "      <td>NaN</td>\n",
       "      <td>NaN</td>\n",
       "      <td>NaN</td>\n",
       "      <td>...</td>\n",
       "      <td>NaN</td>\n",
       "      <td>NaN</td>\n",
       "      <td>NaN</td>\n",
       "      <td>NaN</td>\n",
       "      <td>NaN</td>\n",
       "      <td>NaN</td>\n",
       "      <td>NaN</td>\n",
       "      <td>NaN</td>\n",
       "      <td>NaN</td>\n",
       "      <td>NaN</td>\n",
       "    </tr>\n",
       "  </tbody>\n",
       "</table>\n",
       "<p>3 rows × 27 columns</p>\n",
       "</div>"
      ],
      "text/plain": [
       "    ID        Model  Original Catalog Link Name of Collection  \\\n",
       "0  1.0  Model pre-1                    NaN                NaN   \n",
       "1  2.0      Model 1                    NaN                NaN   \n",
       "2  3.0      Model 2                    NaN                NaN   \n",
       "\n",
       "  File Name/Link to File  Metadata record Identifiers? Schema.org Record  \\\n",
       "0                     NaN             NaN          NaN               NaN   \n",
       "1                     NaN             NaN          NaN               NaN   \n",
       "2                     NaN             NaN          NaN               NaN   \n",
       "\n",
       "  CIDOC-CRM Record  Unnamed: 9  ...  Unnamed: 17  Unnamed: 18  Unnamed: 19  \\\n",
       "0              NaN         NaN  ...          NaN          NaN          NaN   \n",
       "1              NaN         NaN  ...          NaN          NaN          NaN   \n",
       "2              NaN         NaN  ...          NaN          NaN          NaN   \n",
       "\n",
       "   Unnamed: 20  Unnamed: 21  Unnamed: 22  Unnamed: 23  Unnamed: 24  \\\n",
       "0          NaN          NaN          NaN          NaN          NaN   \n",
       "1          NaN          NaN          NaN          NaN          NaN   \n",
       "2          NaN          NaN          NaN          NaN          NaN   \n",
       "\n",
       "   Unnamed: 25  Unnamed: 26  \n",
       "0          NaN          NaN  \n",
       "1          NaN          NaN  \n",
       "2          NaN          NaN  \n",
       "\n",
       "[3 rows x 27 columns]"
      ]
     },
     "execution_count": 50,
     "metadata": {},
     "output_type": "execute_result"
    }
   ],
   "source": [
    "df = pd.read_csv(data_dir + f)\n",
    "df.head(3)"
   ]
  },
  {
   "cell_type": "markdown",
   "id": "d9e00fe4",
   "metadata": {},
   "source": [
    "Remove empty columns from the DataFrame:"
   ]
  },
  {
   "cell_type": "code",
   "execution_count": 51,
   "id": "ffd44d69",
   "metadata": {},
   "outputs": [
    {
     "name": "stdout",
     "output_type": "stream",
     "text": [
      "(999, 27)\n",
      "(999, 9)\n"
     ]
    },
    {
     "data": {
      "text/html": [
       "<div>\n",
       "<style scoped>\n",
       "    .dataframe tbody tr th:only-of-type {\n",
       "        vertical-align: middle;\n",
       "    }\n",
       "\n",
       "    .dataframe tbody tr th {\n",
       "        vertical-align: top;\n",
       "    }\n",
       "\n",
       "    .dataframe thead th {\n",
       "        text-align: right;\n",
       "    }\n",
       "</style>\n",
       "<table border=\"1\" class=\"dataframe\">\n",
       "  <thead>\n",
       "    <tr style=\"text-align: right;\">\n",
       "      <th></th>\n",
       "      <th>ID</th>\n",
       "      <th>Model</th>\n",
       "      <th>Original Catalog Link</th>\n",
       "      <th>Name of Collection</th>\n",
       "      <th>File Name/Link to File</th>\n",
       "      <th>Metadata record</th>\n",
       "      <th>Identifiers?</th>\n",
       "      <th>Schema.org Record</th>\n",
       "      <th>CIDOC-CRM Record</th>\n",
       "    </tr>\n",
       "  </thead>\n",
       "  <tbody>\n",
       "    <tr>\n",
       "      <th>0</th>\n",
       "      <td>1.0</td>\n",
       "      <td>Model pre-1</td>\n",
       "      <td>NaN</td>\n",
       "      <td>NaN</td>\n",
       "      <td>NaN</td>\n",
       "      <td>NaN</td>\n",
       "      <td>NaN</td>\n",
       "      <td>NaN</td>\n",
       "      <td>NaN</td>\n",
       "    </tr>\n",
       "    <tr>\n",
       "      <th>1</th>\n",
       "      <td>2.0</td>\n",
       "      <td>Model 1</td>\n",
       "      <td>NaN</td>\n",
       "      <td>NaN</td>\n",
       "      <td>NaN</td>\n",
       "      <td>NaN</td>\n",
       "      <td>NaN</td>\n",
       "      <td>NaN</td>\n",
       "      <td>NaN</td>\n",
       "    </tr>\n",
       "    <tr>\n",
       "      <th>2</th>\n",
       "      <td>3.0</td>\n",
       "      <td>Model 2</td>\n",
       "      <td>NaN</td>\n",
       "      <td>NaN</td>\n",
       "      <td>NaN</td>\n",
       "      <td>NaN</td>\n",
       "      <td>NaN</td>\n",
       "      <td>NaN</td>\n",
       "      <td>NaN</td>\n",
       "    </tr>\n",
       "  </tbody>\n",
       "</table>\n",
       "</div>"
      ],
      "text/plain": [
       "    ID        Model  Original Catalog Link Name of Collection  \\\n",
       "0  1.0  Model pre-1                    NaN                NaN   \n",
       "1  2.0      Model 1                    NaN                NaN   \n",
       "2  3.0      Model 2                    NaN                NaN   \n",
       "\n",
       "  File Name/Link to File  Metadata record Identifiers? Schema.org Record  \\\n",
       "0                     NaN             NaN          NaN               NaN   \n",
       "1                     NaN             NaN          NaN               NaN   \n",
       "2                     NaN             NaN          NaN               NaN   \n",
       "\n",
       "  CIDOC-CRM Record  \n",
       "0              NaN  \n",
       "1              NaN  \n",
       "2              NaN  "
      ]
     },
     "execution_count": 51,
     "metadata": {},
     "output_type": "execute_result"
    }
   ],
   "source": [
    "print(df.shape)\n",
    "df = df.dropna(axis=1, how='all')\n",
    "print(df.shape)\n",
    "df.head(3)"
   ]
  },
  {
   "cell_type": "markdown",
   "id": "c66a66a3",
   "metadata": {},
   "source": [
    "Remove empty rows from the DataFrame:"
   ]
  },
  {
   "cell_type": "code",
   "execution_count": 52,
   "id": "3b0b4866",
   "metadata": {},
   "outputs": [
    {
     "name": "stdout",
     "output_type": "stream",
     "text": [
      "(39, 9)\n"
     ]
    },
    {
     "data": {
      "text/html": [
       "<div>\n",
       "<style scoped>\n",
       "    .dataframe tbody tr th:only-of-type {\n",
       "        vertical-align: middle;\n",
       "    }\n",
       "\n",
       "    .dataframe tbody tr th {\n",
       "        vertical-align: top;\n",
       "    }\n",
       "\n",
       "    .dataframe thead th {\n",
       "        text-align: right;\n",
       "    }\n",
       "</style>\n",
       "<table border=\"1\" class=\"dataframe\">\n",
       "  <thead>\n",
       "    <tr style=\"text-align: right;\">\n",
       "      <th></th>\n",
       "      <th>ID</th>\n",
       "      <th>Model</th>\n",
       "      <th>Original Catalog Link</th>\n",
       "      <th>Name of Collection</th>\n",
       "      <th>File Name/Link to File</th>\n",
       "      <th>Metadata record</th>\n",
       "      <th>Identifiers?</th>\n",
       "      <th>Schema.org Record</th>\n",
       "      <th>CIDOC-CRM Record</th>\n",
       "    </tr>\n",
       "  </thead>\n",
       "  <tbody>\n",
       "    <tr>\n",
       "      <th>36</th>\n",
       "      <td>37.0</td>\n",
       "      <td>NaN</td>\n",
       "      <td>NaN</td>\n",
       "      <td>NaN</td>\n",
       "      <td>NaN</td>\n",
       "      <td>NaN</td>\n",
       "      <td>NaN</td>\n",
       "      <td>NaN</td>\n",
       "      <td>NaN</td>\n",
       "    </tr>\n",
       "    <tr>\n",
       "      <th>37</th>\n",
       "      <td>38.0</td>\n",
       "      <td>NaN</td>\n",
       "      <td>NaN</td>\n",
       "      <td>NaN</td>\n",
       "      <td>NaN</td>\n",
       "      <td>NaN</td>\n",
       "      <td>NaN</td>\n",
       "      <td>NaN</td>\n",
       "      <td>NaN</td>\n",
       "    </tr>\n",
       "    <tr>\n",
       "      <th>38</th>\n",
       "      <td>39.0</td>\n",
       "      <td>NaN</td>\n",
       "      <td>NaN</td>\n",
       "      <td>NaN</td>\n",
       "      <td>NaN</td>\n",
       "      <td>NaN</td>\n",
       "      <td>NaN</td>\n",
       "      <td>NaN</td>\n",
       "      <td>NaN</td>\n",
       "    </tr>\n",
       "  </tbody>\n",
       "</table>\n",
       "</div>"
      ],
      "text/plain": [
       "      ID Model  Original Catalog Link Name of Collection  \\\n",
       "36  37.0   NaN                    NaN                NaN   \n",
       "37  38.0   NaN                    NaN                NaN   \n",
       "38  39.0   NaN                    NaN                NaN   \n",
       "\n",
       "   File Name/Link to File  Metadata record Identifiers? Schema.org Record  \\\n",
       "36                     NaN             NaN          NaN               NaN   \n",
       "37                     NaN             NaN          NaN               NaN   \n",
       "38                     NaN             NaN          NaN               NaN   \n",
       "\n",
       "   CIDOC-CRM Record  \n",
       "36              NaN  \n",
       "37              NaN  \n",
       "38              NaN  "
      ]
     },
     "execution_count": 52,
     "metadata": {},
     "output_type": "execute_result"
    }
   ],
   "source": [
    "df.dropna(how=\"all\", inplace=True)\n",
    "print(df.shape)\n",
    "df.tail(3)"
   ]
  },
  {
   "cell_type": "markdown",
   "id": "818e0693",
   "metadata": {},
   "source": [
    "If there's no column with unique identifiers per row, make one:"
   ]
  },
  {
   "cell_type": "code",
   "execution_count": 53,
   "id": "49246783",
   "metadata": {},
   "outputs": [],
   "source": [
    "col_list = list(df.columns)\n",
    "col_list_lower = [col.lower() for col in col_list]\n",
    "# print(col_list_lower)\n",
    "for col in col_list_lower:\n",
    "    if (col != \"id\") or (col != \"identifier\") or (not \"_id\" in col):\n",
    "        # Create a unique identifier per row\n",
    "        new_ids = list(range(0, df.shape[0]))\n",
    "        df.insert(0, \"id\", new_ids)\n",
    "        break\n",
    "    else:\n",
    "        col_values = list(df[col])\n",
    "        if len(set(col_values)) != len(col_values):\n",
    "            # Replace the column's values with a unique value\n",
    "            # so there's one identifier per row\n",
    "            new_ids = list(range(0, df.shape[0]))\n",
    "            df[col] = new_ids"
   ]
  },
  {
   "cell_type": "code",
   "execution_count": 54,
   "id": "e4427feb",
   "metadata": {},
   "outputs": [
    {
     "name": "stdout",
     "output_type": "stream",
     "text": [
      "Rows: 39\n",
      "Columns: 10\n"
     ]
    }
   ],
   "source": [
    "print(\"Rows:\", df.shape[0])\n",
    "print(\"Columns:\", df.shape[1])"
   ]
  },
  {
   "cell_type": "code",
   "execution_count": 55,
   "id": "319ce530",
   "metadata": {},
   "outputs": [
    {
     "data": {
      "text/html": [
       "<div>\n",
       "<style scoped>\n",
       "    .dataframe tbody tr th:only-of-type {\n",
       "        vertical-align: middle;\n",
       "    }\n",
       "\n",
       "    .dataframe tbody tr th {\n",
       "        vertical-align: top;\n",
       "    }\n",
       "\n",
       "    .dataframe thead th {\n",
       "        text-align: right;\n",
       "    }\n",
       "</style>\n",
       "<table border=\"1\" class=\"dataframe\">\n",
       "  <thead>\n",
       "    <tr style=\"text-align: right;\">\n",
       "      <th></th>\n",
       "      <th>id</th>\n",
       "      <th>ID</th>\n",
       "      <th>Model</th>\n",
       "      <th>Original Catalog Link</th>\n",
       "      <th>Name of Collection</th>\n",
       "      <th>File Name/Link to File</th>\n",
       "      <th>Metadata record</th>\n",
       "      <th>Identifiers?</th>\n",
       "      <th>Schema.org Record</th>\n",
       "      <th>CIDOC-CRM Record</th>\n",
       "    </tr>\n",
       "  </thead>\n",
       "  <tbody>\n",
       "    <tr>\n",
       "      <th>0</th>\n",
       "      <td>0</td>\n",
       "      <td>1.0</td>\n",
       "      <td>Model pre-1</td>\n",
       "      <td>NaN</td>\n",
       "      <td>NaN</td>\n",
       "      <td>NaN</td>\n",
       "      <td>NaN</td>\n",
       "      <td>NaN</td>\n",
       "      <td>NaN</td>\n",
       "      <td>NaN</td>\n",
       "    </tr>\n",
       "    <tr>\n",
       "      <th>1</th>\n",
       "      <td>1</td>\n",
       "      <td>2.0</td>\n",
       "      <td>Model 1</td>\n",
       "      <td>NaN</td>\n",
       "      <td>NaN</td>\n",
       "      <td>NaN</td>\n",
       "      <td>NaN</td>\n",
       "      <td>NaN</td>\n",
       "      <td>NaN</td>\n",
       "      <td>NaN</td>\n",
       "    </tr>\n",
       "    <tr>\n",
       "      <th>2</th>\n",
       "      <td>2</td>\n",
       "      <td>3.0</td>\n",
       "      <td>Model 2</td>\n",
       "      <td>NaN</td>\n",
       "      <td>NaN</td>\n",
       "      <td>NaN</td>\n",
       "      <td>NaN</td>\n",
       "      <td>NaN</td>\n",
       "      <td>NaN</td>\n",
       "      <td>NaN</td>\n",
       "    </tr>\n",
       "    <tr>\n",
       "      <th>3</th>\n",
       "      <td>3</td>\n",
       "      <td>4.0</td>\n",
       "      <td>Model 3</td>\n",
       "      <td>NaN</td>\n",
       "      <td>NaN</td>\n",
       "      <td>NaN</td>\n",
       "      <td>NaN</td>\n",
       "      <td>NaN</td>\n",
       "      <td>NaN</td>\n",
       "      <td>NaN</td>\n",
       "    </tr>\n",
       "    <tr>\n",
       "      <th>4</th>\n",
       "      <td>4</td>\n",
       "      <td>5.0</td>\n",
       "      <td>Model 4</td>\n",
       "      <td>NaN</td>\n",
       "      <td>NaN</td>\n",
       "      <td>NaN</td>\n",
       "      <td>NaN</td>\n",
       "      <td>NaN</td>\n",
       "      <td>NaN</td>\n",
       "      <td>NaN</td>\n",
       "    </tr>\n",
       "  </tbody>\n",
       "</table>\n",
       "</div>"
      ],
      "text/plain": [
       "   id   ID        Model  Original Catalog Link Name of Collection  \\\n",
       "0   0  1.0  Model pre-1                    NaN                NaN   \n",
       "1   1  2.0      Model 1                    NaN                NaN   \n",
       "2   2  3.0      Model 2                    NaN                NaN   \n",
       "3   3  4.0      Model 3                    NaN                NaN   \n",
       "4   4  5.0      Model 4                    NaN                NaN   \n",
       "\n",
       "  File Name/Link to File  Metadata record Identifiers? Schema.org Record  \\\n",
       "0                     NaN             NaN          NaN               NaN   \n",
       "1                     NaN             NaN          NaN               NaN   \n",
       "2                     NaN             NaN          NaN               NaN   \n",
       "3                     NaN             NaN          NaN               NaN   \n",
       "4                     NaN             NaN          NaN               NaN   \n",
       "\n",
       "  CIDOC-CRM Record  \n",
       "0              NaN  \n",
       "1              NaN  \n",
       "2              NaN  \n",
       "3              NaN  \n",
       "4              NaN  "
      ]
     },
     "execution_count": 55,
     "metadata": {},
     "output_type": "execute_result"
    }
   ],
   "source": [
    "df.head()"
   ]
  },
  {
   "cell_type": "markdown",
   "id": "e593e456",
   "metadata": {},
   "source": [
    "Replace the column names for clarity, consistency, and conciseness:"
   ]
  },
  {
   "cell_type": "code",
   "execution_count": 56,
   "id": "5829bbf2",
   "metadata": {},
   "outputs": [
    {
     "data": {
      "text/html": [
       "<div>\n",
       "<style scoped>\n",
       "    .dataframe tbody tr th:only-of-type {\n",
       "        vertical-align: middle;\n",
       "    }\n",
       "\n",
       "    .dataframe tbody tr th {\n",
       "        vertical-align: top;\n",
       "    }\n",
       "\n",
       "    .dataframe thead th {\n",
       "        text-align: right;\n",
       "    }\n",
       "</style>\n",
       "<table border=\"1\" class=\"dataframe\">\n",
       "  <thead>\n",
       "    <tr style=\"text-align: right;\">\n",
       "      <th></th>\n",
       "      <th>id</th>\n",
       "      <th>ID</th>\n",
       "      <th>Model</th>\n",
       "      <th>Original Catalog Link</th>\n",
       "      <th>Name of Collection</th>\n",
       "      <th>File Name/Link to File</th>\n",
       "      <th>dc_record</th>\n",
       "      <th>Identifiers?</th>\n",
       "      <th>sdo_record</th>\n",
       "      <th>cidoccrm_record</th>\n",
       "    </tr>\n",
       "  </thead>\n",
       "  <tbody>\n",
       "    <tr>\n",
       "      <th>0</th>\n",
       "      <td>0</td>\n",
       "      <td>1.0</td>\n",
       "      <td>Model pre-1</td>\n",
       "      <td>NaN</td>\n",
       "      <td>NaN</td>\n",
       "      <td>NaN</td>\n",
       "      <td>NaN</td>\n",
       "      <td>NaN</td>\n",
       "      <td>NaN</td>\n",
       "      <td>NaN</td>\n",
       "    </tr>\n",
       "    <tr>\n",
       "      <th>1</th>\n",
       "      <td>1</td>\n",
       "      <td>2.0</td>\n",
       "      <td>Model 1</td>\n",
       "      <td>NaN</td>\n",
       "      <td>NaN</td>\n",
       "      <td>NaN</td>\n",
       "      <td>NaN</td>\n",
       "      <td>NaN</td>\n",
       "      <td>NaN</td>\n",
       "      <td>NaN</td>\n",
       "    </tr>\n",
       "    <tr>\n",
       "      <th>2</th>\n",
       "      <td>2</td>\n",
       "      <td>3.0</td>\n",
       "      <td>Model 2</td>\n",
       "      <td>NaN</td>\n",
       "      <td>NaN</td>\n",
       "      <td>NaN</td>\n",
       "      <td>NaN</td>\n",
       "      <td>NaN</td>\n",
       "      <td>NaN</td>\n",
       "      <td>NaN</td>\n",
       "    </tr>\n",
       "    <tr>\n",
       "      <th>3</th>\n",
       "      <td>3</td>\n",
       "      <td>4.0</td>\n",
       "      <td>Model 3</td>\n",
       "      <td>NaN</td>\n",
       "      <td>NaN</td>\n",
       "      <td>NaN</td>\n",
       "      <td>NaN</td>\n",
       "      <td>NaN</td>\n",
       "      <td>NaN</td>\n",
       "      <td>NaN</td>\n",
       "    </tr>\n",
       "    <tr>\n",
       "      <th>4</th>\n",
       "      <td>4</td>\n",
       "      <td>5.0</td>\n",
       "      <td>Model 4</td>\n",
       "      <td>NaN</td>\n",
       "      <td>NaN</td>\n",
       "      <td>NaN</td>\n",
       "      <td>NaN</td>\n",
       "      <td>NaN</td>\n",
       "      <td>NaN</td>\n",
       "      <td>NaN</td>\n",
       "    </tr>\n",
       "  </tbody>\n",
       "</table>\n",
       "</div>"
      ],
      "text/plain": [
       "   id   ID        Model  Original Catalog Link Name of Collection  \\\n",
       "0   0  1.0  Model pre-1                    NaN                NaN   \n",
       "1   1  2.0      Model 1                    NaN                NaN   \n",
       "2   2  3.0      Model 2                    NaN                NaN   \n",
       "3   3  4.0      Model 3                    NaN                NaN   \n",
       "4   4  5.0      Model 4                    NaN                NaN   \n",
       "\n",
       "  File Name/Link to File  dc_record Identifiers? sdo_record cidoccrm_record  \n",
       "0                     NaN       NaN          NaN        NaN             NaN  \n",
       "1                     NaN       NaN          NaN        NaN             NaN  \n",
       "2                     NaN       NaN          NaN        NaN             NaN  \n",
       "3                     NaN       NaN          NaN        NaN             NaN  \n",
       "4                     NaN       NaN          NaN        NaN             NaN  "
      ]
     },
     "execution_count": 56,
     "metadata": {},
     "output_type": "execute_result"
    }
   ],
   "source": [
    "# Note: if your data header is different, replace the strings of column names before\n",
    "# each colon with the column names of your data (i.e., \"ID\" might become \"identifier\").\n",
    "# The strings after the colon are the new column names that the code below will expect.\n",
    "\n",
    "df.rename(columns={\n",
    "    # \"ID\":\"id\",                            # Unique identifier for each row\n",
    "    \"Filename\":\"filename\", \n",
    "    \"Metadata record\": \"dc_record\",       # Dublin Core metadata record\n",
    "    #\"Transcription or caption (or link to separate doc, if too long)\":\"transcription_or_caption\",\n",
    "    \"Schema.org Record\":\"sdo_record\",     # Schema.org metadata record\n",
    "    \"CIDOC-CRM Record\":\"cidoccrm_record\"  # CIDOC-CRM metadata record\n",
    "    }, inplace=True)\n",
    "df.head()"
   ]
  },
  {
   "cell_type": "markdown",
   "id": "d61e72f4",
   "metadata": {},
   "source": [
    "Create a directory to store the cleaner version of the data:"
   ]
  },
  {
   "cell_type": "code",
   "execution_count": 57,
   "id": "11923a62",
   "metadata": {},
   "outputs": [],
   "source": [
    "data_dir = data_dir + \"cleaned/\"\n",
    "Path(data_dir).mkdir(parents=True, exist_ok=True)\n",
    "df.to_csv(data_dir + f)"
   ]
  },
  {
   "cell_type": "code",
   "execution_count": 58,
   "id": "f2beb7f2",
   "metadata": {},
   "outputs": [
    {
     "name": "stdout",
     "output_type": "stream",
     "text": [
      "Total IDs (rows): 39\n",
      "Sample ID: 2\n"
     ]
    }
   ],
   "source": [
    "record_ids = list(df[\"id\"])\n",
    "print(\"Total IDs (rows):\", len(record_ids))\n",
    "print(\"Sample ID:\", record_ids[2])"
   ]
  },
  {
   "cell_type": "markdown",
   "id": "3db9adf1",
   "metadata": {},
   "source": [
    "### Dublin Core\n",
    "Write the [Dublin Core](https://www.dublincore.org) (DC) records as XML files."
   ]
  },
  {
   "cell_type": "code",
   "execution_count": 59,
   "id": "88c96bd3",
   "metadata": {},
   "outputs": [],
   "source": [
    "# Remove rows with an empty value in the dc_record column\n",
    "df_dc = df[df[\"dc_record\"].notna()]\n",
    "dc_records_ids = list(df_dc[\"id\"])"
   ]
  },
  {
   "cell_type": "code",
   "execution_count": 60,
   "id": "21b74421",
   "metadata": {},
   "outputs": [
    {
     "name": "stdout",
     "output_type": "stream",
     "text": [
      "<metadata xmlns:dc=\"http://purl.org/dc/elements/1.1/\">\n",
      "  <dc:title>Derrick A. Bell, Jr. Papers</dc:title>\n",
      "  <dc:creator>Bell, Derrick A., 1930-2011</dc:creator>\n",
      "  <dc:contributor>New York University Archives</dc:contributor>\n",
      "  <dc:date>1922-2011</dc:date>\n",
      "  <dc:description>\n",
      "    The papers document the personal and professional life of Derrick Bell, a pioneering civil rights attorney, legal scholar, and professor. The collection includes correspondence, legal documents, writings, teaching materials, and photographs, with significant content related to civil rights, critical race theory, and higher education.\n",
      "  </dc:description>\n",
      "  <dc:language>en</dc:language>\n",
      "  <dc:identifier>MC.138</dc:identifier>\n",
      "  <dc:publisher>New York University Archives</dc:publisher>\n",
      "  <dc:rights>\n",
      "    FERPA restrictions may apply. Contact NYU Archives for specific access and use conditions.\n",
      "  </dc:rights>\n",
      "  <dc:format>189 boxes of textual and born-digital materials</dc:format>\n",
      "  <dc:type>Archival collection</dc:type>\n",
      "  <dc:subject>African Americans -- Civil rights</dc:subject>\n",
      "  <dc:subject>Race discrimination -- United States</dc:subject>\n",
      "  <dc:subject>Law -- Study and teaching -- United States</dc:subject>\n",
      "  <dc:coverage>United States, 1922–2011</dc:coverage>\n",
      "  <dc:relation>https://findingaids.library.nyu.edu/archives/mc_138/</dc:relation>\n",
      "</metadata>\n",
      "\n"
     ]
    }
   ],
   "source": [
    "dc_records = list(df_dc[\"dc_record\"])\n",
    "print(dc_records[2])"
   ]
  },
  {
   "cell_type": "code",
   "execution_count": 61,
   "id": "dc1bd211",
   "metadata": {},
   "outputs": [],
   "source": [
    "dc_path = data_dir+\"dublin_core/\"\n",
    "Path(dc_path).mkdir(parents=True, exist_ok=True)"
   ]
  },
  {
   "cell_type": "code",
   "execution_count": 62,
   "id": "25044639",
   "metadata": {},
   "outputs": [
    {
     "name": "stdout",
     "output_type": "stream",
     "text": [
      "Wrote dc_record_005.txt!\n",
      "Wrote dc_record_006.txt!\n",
      "Wrote dc_record_007.txt!\n",
      "Wrote dc_record_012.txt!\n",
      "Wrote dc_record_015.txt!\n",
      "Wrote dc_record_016.txt!\n",
      "Wrote dc_record_017.txt!\n",
      "Wrote dc_record_018.txt!\n",
      "Wrote dc_record_019.txt!\n",
      "Wrote dc_record_020.txt!\n",
      "Wrote dc_record_021.txt!\n",
      "Wrote dc_record_022.txt!\n",
      "Wrote dc_record_023.txt!\n",
      "Wrote dc_record_024.txt!\n"
     ]
    }
   ],
   "source": [
    "# utils.write_xml(dc_records_ids, dc_records, dc_path, file_prefix=\"dc_record_\", \".xml\")\n",
    "utils.write_xml(dc_records_ids, dc_records, dc_path, \"dc_record_\", \".txt\")"
   ]
  },
  {
   "cell_type": "markdown",
   "id": "9ebcc85b",
   "metadata": {},
   "source": [
    "**Note:** There is inconsistency in the DC record formatting!  For example:\n",
    "\n",
    "```\n",
    "<?xml version='1.0' encoding='utf-8'?>\n",
    "<dublin_core><dc element=\"title\">Turnin' Timez: Original Student Poems</dc>\n",
    "    ...\n",
    "</dublin_core>\n",
    "```\n",
    "---\n",
    "```\n",
    "<?xml version=\"1.0\"?>\n",
    "<metadata xmlns:dc=\"http://purl.org/dc/elements/1.1/\">\n",
    "<dc:title>National 4-H Center Major Pledges, Contributions, and Grants</dc:title>\n",
    "    ...\n",
    "</metadata>\n",
    "```\n",
    "---\n",
    "```\n",
    "<?xml version=\"1.0\" encoding=\"UTF-8\"?>\n",
    "<metadata xmlns:dcterms=\"http://purl.org/dc/terms/\" xmlns:dc=\"http://purl.org/dc/elements/1.1/\">\n",
    "<dc:title>4-H National Youth Science Day</dc:title>\n",
    "    ...\n",
    "</metadata>\n",
    "```\n",
    "---\n",
    "```\n",
    "<dc:title>Climbing Up: Fun Activities for You and Your Cat</dc:title>\n",
    "   ...\n",
    "<dc:rights>Unknown</dc:rights>\n",
    "```\n",
    "\n",
    "Also note that [DCMI documentation](https://www.dublincore.org/specifications/dublin-core/dcmi-terms/) encourages the use of http://purl.org/dc/terms/ over http://purl.org/dc/elements/1.1/."
   ]
  },
  {
   "cell_type": "markdown",
   "id": "257e59aa",
   "metadata": {},
   "source": [
    "### Schema.org\n",
    "Write the [Schema.org](https://schema.org) records as JSON-LD files."
   ]
  },
  {
   "cell_type": "code",
   "execution_count": 63,
   "id": "06114758",
   "metadata": {},
   "outputs": [],
   "source": [
    "# Remove rows with an empty value in the sdo_record column\n",
    "df_sdo = df[df[\"sdo_record\"].notna()]\n",
    "sdo_records_ids = list(df_sdo[\"id\"])"
   ]
  },
  {
   "cell_type": "code",
   "execution_count": 64,
   "id": "c816f981",
   "metadata": {},
   "outputs": [],
   "source": [
    "sdo_path = data_dir+\"schema_org/\"\n",
    "Path(sdo_path).mkdir(parents=True, exist_ok=True)"
   ]
  },
  {
   "cell_type": "code",
   "execution_count": 65,
   "id": "ec92a50f",
   "metadata": {},
   "outputs": [
    {
     "name": "stdout",
     "output_type": "stream",
     "text": [
      "{\n",
      "  \"@context\": \"https://schema.org\",\n",
      "  \"@type\": \"ArchiveComponent\",\n",
      "  \"name\": \"Derrick A. Bell, Jr. Papers\",\n",
      "  \"identifier\": \"MC.138\",\n",
      "  \"creator\": {\n",
      "    \"@type\": \"Person\",\n",
      "    \"name\": \"Derrick A. Bell\",\n",
      "    \"birthDate\": \"1930\",\n",
      "    \"deathDate\": \"2011\",\n",
      "    \"sameAs\": \"https://www.wikidata.org/wiki/Q5267493\"\n",
      "  },\n",
      "  \"description\": \"The collection documents the legal, academic, and civil rights work of Derrick A. Bell. It includes correspondence, writings, legal cases, teaching materials, and photographs.\",\n",
      "  \"temporalCoverage\": \"1922/2011\",\n",
      "  \"inLanguage\": \"en\",\n",
      "  \"materialExtent\": \"189 boxes\",\n",
      "  \"holdingArchive\": {\n",
      "    \"@type\": \"ArchiveOrganization\",\n",
      "    \"name\": \"New York University Archives\",\n",
      "    \"url\": \"https://findingaids.library.nyu.edu/archives/mc_138/\"\n",
      "  },\n",
      "  \"accessMode\": \"Partially restricted under FERPA\",\n",
      "  \"about\": [\n",
      "    { \"@type\": \"Thing\", \"name\": \"Critical race theory\" },\n",
      "    { \"@type\": \"Thing\", \"name\": \"Civil rights\" },\n",
      "    { \"@type\": \"Place\", \"name\": \"United States\" }\n",
      "  ]\n",
      "}\n",
      "\n"
     ]
    }
   ],
   "source": [
    "sdo_records = list(df_sdo[\"sdo_record\"])\n",
    "print(sdo_records[2])"
   ]
  },
  {
   "cell_type": "code",
   "execution_count": 66,
   "id": "f3913122",
   "metadata": {},
   "outputs": [
    {
     "name": "stdout",
     "output_type": "stream",
     "text": [
      "Wrote sdo_record_005.txt!\n",
      "Wrote sdo_record_006.txt!\n",
      "Wrote sdo_record_007.txt!\n",
      "Wrote sdo_record_012.txt!\n",
      "Wrote sdo_record_015.txt!\n",
      "Wrote sdo_record_016.txt!\n",
      "Wrote sdo_record_017.txt!\n",
      "Wrote sdo_record_018.txt!\n",
      "Wrote sdo_record_019.txt!\n",
      "Wrote sdo_record_020.txt!\n",
      "Wrote sdo_record_021.txt!\n",
      "Wrote sdo_record_022.txt!\n",
      "Wrote sdo_record_023.txt!\n",
      "Wrote sdo_record_024.txt!\n"
     ]
    }
   ],
   "source": [
    "# utils.write_json(sdo_records_ids, sdo_records, sdo_path, \"sdo_record_\", \".json\")\n",
    "utils.write_json(sdo_records_ids, sdo_records, sdo_path, \"sdo_record_\", \".txt\")"
   ]
  },
  {
   "cell_type": "markdown",
   "id": "a6b6f27d",
   "metadata": {},
   "source": [
    "### CIDOC-CRM\n",
    "Write the [CIDOC-CRM](https://cidoc-crm.org) records as JSON-LD files."
   ]
  },
  {
   "cell_type": "code",
   "execution_count": 67,
   "id": "d10895db",
   "metadata": {},
   "outputs": [],
   "source": [
    "# Remove rows with an empty value in the cidoccrm_record column\n",
    "df_cidoc = df[df[\"cidoccrm_record\"].notna()]\n",
    "cidoc_records_ids = list(df_cidoc[\"id\"])"
   ]
  },
  {
   "cell_type": "code",
   "execution_count": 68,
   "id": "8a02154e",
   "metadata": {},
   "outputs": [],
   "source": [
    "cidoc_path = data_dir+\"cidoc_crm/\"\n",
    "Path(cidoc_path).mkdir(parents=True, exist_ok=True)"
   ]
  },
  {
   "cell_type": "code",
   "execution_count": 69,
   "id": "8847cb4d",
   "metadata": {},
   "outputs": [
    {
     "name": "stdout",
     "output_type": "stream",
     "text": [
      "{\n",
      "  \"@context\": {\n",
      "    \"E78\": \"http://www.cidoc-crm.org/cidoc-crm/E78_Collection\",\n",
      "    \"P102_has_title\": \"http://www.cidoc-crm.org/cidoc-crm/P102_has_title\",\n",
      "    \"P3_has_note\": \"http://www.cidoc-crm.org/cidoc-crm/P3_has_note\",\n",
      "    \"P4_has_time-span\": \"http://www.cidoc-crm.org/cidoc-crm/P4_has_time-span\",\n",
      "    \"P50_has_current_keeper\": \"http://www.cidoc-crm.org/cidoc-crm/P50_has_current_keeper\",\n",
      "    \"E39\": \"http://www.cidoc-crm.org/cidoc-crm/E39_Actor\"\n",
      "  },\n",
      "  \"@type\": \"E78\",\n",
      "  \"P102_has_title\": \"Derrick A. Bell, Jr. Papers\",\n",
      "  \"P3_has_note\": \"Archival collection documenting Derrick Bell’s civil rights work, legal scholarship, and academic career from 1922–2011.\",\n",
      "  \"P4_has_time-span\": \"1922–2011\",\n",
      "  \"P50_has_current_keeper\": {\n",
      "    \"@type\": \"E39\",\n",
      "    \"P102_has_title\": \"New York University Archives\"\n",
      "  },\n",
      "  \"P14_carried_out_by\": {\n",
      "    \"@type\": \"E39\",\n",
      "    \"P102_has_title\": \"Derrick A. Bell\"\n",
      "  }\n",
      "}\n",
      "\n"
     ]
    }
   ],
   "source": [
    "cidoc_records = list(df_cidoc[\"cidoccrm_record\"])\n",
    "print(cidoc_records[2])"
   ]
  },
  {
   "cell_type": "code",
   "execution_count": 70,
   "id": "997fe7f6",
   "metadata": {},
   "outputs": [
    {
     "name": "stdout",
     "output_type": "stream",
     "text": [
      "Wrote cidoccrm_record_005.txt!\n",
      "Wrote cidoccrm_record_006.txt!\n",
      "Wrote cidoccrm_record_007.txt!\n",
      "Wrote cidoccrm_record_012.txt!\n",
      "Wrote cidoccrm_record_015.txt!\n",
      "Wrote cidoccrm_record_016.txt!\n",
      "Wrote cidoccrm_record_017.txt!\n",
      "Wrote cidoccrm_record_018.txt!\n",
      "Wrote cidoccrm_record_019.txt!\n",
      "Wrote cidoccrm_record_020.txt!\n",
      "Wrote cidoccrm_record_021.txt!\n",
      "Wrote cidoccrm_record_022.txt!\n",
      "Wrote cidoccrm_record_023.txt!\n",
      "Wrote cidoccrm_record_024.txt!\n"
     ]
    }
   ],
   "source": [
    "# utils.write_json(cidoc_records_ids, cidoc_records, cidoc_path, \"cidoccrm_record_\", \".json\")\n",
    "utils.write_json(cidoc_records_ids, cidoc_records, cidoc_path, \"cidoccrm_record_\", \".txt\")"
   ]
  },
  {
   "cell_type": "code",
   "execution_count": null,
   "id": "b1060202",
   "metadata": {},
   "outputs": [],
   "source": []
  }
 ],
 "metadata": {
  "kernelspec": {
   "display_name": "ldeval",
   "language": "python",
   "name": "python3"
  },
  "language_info": {
   "codemirror_mode": {
    "name": "ipython",
    "version": 3
   },
   "file_extension": ".py",
   "mimetype": "text/x-python",
   "name": "python",
   "nbconvert_exporter": "python",
   "pygments_lexer": "ipython3",
   "version": "3.13.2"
  }
 },
 "nbformat": 4,
 "nbformat_minor": 5
}
