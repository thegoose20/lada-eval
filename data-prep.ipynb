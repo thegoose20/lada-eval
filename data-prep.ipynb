{
 "cells": [
  {
   "cell_type": "markdown",
   "id": "66c8d9a5",
   "metadata": {},
   "source": [
    "# Data Preparation \n",
    "\n",
    "### Linking Anthropology's Data and Archives (LADA)\n",
    "\n",
    "### AI-Generated Linked Data Evaluation (part I)"
   ]
  },
  {
   "cell_type": "code",
   "execution_count": null,
   "id": "135b41ea",
   "metadata": {},
   "outputs": [],
   "source": [
    "import config\n",
    "import utils\n",
    "import pandas as pd\n",
    "import numpy as np\n",
    "from pathlib import Path\n",
    "import os\n",
    "import re"
   ]
  },
  {
   "cell_type": "markdown",
   "id": "1ae15684",
   "metadata": {},
   "source": [
    "Read in CSV data as a [DataFrame](https://pandas.pydata.org/docs/reference/api/pandas.DataFrame.html) (a type of data structure in the Python library pandas used for tabular data), where `f` is the name of the data file and `data_dir` is the path to the folder where the data file is located:"
   ]
  },
  {
   "cell_type": "code",
   "execution_count": null,
   "id": "7e446e04",
   "metadata": {},
   "outputs": [],
   "source": [
    "# Uncomment (delete the pound sign in front of) one of the following \n",
    "# code lines to create XML and JSON data files in the folder (a.k.a.\n",
    "# directory) stored in the `data_dir` variable from the CSV file stored\n",
    "# in the `f` variable.\n",
    "# ------------------------------------\n",
    "data_dir, f = config.task1_data, \"4-H Data Experiment Assignments and Outcomes - Outcomes - Task 1.csv\"\n",
    "# data_dir, f = config.playgrd1_data, \"4-H Data Experiment Assignments and Outcomes - Playground Outcomes - Task 1.csv\"\n",
    "# data_dir, f = config.playgrd3_data, \"4-H Data Experiment Assignments and Outcomes - Playground Outcomes - Task 3.csv\"\n",
    "\n",
    "# Alternatively, to create XML and JSON files from a different CSV file,\n",
    "# store the path to the folder that file is located within in the `data_dir`\n",
    "# variable and the name of the CSV file in the `f` variable by uncommenting\n",
    "# (deleting the pound sign in front of) the line of code below and replacing \n",
    "# the text between the quotes with the folder path and file name.\n",
    "# ------------------------------------\n",
    "# data_dir, f = \"path/to/your/data/\", \"your_data_file_name.csv\""
   ]
  },
  {
   "cell_type": "code",
   "execution_count": null,
   "id": "01d10216",
   "metadata": {},
   "outputs": [],
   "source": [
    "df = pd.read_csv(data_dir + f)\n",
    "print(\"Total rows:\", df.shape[0])\n",
    "print(\"Total columns:\", df.shape[1])"
   ]
  },
  {
   "cell_type": "code",
   "execution_count": null,
   "id": "960415a7",
   "metadata": {},
   "outputs": [],
   "source": [
    "df.head(10)"
   ]
  },
  {
   "cell_type": "markdown",
   "id": "d356b492",
   "metadata": {},
   "source": [
    "The table displayed above is a partial view of the DataFrame created from the CSV file.  We're looking at the *first 10 rows* as specified by the `10` in `df.head(10)`.  You can change `head` to `tail` to view the last 10 rows of the DataFrame (e.g., `df.tail(10)`) and you can change the number between the parentheses to control how many rows to view (e.g., `df.head(3)`).  If no number is included between the parentheses, by default, 5 rows will display (e.g., `df.head()`)."
   ]
  },
  {
   "cell_type": "markdown",
   "id": "d9e00fe4",
   "metadata": {},
   "source": [
    "Next we'll clean up the table.  First, let's remove any empty columns from the DataFrame.  If there aren't any empty columns, the DataFrame will stay the same."
   ]
  },
  {
   "cell_type": "code",
   "execution_count": null,
   "id": "ffd44d69",
   "metadata": {},
   "outputs": [],
   "source": [
    "df = df.dropna(axis=1, how='all')\n",
    "print(\"Total rows:\", df.shape[0], \"| Total columns:\", df.shape[1])"
   ]
  },
  {
   "cell_type": "code",
   "execution_count": null,
   "id": "e3eae801",
   "metadata": {},
   "outputs": [],
   "source": [
    "df.head(2)"
   ]
  },
  {
   "cell_type": "markdown",
   "id": "c66a66a3",
   "metadata": {},
   "source": [
    "Next, remove any rows without a metadata record from the DataFrame.  If all the rows have a metadata record, the DataFrame will stay the same."
   ]
  },
  {
   "cell_type": "code",
   "execution_count": null,
   "id": "3b0b4866",
   "metadata": {},
   "outputs": [],
   "source": [
    "df.dropna(subset=[\"Metadata record\"], inplace=True)\n",
    "print(\"Total rows:\", df.shape[0], \"| Total columns:\", df.shape[1])"
   ]
  },
  {
   "cell_type": "markdown",
   "id": "818e0693",
   "metadata": {},
   "source": [
    "If there's no column with unique identifiers per row, make one:"
   ]
  },
  {
   "cell_type": "code",
   "execution_count": null,
   "id": "49246783",
   "metadata": {},
   "outputs": [],
   "source": [
    "col_list = list(df.columns)\n",
    "identifier_col = \"\"\n",
    "for col in col_list:\n",
    "    if (col.lower() == \"id\") or (col.lower() == \"identifier\") or (\"_id\" in col.lower()):\n",
    "        # Check that the existing IDs are, in fact, unique to each row\n",
    "        existing_ids = list(df[col])\n",
    "        if len(existing_ids) == len(set(existing_ids)):\n",
    "            identifier_col = col\n",
    "if len(identifier_col) == 0:\n",
    "    # Create a unique identifier per row\n",
    "    new_ids = list(range(0, df.shape[0]))\n",
    "    df.insert(0, \"id\", new_ids)"
   ]
  },
  {
   "cell_type": "code",
   "execution_count": null,
   "id": "e4427feb",
   "metadata": {},
   "outputs": [],
   "source": [
    "print(\"Total rows:\", df.shape[0], \"| Total columns:\", df.shape[1])"
   ]
  },
  {
   "cell_type": "markdown",
   "id": "e593e456",
   "metadata": {},
   "source": [
    "Rename the columns for clarity, consistency, and conciseness:"
   ]
  },
  {
   "cell_type": "code",
   "execution_count": null,
   "id": "5829bbf2",
   "metadata": {},
   "outputs": [],
   "source": [
    "# Note: if your data header is different, replace the strings of column names before\n",
    "# each colon with the column names of your data (i.e., \"ID\" might become \"identifier\").\n",
    "# The strings after the colon are the new column names that the code below will expect.\n",
    "if len(identifier_col) > 0:\n",
    "        df.rename(columns={\n",
    "        identifier_col:\"id\",                  # Unique identifier for each row\n",
    "        \"Filename\":\"filename\", \n",
    "        \"Metadata record\": \"dc_record\",       # Dublin Core metadata record\n",
    "        #\"Transcription or caption (or link to separate doc, if too long)\":\"transcription_or_caption\",\n",
    "        \"Schema.org Record\":\"sdo_record\",     # Schema.org metadata record\n",
    "        \"CIDOC-CRM Record\":\"cidoccrm_record\"  # CIDOC-CRM metadata record\n",
    "        }, inplace=True)\n",
    "else:\n",
    "    df.rename(columns={\n",
    "        \"Filename\":\"filename\", \n",
    "        \"Metadata record\": \"dc_record\",       # Dublin Core metadata record\n",
    "        #\"Transcription or caption (or link to separate doc, if too long)\":\"transcription_or_caption\",\n",
    "        \"Schema.org Record\":\"sdo_record\",     # Schema.org metadata record\n",
    "        \"CIDOC-CRM Record\":\"cidoccrm_record\"  # CIDOC-CRM metadata record\n",
    "        }, inplace=True)\n",
    "    \n",
    "df.head()\n"
   ]
  },
  {
   "cell_type": "markdown",
   "id": "d61e72f4",
   "metadata": {},
   "source": [
    "Create a folder to store the DataFrame (the cleaner version of the data) and save a new CSV file with the data there."
   ]
  },
  {
   "cell_type": "code",
   "execution_count": null,
   "id": "11923a62",
   "metadata": {},
   "outputs": [],
   "source": [
    "data_dir = data_dir + \"cleaned/\"\n",
    "Path(data_dir).mkdir(parents=True, exist_ok=True)\n",
    "df.to_csv(data_dir + f)\n",
    "print(f\"Wrote a new file with the cleaner version of the data that can be found at:\\n{data_dir+f}\")"
   ]
  },
  {
   "cell_type": "markdown",
   "id": "b3455c10",
   "metadata": {},
   "source": [
    "Next let's create XML and JSON files from the metadata records in our DataFrame."
   ]
  },
  {
   "cell_type": "markdown",
   "id": "3db9adf1",
   "metadata": {},
   "source": [
    "### Dublin Core\n",
    "Write the [Dublin Core](https://www.dublincore.org) (DC) records as XML files."
   ]
  },
  {
   "cell_type": "code",
   "execution_count": null,
   "id": "88c96bd3",
   "metadata": {},
   "outputs": [],
   "source": [
    "# Remove rows with an empty value in the dc_record column\n",
    "df_dc = df[df[\"dc_record\"].notna()]\n",
    "dc_records_ids = list(df_dc[\"id\"])"
   ]
  },
  {
   "cell_type": "markdown",
   "id": "05cf9211",
   "metadata": {},
   "source": [
    "Let's look at an example of one of the XML files!"
   ]
  },
  {
   "cell_type": "code",
   "execution_count": null,
   "id": "21b74421",
   "metadata": {},
   "outputs": [],
   "source": [
    "dc_records = list(df_dc[\"dc_record\"])\n",
    "print(dc_records[2])"
   ]
  },
  {
   "cell_type": "markdown",
   "id": "a5451d32",
   "metadata": {},
   "source": [
    "Create a new folder to save the XML files in."
   ]
  },
  {
   "cell_type": "code",
   "execution_count": null,
   "id": "dc1bd211",
   "metadata": {},
   "outputs": [],
   "source": [
    "dc_path = data_dir+\"dublin_core/\"\n",
    "Path(dc_path).mkdir(parents=True, exist_ok=True)\n",
    "print(\"The files will be saved under:\", dc_path)"
   ]
  },
  {
   "cell_type": "code",
   "execution_count": null,
   "id": "25044639",
   "metadata": {},
   "outputs": [],
   "source": [
    "utils.write_xml(dc_records_ids, dc_records, dc_path, \"dc_record_\", \".xml\")\n",
    "utils.write_xml(dc_records_ids, dc_records, dc_path, \"dc_record_\", \".txt\")"
   ]
  },
  {
   "cell_type": "markdown",
   "id": "9ebcc85b",
   "metadata": {},
   "source": [
    "**Note:** If you open some of the files, you'll see inconsistency in the Dublin Core (DC) records' formatting!  For example:\n",
    "\n",
    "```\n",
    "<?xml version='1.0' encoding='utf-8'?>\n",
    "<dublin_core><dc element=\"title\">Turnin' Timez: Original Student Poems</dc>\n",
    "    ...\n",
    "</dublin_core>\n",
    "```\n",
    "---\n",
    "```\n",
    "<?xml version=\"1.0\"?>\n",
    "<metadata xmlns:dc=\"http://purl.org/dc/elements/1.1/\">\n",
    "<dc:title>National 4-H Center Major Pledges, Contributions, and Grants</dc:title>\n",
    "    ...\n",
    "</metadata>\n",
    "```\n",
    "---\n",
    "```\n",
    "<?xml version=\"1.0\" encoding=\"UTF-8\"?>\n",
    "<metadata xmlns:dcterms=\"http://purl.org/dc/terms/\" xmlns:dc=\"http://purl.org/dc/elements/1.1/\">\n",
    "<dc:title>4-H National Youth Science Day</dc:title>\n",
    "    ...\n",
    "</metadata>\n",
    "```\n",
    "---\n",
    "```\n",
    "<dc:title>Climbing Up: Fun Activities for You and Your Cat</dc:title>\n",
    "   ...\n",
    "<dc:rights>Unknown</dc:rights>\n",
    "```\n",
    "\n",
    "Also note that [DCMI documentation](https://www.dublincore.org/specifications/dublin-core/dcmi-terms/) encourages the use of http://purl.org/dc/terms/ over http://purl.org/dc/elements/1.1/.\n",
    "\n",
    "We'll address this in later Jupyter Notebooks that evaluate and correct these metadata records."
   ]
  },
  {
   "cell_type": "markdown",
   "id": "257e59aa",
   "metadata": {},
   "source": [
    "### Schema.org\n",
    "Write the [Schema.org](https://schema.org) records as JSON-LD files."
   ]
  },
  {
   "cell_type": "code",
   "execution_count": null,
   "id": "06114758",
   "metadata": {},
   "outputs": [],
   "source": [
    "# Remove rows with an empty value in the sdo_record column\n",
    "df_sdo = df[df[\"sdo_record\"].notna()]\n",
    "sdo_records_ids = list(df_sdo[\"id\"])"
   ]
  },
  {
   "cell_type": "markdown",
   "id": "7edb0af3",
   "metadata": {},
   "source": [
    "Let's look at an example of a Schema.org metadata record in JSON-LD!"
   ]
  },
  {
   "cell_type": "code",
   "execution_count": null,
   "id": "ec92a50f",
   "metadata": {},
   "outputs": [],
   "source": [
    "sdo_records = list(df_sdo[\"sdo_record\"])\n",
    "print(sdo_records[2])"
   ]
  },
  {
   "cell_type": "markdown",
   "id": "8a39708d",
   "metadata": {},
   "source": [
    "Create a new folder to save the Schema.org JSON-LD files in."
   ]
  },
  {
   "cell_type": "code",
   "execution_count": null,
   "id": "7dc17489",
   "metadata": {},
   "outputs": [],
   "source": [
    "sdo_path = data_dir+\"schema_org/\"\n",
    "Path(sdo_path).mkdir(parents=True, exist_ok=True)\n",
    "print(\"The files will be saved under:\", sdo_path)"
   ]
  },
  {
   "cell_type": "code",
   "execution_count": null,
   "id": "f3913122",
   "metadata": {},
   "outputs": [],
   "source": [
    "utils.write_json(sdo_records_ids, sdo_records, sdo_path, \"sdo_record_\", \".json\")\n",
    "utils.write_json(sdo_records_ids, sdo_records, sdo_path, \"sdo_record_\", \".txt\")"
   ]
  },
  {
   "cell_type": "markdown",
   "id": "a6b6f27d",
   "metadata": {},
   "source": [
    "### CIDOC-CRM\n",
    "Write the [CIDOC-CRM](https://cidoc-crm.org) records as JSON-LD files."
   ]
  },
  {
   "cell_type": "code",
   "execution_count": null,
   "id": "d10895db",
   "metadata": {},
   "outputs": [],
   "source": [
    "# Remove rows with an empty value in the cidoccrm_record column\n",
    "df_cidoc = df[df[\"cidoccrm_record\"].notna()]\n",
    "cidoc_records_ids = list(df_cidoc[\"id\"])"
   ]
  },
  {
   "cell_type": "markdown",
   "id": "9a6a8690",
   "metadata": {},
   "source": [
    "Let's look at an example of a metadata record in CIDOC-CRM JSON-LD!"
   ]
  },
  {
   "cell_type": "code",
   "execution_count": null,
   "id": "8847cb4d",
   "metadata": {},
   "outputs": [],
   "source": [
    "cidoc_records = list(df_cidoc[\"cidoccrm_record\"])\n",
    "print(cidoc_records[2])"
   ]
  },
  {
   "cell_type": "markdown",
   "id": "fa134f5d",
   "metadata": {},
   "source": [
    "Create a new folder to save the CIDOC-CRM JSON-LD files in."
   ]
  },
  {
   "cell_type": "code",
   "execution_count": null,
   "id": "df6c2338",
   "metadata": {},
   "outputs": [],
   "source": [
    "cidoc_path = data_dir+\"cidoc_crm/\"\n",
    "Path(cidoc_path).mkdir(parents=True, exist_ok=True)\n",
    "print(\"The files will be saved under:\", cidoc_path)"
   ]
  },
  {
   "cell_type": "code",
   "execution_count": null,
   "id": "997fe7f6",
   "metadata": {},
   "outputs": [],
   "source": [
    "utils.write_json(cidoc_records_ids, cidoc_records, cidoc_path, \"cidoccrm_record_\", \".json\")\n",
    "utils.write_json(cidoc_records_ids, cidoc_records, cidoc_path, \"cidoccrm_record_\", \".txt\")"
   ]
  },
  {
   "cell_type": "markdown",
   "id": "aac4b9bd",
   "metadata": {},
   "source": [
    "Now we can move on to evaluating the quality of the metadata records we just exported as individual files!  \n",
    "\n",
    "We'll begin by evaluating their syntax with the Jupyter Notebook named `evaluation-syntax.ipynb`."
   ]
  }
 ],
 "metadata": {
  "kernelspec": {
   "display_name": "ldeval",
   "language": "python",
   "name": "python3"
  },
  "language_info": {
   "codemirror_mode": {
    "name": "ipython",
    "version": 3
   },
   "file_extension": ".py",
   "mimetype": "text/x-python",
   "name": "python",
   "nbconvert_exporter": "python",
   "pygments_lexer": "ipython3",
   "version": "3.13.2"
  }
 },
 "nbformat": 4,
 "nbformat_minor": 5
}
