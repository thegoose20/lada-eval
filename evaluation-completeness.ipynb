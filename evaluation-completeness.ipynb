{
 "cells": [
  {
   "cell_type": "markdown",
   "id": "2326db57",
   "metadata": {},
   "source": [
    "# Evaluation: Completeness\n",
    "\n",
    "Part II of the computational evaluation of AI-generated linked data for [Linking Anthropology's Data and Archives (LADA)](https://ischool.umd.edu/projects/building-a-sustainable-future-for-anthropologys-archives-researching-primary-source-data-lifecycles-infrastructures-and-reuse/), focused on completeness (e.g., metadata fields are not empty or 'unknown').\n",
    "\n",
    "---\n",
    "\n",
    "**Table of Contents:**\n",
    "\n",
    "I. [Data Loading](#data-loading)\n",
    "\n",
    "II. [Completeness](#completeness)\n",
    "\n",
    "  * [Presence or absence of fields](#presence-or-absense-of-fields)\n",
    "\n",
    "  * [Content of fields](#content-of-fields)\n",
    "\n",
    "  * [Comparison to transcription](#comparison-to-transcription)\n",
    "\n",
    "---"
   ]
  },
  {
   "cell_type": "markdown",
   "id": "aeea65d6",
   "metadata": {},
   "source": [
    "## Data Loading"
   ]
  },
  {
   "cell_type": "code",
   "execution_count": null,
   "id": "dfd6feb2",
   "metadata": {},
   "outputs": [],
   "source": [
    "import utils\n",
    "import config\n",
    "import pandas as pd\n",
    "import numpy as np\n",
    "import urllib\n",
    "import urllib.request\n",
    "from urllib.parse import urlparse   # urlparse(URL_TO_CHECK)\n",
    "import xml.etree.ElementTree as ET\n",
    "import json\n",
    "from lxml import etree\n",
    "import rdflib\n",
    "from rdflib.namespace import DC, SDO # Dublin Core, Schema.org\n",
    "from pathlib import Path\n",
    "import os\n",
    "import re"
   ]
  },
  {
   "cell_type": "markdown",
   "id": "87bd2e97",
   "metadata": {},
   "source": [
    "Create variables to reference existing directories and files."
   ]
  },
  {
   "cell_type": "code",
   "execution_count": null,
   "id": "7b91bbc6",
   "metadata": {},
   "outputs": [],
   "source": [
    "dublin_path = \"cleaned/dublin_core/\"  # XML data files\n",
    "schema_path = \"cleaned/schema_org/\"   # JSON data files\n",
    "cidoc_path = \"cleaned/cidoc_crm/\"     # JSON data files\n",
    "\n",
    "dublin_t1_dir = config.task1_data+dublin_path\n",
    "schema_t1_dir = config.task1_data+schema_path\n",
    "cidoc_t1_dir = config.task1_data+cidoc_path\n",
    "\n",
    "dublin_p1_dir = config.playgrd1_data+dublin_path\n",
    "schema_p1_dir = config.playgrd1_data+schema_path\n",
    "cidoc_p1_dir = config.playgrd1_data+cidoc_path\n",
    "\n",
    "dublin_p3_dir = config.playgrd3_data+dublin_path\n",
    "schema_p3_dir = config.playgrd3_data+schema_path\n",
    "cidoc_p3_dir = config.playgrd3_data+cidoc_path"
   ]
  },
  {
   "cell_type": "markdown",
   "id": "ae234383",
   "metadata": {},
   "source": [
    "## Presence or Absence of Fields"
   ]
  },
  {
   "cell_type": "code",
   "execution_count": null,
   "id": "adcae9c0",
   "metadata": {},
   "outputs": [],
   "source": [
    "dc_fields = [\"creator\", \"contributor\", \"date\", \"title\", \"publisher\", \n",
    "             \"language\", \"format\", \"subject\", \"description\", \"identifier\", \n",
    "             \"relation\", \"source\", \"type\", \"coverage\", \"rights\"]"
   ]
  },
  {
   "cell_type": "markdown",
   "id": "c5359486",
   "metadata": {},
   "source": [
    "## Content of Fields"
   ]
  },
  {
   "cell_type": "markdown",
   "id": "3cd6a6c9",
   "metadata": {},
   "source": [
    "Check that URLs are well-formed, that they exist, and that they connect to a relevant web resource."
   ]
  },
  {
   "cell_type": "code",
   "execution_count": null,
   "id": "84507b3b",
   "metadata": {},
   "outputs": [],
   "source": []
  },
  {
   "cell_type": "code",
   "execution_count": null,
   "id": "6ea9c5ac",
   "metadata": {},
   "outputs": [],
   "source": []
  },
  {
   "cell_type": "code",
   "execution_count": null,
   "id": "91736437",
   "metadata": {},
   "outputs": [],
   "source": []
  },
  {
   "cell_type": "markdown",
   "id": "1297e677",
   "metadata": {},
   "source": [
    "## Comparison to Transcription"
   ]
  },
  {
   "cell_type": "code",
   "execution_count": null,
   "id": "e536d7ae",
   "metadata": {},
   "outputs": [],
   "source": []
  },
  {
   "cell_type": "code",
   "execution_count": null,
   "id": "21fcf8b9",
   "metadata": {},
   "outputs": [],
   "source": []
  },
  {
   "cell_type": "code",
   "execution_count": null,
   "id": "ded2fd4f",
   "metadata": {},
   "outputs": [],
   "source": []
  },
  {
   "cell_type": "markdown",
   "id": "b7bbef72",
   "metadata": {},
   "source": []
  }
 ],
 "metadata": {
  "kernelspec": {
   "display_name": "ldeval",
   "language": "python",
   "name": "python3"
  },
  "language_info": {
   "codemirror_mode": {
    "name": "ipython",
    "version": 3
   },
   "file_extension": ".py",
   "mimetype": "text/x-python",
   "name": "python",
   "nbconvert_exporter": "python",
   "pygments_lexer": "ipython3",
   "version": "3.13.2"
  }
 },
 "nbformat": 4,
 "nbformat_minor": 5
}
