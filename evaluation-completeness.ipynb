{
 "cells": [
  {
   "cell_type": "markdown",
   "id": "2326db57",
   "metadata": {},
   "source": [
    "# Evaluation: Completeness\n",
    "\n",
    "Part II of the computational evaluation of AI-generated linked data for [Linking Anthropology's Data and Archives (LADA)](https://ischool.umd.edu/projects/building-a-sustainable-future-for-anthropologys-archives-researching-primary-source-data-lifecycles-infrastructures-and-reuse/), focused on completeness (e.g., metadata fields are not empty or 'unknown').\n",
    "\n",
    "---\n",
    "\n",
    "**Table of Contents:**\n",
    "\n",
    "I. [Data Loading](#data-loading)\n",
    "\n",
    "II. [Completeness](#completeness)\n",
    "\n",
    "  * [Presence or absence of fields](#presence-or-absense-of-fields)\n",
    "\n",
    "  * [Content of fields](#content-of-fields)\n",
    "\n",
    "---"
   ]
  },
  {
   "cell_type": "markdown",
   "id": "aeea65d6",
   "metadata": {},
   "source": [
    "## Data Loading"
   ]
  },
  {
   "cell_type": "code",
   "execution_count": null,
   "id": "dfd6feb2",
   "metadata": {},
   "outputs": [],
   "source": [
    "import utils\n",
    "import config\n",
    "import pandas as pd\n",
    "import numpy as np\n",
    "import urllib.request\n",
    "import urllib\n",
    "import xml.etree.ElementTree as ET\n",
    "import json\n",
    "from lxml import etree\n",
    "import rdflib\n",
    "from rdflib.namespace import DC, SDO # Dublin Core, Schema.org\n",
    "from pathlib import Path\n",
    "import os\n",
    "import re\n",
    "\n",
    "# sax - to validate XML well-formed\n",
    "# xml.etree.ElementTree - to validate text between tags\n",
    "# xml.etree.ElementTree + xml.etree.ElementTree.XMLSchema's validate() - to validate XML well-formed\n",
    "# lxml etree.XMLParser - to validate well-formed based on input XML schema\n",
    "# json_checker - to validate Python data types (incl. but not limited to those obtained from JSON)\n",
    "# jsonschema.validate\n",
    "# ShEx - for RDF graphs, ShExJ for JSON - NOTE: couldn't install package\n",
    "# OntoME - for CIDOC-CRM ontology alignment"
   ]
  },
  {
   "cell_type": "markdown",
   "id": "87bd2e97",
   "metadata": {},
   "source": [
    "Create variables to reference existing directories and files."
   ]
  },
  {
   "cell_type": "code",
   "execution_count": null,
   "id": "7b91bbc6",
   "metadata": {},
   "outputs": [],
   "source": [
    "dublin_path = \"cleaned/dublin_core/\"  # XML data files\n",
    "schema_path = \"cleaned/schema_org/\"   # JSON data files\n",
    "cidoc_path = \"cleaned/cidoc_crm/\"     # JSON data files\n",
    "\n",
    "dublin_t1_dir = config.task1_data+dublin_path\n",
    "schema_t1_dir = config.task1_data+schema_path\n",
    "cidoc_t1_dir = config.task1_data+cidoc_path\n",
    "\n",
    "dublin_p1_dir = config.playgrd1_data+dublin_path\n",
    "schema_p1_dir = config.playgrd1_data+schema_path\n",
    "cidoc_p1_dir = config.playgrd1_data+cidoc_path\n",
    "\n",
    "dublin_p3_dir = config.playgrd3_data+dublin_path\n",
    "schema_p3_dir = config.playgrd3_data+schema_path\n",
    "cidoc_p3_dir = config.playgrd3_data+cidoc_path"
   ]
  },
  {
   "cell_type": "markdown",
   "id": "afaf4fe8",
   "metadata": {},
   "source": [
    "Create variables to reference automatically corrected files and their directories."
   ]
  },
  {
   "cell_type": "code",
   "execution_count": null,
   "id": "760d2c61",
   "metadata": {},
   "outputs": [],
   "source": [
    "dublin_path = \"corrected/dublin_core/\"  # XML data files\n",
    "schema_path = \"corrected/schema_org/\"   # JSON data files\n",
    "cidoc_path = \"corrected/cidoc_crm/\"     # JSON data files\n",
    "\n",
    "dublin_t1_corrected_dir = config.task1_data+dublin_path\n",
    "schema_t1_corrected_dir = config.task1_data+schema_path\n",
    "cidoc_t1_corrected_dir = config.task1_data+cidoc_path\n",
    "\n",
    "dublin_p1_corrected_dir = config.playgrd1_data+dublin_path\n",
    "schema_p1_corrected_dir = config.playgrd1_data+schema_path\n",
    "cidoc_p1_corrected_dir = config.playgrd1_data+cidoc_path\n",
    "\n",
    "dublin_p3_corrected_dir = config.playgrd3_data+dublin_path\n",
    "schema_p3_corrected_dir = config.playgrd3_data+schema_path\n",
    "cidoc_p3_corrected_dir = config.playgrd3_data+cidoc_path\n",
    "\n",
    "corrected_dirs = [dublin_t1_corrected_dir, schema_t1_corrected_dir, cidoc_t1_corrected_dir,\n",
    "                  dublin_p1_corrected_dir, schema_p1_corrected_dir, cidoc_p1_corrected_dir,\n",
    "                  dublin_p3_corrected_dir, schema_p3_corrected_dir, cidoc_p3_corrected_dir\n",
    "                  ]\n",
    "for corrected_dir in corrected_dirs:\n",
    "    Path(corrected_dir).mkdir(parents=True, exist_ok=True)"
   ]
  },
  {
   "cell_type": "markdown",
   "id": "ae234383",
   "metadata": {},
   "source": [
    "## Presence or Absence of Fields"
   ]
  },
  {
   "cell_type": "code",
   "execution_count": null,
   "id": "adcae9c0",
   "metadata": {},
   "outputs": [],
   "source": [
    "dc_fields = [\"creator\", \"contributor\", \"date\", \"title\", \"publisher\", \n",
    "             \"language\", \"format\", \"subject\", \"description\", \"identifier\", \n",
    "             \"relation\", \"source\", \"type\", \"coverage\", \"rights\"]"
   ]
  },
  {
   "cell_type": "markdown",
   "id": "c5359486",
   "metadata": {},
   "source": [
    "## Content of Fields"
   ]
  },
  {
   "cell_type": "code",
   "execution_count": null,
   "id": "84507b3b",
   "metadata": {},
   "outputs": [],
   "source": []
  }
 ],
 "metadata": {
  "language_info": {
   "name": "python"
  }
 },
 "nbformat": 4,
 "nbformat_minor": 5
}
