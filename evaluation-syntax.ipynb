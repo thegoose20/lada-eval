{
 "cells": [
  {
   "cell_type": "markdown",
   "id": "76dbc1be",
   "metadata": {},
   "source": [
    "# Evaluation: Syntax\n",
    "\n",
    "Part I of the computational evaluation of AI-generated linked data for [Linking Anthropology's Data and Archives (LADA)](https://ischool.umd.edu/projects/building-a-sustainable-future-for-anthropologys-archives-researching-primary-source-data-lifecycles-infrastructures-and-reuse/), focused on syntax (e.g., do the metadata adhere to the expected serialization formats?).\n",
    "\n",
    "---\n",
    "\n",
    "**Table of Contents:**\n",
    "\n",
    "I. [Data Loading](#data-loading)\n",
    "\n",
    "II. [Syntax](#syntax)\n",
    "\n",
    "  * [XML](#xml)\n",
    "  \n",
    "  * [JSON](#json)\n",
    "\n",
    "---"
   ]
  },
  {
   "cell_type": "markdown",
   "id": "3f6d2e7c",
   "metadata": {},
   "source": [
    "## Data Loading"
   ]
  },
  {
   "cell_type": "code",
   "execution_count": 2,
   "id": "cd74052b",
   "metadata": {},
   "outputs": [],
   "source": [
    "import utils\n",
    "import config\n",
    "import pandas as pd\n",
    "import xml.etree.ElementTree as ET\n",
    "import json\n",
    "from lxml import etree\n",
    "from pathlib import Path\n",
    "import os\n",
    "import re\n",
    "\n",
    "# sax - to validate XML well-formed\n",
    "# xml.etree.ElementTree - to validate text between tags\n",
    "# xml.etree.ElementTree + xml.etree.ElementTree.XMLSchema's validate() - to validate XML well-formed\n",
    "# lxml etree.XMLParser - to validate well-formed based on input XML schema\n",
    "# json_checker - to validate Python data types (incl. but not limited to those obtained from JSON)\n",
    "# jsonschema.validate\n",
    "# ShEx - for RDF graphs, ShExJ for JSON - NOTE: couldn't install package\n",
    "# OntoME - for CIDOC-CRM ontology alignment"
   ]
  },
  {
   "cell_type": "markdown",
   "id": "f28c654d",
   "metadata": {},
   "source": [
    "Create variables to reference existing directories and files."
   ]
  },
  {
   "cell_type": "code",
   "execution_count": 3,
   "id": "b135b261",
   "metadata": {},
   "outputs": [],
   "source": [
    "dublin_path = \"cleaned/dublin_core/\"  # XML data files\n",
    "schema_path = \"cleaned/schema_org/\"   # JSON data files\n",
    "cidoc_path = \"cleaned/cidoc_crm/\"     # JSON data files\n",
    "\n",
    "dublin_t1_dir = config.task1_data+dublin_path\n",
    "schema_t1_dir = config.task1_data+schema_path\n",
    "cidoc_t1_dir = config.task1_data+cidoc_path\n",
    "\n",
    "dublin_p1_dir = config.playgrd1_data+dublin_path\n",
    "schema_p1_dir = config.playgrd1_data+schema_path\n",
    "cidoc_p1_dir = config.playgrd1_data+cidoc_path\n",
    "\n",
    "dublin_p3_dir = config.playgrd3_data+dublin_path\n",
    "schema_p3_dir = config.playgrd3_data+schema_path\n",
    "cidoc_p3_dir = config.playgrd3_data+cidoc_path"
   ]
  },
  {
   "cell_type": "markdown",
   "id": "3842c841",
   "metadata": {},
   "source": [
    "Create a folder to store the error reports in."
   ]
  },
  {
   "cell_type": "code",
   "execution_count": null,
   "id": "5fca2ec6",
   "metadata": {},
   "outputs": [],
   "source": [
    "d = \"syntax\"\n",
    "report_dir = f\"data/error_reports/{d}/\"\n",
    "Path(report_dir).mkdir(parents=True, exist_ok=True)"
   ]
  },
  {
   "cell_type": "markdown",
   "id": "185155a0",
   "metadata": {},
   "source": [
    "## Syntax"
   ]
  },
  {
   "cell_type": "markdown",
   "id": "f280c775",
   "metadata": {},
   "source": [
    "### XML\n",
    "\n",
    "First, read and evaluate only the files with a `.xml` extension."
   ]
  },
  {
   "cell_type": "code",
   "execution_count": 5,
   "id": "b800f812",
   "metadata": {},
   "outputs": [
    {
     "name": "stdout",
     "output_type": "stream",
     "text": [
      "Total Dublin Core XML files: 107\n"
     ]
    }
   ],
   "source": [
    "extension = \".xml\"\n",
    "dublin_file_paths = []\n",
    "dublin_files_t1 = [f for f in os.listdir(dublin_t1_dir) if f.endswith(extension)]\n",
    "dublin_file_paths += [dublin_t1_dir+f for f in dublin_files_t1]\n",
    "dublin_files_p1 = [f for f in os.listdir(dublin_p1_dir) if f.endswith(extension)]\n",
    "dublin_file_paths += [dublin_p1_dir+f for f in dublin_files_p1]\n",
    "dublin_files_p3 = [f for f in os.listdir(dublin_p3_dir) if f.endswith(extension)]\n",
    "dublin_file_paths += [dublin_p3_dir+f for f in dublin_files_p3]\n",
    "dublin_file_paths.sort()\n",
    "total_dcxml_files = len(dublin_file_paths)\n",
    "print(f\"Total Dublin Core {extension[1:].upper()} files:\", total_dcxml_files)"
   ]
  },
  {
   "cell_type": "code",
   "execution_count": 6,
   "id": "a44fda9b",
   "metadata": {},
   "outputs": [
    {
     "name": "stdout",
     "output_type": "stream",
     "text": [
      "Files with errors: 43 of 107 (40.19%)\n"
     ]
    }
   ],
   "source": [
    "syntax_errors, errored_files = [], []\n",
    "for file_path in dublin_file_paths:\n",
    "    try:\n",
    "        tree = etree.parse(file_path)\n",
    "    except Exception as e:\n",
    "        f_error = {\"file\": file_path, \"exception_type\": type(e), \"exception_message\": str(e)}\n",
    "        syntax_errors += [f_error]\n",
    "        errored_files += [file_path]\n",
    "print(\"Files with errors:\", \n",
    "      len(errored_files), \"of\", total_dcxml_files,\n",
    "      f\"({(len(errored_files)/total_dcxml_files)*100:.2f}%)\")"
   ]
  },
  {
   "cell_type": "code",
   "execution_count": 7,
   "id": "9a601f4a",
   "metadata": {},
   "outputs": [
    {
     "name": "stderr",
     "output_type": "stream",
     "text": [
      "<>:2: SyntaxWarning: invalid escape sequence '\\D'\n",
      "<>:2: SyntaxWarning: invalid escape sequence '\\D'\n",
      "/var/folders/9c/dtt4chrx6lgcgnfz6r_z5ymm0000gn/T/ipykernel_2293/179748656.py:2: SyntaxWarning: invalid escape sequence '\\D'\n",
      "  pattern = \"^[\\D]+,\"\n"
     ]
    },
    {
     "data": {
      "text/html": [
       "<div>\n",
       "<style scoped>\n",
       "    .dataframe tbody tr th:only-of-type {\n",
       "        vertical-align: middle;\n",
       "    }\n",
       "\n",
       "    .dataframe tbody tr th {\n",
       "        vertical-align: top;\n",
       "    }\n",
       "\n",
       "    .dataframe thead th {\n",
       "        text-align: right;\n",
       "    }\n",
       "</style>\n",
       "<table border=\"1\" class=\"dataframe\">\n",
       "  <thead>\n",
       "    <tr style=\"text-align: right;\">\n",
       "      <th></th>\n",
       "      <th>file</th>\n",
       "      <th>exception_type</th>\n",
       "      <th>exception_subtype</th>\n",
       "      <th>exception_message</th>\n",
       "    </tr>\n",
       "  </thead>\n",
       "  <tbody>\n",
       "    <tr>\n",
       "      <th>0</th>\n",
       "      <td>data/data_playground_task1/cleaned/dublin_core...</td>\n",
       "      <td>&lt;class 'lxml.etree.XMLSyntaxError'&gt;</td>\n",
       "      <td>Namespace prefix dc on title is not defined</td>\n",
       "      <td>Namespace prefix dc on title is not defined, l...</td>\n",
       "    </tr>\n",
       "    <tr>\n",
       "      <th>1</th>\n",
       "      <td>data/data_playground_task1/cleaned/dublin_core...</td>\n",
       "      <td>&lt;class 'lxml.etree.XMLSyntaxError'&gt;</td>\n",
       "      <td>Namespace prefix dc on title is not defined</td>\n",
       "      <td>Namespace prefix dc on title is not defined, l...</td>\n",
       "    </tr>\n",
       "    <tr>\n",
       "      <th>2</th>\n",
       "      <td>data/data_playground_task1/cleaned/dublin_core...</td>\n",
       "      <td>&lt;class 'lxml.etree.XMLSyntaxError'&gt;</td>\n",
       "      <td>Namespace prefix dc on title is not defined</td>\n",
       "      <td>Namespace prefix dc on title is not defined, l...</td>\n",
       "    </tr>\n",
       "    <tr>\n",
       "      <th>3</th>\n",
       "      <td>data/data_playground_task1/cleaned/dublin_core...</td>\n",
       "      <td>&lt;class 'lxml.etree.XMLSyntaxError'&gt;</td>\n",
       "      <td>Namespace prefix dc on title is not defined</td>\n",
       "      <td>Namespace prefix dc on title is not defined, l...</td>\n",
       "    </tr>\n",
       "    <tr>\n",
       "      <th>4</th>\n",
       "      <td>data/data_playground_task1/cleaned/dublin_core...</td>\n",
       "      <td>&lt;class 'lxml.etree.XMLSyntaxError'&gt;</td>\n",
       "      <td>Namespace prefix dc on title is not defined</td>\n",
       "      <td>Namespace prefix dc on title is not defined, l...</td>\n",
       "    </tr>\n",
       "  </tbody>\n",
       "</table>\n",
       "</div>"
      ],
      "text/plain": [
       "                                                file  \\\n",
       "0  data/data_playground_task1/cleaned/dublin_core...   \n",
       "1  data/data_playground_task1/cleaned/dublin_core...   \n",
       "2  data/data_playground_task1/cleaned/dublin_core...   \n",
       "3  data/data_playground_task1/cleaned/dublin_core...   \n",
       "4  data/data_playground_task1/cleaned/dublin_core...   \n",
       "\n",
       "                        exception_type  \\\n",
       "0  <class 'lxml.etree.XMLSyntaxError'>   \n",
       "1  <class 'lxml.etree.XMLSyntaxError'>   \n",
       "2  <class 'lxml.etree.XMLSyntaxError'>   \n",
       "3  <class 'lxml.etree.XMLSyntaxError'>   \n",
       "4  <class 'lxml.etree.XMLSyntaxError'>   \n",
       "\n",
       "                             exception_subtype  \\\n",
       "0  Namespace prefix dc on title is not defined   \n",
       "1  Namespace prefix dc on title is not defined   \n",
       "2  Namespace prefix dc on title is not defined   \n",
       "3  Namespace prefix dc on title is not defined   \n",
       "4  Namespace prefix dc on title is not defined   \n",
       "\n",
       "                                   exception_message  \n",
       "0  Namespace prefix dc on title is not defined, l...  \n",
       "1  Namespace prefix dc on title is not defined, l...  \n",
       "2  Namespace prefix dc on title is not defined, l...  \n",
       "3  Namespace prefix dc on title is not defined, l...  \n",
       "4  Namespace prefix dc on title is not defined, l...  "
      ]
     },
     "execution_count": 7,
     "metadata": {},
     "output_type": "execute_result"
    }
   ],
   "source": [
    "df_se = pd.DataFrame.from_dict(syntax_errors)\n",
    "pattern = \"^[\\D]+,\"\n",
    "new_exception_col = df_se[\"exception_message\"].apply(lambda x: re.findall(pattern, x)[0][:-1])\n",
    "df_se.insert(len(df_se.columns)-1, \"exception_subtype\", new_exception_col)\n",
    "df_se.head()"
   ]
  },
  {
   "cell_type": "markdown",
   "id": "d4e163e5",
   "metadata": {},
   "source": [
    "Next, evaluate every record by reading the TXT files to:\n",
    "- check whether relevnt DC namespace(s) are present\n",
    "- check whether RDF namespace is present\n",
    "- check whether a prolog is present\n",
    "- check whether a prolog with UTF-8 encoding is present"
   ]
  },
  {
   "cell_type": "code",
   "execution_count": 8,
   "id": "5998229c",
   "metadata": {},
   "outputs": [
    {
     "name": "stdout",
     "output_type": "stream",
     "text": [
      "Total Dublin Core TXT files: 107\n"
     ]
    }
   ],
   "source": [
    "extension = \".txt\"\n",
    "dublin_file_paths = []\n",
    "dublin_files_t1 = [f for f in os.listdir(dublin_t1_dir) if f.endswith(extension)]\n",
    "dublin_file_paths += [dublin_t1_dir+f for f in dublin_files_t1]\n",
    "dublin_files_p1 = [f for f in os.listdir(dublin_p1_dir) if f.endswith(extension)]\n",
    "dublin_file_paths += [dublin_p1_dir+f for f in dublin_files_p1]\n",
    "dublin_files_p3 = [f for f in os.listdir(dublin_p3_dir) if f.endswith(extension)]\n",
    "dublin_file_paths += [dublin_p3_dir+f for f in dublin_files_p3]\n",
    "dublin_file_paths.sort()\n",
    "total_dctxt_files = len(dublin_file_paths)\n",
    "print(f\"Total Dublin Core {extension[1:].upper()} files:\", total_dctxt_files)"
   ]
  },
  {
   "cell_type": "code",
   "execution_count": 9,
   "id": "3f93ed9a",
   "metadata": {},
   "outputs": [
    {
     "name": "stdout",
     "output_type": "stream",
     "text": [
      "334 additional syntax errors found across 107 out of 107 files\n"
     ]
    }
   ],
   "source": [
    "custom_syntax_errors, more_errored_files = [], []\n",
    "for file_path in dublin_file_paths:\n",
    "    with open(file_path, \"r\") as f:\n",
    "        f_string = f.read()\n",
    "        file_path = file_path.replace(\".txt\", \".xml\")\n",
    "        if not utils.hasDCNamespaces(f_string):\n",
    "            f_error = {\"file\": file_path, \"exception_type\": \"Custom syntax check\", \"exception_subtype\": \"Missing namespace\", \"exception_message\": \"Missing Dublin Core namespace(s)\"}\n",
    "            custom_syntax_errors += [f_error]\n",
    "            more_errored_files += [file_path]\n",
    "        if not utils.hasRDFNamespace(f_string):\n",
    "            f_error = {\"file\": file_path, \"exception_type\": \"Custom syntax check\", \"exception_subtype\": \"Missing namespace\", \"exception_message\": \"Missing RDF namespace\"}\n",
    "            custom_syntax_errors += [f_error]\n",
    "            more_errored_files += [file_path]\n",
    "        if not utils.hasProlog(f_string):\n",
    "            f_error = {\"file\": file_path, \"exception_type\": \"Custom syntax check\", \"exception_subtype\": \"Missing prolog\", \"exception_message\": \"Missing prolog\"}\n",
    "            custom_syntax_errors += [f_error]\n",
    "            more_errored_files += [file_path]\n",
    "        if not utils.hasPrologWithEncoding(f_string):\n",
    "            f_error = {\"file\": file_path, \"exception_type\": \"Custom syntax check\", \"exception_subtype\": \"Missing prolog\", \"exception_message\": \"Missing prolog with UTF-8 encoding\"}\n",
    "            custom_syntax_errors += [f_error]\n",
    "            more_errored_files += [file_path]\n",
    "print(len(custom_syntax_errors), \"additional syntax errors found across\", len(set(more_errored_files)), \"out of\", total_dctxt_files, \"files\")"
   ]
  },
  {
   "cell_type": "code",
   "execution_count": 10,
   "id": "f4f03715",
   "metadata": {},
   "outputs": [
    {
     "data": {
      "text/html": [
       "<div>\n",
       "<style scoped>\n",
       "    .dataframe tbody tr th:only-of-type {\n",
       "        vertical-align: middle;\n",
       "    }\n",
       "\n",
       "    .dataframe tbody tr th {\n",
       "        vertical-align: top;\n",
       "    }\n",
       "\n",
       "    .dataframe thead th {\n",
       "        text-align: right;\n",
       "    }\n",
       "</style>\n",
       "<table border=\"1\" class=\"dataframe\">\n",
       "  <thead>\n",
       "    <tr style=\"text-align: right;\">\n",
       "      <th></th>\n",
       "      <th>file_path</th>\n",
       "      <th>file_name</th>\n",
       "      <th>exception_type</th>\n",
       "      <th>exception_subtype</th>\n",
       "      <th>exception_message</th>\n",
       "    </tr>\n",
       "  </thead>\n",
       "  <tbody>\n",
       "    <tr>\n",
       "      <th>329</th>\n",
       "      <td>data/data_task1/cleaned/dublin_core/dc_record_...</td>\n",
       "      <td>dc_record_027.xml</td>\n",
       "      <td>Custom syntax check</td>\n",
       "      <td>Missing prolog</td>\n",
       "      <td>Missing prolog with UTF-8 encoding</td>\n",
       "    </tr>\n",
       "    <tr>\n",
       "      <th>330</th>\n",
       "      <td>data/data_task1/cleaned/dublin_core/dc_record_...</td>\n",
       "      <td>dc_record_028.xml</td>\n",
       "      <td>Custom syntax check</td>\n",
       "      <td>Missing namespace</td>\n",
       "      <td>Missing Dublin Core namespace(s)</td>\n",
       "    </tr>\n",
       "    <tr>\n",
       "      <th>331</th>\n",
       "      <td>data/data_task1/cleaned/dublin_core/dc_record_...</td>\n",
       "      <td>dc_record_028.xml</td>\n",
       "      <td>Custom syntax check</td>\n",
       "      <td>Missing namespace</td>\n",
       "      <td>Missing RDF namespace</td>\n",
       "    </tr>\n",
       "    <tr>\n",
       "      <th>332</th>\n",
       "      <td>data/data_task1/cleaned/dublin_core/dc_record_...</td>\n",
       "      <td>dc_record_028.xml</td>\n",
       "      <td>Custom syntax check</td>\n",
       "      <td>Missing prolog</td>\n",
       "      <td>Missing prolog</td>\n",
       "    </tr>\n",
       "    <tr>\n",
       "      <th>333</th>\n",
       "      <td>data/data_task1/cleaned/dublin_core/dc_record_...</td>\n",
       "      <td>dc_record_028.xml</td>\n",
       "      <td>Custom syntax check</td>\n",
       "      <td>Missing prolog</td>\n",
       "      <td>Missing prolog with UTF-8 encoding</td>\n",
       "    </tr>\n",
       "  </tbody>\n",
       "</table>\n",
       "</div>"
      ],
      "text/plain": [
       "                                             file_path          file_name  \\\n",
       "329  data/data_task1/cleaned/dublin_core/dc_record_...  dc_record_027.xml   \n",
       "330  data/data_task1/cleaned/dublin_core/dc_record_...  dc_record_028.xml   \n",
       "331  data/data_task1/cleaned/dublin_core/dc_record_...  dc_record_028.xml   \n",
       "332  data/data_task1/cleaned/dublin_core/dc_record_...  dc_record_028.xml   \n",
       "333  data/data_task1/cleaned/dublin_core/dc_record_...  dc_record_028.xml   \n",
       "\n",
       "          exception_type  exception_subtype  \\\n",
       "329  Custom syntax check     Missing prolog   \n",
       "330  Custom syntax check  Missing namespace   \n",
       "331  Custom syntax check  Missing namespace   \n",
       "332  Custom syntax check     Missing prolog   \n",
       "333  Custom syntax check     Missing prolog   \n",
       "\n",
       "                      exception_message  \n",
       "329  Missing prolog with UTF-8 encoding  \n",
       "330    Missing Dublin Core namespace(s)  \n",
       "331               Missing RDF namespace  \n",
       "332                      Missing prolog  \n",
       "333  Missing prolog with UTF-8 encoding  "
      ]
     },
     "execution_count": 10,
     "metadata": {},
     "output_type": "execute_result"
    }
   ],
   "source": [
    "df_se = pd.concat([df_se, pd.DataFrame.from_dict(custom_syntax_errors)])\n",
    "new_file_col = df_se[\"file\"].apply(lambda x: x.split(\"/\")[-1])\n",
    "df_se = df_se.rename(columns={\"file\":\"file_path\"})\n",
    "df_se.insert(1, \"file_name\", new_file_col)\n",
    "df_se.tail()"
   ]
  },
  {
   "cell_type": "code",
   "execution_count": 11,
   "id": "655b049b",
   "metadata": {},
   "outputs": [
    {
     "data": {
      "text/plain": [
       "exception_type\n",
       "Custom syntax check                    334\n",
       "<class 'lxml.etree.XMLSyntaxError'>     43\n",
       "Name: count, dtype: int64"
      ]
     },
     "execution_count": 11,
     "metadata": {},
     "output_type": "execute_result"
    }
   ],
   "source": [
    "df_se.exception_type.value_counts()"
   ]
  },
  {
   "cell_type": "code",
   "execution_count": 12,
   "id": "36fae233",
   "metadata": {},
   "outputs": [
    {
     "data": {
      "text/html": [
       "<div>\n",
       "<style scoped>\n",
       "    .dataframe tbody tr th:only-of-type {\n",
       "        vertical-align: middle;\n",
       "    }\n",
       "\n",
       "    .dataframe tbody tr th {\n",
       "        vertical-align: top;\n",
       "    }\n",
       "\n",
       "    .dataframe thead th {\n",
       "        text-align: right;\n",
       "    }\n",
       "</style>\n",
       "<table border=\"1\" class=\"dataframe\">\n",
       "  <thead>\n",
       "    <tr style=\"text-align: right;\">\n",
       "      <th></th>\n",
       "      <th>exception_type</th>\n",
       "      <th>exception_subtype</th>\n",
       "      <th>exception_message</th>\n",
       "      <th>count</th>\n",
       "    </tr>\n",
       "  </thead>\n",
       "  <tbody>\n",
       "    <tr>\n",
       "      <th>0</th>\n",
       "      <td>Custom syntax check</td>\n",
       "      <td>Missing namespace</td>\n",
       "      <td>Missing Dublin Core namespace(s)</td>\n",
       "      <td>56</td>\n",
       "    </tr>\n",
       "    <tr>\n",
       "      <th>1</th>\n",
       "      <td>Custom syntax check</td>\n",
       "      <td>Missing namespace</td>\n",
       "      <td>Missing RDF namespace</td>\n",
       "      <td>107</td>\n",
       "    </tr>\n",
       "    <tr>\n",
       "      <th>2</th>\n",
       "      <td>Custom syntax check</td>\n",
       "      <td>Missing prolog</td>\n",
       "      <td>Missing prolog</td>\n",
       "      <td>64</td>\n",
       "    </tr>\n",
       "    <tr>\n",
       "      <th>3</th>\n",
       "      <td>Custom syntax check</td>\n",
       "      <td>Missing prolog</td>\n",
       "      <td>Missing prolog with UTF-8 encoding</td>\n",
       "      <td>107</td>\n",
       "    </tr>\n",
       "  </tbody>\n",
       "</table>\n",
       "</div>"
      ],
      "text/plain": [
       "        exception_type  exception_subtype                   exception_message  \\\n",
       "0  Custom syntax check  Missing namespace    Missing Dublin Core namespace(s)   \n",
       "1  Custom syntax check  Missing namespace               Missing RDF namespace   \n",
       "2  Custom syntax check     Missing prolog                      Missing prolog   \n",
       "3  Custom syntax check     Missing prolog  Missing prolog with UTF-8 encoding   \n",
       "\n",
       "   count  \n",
       "0     56  \n",
       "1    107  \n",
       "2     64  \n",
       "3    107  "
      ]
     },
     "execution_count": 12,
     "metadata": {},
     "output_type": "execute_result"
    }
   ],
   "source": [
    "custom_message_report = pd.DataFrame(df_se.loc[df_se.exception_type == \"Custom syntax check\"].exception_message.value_counts())\n",
    "custom_df = df_se.loc[df_se.exception_type == \"Custom syntax check\"]\n",
    "custom_df = custom_df[[\"exception_type\", \"exception_subtype\", \"exception_message\"]].drop_duplicates()\n",
    "custom_df = custom_df.set_index(\"exception_message\").join(custom_message_report).reset_index()\n",
    "custom_report = custom_df[[\"exception_type\", \"exception_subtype\", \"exception_message\", \"count\"]]\n",
    "custom_report"
   ]
  },
  {
   "cell_type": "markdown",
   "id": "50385223",
   "metadata": {},
   "source": [
    "The `count` column refers to the total occurrence of each exception, so the sum of that column may exceed the total number of files."
   ]
  },
  {
   "cell_type": "code",
   "execution_count": 13,
   "id": "4a404de8",
   "metadata": {},
   "outputs": [],
   "source": [
    "metadata_standard = \"dublin_core\"\n",
    "data_serialization = \"xml\"\n",
    "report_type = \"syntax_error_stats_custom_subtypes\"\n",
    "custom_report.to_csv(\n",
    "    report_dir+\"{metadata_standard}_{data_serialization}_{report_type}.csv\".format(\n",
    "        metadata_standard=metadata_standard,\n",
    "        data_serialization=data_serialization,\n",
    "        report_type=report_type\n",
    "        ), index=False\n",
    "    )"
   ]
  },
  {
   "cell_type": "code",
   "execution_count": 14,
   "id": "7fa1a34f",
   "metadata": {},
   "outputs": [
    {
     "data": {
      "text/html": [
       "<div>\n",
       "<style scoped>\n",
       "    .dataframe tbody tr th:only-of-type {\n",
       "        vertical-align: middle;\n",
       "    }\n",
       "\n",
       "    .dataframe tbody tr th {\n",
       "        vertical-align: top;\n",
       "    }\n",
       "\n",
       "    .dataframe thead th {\n",
       "        text-align: right;\n",
       "    }\n",
       "</style>\n",
       "<table border=\"1\" class=\"dataframe\">\n",
       "  <thead>\n",
       "    <tr style=\"text-align: right;\">\n",
       "      <th></th>\n",
       "      <th>exception_type</th>\n",
       "      <th>exception_subtype</th>\n",
       "      <th>count</th>\n",
       "    </tr>\n",
       "  </thead>\n",
       "  <tbody>\n",
       "    <tr>\n",
       "      <th>0</th>\n",
       "      <td>&lt;class 'lxml.etree.XMLSyntaxError'&gt;</td>\n",
       "      <td>Namespace prefix dc on title is not defined</td>\n",
       "      <td>33</td>\n",
       "    </tr>\n",
       "    <tr>\n",
       "      <th>1</th>\n",
       "      <td>&lt;class 'lxml.etree.XMLSyntaxError'&gt;</td>\n",
       "      <td>Namespace prefix rdf for about on Description ...</td>\n",
       "      <td>7</td>\n",
       "    </tr>\n",
       "    <tr>\n",
       "      <th>2</th>\n",
       "      <td>&lt;class 'lxml.etree.XMLSyntaxError'&gt;</td>\n",
       "      <td>xmlns:dc: Empty XML namespace is not allowed</td>\n",
       "      <td>1</td>\n",
       "    </tr>\n",
       "    <tr>\n",
       "      <th>3</th>\n",
       "      <td>&lt;class 'lxml.etree.XMLSyntaxError'&gt;</td>\n",
       "      <td>Namespace prefix rdf on Description is not def...</td>\n",
       "      <td>1</td>\n",
       "    </tr>\n",
       "    <tr>\n",
       "      <th>4</th>\n",
       "      <td>&lt;class 'lxml.etree.XMLSyntaxError'&gt;</td>\n",
       "      <td>xmlParseEntityRef: no name</td>\n",
       "      <td>1</td>\n",
       "    </tr>\n",
       "  </tbody>\n",
       "</table>\n",
       "</div>"
      ],
      "text/plain": [
       "                        exception_type  \\\n",
       "0  <class 'lxml.etree.XMLSyntaxError'>   \n",
       "1  <class 'lxml.etree.XMLSyntaxError'>   \n",
       "2  <class 'lxml.etree.XMLSyntaxError'>   \n",
       "3  <class 'lxml.etree.XMLSyntaxError'>   \n",
       "4  <class 'lxml.etree.XMLSyntaxError'>   \n",
       "\n",
       "                                   exception_subtype  count  \n",
       "0        Namespace prefix dc on title is not defined     33  \n",
       "1  Namespace prefix rdf for about on Description ...      7  \n",
       "2       xmlns:dc: Empty XML namespace is not allowed      1  \n",
       "3  Namespace prefix rdf on Description is not def...      1  \n",
       "4                         xmlParseEntityRef: no name      1  "
      ]
     },
     "execution_count": 14,
     "metadata": {},
     "output_type": "execute_result"
    }
   ],
   "source": [
    "xml_syntax_subtypes = pd.DataFrame(df_se.loc[df_se.exception_type != \"Custom syntax check\"].exception_subtype.value_counts())\n",
    "syntax_df = df_se.loc[df_se.exception_type != \"Custom syntax check\"]\n",
    "syntax_df = syntax_df[[\"exception_type\", \"exception_subtype\"]].drop_duplicates()\n",
    "syntax_df = syntax_df.set_index(\"exception_subtype\").join(xml_syntax_subtypes).reset_index()\n",
    "xml_syntax_error_report = syntax_df[[\"exception_type\", \"exception_subtype\", \"count\"]]\n",
    "xml_syntax_error_report"
   ]
  },
  {
   "cell_type": "code",
   "execution_count": 15,
   "id": "2c81a7f4",
   "metadata": {},
   "outputs": [],
   "source": [
    "metadata_standard = \"dublin_core\"\n",
    "data_serialization = \"xml\"\n",
    "report_type = \"syntax_error_stats__subtypes\"\n",
    "xml_syntax_error_report.to_csv(\n",
    "    report_dir+\"{metadata_standard}_{data_serialization}_{report_type}.csv\".format(\n",
    "        metadata_standard=metadata_standard,\n",
    "        data_serialization=data_serialization,\n",
    "        report_type=report_type\n",
    "        ), index=False\n",
    "    )"
   ]
  },
  {
   "cell_type": "code",
   "execution_count": 16,
   "id": "f940d96c",
   "metadata": {},
   "outputs": [
    {
     "data": {
      "text/html": [
       "<div>\n",
       "<style scoped>\n",
       "    .dataframe tbody tr th:only-of-type {\n",
       "        vertical-align: middle;\n",
       "    }\n",
       "\n",
       "    .dataframe tbody tr th {\n",
       "        vertical-align: top;\n",
       "    }\n",
       "\n",
       "    .dataframe thead th {\n",
       "        text-align: right;\n",
       "    }\n",
       "</style>\n",
       "<table border=\"1\" class=\"dataframe\">\n",
       "  <thead>\n",
       "    <tr style=\"text-align: right;\">\n",
       "      <th></th>\n",
       "      <th>file_path</th>\n",
       "      <th>file_name</th>\n",
       "      <th>exception_type</th>\n",
       "      <th>exception_subtype</th>\n",
       "    </tr>\n",
       "  </thead>\n",
       "  <tbody>\n",
       "    <tr>\n",
       "      <th>324</th>\n",
       "      <td>data/data_task1/cleaned/dublin_core/dc_record_...</td>\n",
       "      <td>dc_record_026.xml</td>\n",
       "      <td>Custom syntax check</td>\n",
       "      <td>Missing prolog</td>\n",
       "    </tr>\n",
       "    <tr>\n",
       "      <th>326</th>\n",
       "      <td>data/data_task1/cleaned/dublin_core/dc_record_...</td>\n",
       "      <td>dc_record_027.xml</td>\n",
       "      <td>Custom syntax check</td>\n",
       "      <td>Missing namespace</td>\n",
       "    </tr>\n",
       "    <tr>\n",
       "      <th>328</th>\n",
       "      <td>data/data_task1/cleaned/dublin_core/dc_record_...</td>\n",
       "      <td>dc_record_027.xml</td>\n",
       "      <td>Custom syntax check</td>\n",
       "      <td>Missing prolog</td>\n",
       "    </tr>\n",
       "    <tr>\n",
       "      <th>330</th>\n",
       "      <td>data/data_task1/cleaned/dublin_core/dc_record_...</td>\n",
       "      <td>dc_record_028.xml</td>\n",
       "      <td>Custom syntax check</td>\n",
       "      <td>Missing namespace</td>\n",
       "    </tr>\n",
       "    <tr>\n",
       "      <th>332</th>\n",
       "      <td>data/data_task1/cleaned/dublin_core/dc_record_...</td>\n",
       "      <td>dc_record_028.xml</td>\n",
       "      <td>Custom syntax check</td>\n",
       "      <td>Missing prolog</td>\n",
       "    </tr>\n",
       "  </tbody>\n",
       "</table>\n",
       "</div>"
      ],
      "text/plain": [
       "                                             file_path          file_name  \\\n",
       "324  data/data_task1/cleaned/dublin_core/dc_record_...  dc_record_026.xml   \n",
       "326  data/data_task1/cleaned/dublin_core/dc_record_...  dc_record_027.xml   \n",
       "328  data/data_task1/cleaned/dublin_core/dc_record_...  dc_record_027.xml   \n",
       "330  data/data_task1/cleaned/dublin_core/dc_record_...  dc_record_028.xml   \n",
       "332  data/data_task1/cleaned/dublin_core/dc_record_...  dc_record_028.xml   \n",
       "\n",
       "          exception_type  exception_subtype  \n",
       "324  Custom syntax check     Missing prolog  \n",
       "326  Custom syntax check  Missing namespace  \n",
       "328  Custom syntax check     Missing prolog  \n",
       "330  Custom syntax check  Missing namespace  \n",
       "332  Custom syntax check     Missing prolog  "
      ]
     },
     "execution_count": 16,
     "metadata": {},
     "output_type": "execute_result"
    }
   ],
   "source": [
    "df_se_subtypes = df_se[[\"file_path\", \"file_name\", \"exception_type\", \"exception_subtype\"]].drop_duplicates()\n",
    "df_se_subtypes.tail()"
   ]
  },
  {
   "cell_type": "code",
   "execution_count": 17,
   "id": "59282269",
   "metadata": {},
   "outputs": [
    {
     "data": {
      "text/html": [
       "<div>\n",
       "<style scoped>\n",
       "    .dataframe tbody tr th:only-of-type {\n",
       "        vertical-align: middle;\n",
       "    }\n",
       "\n",
       "    .dataframe tbody tr th {\n",
       "        vertical-align: top;\n",
       "    }\n",
       "\n",
       "    .dataframe thead th {\n",
       "        text-align: right;\n",
       "    }\n",
       "</style>\n",
       "<table border=\"1\" class=\"dataframe\">\n",
       "  <thead>\n",
       "    <tr style=\"text-align: right;\">\n",
       "      <th></th>\n",
       "      <th></th>\n",
       "      <th>file_count</th>\n",
       "    </tr>\n",
       "    <tr>\n",
       "      <th>exception_type</th>\n",
       "      <th>exception_subtype</th>\n",
       "      <th></th>\n",
       "    </tr>\n",
       "  </thead>\n",
       "  <tbody>\n",
       "    <tr>\n",
       "      <th rowspan=\"2\" valign=\"top\">Custom syntax check</th>\n",
       "      <th>Missing namespace</th>\n",
       "      <td>107</td>\n",
       "    </tr>\n",
       "    <tr>\n",
       "      <th>Missing prolog</th>\n",
       "      <td>107</td>\n",
       "    </tr>\n",
       "    <tr>\n",
       "      <th rowspan=\"5\" valign=\"top\">&lt;class 'lxml.etree.XMLSyntaxError'&gt;</th>\n",
       "      <th>Namespace prefix dc on title is not defined</th>\n",
       "      <td>33</td>\n",
       "    </tr>\n",
       "    <tr>\n",
       "      <th>Namespace prefix rdf for about on Description is not defined</th>\n",
       "      <td>7</td>\n",
       "    </tr>\n",
       "    <tr>\n",
       "      <th>Namespace prefix rdf on Description is not defined</th>\n",
       "      <td>1</td>\n",
       "    </tr>\n",
       "    <tr>\n",
       "      <th>xmlParseEntityRef: no name</th>\n",
       "      <td>1</td>\n",
       "    </tr>\n",
       "    <tr>\n",
       "      <th>xmlns:dc: Empty XML namespace is not allowed</th>\n",
       "      <td>1</td>\n",
       "    </tr>\n",
       "  </tbody>\n",
       "</table>\n",
       "</div>"
      ],
      "text/plain": [
       "                                                                                        file_count\n",
       "exception_type                      exception_subtype                                             \n",
       "Custom syntax check                 Missing namespace                                          107\n",
       "                                    Missing prolog                                             107\n",
       "<class 'lxml.etree.XMLSyntaxError'> Namespace prefix dc on title is not defined                 33\n",
       "                                    Namespace prefix rdf for about on Description i...           7\n",
       "                                    Namespace prefix rdf on Description is not defined           1\n",
       "                                    xmlParseEntityRef: no name                                   1\n",
       "                                    xmlns:dc: Empty XML namespace is not allowed                 1"
      ]
     },
     "execution_count": 17,
     "metadata": {},
     "output_type": "execute_result"
    }
   ],
   "source": [
    "subtype_report = pd.DataFrame(df_se_subtypes[[\"exception_type\", \"exception_subtype\"]].value_counts())\n",
    "subtype_report = subtype_report.rename(columns={\"count\":\"file_count\"})\n",
    "subtype_report\n"
   ]
  },
  {
   "cell_type": "code",
   "execution_count": 18,
   "id": "957243eb",
   "metadata": {},
   "outputs": [
    {
     "data": {
      "text/html": [
       "<div>\n",
       "<style scoped>\n",
       "    .dataframe tbody tr th:only-of-type {\n",
       "        vertical-align: middle;\n",
       "    }\n",
       "\n",
       "    .dataframe tbody tr th {\n",
       "        vertical-align: top;\n",
       "    }\n",
       "\n",
       "    .dataframe thead th {\n",
       "        text-align: right;\n",
       "    }\n",
       "</style>\n",
       "<table border=\"1\" class=\"dataframe\">\n",
       "  <thead>\n",
       "    <tr style=\"text-align: right;\">\n",
       "      <th></th>\n",
       "      <th>exception_type</th>\n",
       "      <th>exception_subtype</th>\n",
       "      <th>file_count</th>\n",
       "    </tr>\n",
       "  </thead>\n",
       "  <tbody>\n",
       "    <tr>\n",
       "      <th>0</th>\n",
       "      <td>TOTAL FILES</td>\n",
       "      <td>NA</td>\n",
       "      <td>107</td>\n",
       "    </tr>\n",
       "    <tr>\n",
       "      <th>1</th>\n",
       "      <td>FILES WITH EXCEPTION</td>\n",
       "      <td>NA</td>\n",
       "      <td>107</td>\n",
       "    </tr>\n",
       "  </tbody>\n",
       "</table>\n",
       "</div>"
      ],
      "text/plain": [
       "         exception_type exception_subtype  file_count\n",
       "0           TOTAL FILES                NA         107\n",
       "1  FILES WITH EXCEPTION                NA         107"
      ]
     },
     "execution_count": 18,
     "metadata": {},
     "output_type": "execute_result"
    }
   ],
   "source": [
    "all_errored_files = set(errored_files + more_errored_files)\n",
    "totals_report = pd.DataFrame({\n",
    "    \"exception_type\": [\"TOTAL FILES\", \"FILES WITH EXCEPTION\"],\n",
    "    \"exception_subtype\": [\"NA\", \"NA\"],\n",
    "    \"file_count\": [total_dcxml_files, len(all_errored_files)]\n",
    "    })\n",
    "totals_report"
   ]
  },
  {
   "cell_type": "code",
   "execution_count": 19,
   "id": "f8705032",
   "metadata": {},
   "outputs": [
    {
     "data": {
      "text/plain": [
       "'data/data_playground_task1/cleaned/dublin_core/dc_record_003.xml'"
      ]
     },
     "execution_count": 19,
     "metadata": {},
     "output_type": "execute_result"
    }
   ],
   "source": [
    "more_errored_files[0]"
   ]
  },
  {
   "cell_type": "code",
   "execution_count": 24,
   "id": "fe17dcca",
   "metadata": {},
   "outputs": [
    {
     "data": {
      "text/html": [
       "<div>\n",
       "<style scoped>\n",
       "    .dataframe tbody tr th:only-of-type {\n",
       "        vertical-align: middle;\n",
       "    }\n",
       "\n",
       "    .dataframe tbody tr th {\n",
       "        vertical-align: top;\n",
       "    }\n",
       "\n",
       "    .dataframe thead th {\n",
       "        text-align: right;\n",
       "    }\n",
       "</style>\n",
       "<table border=\"1\" class=\"dataframe\">\n",
       "  <thead>\n",
       "    <tr style=\"text-align: right;\">\n",
       "      <th></th>\n",
       "      <th>exception_type</th>\n",
       "      <th>exception_subtype</th>\n",
       "      <th>file_count</th>\n",
       "      <th>proportion_of_all_files</th>\n",
       "    </tr>\n",
       "  </thead>\n",
       "  <tbody>\n",
       "    <tr>\n",
       "      <th>0</th>\n",
       "      <td>Custom syntax check</td>\n",
       "      <td>Missing namespace</td>\n",
       "      <td>107</td>\n",
       "      <td>100.00%</td>\n",
       "    </tr>\n",
       "    <tr>\n",
       "      <th>1</th>\n",
       "      <td>Custom syntax check</td>\n",
       "      <td>Missing prolog</td>\n",
       "      <td>107</td>\n",
       "      <td>100.00%</td>\n",
       "    </tr>\n",
       "    <tr>\n",
       "      <th>2</th>\n",
       "      <td>&lt;class 'lxml.etree.XMLSyntaxError'&gt;</td>\n",
       "      <td>Namespace prefix dc on title is not defined</td>\n",
       "      <td>33</td>\n",
       "      <td>30.84%</td>\n",
       "    </tr>\n",
       "    <tr>\n",
       "      <th>3</th>\n",
       "      <td>&lt;class 'lxml.etree.XMLSyntaxError'&gt;</td>\n",
       "      <td>Namespace prefix rdf for about on Description ...</td>\n",
       "      <td>7</td>\n",
       "      <td>6.54%</td>\n",
       "    </tr>\n",
       "    <tr>\n",
       "      <th>4</th>\n",
       "      <td>&lt;class 'lxml.etree.XMLSyntaxError'&gt;</td>\n",
       "      <td>Namespace prefix rdf on Description is not def...</td>\n",
       "      <td>1</td>\n",
       "      <td>0.93%</td>\n",
       "    </tr>\n",
       "    <tr>\n",
       "      <th>5</th>\n",
       "      <td>&lt;class 'lxml.etree.XMLSyntaxError'&gt;</td>\n",
       "      <td>xmlParseEntityRef: no name</td>\n",
       "      <td>1</td>\n",
       "      <td>0.93%</td>\n",
       "    </tr>\n",
       "    <tr>\n",
       "      <th>6</th>\n",
       "      <td>&lt;class 'lxml.etree.XMLSyntaxError'&gt;</td>\n",
       "      <td>xmlns:dc: Empty XML namespace is not allowed</td>\n",
       "      <td>1</td>\n",
       "      <td>0.93%</td>\n",
       "    </tr>\n",
       "    <tr>\n",
       "      <th>7</th>\n",
       "      <td>TOTAL FILES</td>\n",
       "      <td>NA</td>\n",
       "      <td>107</td>\n",
       "      <td>100.00%</td>\n",
       "    </tr>\n",
       "    <tr>\n",
       "      <th>8</th>\n",
       "      <td>FILES WITH EXCEPTION</td>\n",
       "      <td>NA</td>\n",
       "      <td>107</td>\n",
       "      <td>100.00%</td>\n",
       "    </tr>\n",
       "  </tbody>\n",
       "</table>\n",
       "</div>"
      ],
      "text/plain": [
       "                        exception_type  \\\n",
       "0                  Custom syntax check   \n",
       "1                  Custom syntax check   \n",
       "2  <class 'lxml.etree.XMLSyntaxError'>   \n",
       "3  <class 'lxml.etree.XMLSyntaxError'>   \n",
       "4  <class 'lxml.etree.XMLSyntaxError'>   \n",
       "5  <class 'lxml.etree.XMLSyntaxError'>   \n",
       "6  <class 'lxml.etree.XMLSyntaxError'>   \n",
       "7                          TOTAL FILES   \n",
       "8                 FILES WITH EXCEPTION   \n",
       "\n",
       "                                   exception_subtype  file_count  \\\n",
       "0                                  Missing namespace         107   \n",
       "1                                     Missing prolog         107   \n",
       "2        Namespace prefix dc on title is not defined          33   \n",
       "3  Namespace prefix rdf for about on Description ...           7   \n",
       "4  Namespace prefix rdf on Description is not def...           1   \n",
       "5                         xmlParseEntityRef: no name           1   \n",
       "6       xmlns:dc: Empty XML namespace is not allowed           1   \n",
       "7                                                 NA         107   \n",
       "8                                                 NA         107   \n",
       "\n",
       "  proportion_of_all_files  \n",
       "0                 100.00%  \n",
       "1                 100.00%  \n",
       "2                  30.84%  \n",
       "3                   6.54%  \n",
       "4                   0.93%  \n",
       "5                   0.93%  \n",
       "6                   0.93%  \n",
       "7                 100.00%  \n",
       "8                 100.00%  "
      ]
     },
     "execution_count": 24,
     "metadata": {},
     "output_type": "execute_result"
    }
   ],
   "source": [
    "xml_report = pd.concat([subtype_report.reset_index(), totals_report])\n",
    "proportions = (xml_report[[\"file_count\"]]/total_dcxml_files).values\n",
    "percentages = [f\"{proportion[0]*100:.2f}%\" for proportion in proportions]\n",
    "xml_report.insert(len(xml_report.columns), \"proportion_of_all_files\", percentages)\n",
    "xml_report = xml_report.reset_index().drop(columns=[\"index\"])\n",
    "xml_report"
   ]
  },
  {
   "cell_type": "markdown",
   "id": "c3556315",
   "metadata": {},
   "source": [
    "Save the reports as CSV files."
   ]
  },
  {
   "cell_type": "code",
   "execution_count": 25,
   "id": "8502541b",
   "metadata": {},
   "outputs": [],
   "source": [
    "metadata_standard = \"dublin_core\"\n",
    "data_serialization = \"xml\"\n",
    "report_type = \"syntax_error_stats\"\n",
    "xml_report.to_csv(\n",
    "    report_dir+\"{metadata_standard}_{data_serialization}_{report_type}.csv\".format(\n",
    "        metadata_standard=metadata_standard,\n",
    "        data_serialization=data_serialization,\n",
    "        report_type=report_type\n",
    "        ), index=False\n",
    "    )"
   ]
  },
  {
   "cell_type": "code",
   "execution_count": 26,
   "id": "36a4aa70",
   "metadata": {},
   "outputs": [],
   "source": [
    "metadata_standard = \"dublin_core\"\n",
    "data_serialization = \"xml\"\n",
    "report_type = \"syntax_errors\"\n",
    "df_se.to_csv(\n",
    "    report_dir+\"{metadata_standard}_{data_serialization}_{report_type}.csv\".format(\n",
    "        metadata_standard=metadata_standard,\n",
    "        data_serialization=data_serialization,\n",
    "        report_type=report_type\n",
    "        ), index=False\n",
    "    )"
   ]
  },
  {
   "cell_type": "markdown",
   "id": "743ff4b9",
   "metadata": {},
   "source": [
    "### JSON"
   ]
  },
  {
   "cell_type": "markdown",
   "id": "e7fcf079",
   "metadata": {},
   "source": [
    "First, read and evaluate only the files with a `.json` extension."
   ]
  },
  {
   "cell_type": "code",
   "execution_count": 5,
   "id": "b9579af8",
   "metadata": {},
   "outputs": [
    {
     "name": "stdout",
     "output_type": "stream",
     "text": [
      "Total CIDOC-CRM JSON files: 97\n"
     ]
    }
   ],
   "source": [
    "extension = \".json\"\n",
    "cidoc_file_paths = []\n",
    "cidoc_files_t1 = [f for f in os.listdir(cidoc_t1_dir) if f.endswith(extension)]\n",
    "cidoc_file_paths += [cidoc_t1_dir+f for f in cidoc_files_t1]\n",
    "cidoc_files_p1 = [f for f in os.listdir(cidoc_p1_dir) if f.endswith(extension)]\n",
    "cidoc_file_paths += [cidoc_p1_dir+f for f in cidoc_files_p1]\n",
    "cidoc_files_p3 = [f for f in os.listdir(cidoc_p3_dir) if f.endswith(extension)]\n",
    "cidoc_file_paths += [cidoc_p3_dir+f for f in cidoc_files_p3]\n",
    "cidoc_file_paths.sort()\n",
    "print(\"Total CIDOC-CRM JSON files:\", len(cidoc_file_paths))"
   ]
  },
  {
   "cell_type": "code",
   "execution_count": 6,
   "id": "12c14058",
   "metadata": {},
   "outputs": [
    {
     "data": {
      "text/plain": [
       "'data/data_playground_task1/cleaned/cidoc_crm/cidoccrm_record_003.json'"
      ]
     },
     "execution_count": 6,
     "metadata": {},
     "output_type": "execute_result"
    }
   ],
   "source": [
    "cidoc_file_paths[0]"
   ]
  },
  {
   "cell_type": "code",
   "execution_count": 7,
   "id": "7da00199",
   "metadata": {},
   "outputs": [
    {
     "name": "stdout",
     "output_type": "stream",
     "text": [
      "Total Schema.org JSON files: 116\n"
     ]
    }
   ],
   "source": [
    "extension = \".json\"\n",
    "schema_file_paths = []\n",
    "schema_files_t1 = os.listdir(schema_t1_dir)\n",
    "schema_file_paths += [schema_t1_dir+f for f in schema_files_t1 if f.endswith(extension)]\n",
    "schema_files_p1 = os.listdir(schema_p1_dir)\n",
    "schema_file_paths += [schema_p1_dir+f for f in schema_files_p1 if f.endswith(extension)]\n",
    "schema_files_p3 = os.listdir(schema_p3_dir)\n",
    "schema_file_paths += [schema_p3_dir+f for f in schema_files_p3 if f.endswith(extension)]\n",
    "schema_file_paths.sort()\n",
    "print(\"Total Schema.org JSON files:\", len(schema_file_paths))"
   ]
  },
  {
   "cell_type": "code",
   "execution_count": 8,
   "id": "cab6e980",
   "metadata": {},
   "outputs": [
    {
     "data": {
      "text/plain": [
       "'data/data_playground_task1/cleaned/schema_org/sdo_record_003.json'"
      ]
     },
     "execution_count": 8,
     "metadata": {},
     "output_type": "execute_result"
    }
   ],
   "source": [
    "schema_file_paths[0]"
   ]
  },
  {
   "cell_type": "code",
   "execution_count": 9,
   "id": "e7122e42",
   "metadata": {},
   "outputs": [
    {
     "name": "stdout",
     "output_type": "stream",
     "text": [
      "213\n"
     ]
    }
   ],
   "source": [
    "json_file_paths = cidoc_file_paths + schema_file_paths\n",
    "total_json_files = len(json_file_paths)\n",
    "print(len(json_file_paths))"
   ]
  },
  {
   "cell_type": "code",
   "execution_count": 10,
   "id": "34b0cfcd",
   "metadata": {},
   "outputs": [
    {
     "name": "stdout",
     "output_type": "stream",
     "text": [
      "Files with errors: 4 of 213 (1.88%)\n"
     ]
    }
   ],
   "source": [
    "syntax_errors = []\n",
    "for json_f in json_file_paths:\n",
    "    with open(json_f) as f:\n",
    "        try:\n",
    "            data = json.load(f)\n",
    "        except Exception as e:\n",
    "            f_error = {\"file\": json_f, \"exception_type\": type(e), \"exception_message\": str(e)}\n",
    "            syntax_errors += [f_error]\n",
    "        f.close()\n",
    "print(\n",
    "    \"Files with errors:\", \n",
    "    len(syntax_errors), \"of\", len(json_file_paths),\n",
    "    f\"({(len(syntax_errors)/len(json_file_paths))*100:.2f}%)\"\n",
    "    )"
   ]
  },
  {
   "cell_type": "code",
   "execution_count": 11,
   "id": "8e8c67ce",
   "metadata": {},
   "outputs": [
    {
     "data": {
      "text/html": [
       "<div>\n",
       "<style scoped>\n",
       "    .dataframe tbody tr th:only-of-type {\n",
       "        vertical-align: middle;\n",
       "    }\n",
       "\n",
       "    .dataframe tbody tr th {\n",
       "        vertical-align: top;\n",
       "    }\n",
       "\n",
       "    .dataframe thead th {\n",
       "        text-align: right;\n",
       "    }\n",
       "</style>\n",
       "<table border=\"1\" class=\"dataframe\">\n",
       "  <thead>\n",
       "    <tr style=\"text-align: right;\">\n",
       "      <th></th>\n",
       "      <th>file_path</th>\n",
       "      <th>file_name</th>\n",
       "      <th>exception_type</th>\n",
       "      <th>exception_message</th>\n",
       "    </tr>\n",
       "  </thead>\n",
       "  <tbody>\n",
       "    <tr>\n",
       "      <th>0</th>\n",
       "      <td>data/data_playground_task1/cleaned/cidoc_crm/c...</td>\n",
       "      <td>cidoccrm_record_018.json</td>\n",
       "      <td>&lt;class 'json.decoder.JSONDecodeError'&gt;</td>\n",
       "      <td>Expecting ',' delimiter: line 99 column 5 (cha...</td>\n",
       "    </tr>\n",
       "    <tr>\n",
       "      <th>1</th>\n",
       "      <td>data/data_playground_task1/cleaned/cidoc_crm/c...</td>\n",
       "      <td>cidoccrm_record_070.json</td>\n",
       "      <td>&lt;class 'json.decoder.JSONDecodeError'&gt;</td>\n",
       "      <td>Expecting ',' delimiter: line 35 column 1 (cha...</td>\n",
       "    </tr>\n",
       "    <tr>\n",
       "      <th>2</th>\n",
       "      <td>data/data_playground_task1/cleaned/schema_org/...</td>\n",
       "      <td>sdo_record_018.json</td>\n",
       "      <td>&lt;class 'json.decoder.JSONDecodeError'&gt;</td>\n",
       "      <td>Expecting ',' delimiter: line 27 column 1 (cha...</td>\n",
       "    </tr>\n",
       "    <tr>\n",
       "      <th>3</th>\n",
       "      <td>data/data_task1/cleaned/schema_org/sdo_record_...</td>\n",
       "      <td>sdo_record_006.json</td>\n",
       "      <td>&lt;class 'json.decoder.JSONDecodeError'&gt;</td>\n",
       "      <td>Expecting ':' delimiter: line 2 column 5 (char 6)</td>\n",
       "    </tr>\n",
       "  </tbody>\n",
       "</table>\n",
       "</div>"
      ],
      "text/plain": [
       "                                           file_path  \\\n",
       "0  data/data_playground_task1/cleaned/cidoc_crm/c...   \n",
       "1  data/data_playground_task1/cleaned/cidoc_crm/c...   \n",
       "2  data/data_playground_task1/cleaned/schema_org/...   \n",
       "3  data/data_task1/cleaned/schema_org/sdo_record_...   \n",
       "\n",
       "                  file_name                          exception_type  \\\n",
       "0  cidoccrm_record_018.json  <class 'json.decoder.JSONDecodeError'>   \n",
       "1  cidoccrm_record_070.json  <class 'json.decoder.JSONDecodeError'>   \n",
       "2       sdo_record_018.json  <class 'json.decoder.JSONDecodeError'>   \n",
       "3       sdo_record_006.json  <class 'json.decoder.JSONDecodeError'>   \n",
       "\n",
       "                                   exception_message  \n",
       "0  Expecting ',' delimiter: line 99 column 5 (cha...  \n",
       "1  Expecting ',' delimiter: line 35 column 1 (cha...  \n",
       "2  Expecting ',' delimiter: line 27 column 1 (cha...  \n",
       "3  Expecting ':' delimiter: line 2 column 5 (char 6)  "
      ]
     },
     "execution_count": 11,
     "metadata": {},
     "output_type": "execute_result"
    }
   ],
   "source": [
    "df_se = pd.DataFrame.from_dict(syntax_errors)\n",
    "new_file_col = df_se[\"file\"].apply(lambda x: x.split(\"/\")[-1])\n",
    "df_se = df_se.rename(columns={\"file\":\"file_path\"})\n",
    "df_se.insert(1, \"file_name\", new_file_col)\n",
    "df_se"
   ]
  },
  {
   "cell_type": "code",
   "execution_count": 12,
   "id": "55495fbd",
   "metadata": {},
   "outputs": [
    {
     "data": {
      "text/plain": [
       "array([<class 'json.decoder.JSONDecodeError'>], dtype=object)"
      ]
     },
     "execution_count": 12,
     "metadata": {},
     "output_type": "execute_result"
    }
   ],
   "source": [
    "df_se.exception_type.unique()"
   ]
  },
  {
   "cell_type": "code",
   "execution_count": 13,
   "id": "6d3aedc3",
   "metadata": {},
   "outputs": [
    {
     "data": {
      "text/plain": [
       "array([\"Expecting ',' delimiter: line 99 column 5 (char 3125)\",\n",
       "       \"Expecting ',' delimiter: line 35 column 1 (char 1407)\",\n",
       "       \"Expecting ',' delimiter: line 27 column 1 (char 914)\",\n",
       "       \"Expecting ':' delimiter: line 2 column 5 (char 6)\"], dtype=object)"
      ]
     },
     "execution_count": 13,
     "metadata": {},
     "output_type": "execute_result"
    }
   ],
   "source": [
    "df_se.exception_message.unique()"
   ]
  },
  {
   "cell_type": "markdown",
   "id": "a557380d",
   "metadata": {},
   "source": [
    "Looking at the files that triggered the above error messages, it seems that often what's missing is the final curly brace.  Also, in one file, the quotes surrounding strings were doubled (e.g., `\"\"@context\"\":...` instead of `\"@context\"`) and in another file, an attempt at a comment was made using `//`.  While the error messages are useful in locating the general source of the error within a file, they're less informative for distinguishing what needs to be changed to correct the file."
   ]
  },
  {
   "cell_type": "markdown",
   "id": "90898c0f",
   "metadata": {},
   "source": [
    "Export a reports about the JSON errors."
   ]
  },
  {
   "cell_type": "code",
   "execution_count": 14,
   "id": "e8ed544f",
   "metadata": {},
   "outputs": [
    {
     "data": {
      "text/html": [
       "<div>\n",
       "<style scoped>\n",
       "    .dataframe tbody tr th:only-of-type {\n",
       "        vertical-align: middle;\n",
       "    }\n",
       "\n",
       "    .dataframe tbody tr th {\n",
       "        vertical-align: top;\n",
       "    }\n",
       "\n",
       "    .dataframe thead th {\n",
       "        text-align: right;\n",
       "    }\n",
       "</style>\n",
       "<table border=\"1\" class=\"dataframe\">\n",
       "  <thead>\n",
       "    <tr style=\"text-align: right;\">\n",
       "      <th></th>\n",
       "      <th>file_path</th>\n",
       "      <th>file_name</th>\n",
       "      <th>exception_type</th>\n",
       "    </tr>\n",
       "  </thead>\n",
       "  <tbody>\n",
       "    <tr>\n",
       "      <th>0</th>\n",
       "      <td>data/data_playground_task1/cleaned/cidoc_crm/c...</td>\n",
       "      <td>cidoccrm_record_018.json</td>\n",
       "      <td>&lt;class 'json.decoder.JSONDecodeError'&gt;</td>\n",
       "    </tr>\n",
       "    <tr>\n",
       "      <th>1</th>\n",
       "      <td>data/data_playground_task1/cleaned/cidoc_crm/c...</td>\n",
       "      <td>cidoccrm_record_070.json</td>\n",
       "      <td>&lt;class 'json.decoder.JSONDecodeError'&gt;</td>\n",
       "    </tr>\n",
       "    <tr>\n",
       "      <th>2</th>\n",
       "      <td>data/data_playground_task1/cleaned/schema_org/...</td>\n",
       "      <td>sdo_record_018.json</td>\n",
       "      <td>&lt;class 'json.decoder.JSONDecodeError'&gt;</td>\n",
       "    </tr>\n",
       "    <tr>\n",
       "      <th>3</th>\n",
       "      <td>data/data_task1/cleaned/schema_org/sdo_record_...</td>\n",
       "      <td>sdo_record_006.json</td>\n",
       "      <td>&lt;class 'json.decoder.JSONDecodeError'&gt;</td>\n",
       "    </tr>\n",
       "  </tbody>\n",
       "</table>\n",
       "</div>"
      ],
      "text/plain": [
       "                                           file_path  \\\n",
       "0  data/data_playground_task1/cleaned/cidoc_crm/c...   \n",
       "1  data/data_playground_task1/cleaned/cidoc_crm/c...   \n",
       "2  data/data_playground_task1/cleaned/schema_org/...   \n",
       "3  data/data_task1/cleaned/schema_org/sdo_record_...   \n",
       "\n",
       "                  file_name                          exception_type  \n",
       "0  cidoccrm_record_018.json  <class 'json.decoder.JSONDecodeError'>  \n",
       "1  cidoccrm_record_070.json  <class 'json.decoder.JSONDecodeError'>  \n",
       "2       sdo_record_018.json  <class 'json.decoder.JSONDecodeError'>  \n",
       "3       sdo_record_006.json  <class 'json.decoder.JSONDecodeError'>  "
      ]
     },
     "execution_count": 14,
     "metadata": {},
     "output_type": "execute_result"
    }
   ],
   "source": [
    "subdf_se = pd.DataFrame(df_se[[\"file_path\", \"file_name\", \"exception_type\"]].drop_duplicates())\n",
    "subdf_se.tail()"
   ]
  },
  {
   "cell_type": "code",
   "execution_count": 15,
   "id": "969d8e9d",
   "metadata": {},
   "outputs": [
    {
     "data": {
      "text/html": [
       "<div>\n",
       "<style scoped>\n",
       "    .dataframe tbody tr th:only-of-type {\n",
       "        vertical-align: middle;\n",
       "    }\n",
       "\n",
       "    .dataframe tbody tr th {\n",
       "        vertical-align: top;\n",
       "    }\n",
       "\n",
       "    .dataframe thead th {\n",
       "        text-align: right;\n",
       "    }\n",
       "</style>\n",
       "<table border=\"1\" class=\"dataframe\">\n",
       "  <thead>\n",
       "    <tr style=\"text-align: right;\">\n",
       "      <th></th>\n",
       "      <th>file_count</th>\n",
       "    </tr>\n",
       "    <tr>\n",
       "      <th>exception_type</th>\n",
       "      <th></th>\n",
       "    </tr>\n",
       "  </thead>\n",
       "  <tbody>\n",
       "    <tr>\n",
       "      <th>&lt;class 'json.decoder.JSONDecodeError'&gt;</th>\n",
       "      <td>4</td>\n",
       "    </tr>\n",
       "  </tbody>\n",
       "</table>\n",
       "</div>"
      ],
      "text/plain": [
       "                                        file_count\n",
       "exception_type                                    \n",
       "<class 'json.decoder.JSONDecodeError'>           4"
      ]
     },
     "execution_count": 15,
     "metadata": {},
     "output_type": "execute_result"
    }
   ],
   "source": [
    "type_report = pd.DataFrame(df_se[[\"exception_type\"]].value_counts())\n",
    "type_report = type_report.rename(columns={\"count\":\"file_count\"})\n",
    "type_report"
   ]
  },
  {
   "cell_type": "code",
   "execution_count": 18,
   "id": "b0f4cd17",
   "metadata": {},
   "outputs": [],
   "source": [
    "totals_report = pd.DataFrame({\n",
    "    \"exception_type\": [\"TOTAL FILES\", \"FILES WITH EXCEPTION\"],\n",
    "    \"file_count\": [len(json_file_paths), len(syntax_errors)]\n",
    "    })"
   ]
  },
  {
   "cell_type": "code",
   "execution_count": 19,
   "id": "897aba6c",
   "metadata": {},
   "outputs": [
    {
     "data": {
      "text/html": [
       "<div>\n",
       "<style scoped>\n",
       "    .dataframe tbody tr th:only-of-type {\n",
       "        vertical-align: middle;\n",
       "    }\n",
       "\n",
       "    .dataframe tbody tr th {\n",
       "        vertical-align: top;\n",
       "    }\n",
       "\n",
       "    .dataframe thead th {\n",
       "        text-align: right;\n",
       "    }\n",
       "</style>\n",
       "<table border=\"1\" class=\"dataframe\">\n",
       "  <thead>\n",
       "    <tr style=\"text-align: right;\">\n",
       "      <th></th>\n",
       "      <th>exception_type</th>\n",
       "      <th>file_count</th>\n",
       "      <th>proportion_of_all_files</th>\n",
       "    </tr>\n",
       "  </thead>\n",
       "  <tbody>\n",
       "    <tr>\n",
       "      <th>0</th>\n",
       "      <td>&lt;class 'json.decoder.JSONDecodeError'&gt;</td>\n",
       "      <td>4</td>\n",
       "      <td>1.88%</td>\n",
       "    </tr>\n",
       "    <tr>\n",
       "      <th>1</th>\n",
       "      <td>TOTAL FILES</td>\n",
       "      <td>213</td>\n",
       "      <td>100.00%</td>\n",
       "    </tr>\n",
       "    <tr>\n",
       "      <th>2</th>\n",
       "      <td>FILES WITH EXCEPTION</td>\n",
       "      <td>4</td>\n",
       "      <td>1.88%</td>\n",
       "    </tr>\n",
       "  </tbody>\n",
       "</table>\n",
       "</div>"
      ],
      "text/plain": [
       "                           exception_type  file_count proportion_of_all_files\n",
       "0  <class 'json.decoder.JSONDecodeError'>           4                   1.88%\n",
       "1                             TOTAL FILES         213                 100.00%\n",
       "2                    FILES WITH EXCEPTION           4                   1.88%"
      ]
     },
     "execution_count": 19,
     "metadata": {},
     "output_type": "execute_result"
    }
   ],
   "source": [
    "json_report = pd.concat([type_report.reset_index(), totals_report])\n",
    "proportions = (json_report[[\"file_count\"]]/(len(json_file_paths))).values\n",
    "percentages = [f\"{proportion[0]*100:.2f}%\" for proportion in proportions]\n",
    "json_report.insert(len(json_report.columns), \"proportion_of_all_files\", percentages)\n",
    "json_report = json_report.reset_index().drop(columns=[\"index\"])\n",
    "json_report\n"
   ]
  },
  {
   "cell_type": "markdown",
   "id": "dcee8031",
   "metadata": {},
   "source": [
    "Calculate how many files are meant to adhere to Schema.org and CIDOC-CRM models."
   ]
  },
  {
   "cell_type": "code",
   "execution_count": 20,
   "id": "951bb85a",
   "metadata": {},
   "outputs": [],
   "source": [
    "sdo_error_df = subdf_se.loc[subdf_se.file_name.str.contains(\"sdo\")]\n",
    "cidoc_error_df = subdf_se.loc[subdf_se.file_name.str.contains(\"cidoccrm\")]"
   ]
  },
  {
   "cell_type": "code",
   "execution_count": 21,
   "id": "e9f48b27",
   "metadata": {},
   "outputs": [],
   "source": [
    "exception_types = df_se.exception_type.unique()\n",
    "assert len(exception_types) == 1, \"There are multiple exception types in the JSON files: {}\".format(exception_types)\n",
    "df_type = df_se.loc[df_se.exception_type == exception_types[0]]\n",
    "sdo_type_df = df_type.loc[df_type.file_name.str.contains(\"sdo\")]\n",
    "cidoc_type_df = df_type.loc[df_type.file_name.str.contains(\"cidoccrm\")]"
   ]
  },
  {
   "cell_type": "code",
   "execution_count": 22,
   "id": "9cb7eb76",
   "metadata": {},
   "outputs": [
    {
     "data": {
      "text/html": [
       "<div>\n",
       "<style scoped>\n",
       "    .dataframe tbody tr th:only-of-type {\n",
       "        vertical-align: middle;\n",
       "    }\n",
       "\n",
       "    .dataframe tbody tr th {\n",
       "        vertical-align: top;\n",
       "    }\n",
       "\n",
       "    .dataframe thead th {\n",
       "        text-align: right;\n",
       "    }\n",
       "</style>\n",
       "<table border=\"1\" class=\"dataframe\">\n",
       "  <thead>\n",
       "    <tr style=\"text-align: right;\">\n",
       "      <th></th>\n",
       "      <th>exception_type</th>\n",
       "      <th>file_count</th>\n",
       "      <th>proportion_of_all_files</th>\n",
       "      <th>schema_org_files</th>\n",
       "      <th>proportion_of_schema_files</th>\n",
       "      <th>schema_proportion_of_all_files</th>\n",
       "      <th>cidoc_crm_files</th>\n",
       "      <th>proportion_of_cidoc_files</th>\n",
       "      <th>cidoc_proportion_of_all_files</th>\n",
       "    </tr>\n",
       "  </thead>\n",
       "  <tbody>\n",
       "    <tr>\n",
       "      <th>0</th>\n",
       "      <td>&lt;class 'json.decoder.JSONDecodeError'&gt;</td>\n",
       "      <td>4</td>\n",
       "      <td>1.88%</td>\n",
       "      <td>2</td>\n",
       "      <td>1.72%</td>\n",
       "      <td>0.94%</td>\n",
       "      <td>2</td>\n",
       "      <td>2.06%</td>\n",
       "      <td>0.94%</td>\n",
       "    </tr>\n",
       "    <tr>\n",
       "      <th>1</th>\n",
       "      <td>TOTAL FILES</td>\n",
       "      <td>213</td>\n",
       "      <td>100.00%</td>\n",
       "      <td>116</td>\n",
       "      <td>100.00%</td>\n",
       "      <td>54.46%</td>\n",
       "      <td>97</td>\n",
       "      <td>100.00%</td>\n",
       "      <td>45.54%</td>\n",
       "    </tr>\n",
       "    <tr>\n",
       "      <th>2</th>\n",
       "      <td>FILES WITH EXCEPTION</td>\n",
       "      <td>4</td>\n",
       "      <td>1.88%</td>\n",
       "      <td>2</td>\n",
       "      <td>1.72%</td>\n",
       "      <td>0.94%</td>\n",
       "      <td>2</td>\n",
       "      <td>2.06%</td>\n",
       "      <td>0.94%</td>\n",
       "    </tr>\n",
       "  </tbody>\n",
       "</table>\n",
       "</div>"
      ],
      "text/plain": [
       "                           exception_type  file_count proportion_of_all_files  \\\n",
       "0  <class 'json.decoder.JSONDecodeError'>           4                   1.88%   \n",
       "1                             TOTAL FILES         213                 100.00%   \n",
       "2                    FILES WITH EXCEPTION           4                   1.88%   \n",
       "\n",
       "   schema_org_files proportion_of_schema_files schema_proportion_of_all_files  \\\n",
       "0                 2                      1.72%                          0.94%   \n",
       "1               116                    100.00%                         54.46%   \n",
       "2                 2                      1.72%                          0.94%   \n",
       "\n",
       "   cidoc_crm_files proportion_of_cidoc_files cidoc_proportion_of_all_files  \n",
       "0                2                     2.06%                         0.94%  \n",
       "1               97                   100.00%                        45.54%  \n",
       "2                2                     2.06%                         0.94%  "
      ]
     },
     "execution_count": 22,
     "metadata": {},
     "output_type": "execute_result"
    }
   ],
   "source": [
    "json_report.insert(len(json_report.columns), \"schema_org_files\", [sdo_type_df.shape[0], len(schema_file_paths), sdo_error_df.shape[0]])\n",
    "proportions = (json_report[[\"schema_org_files\"]]/(len(schema_file_paths))).values\n",
    "percentages = [f\"{proportion[0]*100:.2f}%\" for proportion in proportions]\n",
    "json_report.insert(len(json_report.columns), \"proportion_of_schema_files\", percentages)\n",
    "proportions = (json_report[[\"schema_org_files\"]]/(len(json_file_paths))).values\n",
    "percentages = [f\"{proportion[0]*100:.2f}%\" for proportion in proportions]\n",
    "json_report.insert(len(json_report.columns), \"schema_proportion_of_all_files\", percentages)\n",
    "\n",
    "json_report.insert(len(json_report.columns), \"cidoc_crm_files\", [cidoc_type_df.shape[0], len(cidoc_file_paths), cidoc_error_df.shape[0]])\n",
    "proportions = (json_report[[\"cidoc_crm_files\"]]/(len(cidoc_file_paths))).values\n",
    "percentages = [f\"{proportion[0]*100:.2f}%\" for proportion in proportions]\n",
    "json_report.insert(len(json_report.columns), \"proportion_of_cidoc_files\", percentages)\n",
    "proportions = (json_report[[\"cidoc_crm_files\"]]/(len(json_file_paths))).values\n",
    "percentages = [f\"{proportion[0]*100:.2f}%\" for proportion in proportions]\n",
    "json_report.insert(len(json_report.columns), \"cidoc_proportion_of_all_files\", percentages)\n",
    "\n",
    "json_report"
   ]
  },
  {
   "cell_type": "markdown",
   "id": "94d786ff",
   "metadata": {},
   "source": [
    "Save the reports as CSV files."
   ]
  },
  {
   "cell_type": "code",
   "execution_count": 23,
   "id": "18c1206c",
   "metadata": {},
   "outputs": [],
   "source": [
    "metadata_standard = \"cidoc-and-sdo\"\n",
    "data_serialization = \"json\""
   ]
  },
  {
   "cell_type": "code",
   "execution_count": 24,
   "id": "f44a5299",
   "metadata": {},
   "outputs": [],
   "source": [
    "report_type = \"syntax_error_stats\"\n",
    "json_report.to_csv(\n",
    "    report_dir+\"{metadata_standard}_{data_serialization}_{report_type}.csv\".format(\n",
    "        metadata_standard=metadata_standard,\n",
    "        data_serialization=data_serialization,\n",
    "        report_type=report_type\n",
    "        ), index=False\n",
    "    )"
   ]
  },
  {
   "cell_type": "code",
   "execution_count": 25,
   "id": "2a56cf64",
   "metadata": {},
   "outputs": [],
   "source": [
    "report_type = \"syntax_errors\"\n",
    "df_se.to_csv(\n",
    "    report_dir+\"{metadata_standard}_{data_serialization}_{report_type}.csv\".format(\n",
    "        metadata_standard=metadata_standard,\n",
    "        data_serialization=data_serialization,\n",
    "        report_type=report_type\n",
    "        ), index=False\n",
    "    )"
   ]
  },
  {
   "cell_type": "code",
   "execution_count": null,
   "id": "13b4a8b6",
   "metadata": {},
   "outputs": [],
   "source": []
  }
 ],
 "metadata": {
  "kernelspec": {
   "display_name": "ldeval",
   "language": "python",
   "name": "python3"
  },
  "language_info": {
   "codemirror_mode": {
    "name": "ipython",
    "version": 3
   },
   "file_extension": ".py",
   "mimetype": "text/x-python",
   "name": "python",
   "nbconvert_exporter": "python",
   "pygments_lexer": "ipython3",
   "version": "3.13.2"
  }
 },
 "nbformat": 4,
 "nbformat_minor": 5
}
