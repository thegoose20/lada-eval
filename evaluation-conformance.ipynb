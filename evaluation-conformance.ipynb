{
 "cells": [
  {
   "cell_type": "markdown",
   "id": "9a6e0cf2",
   "metadata": {},
   "source": [
    "# Evaluation: Conformance and Consistency\n",
    "Part III of the computational evaluation of AI-generated linked data for [Linking Anthropology's Data and Archives (LADA)](https://ischool.umd.edu/projects/building-a-sustainable-future-for-anthropologys-archives-researching-primary-source-data-lifecycles-infrastructures-and-reuse/), focused on conformance to ontologies (i.e., Dublin Core, Schema.org, CIDOC-CRM) and consistency in the conformance across generated data points (e.g., is all data on one or two lines, or does each tag, subtag, etc. appear on its own line?).\n",
    "\n",
    "---\n",
    "\n",
    "**Table of Contents:**\n",
    "\n",
    "I. [Data Loading](#data-loading)\n",
    "\n",
    "II. [XML and RDF/XML](#xml-and-rdfxml)\n",
    "\n",
    "  * [Dublin Core](#dublin-core)\n",
    "\n",
    "III. [JSON-LD](#json-ld)\n",
    "\n",
    "  * [Schema.org](#schemaorg)\n",
    "\n",
    "  * [CIDOC-CRM](#cidoc-crm)\n",
    "\n",
    "---"
   ]
  },
  {
   "cell_type": "markdown",
   "id": "6dfa2d88",
   "metadata": {},
   "source": [
    "## Data Loading"
   ]
  },
  {
   "cell_type": "code",
   "execution_count": 1,
   "id": "64193bd8",
   "metadata": {},
   "outputs": [],
   "source": [
    "import utils\n",
    "import config\n",
    "import pandas as pd\n",
    "import numpy as np\n",
    "import urllib\n",
    "import urllib.request\n",
    "import xml.etree.ElementTree as ET\n",
    "import json\n",
    "from lxml import etree\n",
    "import rdflib\n",
    "from rdflib.namespace import DC, SDO # Dublin Core, Schema.org\n",
    "from pathlib import Path\n",
    "import os\n",
    "import re\n",
    "\n",
    "# sax - to validate XML well-formed\n",
    "# xml.etree.ElementTree - to validate text between tags\n",
    "# xml.etree.ElementTree + xml.etree.ElementTree.XMLSchema's validate() - to validate XML well-formed\n",
    "# lxml etree.XMLParser - to validate well-formed based on input XML schema\n",
    "# json_checker - to validate Python data types (incl. but not limited to those obtained from JSON)\n",
    "# jsonschema.validate\n",
    "# ShEx - for RDF graphs, ShExJ for JSON - NOTE: couldn't install package\n",
    "# OntoME - for CIDOC-CRM ontology alignment\n",
    "# Try PyLD, if RDFLib not working/not doing what want"
   ]
  },
  {
   "cell_type": "markdown",
   "id": "2fb40902",
   "metadata": {},
   "source": [
    "Create variables to reference existing directories and files."
   ]
  },
  {
   "cell_type": "code",
   "execution_count": 2,
   "id": "a8b711da",
   "metadata": {},
   "outputs": [],
   "source": [
    "dublin_path = \"cleaned/dublin_core/\"  # XML data files\n",
    "schema_path = \"cleaned/schema_org/\"   # JSON data files\n",
    "cidoc_path = \"cleaned/cidoc_crm/\"     # JSON data files\n",
    "\n",
    "dublin_t1_dir = config.task1_data+dublin_path\n",
    "schema_t1_dir = config.task1_data+schema_path\n",
    "cidoc_t1_dir = config.task1_data+cidoc_path\n",
    "\n",
    "dublin_p1_dir = config.playgrd1_data+dublin_path\n",
    "schema_p1_dir = config.playgrd1_data+schema_path\n",
    "cidoc_p1_dir = config.playgrd1_data+cidoc_path\n",
    "\n",
    "dublin_p3_dir = config.playgrd3_data+dublin_path\n",
    "schema_p3_dir = config.playgrd3_data+schema_path\n",
    "cidoc_p3_dir = config.playgrd3_data+cidoc_path"
   ]
  },
  {
   "cell_type": "code",
   "execution_count": 3,
   "id": "3fc3bbfa",
   "metadata": {},
   "outputs": [],
   "source": [
    "dc_paths = [dublin_t1_dir, dublin_p1_dir, dublin_p3_dir]\n",
    "sdo_paths = [schema_t1_dir, schema_p1_dir, schema_p3_dir]\n",
    "cidoc_paths = [cidoc_t1_dir, cidoc_p1_dir, cidoc_p3_dir]"
   ]
  },
  {
   "cell_type": "code",
   "execution_count": 4,
   "id": "ecf55161",
   "metadata": {},
   "outputs": [],
   "source": [
    "d = \"conformance\"\n",
    "report_dir = f\"data/error_reports/{d}/\"\n",
    "Path(report_dir).mkdir(parents=True, exist_ok=True)\n",
    "\n",
    "# report_dir = f\"data/error_reports/{d}/after_correction/\"\n",
    "# Path(report_dir).mkdir(parents=True, exist_ok=True)"
   ]
  },
  {
   "cell_type": "markdown",
   "id": "f60572ae",
   "metadata": {},
   "source": [
    "## XML and RDF/XML"
   ]
  },
  {
   "cell_type": "markdown",
   "id": "3844591f",
   "metadata": {},
   "source": [
    "### Dublin Core"
   ]
  },
  {
   "cell_type": "markdown",
   "id": "b0f410af",
   "metadata": {},
   "source": [
    "***Note:***\n",
    "\n",
    "*The Dublin Core schemas' URLs below are from [dublincore.org](https://www.dublincore.org/schemas/xmls/) under \"Latest versions are always available as: ...\"*\n",
    "\n",
    "*Another resource: https://www.dublincore.org/specifications/dublin-core/dc-rdf-notes/*"
   ]
  },
  {
   "cell_type": "code",
   "execution_count": 5,
   "id": "3ef28086",
   "metadata": {},
   "outputs": [],
   "source": [
    "dc_elements_schema_url = \"https://www.dublincore.org/schemas/xmls/qdc/dc.xsd\"\n",
    "dc_terms_schema_url = \"https://www.dublincore.org/schemas/xmls/qdc/dcterms.xsd\"\n",
    "dc_mitype_schema_url = \"https://www.dublincore.org/schemas/xmls/qdc/dcmitype.xsd\"\n",
    "dc_xsd_urls = [dc_elements_schema_url, dc_terms_schema_url, dc_mitype_schema_url]"
   ]
  },
  {
   "cell_type": "code",
   "execution_count": null,
   "id": "206c3e16",
   "metadata": {},
   "outputs": [],
   "source": [
    "# # # https://lxml.de/resolvers.html\n",
    "class DCResolver(etree.Resolver):\n",
    "    def resolve(self, url, pubid, context):\n",
    "        try:\n",
    "            remote_url = \"https://www.dublincore.org/schemas/xmls/qdc/dc.xsd\"\n",
    "            with urllib.request.urlopen(remote_url, timeout=10) as response:\n",
    "                content = response.read()\n",
    "            return self.resolve_string(content, context)\n",
    "        except Exception as e:\n",
    "            return f\"Failed to resolve {url}: {str(e)}\"\n",
    "\n",
    "class DCMITypeResolver(etree.Resolver):\n",
    "    def resolve(self, url, pubid, context):\n",
    "        try:\n",
    "            remote_url = \"https://www.dublincore.org/schemas/xmls/qdc/dcmitype.xsd\"\n",
    "            with urllib.request.urlopen(remote_url, timeout=10) as response:\n",
    "                content = response.read()\n",
    "            return self.resolve_string(content, context)\n",
    "        except Exception as e:\n",
    "            return f\"Failed to resolve {url}: {str(e)}\"\n",
    "\n",
    "parser = etree.XMLParser()\n",
    "parser.resolvers.add(DCResolver())\n",
    "parser.resolvers.add(DCMITypeResolver())"
   ]
  },
  {
   "cell_type": "code",
   "execution_count": 41,
   "id": "58ce0a17",
   "metadata": {},
   "outputs": [],
   "source": [
    "def getXMLSchema(url, parser=parser, user_agent={'User-Agent': 'Mozilla/8.0'}):\n",
    "    xsd_request = urllib.request.Request(url, headers=user_agent)\n",
    "    xsd_content = urllib.request.urlopen(xsd_request, timeout=5).read()\n",
    "    xml_xsd = etree.XML(xsd_content, parser)\n",
    "    return etree.XMLSchema(xml_xsd)"
   ]
  },
  {
   "cell_type": "code",
   "execution_count": 47,
   "id": "f26fe0b0",
   "metadata": {},
   "outputs": [
    {
     "ename": "XMLSchemaParseError",
     "evalue": "Internal error: xmlSchemaBucketCreate, failed to add the schema bucket to the hash.",
     "output_type": "error",
     "traceback": [
      "\u001b[31m---------------------------------------------------------------------------\u001b[39m",
      "\u001b[31mXMLSchemaParseError\u001b[39m                       Traceback (most recent call last)",
      "\u001b[36mCell\u001b[39m\u001b[36m \u001b[39m\u001b[32mIn[47]\u001b[39m\u001b[32m, line 32\u001b[39m\n\u001b[32m     30\u001b[39m     xsd_content = response.read()\n\u001b[32m     31\u001b[39m xml_xsd = etree.XML(xsd_content, parser)\n\u001b[32m---> \u001b[39m\u001b[32m32\u001b[39m xsd = \u001b[43metree\u001b[49m\u001b[43m.\u001b[49m\u001b[43mXMLSchema\u001b[49m\u001b[43m(\u001b[49m\u001b[43mxml_xsd\u001b[49m\u001b[43m)\u001b[49m\n",
      "\u001b[36mFile \u001b[39m\u001b[32msrc/lxml/xmlschema.pxi:90\u001b[39m, in \u001b[36mlxml.etree.XMLSchema.__init__\u001b[39m\u001b[34m()\u001b[39m\n",
      "\u001b[31mXMLSchemaParseError\u001b[39m: Internal error: xmlSchemaBucketCreate, failed to add the schema bucket to the hash."
     ]
    }
   ],
   "source": [
    "# https://lxml.de/resolvers.html\n",
    "class DCResolver(etree.Resolver):\n",
    "    def resolve(self, url, pubid, context):\n",
    "        try:\n",
    "            remote_url = \"https://www.dublincore.org/schemas/xmls/qdc/dc.xsd\"\n",
    "            with urllib.request.urlopen(remote_url, timeout=10) as response:\n",
    "                content = response.read()\n",
    "            return self.resolve_string(content, context)\n",
    "        except Exception as e:\n",
    "            return f\"Failed to resolve {url}: {str(e)}\"\n",
    "\n",
    "class DCMITypeResolver(etree.Resolver):\n",
    "    def resolve(self, url, pubid, context):\n",
    "        try:\n",
    "            remote_url = \"https://www.dublincore.org/schemas/xmls/qdc/dcmitype.xsd\"\n",
    "            with urllib.request.urlopen(remote_url, timeout=10) as response:\n",
    "                content = response.read()\n",
    "            return self.resolve_string(content, context)\n",
    "        except Exception as e:\n",
    "            print(f\"Failed to resolve {url}: {str(e)}\")\n",
    "            return None\n",
    "\n",
    "parser = etree.XMLParser()\n",
    "parser.resolvers.add(DCResolver())\n",
    "parser.resolvers.add(DCMITypeResolver())\n",
    "\n",
    "url = 'https://www.dublincore.org/schemas/xmls/qdc/dcterms.xsd'\n",
    "request = urllib.request.Request(url, headers={'User-Agent': 'Mozilla/9.0'})\n",
    "with urllib.request.urlopen(request, timeout=5) as response:\n",
    "    xsd_content = response.read()\n",
    "xml_xsd = etree.XML(xsd_content, parser)\n",
    "xsd = etree.XMLSchema(xml_xsd)"
   ]
  },
  {
   "cell_type": "code",
   "execution_count": 49,
   "id": "1a1658cd",
   "metadata": {},
   "outputs": [
    {
     "name": "stdout",
     "output_type": "stream",
     "text": [
      "Failed to resolve dc.xsd: 'DublinCoreResolver' object has no attribute 'resolve_fileobj'\n",
      "Failed to resolve dcmitype.xsd: 'DublinCoreResolver' object has no attribute 'resolve_fileobj'\n"
     ]
    },
    {
     "ename": "XMLSchemaParseError",
     "evalue": "element decl. '{http://purl.org/dc/terms/}title', attribute 'substitutionGroup': The QName value '{http://purl.org/dc/elements/1.1/}title' does not resolve to a(n) element declaration.",
     "output_type": "error",
     "traceback": [
      "\u001b[31m---------------------------------------------------------------------------\u001b[39m",
      "\u001b[31mXMLSchemaParseError\u001b[39m                       Traceback (most recent call last)",
      "\u001b[36mCell\u001b[39m\u001b[36m \u001b[39m\u001b[32mIn[49]\u001b[39m\u001b[32m, line 38\u001b[39m\n\u001b[32m     35\u001b[39m     xsd_content = response.read()\n\u001b[32m     37\u001b[39m xml_schema_doc = etree.XML(xsd_content, parser)\n\u001b[32m---> \u001b[39m\u001b[32m38\u001b[39m xsd_schema = \u001b[43metree\u001b[49m\u001b[43m.\u001b[49m\u001b[43mXMLSchema\u001b[49m\u001b[43m(\u001b[49m\u001b[43mxml_schema_doc\u001b[49m\u001b[43m)\u001b[49m\n",
      "\u001b[36mFile \u001b[39m\u001b[32msrc/lxml/xmlschema.pxi:90\u001b[39m, in \u001b[36mlxml.etree.XMLSchema.__init__\u001b[39m\u001b[34m()\u001b[39m\n",
      "\u001b[31mXMLSchemaParseError\u001b[39m: element decl. '{http://purl.org/dc/terms/}title', attribute 'substitutionGroup': The QName value '{http://purl.org/dc/elements/1.1/}title' does not resolve to a(n) element declaration."
     ]
    }
   ],
   "source": [
    "from io import BytesIO\n",
    "\n",
    "class DublinCoreResolver(etree.Resolver):\n",
    "    def resolve(self, url, pubid, context):\n",
    "        try:\n",
    "            base_url = \"https://www.dublincore.org/schemas/xmls/qdc/\"\n",
    "            if url.endswith(\"dc.xsd\"):\n",
    "                target_url = base_url + \"dc.xsd\"\n",
    "            elif url.endswith(\"dcmitype.xsd\"):\n",
    "                target_url = base_url + \"dcmitype.xsd\"\n",
    "            else:\n",
    "                return None  # Let default resolver handle others\n",
    "\n",
    "            with urllib.request.urlopen(target_url, timeout=10) as response:\n",
    "                content = response.read()\n",
    "\n",
    "            # Create a file-like object for content\n",
    "            fileobj = BytesIO(content)\n",
    "\n",
    "            # Use resolve_fileobj and set system_url\n",
    "            input_source = self.resolve_fileobj(fileobj, context)\n",
    "            input_source.system_url = target_url\n",
    "            return input_source\n",
    "\n",
    "        except Exception as e:\n",
    "            print(f\"Failed to resolve {url}: {e}\")\n",
    "            return None\n",
    "\n",
    "parser = etree.XMLParser()\n",
    "parser.resolvers.add(DublinCoreResolver())\n",
    "\n",
    "main_url = 'https://www.dublincore.org/schemas/xmls/qdc/dcterms.xsd'\n",
    "request = urllib.request.Request(main_url, headers={'User-Agent': 'Mozilla/9.0'})\n",
    "with urllib.request.urlopen(request, timeout=10) as response:\n",
    "    xsd_content = response.read()\n",
    "\n",
    "xml_schema_doc = etree.XML(xsd_content, parser)\n",
    "xsd_schema = etree.XMLSchema(xml_schema_doc)"
   ]
  },
  {
   "cell_type": "code",
   "execution_count": 42,
   "id": "7aa1ea95",
   "metadata": {},
   "outputs": [
    {
     "ename": "XMLSchemaParseError",
     "evalue": "Internal error: xmlSchemaBucketCreate, failed to add the schema bucket to the hash.",
     "output_type": "error",
     "traceback": [
      "\u001b[31m---------------------------------------------------------------------------\u001b[39m",
      "\u001b[31mXMLSchemaParseError\u001b[39m                       Traceback (most recent call last)",
      "\u001b[36mCell\u001b[39m\u001b[36m \u001b[39m\u001b[32mIn[42]\u001b[39m\u001b[32m, line 1\u001b[39m\n\u001b[32m----> \u001b[39m\u001b[32m1\u001b[39m xsd = \u001b[43mgetXMLSchema\u001b[49m\u001b[43m(\u001b[49m\u001b[43mdc_xsd_urls\u001b[49m\u001b[43m[\u001b[49m\u001b[32;43m1\u001b[39;49m\u001b[43m]\u001b[49m\u001b[43m)\u001b[49m\n",
      "\u001b[36mCell\u001b[39m\u001b[36m \u001b[39m\u001b[32mIn[41]\u001b[39m\u001b[32m, line 5\u001b[39m, in \u001b[36mgetXMLSchema\u001b[39m\u001b[34m(url, parser, user_agent)\u001b[39m\n\u001b[32m      3\u001b[39m xsd_content = urllib.request.urlopen(xsd_request, timeout=\u001b[32m5\u001b[39m).read()\n\u001b[32m      4\u001b[39m xml_xsd = etree.XML(xsd_content, parser)\n\u001b[32m----> \u001b[39m\u001b[32m5\u001b[39m \u001b[38;5;28;01mreturn\u001b[39;00m \u001b[43metree\u001b[49m\u001b[43m.\u001b[49m\u001b[43mXMLSchema\u001b[49m\u001b[43m(\u001b[49m\u001b[43mxml_xsd\u001b[49m\u001b[43m)\u001b[49m\n",
      "\u001b[36mFile \u001b[39m\u001b[32msrc/lxml/xmlschema.pxi:90\u001b[39m, in \u001b[36mlxml.etree.XMLSchema.__init__\u001b[39m\u001b[34m()\u001b[39m\n",
      "\u001b[31mXMLSchemaParseError\u001b[39m: Internal error: xmlSchemaBucketCreate, failed to add the schema bucket to the hash."
     ]
    }
   ],
   "source": [
    "xsd = getXMLSchema(dc_xsd_urls[1])"
   ]
  },
  {
   "cell_type": "markdown",
   "id": "c50c615f",
   "metadata": {},
   "source": [
    "Create variables for the two Dublin Core Metadata Initative namespaces."
   ]
  },
  {
   "cell_type": "code",
   "execution_count": 4,
   "id": "dec4bc34",
   "metadata": {},
   "outputs": [],
   "source": [
    "dcmi_legacy = [\"creator\", \"contributor\", \"date\", \"title\", \"publisher\", \n",
    "             \"language\", \"format\", \"subject\", \"description\", \"identifier\", \n",
    "             \"relation\", \"source\", \"type\", \"coverage\", \"rights\"]\n",
    "dcmi_terms = [\"dcterms:creator\", \"dcterms:contributor\", \"dcterms:date\", \"dcterms:title\", \"dcterms:publisher\", \n",
    "             \"dcterms:language\", \"dcterms:format\", \"dcterms:subject\", \"dcterms:description\", \"dcterms:identifier\", \n",
    "             \"dcterms:relation\", \"dcterms:source\", \"dcterms:type\", \"dcterms:coverage\", \"dcterms:rights\"]"
   ]
  },
  {
   "cell_type": "code",
   "execution_count": 5,
   "id": "061f6d6c",
   "metadata": {},
   "outputs": [],
   "source": [
    "url = dc_elements_schema_url"
   ]
  },
  {
   "cell_type": "code",
   "execution_count": null,
   "id": "a0360f28",
   "metadata": {},
   "outputs": [],
   "source": [
    "content = urllib.request.urlopen(url)\n",
    "parser = etree.XMLParser()\n",
    "dc_elements_tree = etree.parse(content, parser)\n",
    "dc_elements_schema = etree.XMLSchema(dc_elements_tree)"
   ]
  },
  {
   "cell_type": "code",
   "execution_count": 10,
   "id": "702b76a1",
   "metadata": {},
   "outputs": [
    {
     "name": "stdout",
     "output_type": "stream",
     "text": [
      "dc_record_024.xml\n"
     ]
    }
   ],
   "source": [
    "dc_t1_files = os.listdir(dc_paths[0])\n",
    "print(dc_t1_files[0])"
   ]
  },
  {
   "cell_type": "code",
   "execution_count": 12,
   "id": "ae842096",
   "metadata": {},
   "outputs": [],
   "source": [
    "xml_doc = etree.parse(dublin_t1_dir+dc_t1_files[0])\n",
    "result = dc_elements_schema.validate(xml_doc)"
   ]
  },
  {
   "cell_type": "code",
   "execution_count": null,
   "id": "050ee878",
   "metadata": {},
   "outputs": [
    {
     "data": {
      "text/plain": [
       "'data/data_playground_task1/cleaned/dublin_core/dc_record_001.xml'"
      ]
     },
     "metadata": {},
     "output_type": "display_data"
    }
   ],
   "source": [
    "dublin_file_paths[1]"
   ]
  },
  {
   "cell_type": "markdown",
   "id": "9c290e39",
   "metadata": {},
   "source": [
    "For metadata using the terms namespace (e.g., `dcterms:title`), make sure that only the properties permitted to have literals do, in fact, have literals (meaning they are not URIs, they're strings) and that only the properties permitted to have nonliterals do, in fact, have nonliterals (meaning they are URIs).  See a list of which properties can have what [here](https://www.dublincore.org/resources/userguide/publishing_metadata/#Properties_of_the_terms_namespace_used_only_with_literal_values).\n",
    "\n",
    "For metadata using the legacy namespace (e.g., `dc:title`), all properties' values can be literals or nonliterals.\n"
   ]
  },
  {
   "cell_type": "code",
   "execution_count": null,
   "id": "5e8dbbd2",
   "metadata": {},
   "outputs": [],
   "source": []
  },
  {
   "cell_type": "markdown",
   "id": "dde2e643",
   "metadata": {},
   "source": [
    "Check that each XML file includes a DOCTYPE and the simple Dublin Core namespace (an exception may not be thrown during parsing even if these are missing from an XML file)."
   ]
  },
  {
   "cell_type": "code",
   "execution_count": null,
   "id": "86d56f18",
   "metadata": {},
   "outputs": [],
   "source": [
    "prolog = '<?xml version=\"1.0\"?>'\n",
    "dc_namespace_simple = 'xmlns:dc=\"http://purl.org/dc/elements/1.1/\">'"
   ]
  },
  {
   "cell_type": "code",
   "execution_count": null,
   "id": "a3aaddc0",
   "metadata": {},
   "outputs": [
    {
     "name": "stdout",
     "output_type": "stream",
     "text": [
      "Total correct Dublin Core XML files: 2\n",
      "Files with errors: 105 of 107 (98.13%)\n"
     ]
    }
   ],
   "source": [
    "correct_files, other_errors = [], []\n",
    "for f_xml in dublin_file_paths:\n",
    "    if not f_xml in errored_files:\n",
    "        f_txt = f_xml.replace(\".xml\", \".txt\")\n",
    "        with open(f_txt, \"r\") as f:\n",
    "            content = f.read()\n",
    "            if not prolog in content:\n",
    "                errored_files += [f_xml]\n",
    "                f_error = {\"file\": f_xml, \"exception_type\": \"Custom syntax\", \"exception_subtype\": \"Prolog\", \"exception_message\": \"No prolog\"}\n",
    "                other_errors += [f_error]\n",
    "            if not dc_namespace_simple in content:\n",
    "                errored_files += [f_xml]\n",
    "                f_error = {\"file\": f_xml, \"exception_type\": \"Custom syntax\", \"exception_subtype\": \"Namespace\", \"exception_message\": \"No DC namespace\"}\n",
    "                other_errors += [f_error]\n",
    "            if not f_xml in errored_files:\n",
    "                correct_files += [f_xml]\n",
    "            f.close()\n",
    "\n",
    "errored_files = list(set(errored_files))\n",
    "correct_files = list(set(correct_files))\n",
    "\n",
    "print(\"Total correct Dublin Core XML files:\", len(correct_files))\n",
    "print(\"Files with errors:\", \n",
    "      len(errored_files), \"of\", total_dcxml_files,\n",
    "      f\"({(len(errored_files)/total_dcxml_files)*100:.2f}%)\")"
   ]
  },
  {
   "cell_type": "code",
   "execution_count": null,
   "id": "94e948f6",
   "metadata": {},
   "outputs": [],
   "source": [
    "prolog = '<?xml version=\"1.0\"?>'\n",
    "\n",
    "\n",
    "# Be sure the XML data includes a DOCTYPE declaration if specified in the prolog parameter\n",
    "has_prolog = re.findall(\"^\\<\\?xml version=.+\\?>\", f_string)\n",
    "if not include_prolog:\n",
    "    if len(has_prolog) > 0:\n",
    "        f_string = f_string.replace(has_prolog[0], \"\")\n",
    "else:\n",
    "    if len(has_prolog) == 0:\n",
    "        f_string = prolog + \"\\n\" + f_string\n",
    "    # Make sure the prolog is consistent across all files\n",
    "    elif has_prolog[0] != prolog:\n",
    "        f_string = f_string.replace(has_prolog[0], prolog)"
   ]
  },
  {
   "cell_type": "code",
   "execution_count": null,
   "id": "13378796",
   "metadata": {},
   "outputs": [],
   "source": []
  },
  {
   "cell_type": "code",
   "execution_count": null,
   "id": "e9d5b4a2",
   "metadata": {},
   "outputs": [],
   "source": []
  },
  {
   "cell_type": "markdown",
   "id": "40bae176",
   "metadata": {},
   "source": [
    "ALSO??? Make sure that literals (non-URIs, or strings) are not in the subject or predicate of a triple (they can only be in the object position, but objects can also be nonliterals)."
   ]
  },
  {
   "cell_type": "code",
   "execution_count": null,
   "id": "98a93d8c",
   "metadata": {},
   "outputs": [],
   "source": []
  },
  {
   "cell_type": "code",
   "execution_count": null,
   "id": "f8274d71",
   "metadata": {},
   "outputs": [],
   "source": []
  },
  {
   "cell_type": "markdown",
   "id": "3539970c",
   "metadata": {},
   "source": [
    "## JSON-LD"
   ]
  },
  {
   "cell_type": "code",
   "execution_count": null,
   "id": "9b8d9630",
   "metadata": {},
   "outputs": [],
   "source": [
    "# doc = {\n",
    "#     \"http://schema.org/name\": \"Manu Sporny\",\n",
    "#     \"http://schema.org/url\": {\"@id\": \"http://manu.sporny.org/\"},\n",
    "#     \"http://schema.org/image\": {\"@id\": \"http://manu.sporny.org/images/manu.png\"}\n",
    "# }\n",
    "# playground_task3 sdo_record_006.json\n",
    "doc = {\n",
    "  \"@context\": \"https://schema.org\",\n",
    "  # \"@type\": \"Collection\",\n",
    "  \"name\": \"Adam Makowicz Collection\",\n",
    "  \"identifier\": \"06-034\",\n",
    "  \"creator\": {\n",
    "    \"@type\": \"Person\",\n",
    "    \"name\": \"Adam Makowicz\",\n",
    "    # \"birthDate\": \"1940\"\n",
    "  },\n",
    "  # \"description\": \"Collection of correspondence, promotional materials, photographs, sound recordings, and scores documenting the career of Adam Makowicz from 1973–2009.\",\n",
    "  # \"temporalCoverage\": \"1973/2009\",\n",
    "  # \"inLanguage\": \"en\",\n",
    "  \"holdingArchive\": {\n",
    "    \"@type\": \"ArchiveOrganization\",\n",
    "    \"name\": \"Music Library, University of North Texas\",\n",
    "    \"url\": \"http://url.unspecified\"\n",
    "  },\n",
    "  # \"accessMode\": \"Special arrangement required\",\n",
    "  # \"materialExtent\": \"18 boxes\",\n",
    "  # \"genre\": \"Jazz\",\n",
    "  \"hasPart\": [\n",
    "    {\n",
    "      \"@type\": \"CreativeWork\",\n",
    "      \"name\": \"Audio and video recordings\",\n",
    "      # \"encodingFormat\": \"analog reel, cassette, CD, LP\"\n",
    "    },\n",
    "    {\n",
    "      \"@type\": \"CreativeWork\",\n",
    "      \"name\": \"Photographs, scores, promotional materials\"\n",
    "    }\n",
    "  ]\n",
    "}\n"
   ]
  },
  {
   "cell_type": "code",
   "execution_count": null,
   "id": "30bcef4a",
   "metadata": {},
   "outputs": [
    {
     "ename": "JsonLdError",
     "evalue": "('Could not expand input before flattening.',)\nType: jsonld.FlattenError\nCause: ('Dereferencing a URL did not result in a valid JSON-LD object. Possible causes are an inaccessible URL perhaps due to a same-origin policy (ensure the server uses CORS if you are using client-side JavaScript), too many redirects, a non-JSON response, or more than one HTTP Link Header was provided for a remote context.',)\nType: jsonld.InvalidUrl\nCode: loading remote context failed\nDetails: {'url': 'https://schema.org', 'cause': JsonLdError('Could not retrieve a JSON-LD document from the URL.')}  File \"/Users/lucyhavens/miniconda3/envs/ldeval/lib/python3.13/site-packages/pyld/jsonld.py\", line 912, in flatten\n    expanded = self.expand(input_, options)\n  File \"/Users/lucyhavens/miniconda3/envs/ldeval/lib/python3.13/site-packages/pyld/jsonld.py\", line 870, in expand\n    expanded = self._expand(active_ctx, None, document, options,\n        inside_list=False)\n  File \"/Users/lucyhavens/miniconda3/envs/ldeval/lib/python3.13/site-packages/pyld/jsonld.py\", line 2302, in _expand\n    active_ctx = self._process_context(\n        active_ctx, element['@context'], options)\n  File \"/Users/lucyhavens/miniconda3/envs/ldeval/lib/python3.13/site-packages/pyld/jsonld.py\", line 3049, in _process_context\n    resolved = options['contextResolver'].resolve(active_ctx, local_ctx, options.get('base', ''))\n  File \"/Users/lucyhavens/miniconda3/envs/ldeval/lib/python3.13/site-packages/pyld/context_resolver.py\", line 58, in resolve\n    resolved = self._resolve_remote_context(\n        active_ctx, ctx, base, cycles)\n  File \"/Users/lucyhavens/miniconda3/envs/ldeval/lib/python3.13/site-packages/pyld/context_resolver.py\", line 108, in _resolve_remote_context\n    context, remote_doc = self._fetch_context(active_ctx, url, cycles)\n                          ~~~~~~~~~~~~~~~~~~~^^^^^^^^^^^^^^^^^^^^^^^^^\n  File \"/Users/lucyhavens/miniconda3/envs/ldeval/lib/python3.13/site-packages/pyld/context_resolver.py\", line 148, in _fetch_context\n    raise jsonld.JsonLdError(\n    ...<8 lines>...\n        code='loading remote context failed')\n",
     "output_type": "error",
     "traceback": [
      "\u001b[31m---------------------------------------------------------------------------\u001b[39m\n",
      "\u001b[31mJSONDecodeError\u001b[39m                           Traceback (most recent call last)\n",
      "\u001b[36mFile \u001b[39m\u001b[32m~/miniconda3/envs/ldeval/lib/python3.13/site-packages/requests/models.py:974\u001b[39m, in \u001b[36mResponse.json\u001b[39m\u001b[34m(self, **kwargs)\u001b[39m\n",
      "\u001b[32m    973\u001b[39m \u001b[38;5;28;01mtry\u001b[39;00m:\n",
      "\u001b[32m--> \u001b[39m\u001b[32m974\u001b[39m     \u001b[38;5;28;01mreturn\u001b[39;00m \u001b[43mcomplexjson\u001b[49m\u001b[43m.\u001b[49m\u001b[43mloads\u001b[49m\u001b[43m(\u001b[49m\u001b[38;5;28;43mself\u001b[39;49m\u001b[43m.\u001b[49m\u001b[43mtext\u001b[49m\u001b[43m,\u001b[49m\u001b[43m \u001b[49m\u001b[43m*\u001b[49m\u001b[43m*\u001b[49m\u001b[43mkwargs\u001b[49m\u001b[43m)\u001b[49m\n",
      "\u001b[32m    975\u001b[39m \u001b[38;5;28;01mexcept\u001b[39;00m JSONDecodeError \u001b[38;5;28;01mas\u001b[39;00m e:\n",
      "\u001b[32m    976\u001b[39m     \u001b[38;5;66;03m# Catch JSON-related errors and raise as requests.JSONDecodeError\u001b[39;00m\n",
      "\u001b[32m    977\u001b[39m     \u001b[38;5;66;03m# This aliases json.JSONDecodeError and simplejson.JSONDecodeError\u001b[39;00m\n",
      "\n",
      "\u001b[36mFile \u001b[39m\u001b[32m~/miniconda3/envs/ldeval/lib/python3.13/json/__init__.py:346\u001b[39m, in \u001b[36mloads\u001b[39m\u001b[34m(s, cls, object_hook, parse_float, parse_int, parse_constant, object_pairs_hook, **kw)\u001b[39m\n",
      "\u001b[32m    343\u001b[39m \u001b[38;5;28;01mif\u001b[39;00m (\u001b[38;5;28mcls\u001b[39m \u001b[38;5;129;01mis\u001b[39;00m \u001b[38;5;28;01mNone\u001b[39;00m \u001b[38;5;129;01mand\u001b[39;00m object_hook \u001b[38;5;129;01mis\u001b[39;00m \u001b[38;5;28;01mNone\u001b[39;00m \u001b[38;5;129;01mand\u001b[39;00m\n",
      "\u001b[32m    344\u001b[39m         parse_int \u001b[38;5;129;01mis\u001b[39;00m \u001b[38;5;28;01mNone\u001b[39;00m \u001b[38;5;129;01mand\u001b[39;00m parse_float \u001b[38;5;129;01mis\u001b[39;00m \u001b[38;5;28;01mNone\u001b[39;00m \u001b[38;5;129;01mand\u001b[39;00m\n",
      "\u001b[32m    345\u001b[39m         parse_constant \u001b[38;5;129;01mis\u001b[39;00m \u001b[38;5;28;01mNone\u001b[39;00m \u001b[38;5;129;01mand\u001b[39;00m object_pairs_hook \u001b[38;5;129;01mis\u001b[39;00m \u001b[38;5;28;01mNone\u001b[39;00m \u001b[38;5;129;01mand\u001b[39;00m \u001b[38;5;129;01mnot\u001b[39;00m kw):\n",
      "\u001b[32m--> \u001b[39m\u001b[32m346\u001b[39m     \u001b[38;5;28;01mreturn\u001b[39;00m \u001b[43m_default_decoder\u001b[49m\u001b[43m.\u001b[49m\u001b[43mdecode\u001b[49m\u001b[43m(\u001b[49m\u001b[43ms\u001b[49m\u001b[43m)\u001b[49m\n",
      "\u001b[32m    347\u001b[39m \u001b[38;5;28;01mif\u001b[39;00m \u001b[38;5;28mcls\u001b[39m \u001b[38;5;129;01mis\u001b[39;00m \u001b[38;5;28;01mNone\u001b[39;00m:\n",
      "\n",
      "\u001b[36mFile \u001b[39m\u001b[32m~/miniconda3/envs/ldeval/lib/python3.13/json/decoder.py:345\u001b[39m, in \u001b[36mJSONDecoder.decode\u001b[39m\u001b[34m(self, s, _w)\u001b[39m\n",
      "\u001b[32m    341\u001b[39m \u001b[38;5;250m\u001b[39m\u001b[33;03m\"\"\"Return the Python representation of ``s`` (a ``str`` instance\u001b[39;00m\n",
      "\u001b[32m    342\u001b[39m \u001b[33;03mcontaining a JSON document).\u001b[39;00m\n",
      "\u001b[32m    343\u001b[39m \n",
      "\u001b[32m    344\u001b[39m \u001b[33;03m\"\"\"\u001b[39;00m\n",
      "\u001b[32m--> \u001b[39m\u001b[32m345\u001b[39m obj, end = \u001b[38;5;28;43mself\u001b[39;49m\u001b[43m.\u001b[49m\u001b[43mraw_decode\u001b[49m\u001b[43m(\u001b[49m\u001b[43ms\u001b[49m\u001b[43m,\u001b[49m\u001b[43m \u001b[49m\u001b[43midx\u001b[49m\u001b[43m=\u001b[49m\u001b[43m_w\u001b[49m\u001b[43m(\u001b[49m\u001b[43ms\u001b[49m\u001b[43m,\u001b[49m\u001b[43m \u001b[49m\u001b[32;43m0\u001b[39;49m\u001b[43m)\u001b[49m\u001b[43m.\u001b[49m\u001b[43mend\u001b[49m\u001b[43m(\u001b[49m\u001b[43m)\u001b[49m\u001b[43m)\u001b[49m\n",
      "\u001b[32m    346\u001b[39m end = _w(s, end).end()\n",
      "\n",
      "\u001b[36mFile \u001b[39m\u001b[32m~/miniconda3/envs/ldeval/lib/python3.13/json/decoder.py:363\u001b[39m, in \u001b[36mJSONDecoder.raw_decode\u001b[39m\u001b[34m(self, s, idx)\u001b[39m\n",
      "\u001b[32m    362\u001b[39m \u001b[38;5;28;01mexcept\u001b[39;00m \u001b[38;5;167;01mStopIteration\u001b[39;00m \u001b[38;5;28;01mas\u001b[39;00m err:\n",
      "\u001b[32m--> \u001b[39m\u001b[32m363\u001b[39m     \u001b[38;5;28;01mraise\u001b[39;00m JSONDecodeError(\u001b[33m\"\u001b[39m\u001b[33mExpecting value\u001b[39m\u001b[33m\"\u001b[39m, s, err.value) \u001b[38;5;28;01mfrom\u001b[39;00m\u001b[38;5;250m \u001b[39m\u001b[38;5;28;01mNone\u001b[39;00m\n",
      "\u001b[32m    364\u001b[39m \u001b[38;5;28;01mreturn\u001b[39;00m obj, end\n",
      "\n",
      "\u001b[31mJSONDecodeError\u001b[39m: Expecting value: line 2 column 1 (char 1)\n",
      "\n",
      "During handling of the above exception, another exception occurred:\n",
      "\n",
      "\u001b[31mJSONDecodeError\u001b[39m                           Traceback (most recent call last)\n",
      "\u001b[36mFile \u001b[39m\u001b[32m~/miniconda3/envs/ldeval/lib/python3.13/site-packages/pyld/documentloader/requests.py:72\u001b[39m, in \u001b[36mrequests_document_loader.<locals>.loader\u001b[39m\u001b[34m(url, options)\u001b[39m\n",
      "\u001b[32m     67\u001b[39m     content_type = \u001b[33m'\u001b[39m\u001b[33mapplication/octet-stream\u001b[39m\u001b[33m'\u001b[39m\n",
      "\u001b[32m     68\u001b[39m doc = {\n",
      "\u001b[32m     69\u001b[39m     \u001b[33m'\u001b[39m\u001b[33mcontentType\u001b[39m\u001b[33m'\u001b[39m: content_type,\n",
      "\u001b[32m     70\u001b[39m     \u001b[33m'\u001b[39m\u001b[33mcontextUrl\u001b[39m\u001b[33m'\u001b[39m: \u001b[38;5;28;01mNone\u001b[39;00m,\n",
      "\u001b[32m     71\u001b[39m     \u001b[33m'\u001b[39m\u001b[33mdocumentUrl\u001b[39m\u001b[33m'\u001b[39m: response.url,\n",
      "\u001b[32m---> \u001b[39m\u001b[32m72\u001b[39m     \u001b[33m'\u001b[39m\u001b[33mdocument\u001b[39m\u001b[33m'\u001b[39m: \u001b[43mresponse\u001b[49m\u001b[43m.\u001b[49m\u001b[43mjson\u001b[49m\u001b[43m(\u001b[49m\u001b[43m)\u001b[49m\n",
      "\u001b[32m     73\u001b[39m }\n",
      "\u001b[32m     74\u001b[39m link_header = response.headers.get(\u001b[33m'\u001b[39m\u001b[33mlink\u001b[39m\u001b[33m'\u001b[39m)\n",
      "\n",
      "\u001b[36mFile \u001b[39m\u001b[32m~/miniconda3/envs/ldeval/lib/python3.13/site-packages/requests/models.py:978\u001b[39m, in \u001b[36mResponse.json\u001b[39m\u001b[34m(self, **kwargs)\u001b[39m\n",
      "\u001b[32m    975\u001b[39m \u001b[38;5;28;01mexcept\u001b[39;00m JSONDecodeError \u001b[38;5;28;01mas\u001b[39;00m e:\n",
      "\u001b[32m    976\u001b[39m     \u001b[38;5;66;03m# Catch JSON-related errors and raise as requests.JSONDecodeError\u001b[39;00m\n",
      "\u001b[32m    977\u001b[39m     \u001b[38;5;66;03m# This aliases json.JSONDecodeError and simplejson.JSONDecodeError\u001b[39;00m\n",
      "\u001b[32m--> \u001b[39m\u001b[32m978\u001b[39m     \u001b[38;5;28;01mraise\u001b[39;00m RequestsJSONDecodeError(e.msg, e.doc, e.pos)\n",
      "\n",
      "\u001b[31mJSONDecodeError\u001b[39m: Expecting value: line 2 column 1 (char 1)\n",
      "\n",
      "During handling of the above exception, another exception occurred:\n",
      "\n",
      "\u001b[31mJsonLdError\u001b[39m                               Traceback (most recent call last)\n",
      "\u001b[36mFile \u001b[39m\u001b[32m~/miniconda3/envs/ldeval/lib/python3.13/site-packages/pyld/context_resolver.py:143\u001b[39m, in \u001b[36mContextResolver._fetch_context\u001b[39m\u001b[34m(self, active_ctx, url, cycles)\u001b[39m\n",
      "\u001b[32m    142\u001b[39m \u001b[38;5;28;01mtry\u001b[39;00m:\n",
      "\u001b[32m--> \u001b[39m\u001b[32m143\u001b[39m     remote_doc = \u001b[43mjsonld\u001b[49m\u001b[43m.\u001b[49m\u001b[43mload_document\u001b[49m\u001b[43m(\u001b[49m\u001b[43murl\u001b[49m\u001b[43m,\u001b[49m\n",
      "\u001b[32m    144\u001b[39m \u001b[43m        \u001b[49m\u001b[43m{\u001b[49m\u001b[33;43m'\u001b[39;49m\u001b[33;43mdocumentLoader\u001b[39;49m\u001b[33;43m'\u001b[39;49m\u001b[43m:\u001b[49m\u001b[43m \u001b[49m\u001b[38;5;28;43mself\u001b[39;49m\u001b[43m.\u001b[49m\u001b[43mdocument_loader\u001b[49m\u001b[43m}\u001b[49m\u001b[43m,\u001b[49m\n",
      "\u001b[32m    145\u001b[39m \u001b[43m        \u001b[49m\u001b[43mrequestProfile\u001b[49m\u001b[43m=\u001b[49m\u001b[33;43m'\u001b[39;49m\u001b[33;43mhttp://www.w3.org/ns/json-ld#context\u001b[39;49m\u001b[33;43m'\u001b[39;49m\u001b[43m)\u001b[49m\n",
      "\u001b[32m    146\u001b[39m     context = remote_doc.get(\u001b[33m'\u001b[39m\u001b[33mdocument\u001b[39m\u001b[33m'\u001b[39m, url)\n",
      "\n",
      "\u001b[36mFile \u001b[39m\u001b[32m~/miniconda3/envs/ldeval/lib/python3.13/site-packages/pyld/jsonld.py:6583\u001b[39m, in \u001b[36mload_document\u001b[39m\u001b[34m(url, options, base, profile, requestProfile)\u001b[39m\n",
      "\u001b[32m   6582\u001b[39m     options[\u001b[33m'\u001b[39m\u001b[33mheaders\u001b[39m\u001b[33m'\u001b[39m] = headers\n",
      "\u001b[32m-> \u001b[39m\u001b[32m6583\u001b[39m remote_doc = \u001b[43moptions\u001b[49m\u001b[43m[\u001b[49m\u001b[33;43m'\u001b[39;49m\u001b[33;43mdocumentLoader\u001b[39;49m\u001b[33;43m'\u001b[39;49m\u001b[43m]\u001b[49m\u001b[43m(\u001b[49m\u001b[43murl\u001b[49m\u001b[43m,\u001b[49m\u001b[43m \u001b[49m\u001b[43moptions\u001b[49m\u001b[43m)\u001b[49m\n",
      "\u001b[32m   6584\u001b[39m \u001b[38;5;28;01mif\u001b[39;00m base:\n",
      "\n",
      "\u001b[36mFile \u001b[39m\u001b[32m~/miniconda3/envs/ldeval/lib/python3.13/site-packages/pyld/documentloader/requests.py:100\u001b[39m, in \u001b[36mrequests_document_loader.<locals>.loader\u001b[39m\u001b[34m(url, options)\u001b[39m\n",
      "\u001b[32m     99\u001b[39m \u001b[38;5;28;01mexcept\u001b[39;00m \u001b[38;5;167;01mException\u001b[39;00m \u001b[38;5;28;01mas\u001b[39;00m cause:\n",
      "\u001b[32m--> \u001b[39m\u001b[32m100\u001b[39m     \u001b[38;5;28;01mraise\u001b[39;00m JsonLdError(\n",
      "\u001b[32m    101\u001b[39m         \u001b[33m'\u001b[39m\u001b[33mCould not retrieve a JSON-LD document from the URL.\u001b[39m\u001b[33m'\u001b[39m,\n",
      "\u001b[32m    102\u001b[39m         \u001b[33m'\u001b[39m\u001b[33mjsonld.LoadDocumentError\u001b[39m\u001b[33m'\u001b[39m, code=\u001b[33m'\u001b[39m\u001b[33mloading document failed\u001b[39m\u001b[33m'\u001b[39m,\n",
      "\u001b[32m    103\u001b[39m         cause=cause)\n",
      "\n",
      "\u001b[31mJsonLdError\u001b[39m: ('Could not retrieve a JSON-LD document from the URL.',)\n",
      "Type: jsonld.LoadDocumentError\n",
      "Code: loading document failed\n",
      "Cause: Expecting value: line 2 column 1 (char 1)  File \"/Users/lucyhavens/miniconda3/envs/ldeval/lib/python3.13/site-packages/pyld/documentloader/requests.py\", line 72, in loader\n",
      "    'document': response.json()\n",
      "                ~~~~~~~~~~~~~^^\n",
      "  File \"/Users/lucyhavens/miniconda3/envs/ldeval/lib/python3.13/site-packages/requests/models.py\", line 978, in json\n",
      "    raise RequestsJSONDecodeError(e.msg, e.doc, e.pos)\n",
      "\n",
      "\n",
      "During handling of the above exception, another exception occurred:\n",
      "\n",
      "\u001b[31mJsonLdError\u001b[39m                               Traceback (most recent call last)\n",
      "\u001b[36mFile \u001b[39m\u001b[32m~/miniconda3/envs/ldeval/lib/python3.13/site-packages/pyld/jsonld.py:912\u001b[39m, in \u001b[36mJsonLdProcessor.flatten\u001b[39m\u001b[34m(self, input_, ctx, options)\u001b[39m\n",
      "\u001b[32m    910\u001b[39m \u001b[38;5;28;01mtry\u001b[39;00m:\n",
      "\u001b[32m    911\u001b[39m     \u001b[38;5;66;03m# expand input\u001b[39;00m\n",
      "\u001b[32m--> \u001b[39m\u001b[32m912\u001b[39m     expanded = \u001b[38;5;28;43mself\u001b[39;49m\u001b[43m.\u001b[49m\u001b[43mexpand\u001b[49m\u001b[43m(\u001b[49m\u001b[43minput_\u001b[49m\u001b[43m,\u001b[49m\u001b[43m \u001b[49m\u001b[43moptions\u001b[49m\u001b[43m)\u001b[49m\n",
      "\u001b[32m    913\u001b[39m \u001b[38;5;28;01mexcept\u001b[39;00m \u001b[38;5;167;01mException\u001b[39;00m \u001b[38;5;28;01mas\u001b[39;00m cause:\n",
      "\n",
      "\u001b[36mFile \u001b[39m\u001b[32m~/miniconda3/envs/ldeval/lib/python3.13/site-packages/pyld/jsonld.py:870\u001b[39m, in \u001b[36mJsonLdProcessor.expand\u001b[39m\u001b[34m(self, input_, options)\u001b[39m\n",
      "\u001b[32m    869\u001b[39m \u001b[38;5;66;03m# do expansion\u001b[39;00m\n",
      "\u001b[32m--> \u001b[39m\u001b[32m870\u001b[39m expanded = \u001b[38;5;28;43mself\u001b[39;49m\u001b[43m.\u001b[49m\u001b[43m_expand\u001b[49m\u001b[43m(\u001b[49m\u001b[43mactive_ctx\u001b[49m\u001b[43m,\u001b[49m\u001b[43m \u001b[49m\u001b[38;5;28;43;01mNone\u001b[39;49;00m\u001b[43m,\u001b[49m\u001b[43m \u001b[49m\u001b[43mdocument\u001b[49m\u001b[43m,\u001b[49m\u001b[43m \u001b[49m\u001b[43moptions\u001b[49m\u001b[43m,\u001b[49m\n",
      "\u001b[32m    871\u001b[39m \u001b[43m    \u001b[49m\u001b[43minside_list\u001b[49m\u001b[43m=\u001b[49m\u001b[38;5;28;43;01mFalse\u001b[39;49;00m\u001b[43m)\u001b[49m\n",
      "\u001b[32m    873\u001b[39m \u001b[38;5;66;03m# optimize away @graph with no other properties\u001b[39;00m\n",
      "\n",
      "\u001b[36mFile \u001b[39m\u001b[32m~/miniconda3/envs/ldeval/lib/python3.13/site-packages/pyld/jsonld.py:2302\u001b[39m, in \u001b[36mJsonLdProcessor._expand\u001b[39m\u001b[34m(self, active_ctx, active_property, element, options, inside_list, inside_index, type_scoped_ctx)\u001b[39m\n",
      "\u001b[32m   2301\u001b[39m \u001b[38;5;28;01mif\u001b[39;00m \u001b[33m'\u001b[39m\u001b[33m@context\u001b[39m\u001b[33m'\u001b[39m \u001b[38;5;129;01min\u001b[39;00m element:\n",
      "\u001b[32m-> \u001b[39m\u001b[32m2302\u001b[39m     active_ctx = \u001b[38;5;28;43mself\u001b[39;49m\u001b[43m.\u001b[49m\u001b[43m_process_context\u001b[49m\u001b[43m(\u001b[49m\n",
      "\u001b[32m   2303\u001b[39m \u001b[43m        \u001b[49m\u001b[43mactive_ctx\u001b[49m\u001b[43m,\u001b[49m\u001b[43m \u001b[49m\u001b[43melement\u001b[49m\u001b[43m[\u001b[49m\u001b[33;43m'\u001b[39;49m\u001b[33;43m@context\u001b[39;49m\u001b[33;43m'\u001b[39;49m\u001b[43m]\u001b[49m\u001b[43m,\u001b[49m\u001b[43m \u001b[49m\u001b[43moptions\u001b[49m\u001b[43m)\u001b[49m\n",
      "\u001b[32m   2305\u001b[39m \u001b[38;5;66;03m# set the type-scoped context to the context on input, for use later\u001b[39;00m\n",
      "\n",
      "\u001b[36mFile \u001b[39m\u001b[32m~/miniconda3/envs/ldeval/lib/python3.13/site-packages/pyld/jsonld.py:3049\u001b[39m, in \u001b[36mJsonLdProcessor._process_context\u001b[39m\u001b[34m(self, active_ctx, local_ctx, options, override_protected, propagate, validate_scoped, cycles)\u001b[39m\n",
      "\u001b[32m   3048\u001b[39m \u001b[38;5;66;03m# resolve contexts\u001b[39;00m\n",
      "\u001b[32m-> \u001b[39m\u001b[32m3049\u001b[39m resolved = \u001b[43moptions\u001b[49m\u001b[43m[\u001b[49m\u001b[33;43m'\u001b[39;49m\u001b[33;43mcontextResolver\u001b[39;49m\u001b[33;43m'\u001b[39;49m\u001b[43m]\u001b[49m\u001b[43m.\u001b[49m\u001b[43mresolve\u001b[49m\u001b[43m(\u001b[49m\u001b[43mactive_ctx\u001b[49m\u001b[43m,\u001b[49m\u001b[43m \u001b[49m\u001b[43mlocal_ctx\u001b[49m\u001b[43m,\u001b[49m\u001b[43m \u001b[49m\u001b[43moptions\u001b[49m\u001b[43m.\u001b[49m\u001b[43mget\u001b[49m\u001b[43m(\u001b[49m\u001b[33;43m'\u001b[39;49m\u001b[33;43mbase\u001b[39;49m\u001b[33;43m'\u001b[39;49m\u001b[43m,\u001b[49m\u001b[43m \u001b[49m\u001b[33;43m'\u001b[39;49m\u001b[33;43m'\u001b[39;49m\u001b[43m)\u001b[49m\u001b[43m)\u001b[49m\n",
      "\u001b[32m   3051\u001b[39m \u001b[38;5;66;03m# override propagate if first resolved context has `@propagate`\u001b[39;00m\n",
      "\n",
      "\u001b[36mFile \u001b[39m\u001b[32m~/miniconda3/envs/ldeval/lib/python3.13/site-packages/pyld/context_resolver.py:58\u001b[39m, in \u001b[36mContextResolver.resolve\u001b[39m\u001b[34m(self, active_ctx, context, base, cycles)\u001b[39m\n",
      "\u001b[32m     57\u001b[39m \u001b[38;5;28;01mif\u001b[39;00m \u001b[38;5;129;01mnot\u001b[39;00m resolved:\n",
      "\u001b[32m---> \u001b[39m\u001b[32m58\u001b[39m     resolved = \u001b[38;5;28;43mself\u001b[39;49m\u001b[43m.\u001b[49m\u001b[43m_resolve_remote_context\u001b[49m\u001b[43m(\u001b[49m\n",
      "\u001b[32m     59\u001b[39m \u001b[43m        \u001b[49m\u001b[43mactive_ctx\u001b[49m\u001b[43m,\u001b[49m\u001b[43m \u001b[49m\u001b[43mctx\u001b[49m\u001b[43m,\u001b[49m\u001b[43m \u001b[49m\u001b[43mbase\u001b[49m\u001b[43m,\u001b[49m\u001b[43m \u001b[49m\u001b[43mcycles\u001b[49m\u001b[43m)\u001b[49m\n",
      "\u001b[32m     61\u001b[39m \u001b[38;5;66;03m# add to output and continue\u001b[39;00m\n",
      "\n",
      "\u001b[36mFile \u001b[39m\u001b[32m~/miniconda3/envs/ldeval/lib/python3.13/site-packages/pyld/context_resolver.py:108\u001b[39m, in \u001b[36mContextResolver._resolve_remote_context\u001b[39m\u001b[34m(self, active_ctx, url, base, cycles)\u001b[39m\n",
      "\u001b[32m    107\u001b[39m url = jsonld.prepend_base(base, url)\n",
      "\u001b[32m--> \u001b[39m\u001b[32m108\u001b[39m context, remote_doc = \u001b[38;5;28;43mself\u001b[39;49m\u001b[43m.\u001b[49m\u001b[43m_fetch_context\u001b[49m\u001b[43m(\u001b[49m\u001b[43mactive_ctx\u001b[49m\u001b[43m,\u001b[49m\u001b[43m \u001b[49m\u001b[43murl\u001b[49m\u001b[43m,\u001b[49m\u001b[43m \u001b[49m\u001b[43mcycles\u001b[49m\u001b[43m)\u001b[49m\n",
      "\u001b[32m    110\u001b[39m \u001b[38;5;66;03m# update base according to remote document and resolve any relative URLs\u001b[39;00m\n",
      "\n",
      "\u001b[36mFile \u001b[39m\u001b[32m~/miniconda3/envs/ldeval/lib/python3.13/site-packages/pyld/context_resolver.py:148\u001b[39m, in \u001b[36mContextResolver._fetch_context\u001b[39m\u001b[34m(self, active_ctx, url, cycles)\u001b[39m\n",
      "\u001b[32m    147\u001b[39m \u001b[38;5;28;01mexcept\u001b[39;00m \u001b[38;5;167;01mException\u001b[39;00m \u001b[38;5;28;01mas\u001b[39;00m cause:\n",
      "\u001b[32m--> \u001b[39m\u001b[32m148\u001b[39m     \u001b[38;5;28;01mraise\u001b[39;00m jsonld.JsonLdError(\n",
      "\u001b[32m    149\u001b[39m         \u001b[33m'\u001b[39m\u001b[33mDereferencing a URL did not result in a valid JSON-LD object. \u001b[39m\u001b[33m'\u001b[39m +\n",
      "\u001b[32m    150\u001b[39m         \u001b[33m'\u001b[39m\u001b[33mPossible causes are an inaccessible URL perhaps due to \u001b[39m\u001b[33m'\u001b[39m +\n",
      "\u001b[32m    151\u001b[39m         \u001b[33m'\u001b[39m\u001b[33ma same-origin policy (ensure the server uses CORS if you are \u001b[39m\u001b[33m'\u001b[39m +\n",
      "\u001b[32m    152\u001b[39m         \u001b[33m'\u001b[39m\u001b[33musing client-side JavaScript), too many redirects, a \u001b[39m\u001b[33m'\u001b[39m +\n",
      "\u001b[32m    153\u001b[39m         \u001b[33m'\u001b[39m\u001b[33mnon-JSON response, or more than one HTTP Link Header was \u001b[39m\u001b[33m'\u001b[39m +\n",
      "\u001b[32m    154\u001b[39m         \u001b[33m'\u001b[39m\u001b[33mprovided for a remote context.\u001b[39m\u001b[33m'\u001b[39m,\n",
      "\u001b[32m    155\u001b[39m         \u001b[33m'\u001b[39m\u001b[33mjsonld.InvalidUrl\u001b[39m\u001b[33m'\u001b[39m,\n",
      "\u001b[32m    156\u001b[39m         {\u001b[33m'\u001b[39m\u001b[33murl\u001b[39m\u001b[33m'\u001b[39m: url, \u001b[33m'\u001b[39m\u001b[33mcause\u001b[39m\u001b[33m'\u001b[39m: cause},\n",
      "\u001b[32m    157\u001b[39m         code=\u001b[33m'\u001b[39m\u001b[33mloading remote context failed\u001b[39m\u001b[33m'\u001b[39m)\n",
      "\u001b[32m    159\u001b[39m \u001b[38;5;66;03m# ensure ctx is an object\u001b[39;00m\n",
      "\n",
      "\u001b[31mJsonLdError\u001b[39m: ('Dereferencing a URL did not result in a valid JSON-LD object. Possible causes are an inaccessible URL perhaps due to a same-origin policy (ensure the server uses CORS if you are using client-side JavaScript), too many redirects, a non-JSON response, or more than one HTTP Link Header was provided for a remote context.',)\n",
      "Type: jsonld.InvalidUrl\n",
      "Code: loading remote context failed\n",
      "Details: {'url': 'https://schema.org', 'cause': JsonLdError('Could not retrieve a JSON-LD document from the URL.')}\n",
      "\n",
      "During handling of the above exception, another exception occurred:\n",
      "\n",
      "\u001b[31mJsonLdError\u001b[39m                               Traceback (most recent call last)\n",
      "\u001b[36mCell\u001b[39m\u001b[36m \u001b[39m\u001b[32mIn[25]\u001b[39m\u001b[32m, line 1\u001b[39m\n",
      "\u001b[32m----> \u001b[39m\u001b[32m1\u001b[39m \u001b[43mjsonld\u001b[49m\u001b[43m.\u001b[49m\u001b[43mflatten\u001b[49m\u001b[43m(\u001b[49m\u001b[43mdoc\u001b[49m\u001b[43m)\u001b[49m\n",
      "\n",
      "\u001b[36mFile \u001b[39m\u001b[32m~/miniconda3/envs/ldeval/lib/python3.13/site-packages/pyld/jsonld.py:185\u001b[39m, in \u001b[36mflatten\u001b[39m\u001b[34m(input_, ctx, options)\u001b[39m\n",
      "\u001b[32m    166\u001b[39m \u001b[38;5;28;01mdef\u001b[39;00m\u001b[38;5;250m \u001b[39m\u001b[34mflatten\u001b[39m(input_, ctx=\u001b[38;5;28;01mNone\u001b[39;00m, options=\u001b[38;5;28;01mNone\u001b[39;00m):\n",
      "\u001b[32m    167\u001b[39m \u001b[38;5;250m    \u001b[39m\u001b[33;03m\"\"\"\u001b[39;00m\n",
      "\u001b[32m    168\u001b[39m \u001b[33;03m    Performs JSON-LD flattening.\u001b[39;00m\n",
      "\u001b[32m    169\u001b[39m \n",
      "\u001b[32m   (...)\u001b[39m\u001b[32m    183\u001b[39m \u001b[33;03m    :return: the flattened JSON-LD output.\u001b[39;00m\n",
      "\u001b[32m    184\u001b[39m \u001b[33;03m    \"\"\"\u001b[39;00m\n",
      "\u001b[32m--> \u001b[39m\u001b[32m185\u001b[39m     \u001b[38;5;28;01mreturn\u001b[39;00m \u001b[43mJsonLdProcessor\u001b[49m\u001b[43m(\u001b[49m\u001b[43m)\u001b[49m\u001b[43m.\u001b[49m\u001b[43mflatten\u001b[49m\u001b[43m(\u001b[49m\u001b[43minput_\u001b[49m\u001b[43m,\u001b[49m\u001b[43m \u001b[49m\u001b[43mctx\u001b[49m\u001b[43m,\u001b[49m\u001b[43m \u001b[49m\u001b[43moptions\u001b[49m\u001b[43m)\u001b[49m\n",
      "\n",
      "\u001b[36mFile \u001b[39m\u001b[32m~/miniconda3/envs/ldeval/lib/python3.13/site-packages/pyld/jsonld.py:914\u001b[39m, in \u001b[36mJsonLdProcessor.flatten\u001b[39m\u001b[34m(self, input_, ctx, options)\u001b[39m\n",
      "\u001b[32m    912\u001b[39m     expanded = \u001b[38;5;28mself\u001b[39m.expand(input_, options)\n",
      "\u001b[32m    913\u001b[39m \u001b[38;5;28;01mexcept\u001b[39;00m \u001b[38;5;167;01mException\u001b[39;00m \u001b[38;5;28;01mas\u001b[39;00m cause:\n",
      "\u001b[32m--> \u001b[39m\u001b[32m914\u001b[39m     \u001b[38;5;28;01mraise\u001b[39;00m JsonLdError(\n",
      "\u001b[32m    915\u001b[39m         \u001b[33m'\u001b[39m\u001b[33mCould not expand input before flattening.\u001b[39m\u001b[33m'\u001b[39m,\n",
      "\u001b[32m    916\u001b[39m         \u001b[33m'\u001b[39m\u001b[33mjsonld.FlattenError\u001b[39m\u001b[33m'\u001b[39m, cause=cause)\n",
      "\u001b[32m    918\u001b[39m \u001b[38;5;66;03m# do flattening\u001b[39;00m\n",
      "\u001b[32m    919\u001b[39m flattened = \u001b[38;5;28mself\u001b[39m._flatten(expanded)\n",
      "\n",
      "\u001b[31mJsonLdError\u001b[39m: ('Could not expand input before flattening.',)\n",
      "Type: jsonld.FlattenError\n",
      "Cause: ('Dereferencing a URL did not result in a valid JSON-LD object. Possible causes are an inaccessible URL perhaps due to a same-origin policy (ensure the server uses CORS if you are using client-side JavaScript), too many redirects, a non-JSON response, or more than one HTTP Link Header was provided for a remote context.',)\n",
      "Type: jsonld.InvalidUrl\n",
      "Code: loading remote context failed\n",
      "Details: {'url': 'https://schema.org', 'cause': JsonLdError('Could not retrieve a JSON-LD document from the URL.')}  File \"/Users/lucyhavens/miniconda3/envs/ldeval/lib/python3.13/site-packages/pyld/jsonld.py\", line 912, in flatten\n",
      "    expanded = self.expand(input_, options)\n",
      "  File \"/Users/lucyhavens/miniconda3/envs/ldeval/lib/python3.13/site-packages/pyld/jsonld.py\", line 870, in expand\n",
      "    expanded = self._expand(active_ctx, None, document, options,\n",
      "        inside_list=False)\n",
      "  File \"/Users/lucyhavens/miniconda3/envs/ldeval/lib/python3.13/site-packages/pyld/jsonld.py\", line 2302, in _expand\n",
      "    active_ctx = self._process_context(\n",
      "        active_ctx, element['@context'], options)\n",
      "  File \"/Users/lucyhavens/miniconda3/envs/ldeval/lib/python3.13/site-packages/pyld/jsonld.py\", line 3049, in _process_context\n",
      "    resolved = options['contextResolver'].resolve(active_ctx, local_ctx, options.get('base', ''))\n",
      "  File \"/Users/lucyhavens/miniconda3/envs/ldeval/lib/python3.13/site-packages/pyld/context_resolver.py\", line 58, in resolve\n",
      "    resolved = self._resolve_remote_context(\n",
      "        active_ctx, ctx, base, cycles)\n",
      "  File \"/Users/lucyhavens/miniconda3/envs/ldeval/lib/python3.13/site-packages/pyld/context_resolver.py\", line 108, in _resolve_remote_context\n",
      "    context, remote_doc = self._fetch_context(active_ctx, url, cycles)\n",
      "                          ~~~~~~~~~~~~~~~~~~~^^^^^^^^^^^^^^^^^^^^^^^^^\n",
      "  File \"/Users/lucyhavens/miniconda3/envs/ldeval/lib/python3.13/site-packages/pyld/context_resolver.py\", line 148, in _fetch_context\n",
      "    raise jsonld.JsonLdError(\n",
      "    ...<8 lines>...\n",
      "        code='loading remote context failed')\n"
     ]
    }
   ],
   "source": [
    "jsonld.flatten(doc)"
   ]
  },
  {
   "cell_type": "code",
   "execution_count": null,
   "id": "1ea69aa4",
   "metadata": {},
   "outputs": [],
   "source": [
    "context = {\n",
    "    \"name\": \"http://schema.org/name\",\n",
    "    # \"url\": {\"@id\": \"http://schema.org/url\", \"@type\": \"@id\"},\n",
    "    # \"image\": {\"@id\": \"http://schema.org/image\", \"@type\": \"@id\"}\n",
    "}"
   ]
  },
  {
   "cell_type": "code",
   "execution_count": null,
   "id": "b6e642fd",
   "metadata": {},
   "outputs": [],
   "source": [
    "# compact a document according to a particular context (see: https://json-ld.org/spec/latest/json-ld/#compacted-document-form)\n",
    "# compacted = jsonld.compact(doc, context)\n",
    "# print(json.dumps(compacted, indent=2))"
   ]
  },
  {
   "cell_type": "code",
   "execution_count": null,
   "id": "7f09304e",
   "metadata": {},
   "outputs": [
    {
     "ename": "JsonLdError",
     "evalue": "('Dereferencing a URL did not result in a valid JSON-LD object. Possible causes are an inaccessible URL perhaps due to a same-origin policy (ensure the server uses CORS if you are using client-side JavaScript), too many redirects, a non-JSON response, or more than one HTTP Link Header was provided for a remote context.',)\nType: jsonld.InvalidUrl\nCode: loading remote context failed\nDetails: {'url': 'https://schema.org', 'cause': JsonLdError('Could not retrieve a JSON-LD document from the URL.')}",
     "output_type": "error",
     "traceback": [
      "\u001b[31m---------------------------------------------------------------------------\u001b[39m\n",
      "\u001b[31mJSONDecodeError\u001b[39m                           Traceback (most recent call last)\n",
      "\u001b[36mFile \u001b[39m\u001b[32m~/miniconda3/envs/ldeval/lib/python3.13/site-packages/requests/models.py:974\u001b[39m, in \u001b[36mResponse.json\u001b[39m\u001b[34m(self, **kwargs)\u001b[39m\n",
      "\u001b[32m    973\u001b[39m \u001b[38;5;28;01mtry\u001b[39;00m:\n",
      "\u001b[32m--> \u001b[39m\u001b[32m974\u001b[39m     \u001b[38;5;28;01mreturn\u001b[39;00m \u001b[43mcomplexjson\u001b[49m\u001b[43m.\u001b[49m\u001b[43mloads\u001b[49m\u001b[43m(\u001b[49m\u001b[38;5;28;43mself\u001b[39;49m\u001b[43m.\u001b[49m\u001b[43mtext\u001b[49m\u001b[43m,\u001b[49m\u001b[43m \u001b[49m\u001b[43m*\u001b[49m\u001b[43m*\u001b[49m\u001b[43mkwargs\u001b[49m\u001b[43m)\u001b[49m\n",
      "\u001b[32m    975\u001b[39m \u001b[38;5;28;01mexcept\u001b[39;00m JSONDecodeError \u001b[38;5;28;01mas\u001b[39;00m e:\n",
      "\u001b[32m    976\u001b[39m     \u001b[38;5;66;03m# Catch JSON-related errors and raise as requests.JSONDecodeError\u001b[39;00m\n",
      "\u001b[32m    977\u001b[39m     \u001b[38;5;66;03m# This aliases json.JSONDecodeError and simplejson.JSONDecodeError\u001b[39;00m\n",
      "\n",
      "\u001b[36mFile \u001b[39m\u001b[32m~/miniconda3/envs/ldeval/lib/python3.13/json/__init__.py:346\u001b[39m, in \u001b[36mloads\u001b[39m\u001b[34m(s, cls, object_hook, parse_float, parse_int, parse_constant, object_pairs_hook, **kw)\u001b[39m\n",
      "\u001b[32m    343\u001b[39m \u001b[38;5;28;01mif\u001b[39;00m (\u001b[38;5;28mcls\u001b[39m \u001b[38;5;129;01mis\u001b[39;00m \u001b[38;5;28;01mNone\u001b[39;00m \u001b[38;5;129;01mand\u001b[39;00m object_hook \u001b[38;5;129;01mis\u001b[39;00m \u001b[38;5;28;01mNone\u001b[39;00m \u001b[38;5;129;01mand\u001b[39;00m\n",
      "\u001b[32m    344\u001b[39m         parse_int \u001b[38;5;129;01mis\u001b[39;00m \u001b[38;5;28;01mNone\u001b[39;00m \u001b[38;5;129;01mand\u001b[39;00m parse_float \u001b[38;5;129;01mis\u001b[39;00m \u001b[38;5;28;01mNone\u001b[39;00m \u001b[38;5;129;01mand\u001b[39;00m\n",
      "\u001b[32m    345\u001b[39m         parse_constant \u001b[38;5;129;01mis\u001b[39;00m \u001b[38;5;28;01mNone\u001b[39;00m \u001b[38;5;129;01mand\u001b[39;00m object_pairs_hook \u001b[38;5;129;01mis\u001b[39;00m \u001b[38;5;28;01mNone\u001b[39;00m \u001b[38;5;129;01mand\u001b[39;00m \u001b[38;5;129;01mnot\u001b[39;00m kw):\n",
      "\u001b[32m--> \u001b[39m\u001b[32m346\u001b[39m     \u001b[38;5;28;01mreturn\u001b[39;00m \u001b[43m_default_decoder\u001b[49m\u001b[43m.\u001b[49m\u001b[43mdecode\u001b[49m\u001b[43m(\u001b[49m\u001b[43ms\u001b[49m\u001b[43m)\u001b[49m\n",
      "\u001b[32m    347\u001b[39m \u001b[38;5;28;01mif\u001b[39;00m \u001b[38;5;28mcls\u001b[39m \u001b[38;5;129;01mis\u001b[39;00m \u001b[38;5;28;01mNone\u001b[39;00m:\n",
      "\n",
      "\u001b[36mFile \u001b[39m\u001b[32m~/miniconda3/envs/ldeval/lib/python3.13/json/decoder.py:345\u001b[39m, in \u001b[36mJSONDecoder.decode\u001b[39m\u001b[34m(self, s, _w)\u001b[39m\n",
      "\u001b[32m    341\u001b[39m \u001b[38;5;250m\u001b[39m\u001b[33;03m\"\"\"Return the Python representation of ``s`` (a ``str`` instance\u001b[39;00m\n",
      "\u001b[32m    342\u001b[39m \u001b[33;03mcontaining a JSON document).\u001b[39;00m\n",
      "\u001b[32m    343\u001b[39m \n",
      "\u001b[32m    344\u001b[39m \u001b[33;03m\"\"\"\u001b[39;00m\n",
      "\u001b[32m--> \u001b[39m\u001b[32m345\u001b[39m obj, end = \u001b[38;5;28;43mself\u001b[39;49m\u001b[43m.\u001b[49m\u001b[43mraw_decode\u001b[49m\u001b[43m(\u001b[49m\u001b[43ms\u001b[49m\u001b[43m,\u001b[49m\u001b[43m \u001b[49m\u001b[43midx\u001b[49m\u001b[43m=\u001b[49m\u001b[43m_w\u001b[49m\u001b[43m(\u001b[49m\u001b[43ms\u001b[49m\u001b[43m,\u001b[49m\u001b[43m \u001b[49m\u001b[32;43m0\u001b[39;49m\u001b[43m)\u001b[49m\u001b[43m.\u001b[49m\u001b[43mend\u001b[49m\u001b[43m(\u001b[49m\u001b[43m)\u001b[49m\u001b[43m)\u001b[49m\n",
      "\u001b[32m    346\u001b[39m end = _w(s, end).end()\n",
      "\n",
      "\u001b[36mFile \u001b[39m\u001b[32m~/miniconda3/envs/ldeval/lib/python3.13/json/decoder.py:363\u001b[39m, in \u001b[36mJSONDecoder.raw_decode\u001b[39m\u001b[34m(self, s, idx)\u001b[39m\n",
      "\u001b[32m    362\u001b[39m \u001b[38;5;28;01mexcept\u001b[39;00m \u001b[38;5;167;01mStopIteration\u001b[39;00m \u001b[38;5;28;01mas\u001b[39;00m err:\n",
      "\u001b[32m--> \u001b[39m\u001b[32m363\u001b[39m     \u001b[38;5;28;01mraise\u001b[39;00m JSONDecodeError(\u001b[33m\"\u001b[39m\u001b[33mExpecting value\u001b[39m\u001b[33m\"\u001b[39m, s, err.value) \u001b[38;5;28;01mfrom\u001b[39;00m\u001b[38;5;250m \u001b[39m\u001b[38;5;28;01mNone\u001b[39;00m\n",
      "\u001b[32m    364\u001b[39m \u001b[38;5;28;01mreturn\u001b[39;00m obj, end\n",
      "\n",
      "\u001b[31mJSONDecodeError\u001b[39m: Expecting value: line 2 column 1 (char 1)\n",
      "\n",
      "During handling of the above exception, another exception occurred:\n",
      "\n",
      "\u001b[31mJSONDecodeError\u001b[39m                           Traceback (most recent call last)\n",
      "\u001b[36mFile \u001b[39m\u001b[32m~/miniconda3/envs/ldeval/lib/python3.13/site-packages/pyld/documentloader/requests.py:72\u001b[39m, in \u001b[36mrequests_document_loader.<locals>.loader\u001b[39m\u001b[34m(url, options)\u001b[39m\n",
      "\u001b[32m     67\u001b[39m     content_type = \u001b[33m'\u001b[39m\u001b[33mapplication/octet-stream\u001b[39m\u001b[33m'\u001b[39m\n",
      "\u001b[32m     68\u001b[39m doc = {\n",
      "\u001b[32m     69\u001b[39m     \u001b[33m'\u001b[39m\u001b[33mcontentType\u001b[39m\u001b[33m'\u001b[39m: content_type,\n",
      "\u001b[32m     70\u001b[39m     \u001b[33m'\u001b[39m\u001b[33mcontextUrl\u001b[39m\u001b[33m'\u001b[39m: \u001b[38;5;28;01mNone\u001b[39;00m,\n",
      "\u001b[32m     71\u001b[39m     \u001b[33m'\u001b[39m\u001b[33mdocumentUrl\u001b[39m\u001b[33m'\u001b[39m: response.url,\n",
      "\u001b[32m---> \u001b[39m\u001b[32m72\u001b[39m     \u001b[33m'\u001b[39m\u001b[33mdocument\u001b[39m\u001b[33m'\u001b[39m: \u001b[43mresponse\u001b[49m\u001b[43m.\u001b[49m\u001b[43mjson\u001b[49m\u001b[43m(\u001b[49m\u001b[43m)\u001b[49m\n",
      "\u001b[32m     73\u001b[39m }\n",
      "\u001b[32m     74\u001b[39m link_header = response.headers.get(\u001b[33m'\u001b[39m\u001b[33mlink\u001b[39m\u001b[33m'\u001b[39m)\n",
      "\n",
      "\u001b[36mFile \u001b[39m\u001b[32m~/miniconda3/envs/ldeval/lib/python3.13/site-packages/requests/models.py:978\u001b[39m, in \u001b[36mResponse.json\u001b[39m\u001b[34m(self, **kwargs)\u001b[39m\n",
      "\u001b[32m    975\u001b[39m \u001b[38;5;28;01mexcept\u001b[39;00m JSONDecodeError \u001b[38;5;28;01mas\u001b[39;00m e:\n",
      "\u001b[32m    976\u001b[39m     \u001b[38;5;66;03m# Catch JSON-related errors and raise as requests.JSONDecodeError\u001b[39;00m\n",
      "\u001b[32m    977\u001b[39m     \u001b[38;5;66;03m# This aliases json.JSONDecodeError and simplejson.JSONDecodeError\u001b[39;00m\n",
      "\u001b[32m--> \u001b[39m\u001b[32m978\u001b[39m     \u001b[38;5;28;01mraise\u001b[39;00m RequestsJSONDecodeError(e.msg, e.doc, e.pos)\n",
      "\n",
      "\u001b[31mJSONDecodeError\u001b[39m: Expecting value: line 2 column 1 (char 1)\n",
      "\n",
      "During handling of the above exception, another exception occurred:\n",
      "\n",
      "\u001b[31mJsonLdError\u001b[39m                               Traceback (most recent call last)\n",
      "\u001b[36mFile \u001b[39m\u001b[32m~/miniconda3/envs/ldeval/lib/python3.13/site-packages/pyld/context_resolver.py:143\u001b[39m, in \u001b[36mContextResolver._fetch_context\u001b[39m\u001b[34m(self, active_ctx, url, cycles)\u001b[39m\n",
      "\u001b[32m    142\u001b[39m \u001b[38;5;28;01mtry\u001b[39;00m:\n",
      "\u001b[32m--> \u001b[39m\u001b[32m143\u001b[39m     remote_doc = \u001b[43mjsonld\u001b[49m\u001b[43m.\u001b[49m\u001b[43mload_document\u001b[49m\u001b[43m(\u001b[49m\u001b[43murl\u001b[49m\u001b[43m,\u001b[49m\n",
      "\u001b[32m    144\u001b[39m \u001b[43m        \u001b[49m\u001b[43m{\u001b[49m\u001b[33;43m'\u001b[39;49m\u001b[33;43mdocumentLoader\u001b[39;49m\u001b[33;43m'\u001b[39;49m\u001b[43m:\u001b[49m\u001b[43m \u001b[49m\u001b[38;5;28;43mself\u001b[39;49m\u001b[43m.\u001b[49m\u001b[43mdocument_loader\u001b[49m\u001b[43m}\u001b[49m\u001b[43m,\u001b[49m\n",
      "\u001b[32m    145\u001b[39m \u001b[43m        \u001b[49m\u001b[43mrequestProfile\u001b[49m\u001b[43m=\u001b[49m\u001b[33;43m'\u001b[39;49m\u001b[33;43mhttp://www.w3.org/ns/json-ld#context\u001b[39;49m\u001b[33;43m'\u001b[39;49m\u001b[43m)\u001b[49m\n",
      "\u001b[32m    146\u001b[39m     context = remote_doc.get(\u001b[33m'\u001b[39m\u001b[33mdocument\u001b[39m\u001b[33m'\u001b[39m, url)\n",
      "\n",
      "\u001b[36mFile \u001b[39m\u001b[32m~/miniconda3/envs/ldeval/lib/python3.13/site-packages/pyld/jsonld.py:6583\u001b[39m, in \u001b[36mload_document\u001b[39m\u001b[34m(url, options, base, profile, requestProfile)\u001b[39m\n",
      "\u001b[32m   6582\u001b[39m     options[\u001b[33m'\u001b[39m\u001b[33mheaders\u001b[39m\u001b[33m'\u001b[39m] = headers\n",
      "\u001b[32m-> \u001b[39m\u001b[32m6583\u001b[39m remote_doc = \u001b[43moptions\u001b[49m\u001b[43m[\u001b[49m\u001b[33;43m'\u001b[39;49m\u001b[33;43mdocumentLoader\u001b[39;49m\u001b[33;43m'\u001b[39;49m\u001b[43m]\u001b[49m\u001b[43m(\u001b[49m\u001b[43murl\u001b[49m\u001b[43m,\u001b[49m\u001b[43m \u001b[49m\u001b[43moptions\u001b[49m\u001b[43m)\u001b[49m\n",
      "\u001b[32m   6584\u001b[39m \u001b[38;5;28;01mif\u001b[39;00m base:\n",
      "\n",
      "\u001b[36mFile \u001b[39m\u001b[32m~/miniconda3/envs/ldeval/lib/python3.13/site-packages/pyld/documentloader/requests.py:100\u001b[39m, in \u001b[36mrequests_document_loader.<locals>.loader\u001b[39m\u001b[34m(url, options)\u001b[39m\n",
      "\u001b[32m     99\u001b[39m \u001b[38;5;28;01mexcept\u001b[39;00m \u001b[38;5;167;01mException\u001b[39;00m \u001b[38;5;28;01mas\u001b[39;00m cause:\n",
      "\u001b[32m--> \u001b[39m\u001b[32m100\u001b[39m     \u001b[38;5;28;01mraise\u001b[39;00m JsonLdError(\n",
      "\u001b[32m    101\u001b[39m         \u001b[33m'\u001b[39m\u001b[33mCould not retrieve a JSON-LD document from the URL.\u001b[39m\u001b[33m'\u001b[39m,\n",
      "\u001b[32m    102\u001b[39m         \u001b[33m'\u001b[39m\u001b[33mjsonld.LoadDocumentError\u001b[39m\u001b[33m'\u001b[39m, code=\u001b[33m'\u001b[39m\u001b[33mloading document failed\u001b[39m\u001b[33m'\u001b[39m,\n",
      "\u001b[32m    103\u001b[39m         cause=cause)\n",
      "\n",
      "\u001b[31mJsonLdError\u001b[39m: ('Could not retrieve a JSON-LD document from the URL.',)\n",
      "Type: jsonld.LoadDocumentError\n",
      "Code: loading document failed\n",
      "Cause: Expecting value: line 2 column 1 (char 1)  File \"/Users/lucyhavens/miniconda3/envs/ldeval/lib/python3.13/site-packages/pyld/documentloader/requests.py\", line 72, in loader\n",
      "    'document': response.json()\n",
      "                ~~~~~~~~~~~~~^^\n",
      "  File \"/Users/lucyhavens/miniconda3/envs/ldeval/lib/python3.13/site-packages/requests/models.py\", line 978, in json\n",
      "    raise RequestsJSONDecodeError(e.msg, e.doc, e.pos)\n",
      "\n",
      "\n",
      "During handling of the above exception, another exception occurred:\n",
      "\n",
      "\u001b[31mJsonLdError\u001b[39m                               Traceback (most recent call last)\n",
      "\u001b[36mCell\u001b[39m\u001b[36m \u001b[39m\u001b[32mIn[21]\u001b[39m\u001b[32m, line 3\u001b[39m\n",
      "\u001b[32m      1\u001b[39m \u001b[38;5;66;03m# expand a document, removing its context\u001b[39;00m\n",
      "\u001b[32m      2\u001b[39m \u001b[38;5;66;03m# see: https://json-ld.org/spec/latest/json-ld/#expanded-document-form\u001b[39;00m\n",
      "\u001b[32m----> \u001b[39m\u001b[32m3\u001b[39m expanded = \u001b[43mjsonld\u001b[49m\u001b[43m.\u001b[49m\u001b[43mexpand\u001b[49m\u001b[43m(\u001b[49m\u001b[43mdoc\u001b[49m\u001b[43m)\u001b[49m \u001b[38;5;66;03m#compacted)\u001b[39;00m\n",
      "\u001b[32m      5\u001b[39m \u001b[38;5;28mprint\u001b[39m(json.dumps(expanded, indent=\u001b[32m2\u001b[39m))\n",
      "\n",
      "\u001b[36mFile \u001b[39m\u001b[32m~/miniconda3/envs/ldeval/lib/python3.13/site-packages/pyld/jsonld.py:163\u001b[39m, in \u001b[36mexpand\u001b[39m\u001b[34m(input_, options)\u001b[39m\n",
      "\u001b[32m    145\u001b[39m \u001b[38;5;28;01mdef\u001b[39;00m\u001b[38;5;250m \u001b[39m\u001b[34mexpand\u001b[39m(input_, options=\u001b[38;5;28;01mNone\u001b[39;00m):\n",
      "\u001b[32m    146\u001b[39m \u001b[38;5;250m    \u001b[39m\u001b[33;03m\"\"\"\u001b[39;00m\n",
      "\u001b[32m    147\u001b[39m \u001b[33;03m    Performs JSON-LD expansion.\u001b[39;00m\n",
      "\u001b[32m    148\u001b[39m \n",
      "\u001b[32m   (...)\u001b[39m\u001b[32m    161\u001b[39m \u001b[33;03m    :return: the expanded JSON-LD output.\u001b[39;00m\n",
      "\u001b[32m    162\u001b[39m \u001b[33;03m    \"\"\"\u001b[39;00m\n",
      "\u001b[32m--> \u001b[39m\u001b[32m163\u001b[39m     \u001b[38;5;28;01mreturn\u001b[39;00m \u001b[43mJsonLdProcessor\u001b[49m\u001b[43m(\u001b[49m\u001b[43m)\u001b[49m\u001b[43m.\u001b[49m\u001b[43mexpand\u001b[49m\u001b[43m(\u001b[49m\u001b[43minput_\u001b[49m\u001b[43m,\u001b[49m\u001b[43m \u001b[49m\u001b[43moptions\u001b[49m\u001b[43m)\u001b[49m\n",
      "\n",
      "\u001b[36mFile \u001b[39m\u001b[32m~/miniconda3/envs/ldeval/lib/python3.13/site-packages/pyld/jsonld.py:870\u001b[39m, in \u001b[36mJsonLdProcessor.expand\u001b[39m\u001b[34m(self, input_, options)\u001b[39m\n",
      "\u001b[32m    866\u001b[39m     active_ctx = \u001b[38;5;28mself\u001b[39m.process_context(\n",
      "\u001b[32m    867\u001b[39m         active_ctx, remote_context, options)\n",
      "\u001b[32m    869\u001b[39m \u001b[38;5;66;03m# do expansion\u001b[39;00m\n",
      "\u001b[32m--> \u001b[39m\u001b[32m870\u001b[39m expanded = \u001b[38;5;28;43mself\u001b[39;49m\u001b[43m.\u001b[49m\u001b[43m_expand\u001b[49m\u001b[43m(\u001b[49m\u001b[43mactive_ctx\u001b[49m\u001b[43m,\u001b[49m\u001b[43m \u001b[49m\u001b[38;5;28;43;01mNone\u001b[39;49;00m\u001b[43m,\u001b[49m\u001b[43m \u001b[49m\u001b[43mdocument\u001b[49m\u001b[43m,\u001b[49m\u001b[43m \u001b[49m\u001b[43moptions\u001b[49m\u001b[43m,\u001b[49m\n",
      "\u001b[32m    871\u001b[39m \u001b[43m    \u001b[49m\u001b[43minside_list\u001b[49m\u001b[43m=\u001b[49m\u001b[38;5;28;43;01mFalse\u001b[39;49;00m\u001b[43m)\u001b[49m\n",
      "\u001b[32m    873\u001b[39m \u001b[38;5;66;03m# optimize away @graph with no other properties\u001b[39;00m\n",
      "\u001b[32m    874\u001b[39m \u001b[38;5;28;01mif\u001b[39;00m (_is_object(expanded) \u001b[38;5;129;01mand\u001b[39;00m \u001b[33m'\u001b[39m\u001b[33m@graph\u001b[39m\u001b[33m'\u001b[39m \u001b[38;5;129;01min\u001b[39;00m expanded \u001b[38;5;129;01mand\u001b[39;00m\n",
      "\u001b[32m    875\u001b[39m         \u001b[38;5;28mlen\u001b[39m(expanded) == \u001b[32m1\u001b[39m):\n",
      "\n",
      "\u001b[36mFile \u001b[39m\u001b[32m~/miniconda3/envs/ldeval/lib/python3.13/site-packages/pyld/jsonld.py:2302\u001b[39m, in \u001b[36mJsonLdProcessor._expand\u001b[39m\u001b[34m(self, active_ctx, active_property, element, options, inside_list, inside_index, type_scoped_ctx)\u001b[39m\n",
      "\u001b[32m   2299\u001b[39m \u001b[38;5;66;03m# recursively expand object\u001b[39;00m\n",
      "\u001b[32m   2300\u001b[39m \u001b[38;5;66;03m# if element has a context, process it\u001b[39;00m\n",
      "\u001b[32m   2301\u001b[39m \u001b[38;5;28;01mif\u001b[39;00m \u001b[33m'\u001b[39m\u001b[33m@context\u001b[39m\u001b[33m'\u001b[39m \u001b[38;5;129;01min\u001b[39;00m element:\n",
      "\u001b[32m-> \u001b[39m\u001b[32m2302\u001b[39m     active_ctx = \u001b[38;5;28;43mself\u001b[39;49m\u001b[43m.\u001b[49m\u001b[43m_process_context\u001b[49m\u001b[43m(\u001b[49m\n",
      "\u001b[32m   2303\u001b[39m \u001b[43m        \u001b[49m\u001b[43mactive_ctx\u001b[49m\u001b[43m,\u001b[49m\u001b[43m \u001b[49m\u001b[43melement\u001b[49m\u001b[43m[\u001b[49m\u001b[33;43m'\u001b[39;49m\u001b[33;43m@context\u001b[39;49m\u001b[33;43m'\u001b[39;49m\u001b[43m]\u001b[49m\u001b[43m,\u001b[49m\u001b[43m \u001b[49m\u001b[43moptions\u001b[49m\u001b[43m)\u001b[49m\n",
      "\u001b[32m   2305\u001b[39m \u001b[38;5;66;03m# set the type-scoped context to the context on input, for use later\u001b[39;00m\n",
      "\u001b[32m   2306\u001b[39m type_scoped_ctx = active_ctx\n",
      "\n",
      "\u001b[36mFile \u001b[39m\u001b[32m~/miniconda3/envs/ldeval/lib/python3.13/site-packages/pyld/jsonld.py:3049\u001b[39m, in \u001b[36mJsonLdProcessor._process_context\u001b[39m\u001b[34m(self, active_ctx, local_ctx, options, override_protected, propagate, validate_scoped, cycles)\u001b[39m\n",
      "\u001b[32m   3046\u001b[39m     \u001b[38;5;28;01mreturn\u001b[39;00m \u001b[38;5;28mself\u001b[39m._clone_active_context(active_ctx)\n",
      "\u001b[32m   3048\u001b[39m \u001b[38;5;66;03m# resolve contexts\u001b[39;00m\n",
      "\u001b[32m-> \u001b[39m\u001b[32m3049\u001b[39m resolved = \u001b[43moptions\u001b[49m\u001b[43m[\u001b[49m\u001b[33;43m'\u001b[39;49m\u001b[33;43mcontextResolver\u001b[39;49m\u001b[33;43m'\u001b[39;49m\u001b[43m]\u001b[49m\u001b[43m.\u001b[49m\u001b[43mresolve\u001b[49m\u001b[43m(\u001b[49m\u001b[43mactive_ctx\u001b[49m\u001b[43m,\u001b[49m\u001b[43m \u001b[49m\u001b[43mlocal_ctx\u001b[49m\u001b[43m,\u001b[49m\u001b[43m \u001b[49m\u001b[43moptions\u001b[49m\u001b[43m.\u001b[49m\u001b[43mget\u001b[49m\u001b[43m(\u001b[49m\u001b[33;43m'\u001b[39;49m\u001b[33;43mbase\u001b[39;49m\u001b[33;43m'\u001b[39;49m\u001b[43m,\u001b[49m\u001b[43m \u001b[49m\u001b[33;43m'\u001b[39;49m\u001b[33;43m'\u001b[39;49m\u001b[43m)\u001b[49m\u001b[43m)\u001b[49m\n",
      "\u001b[32m   3051\u001b[39m \u001b[38;5;66;03m# override propagate if first resolved context has `@propagate`\u001b[39;00m\n",
      "\u001b[32m   3052\u001b[39m \u001b[38;5;28;01mif\u001b[39;00m _is_object(resolved[\u001b[32m0\u001b[39m].document) \u001b[38;5;129;01mand\u001b[39;00m \u001b[38;5;28misinstance\u001b[39m(resolved[\u001b[32m0\u001b[39m].document.get(\u001b[33m'\u001b[39m\u001b[33m@propagate\u001b[39m\u001b[33m'\u001b[39m), \u001b[38;5;28mbool\u001b[39m):\n",
      "\n",
      "\u001b[36mFile \u001b[39m\u001b[32m~/miniconda3/envs/ldeval/lib/python3.13/site-packages/pyld/context_resolver.py:58\u001b[39m, in \u001b[36mContextResolver.resolve\u001b[39m\u001b[34m(self, active_ctx, context, base, cycles)\u001b[39m\n",
      "\u001b[32m     56\u001b[39m resolved = \u001b[38;5;28mself\u001b[39m._get(ctx)\n",
      "\u001b[32m     57\u001b[39m \u001b[38;5;28;01mif\u001b[39;00m \u001b[38;5;129;01mnot\u001b[39;00m resolved:\n",
      "\u001b[32m---> \u001b[39m\u001b[32m58\u001b[39m     resolved = \u001b[38;5;28;43mself\u001b[39;49m\u001b[43m.\u001b[49m\u001b[43m_resolve_remote_context\u001b[49m\u001b[43m(\u001b[49m\n",
      "\u001b[32m     59\u001b[39m \u001b[43m        \u001b[49m\u001b[43mactive_ctx\u001b[49m\u001b[43m,\u001b[49m\u001b[43m \u001b[49m\u001b[43mctx\u001b[49m\u001b[43m,\u001b[49m\u001b[43m \u001b[49m\u001b[43mbase\u001b[49m\u001b[43m,\u001b[49m\u001b[43m \u001b[49m\u001b[43mcycles\u001b[49m\u001b[43m)\u001b[49m\n",
      "\u001b[32m     61\u001b[39m \u001b[38;5;66;03m# add to output and continue\u001b[39;00m\n",
      "\u001b[32m     62\u001b[39m \u001b[38;5;28;01mif\u001b[39;00m \u001b[38;5;28misinstance\u001b[39m(resolved, \u001b[38;5;28mlist\u001b[39m):\n",
      "\n",
      "\u001b[36mFile \u001b[39m\u001b[32m~/miniconda3/envs/ldeval/lib/python3.13/site-packages/pyld/context_resolver.py:108\u001b[39m, in \u001b[36mContextResolver._resolve_remote_context\u001b[39m\u001b[34m(self, active_ctx, url, base, cycles)\u001b[39m\n",
      "\u001b[32m    105\u001b[39m \u001b[38;5;28;01mdef\u001b[39;00m\u001b[38;5;250m \u001b[39m\u001b[34m_resolve_remote_context\u001b[39m(\u001b[38;5;28mself\u001b[39m, active_ctx, url, base, cycles):\n",
      "\u001b[32m    106\u001b[39m     \u001b[38;5;66;03m# resolve relative URL and fetch context\u001b[39;00m\n",
      "\u001b[32m    107\u001b[39m     url = jsonld.prepend_base(base, url)\n",
      "\u001b[32m--> \u001b[39m\u001b[32m108\u001b[39m     context, remote_doc = \u001b[38;5;28;43mself\u001b[39;49m\u001b[43m.\u001b[49m\u001b[43m_fetch_context\u001b[49m\u001b[43m(\u001b[49m\u001b[43mactive_ctx\u001b[49m\u001b[43m,\u001b[49m\u001b[43m \u001b[49m\u001b[43murl\u001b[49m\u001b[43m,\u001b[49m\u001b[43m \u001b[49m\u001b[43mcycles\u001b[49m\u001b[43m)\u001b[49m\n",
      "\u001b[32m    110\u001b[39m     \u001b[38;5;66;03m# update base according to remote document and resolve any relative URLs\u001b[39;00m\n",
      "\u001b[32m    111\u001b[39m     base = remote_doc.get(\u001b[33m'\u001b[39m\u001b[33mdocumentUrl\u001b[39m\u001b[33m'\u001b[39m, url)\n",
      "\n",
      "\u001b[36mFile \u001b[39m\u001b[32m~/miniconda3/envs/ldeval/lib/python3.13/site-packages/pyld/context_resolver.py:148\u001b[39m, in \u001b[36mContextResolver._fetch_context\u001b[39m\u001b[34m(self, active_ctx, url, cycles)\u001b[39m\n",
      "\u001b[32m    146\u001b[39m     context = remote_doc.get(\u001b[33m'\u001b[39m\u001b[33mdocument\u001b[39m\u001b[33m'\u001b[39m, url)\n",
      "\u001b[32m    147\u001b[39m \u001b[38;5;28;01mexcept\u001b[39;00m \u001b[38;5;167;01mException\u001b[39;00m \u001b[38;5;28;01mas\u001b[39;00m cause:\n",
      "\u001b[32m--> \u001b[39m\u001b[32m148\u001b[39m     \u001b[38;5;28;01mraise\u001b[39;00m jsonld.JsonLdError(\n",
      "\u001b[32m    149\u001b[39m         \u001b[33m'\u001b[39m\u001b[33mDereferencing a URL did not result in a valid JSON-LD object. \u001b[39m\u001b[33m'\u001b[39m +\n",
      "\u001b[32m    150\u001b[39m         \u001b[33m'\u001b[39m\u001b[33mPossible causes are an inaccessible URL perhaps due to \u001b[39m\u001b[33m'\u001b[39m +\n",
      "\u001b[32m    151\u001b[39m         \u001b[33m'\u001b[39m\u001b[33ma same-origin policy (ensure the server uses CORS if you are \u001b[39m\u001b[33m'\u001b[39m +\n",
      "\u001b[32m    152\u001b[39m         \u001b[33m'\u001b[39m\u001b[33musing client-side JavaScript), too many redirects, a \u001b[39m\u001b[33m'\u001b[39m +\n",
      "\u001b[32m    153\u001b[39m         \u001b[33m'\u001b[39m\u001b[33mnon-JSON response, or more than one HTTP Link Header was \u001b[39m\u001b[33m'\u001b[39m +\n",
      "\u001b[32m    154\u001b[39m         \u001b[33m'\u001b[39m\u001b[33mprovided for a remote context.\u001b[39m\u001b[33m'\u001b[39m,\n",
      "\u001b[32m    155\u001b[39m         \u001b[33m'\u001b[39m\u001b[33mjsonld.InvalidUrl\u001b[39m\u001b[33m'\u001b[39m,\n",
      "\u001b[32m    156\u001b[39m         {\u001b[33m'\u001b[39m\u001b[33murl\u001b[39m\u001b[33m'\u001b[39m: url, \u001b[33m'\u001b[39m\u001b[33mcause\u001b[39m\u001b[33m'\u001b[39m: cause},\n",
      "\u001b[32m    157\u001b[39m         code=\u001b[33m'\u001b[39m\u001b[33mloading remote context failed\u001b[39m\u001b[33m'\u001b[39m)\n",
      "\u001b[32m    159\u001b[39m \u001b[38;5;66;03m# ensure ctx is an object\u001b[39;00m\n",
      "\u001b[32m    160\u001b[39m \u001b[38;5;28;01mif\u001b[39;00m \u001b[38;5;129;01mnot\u001b[39;00m \u001b[38;5;28misinstance\u001b[39m(context, \u001b[38;5;28mdict\u001b[39m) \u001b[38;5;129;01mand\u001b[39;00m \u001b[38;5;129;01mnot\u001b[39;00m \u001b[38;5;28misinstance\u001b[39m(context, frozendict):\n",
      "\n",
      "\u001b[31mJsonLdError\u001b[39m: ('Dereferencing a URL did not result in a valid JSON-LD object. Possible causes are an inaccessible URL perhaps due to a same-origin policy (ensure the server uses CORS if you are using client-side JavaScript), too many redirects, a non-JSON response, or more than one HTTP Link Header was provided for a remote context.',)\n",
      "Type: jsonld.InvalidUrl\n",
      "Code: loading remote context failed\n",
      "Details: {'url': 'https://schema.org', 'cause': JsonLdError('Could not retrieve a JSON-LD document from the URL.')}"
     ]
    }
   ],
   "source": [
    "# expand a document, removing its context\n",
    "# see: https://json-ld.org/spec/latest/json-ld/#expanded-document-form\n",
    "expanded = jsonld.expand(doc) #compacted)\n",
    "\n",
    "print(json.dumps(expanded, indent=2))"
   ]
  },
  {
   "cell_type": "markdown",
   "id": "94b73809",
   "metadata": {},
   "source": [
    "### Schema.org\n",
    "\n",
    "Conformance basically a check that types exist and are referenced (spelled, structured) properly?"
   ]
  },
  {
   "cell_type": "code",
   "execution_count": null,
   "id": "053fdb64",
   "metadata": {},
   "outputs": [],
   "source": [
    "# JSON-LD Context (all types?): https://schema.org/docs/jsonldcontext.json\n",
    "# Current version of vocabulary: https://schema.org/version/latest/schemaorg-current-https.jsonld (from https://schema.org/docs/developers.html)"
   ]
  },
  {
   "cell_type": "code",
   "execution_count": null,
   "id": "9422725f",
   "metadata": {},
   "outputs": [],
   "source": [
    "# to get all field names in JSON: '\"@?[a-zA-Z]+\"(?=:)'"
   ]
  },
  {
   "cell_type": "markdown",
   "id": "d4095597",
   "metadata": {},
   "source": [
    "### CIDOC-CRM\n",
    "\n",
    "Conformance basically a check that types exist and are referenced (spelled, structured) properly?"
   ]
  },
  {
   "cell_type": "code",
   "execution_count": null,
   "id": "df73726f",
   "metadata": {},
   "outputs": [],
   "source": [
    "# JSON-LD Context: https://cidoc-crm.org/rdfs/7.1.3/CIDOC_CRM_v7.1.3_JSON-LD_Context.jsonld\n",
    "# Classes & properties: https://cidoc-crm.org/html/cidoc_crm_v7.1.3.html\n",
    "# Namespace: http://www.cidoc-crm.org/cidoc-crm/"
   ]
  },
  {
   "cell_type": "code",
   "execution_count": null,
   "id": "977f4db7",
   "metadata": {},
   "outputs": [],
   "source": [
    "# to get all field names in JSON: '\"@?[a-zA-Z]+\"(?=:)'"
   ]
  },
  {
   "cell_type": "markdown",
   "id": "0491271f",
   "metadata": {},
   "source": [
    "Possible to automate check for event-centric modeling???"
   ]
  },
  {
   "cell_type": "markdown",
   "id": "da322983",
   "metadata": {},
   "source": []
  }
 ],
 "metadata": {
  "kernelspec": {
   "display_name": "ldeval",
   "language": "python",
   "name": "python3"
  },
  "language_info": {
   "codemirror_mode": {
    "name": "ipython",
    "version": 3
   },
   "file_extension": ".py",
   "mimetype": "text/x-python",
   "name": "python",
   "nbconvert_exporter": "python",
   "pygments_lexer": "ipython3",
   "version": "3.13.2"
  }
 },
 "nbformat": 4,
 "nbformat_minor": 5
}
