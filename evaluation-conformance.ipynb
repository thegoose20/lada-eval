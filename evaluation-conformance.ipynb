{
 "cells": [
  {
   "cell_type": "markdown",
   "id": "9a6e0cf2",
   "metadata": {},
   "source": [
    "# Evaluation: Conformance and Consistency\n",
    "Part III of the computational evaluation of AI-generated linked data for [Linking Anthropology's Data and Archives (LADA)](https://ischool.umd.edu/projects/building-a-sustainable-future-for-anthropologys-archives-researching-primary-source-data-lifecycles-infrastructures-and-reuse/), focused on conformance to ontologies (i.e., CIDOC-CRM, Schema.org, Dublin Core) and consistency in the conformance across generated data points (e.g., is all data on one or two lines, or does each tag, subtag, etc. appear on its own line?).\n",
    "\n",
    "---\n",
    "\n",
    "**Table of Contents:**\n",
    "\n",
    "I. [Data Loading](#data-loading)\n",
    "\n",
    "II. [Dublin Core](#dublin-core)\n",
    "\n",
    "III. [Schema.org](#schemaorg)\n",
    "\n",
    "IV. [CIDOC-CRM](#cidoc-crm)\n",
    "\n",
    "---"
   ]
  },
  {
   "cell_type": "markdown",
   "id": "6dfa2d88",
   "metadata": {},
   "source": [
    "## Data Loading"
   ]
  },
  {
   "cell_type": "code",
   "execution_count": null,
   "id": "64193bd8",
   "metadata": {},
   "outputs": [],
   "source": [
    "import utils\n",
    "import config\n",
    "import pandas as pd\n",
    "import numpy as np\n",
    "import urllib.request\n",
    "import urllib\n",
    "import xml.etree.ElementTree as ET\n",
    "import json\n",
    "from lxml import etree\n",
    "import rdflib\n",
    "from rdflib.namespace import DC, SDO # Dublin Core, Schema.org\n",
    "from pathlib import Path\n",
    "import os\n",
    "import re\n",
    "\n",
    "# sax - to validate XML well-formed\n",
    "# xml.etree.ElementTree - to validate text between tags\n",
    "# xml.etree.ElementTree + xml.etree.ElementTree.XMLSchema's validate() - to validate XML well-formed\n",
    "# lxml etree.XMLParser - to validate well-formed based on input XML schema\n",
    "# json_checker - to validate Python data types (incl. but not limited to those obtained from JSON)\n",
    "# jsonschema.validate\n",
    "# ShEx - for RDF graphs, ShExJ for JSON - NOTE: couldn't install package\n",
    "# OntoME - for CIDOC-CRM ontology alignment\n",
    "# Try PyLD, if RDFLib not working/not doing what want"
   ]
  },
  {
   "cell_type": "markdown",
   "id": "2fb40902",
   "metadata": {},
   "source": [
    "Create variables to reference existing directories and files."
   ]
  },
  {
   "cell_type": "code",
   "execution_count": 2,
   "id": "a8b711da",
   "metadata": {},
   "outputs": [],
   "source": [
    "dublin_path = \"corrected/dublin_core/\"  # XML data files\n",
    "schema_path = \"corrected/schema_org/\"   # JSON data files\n",
    "cidoc_path = \"corrected/cidoc_crm/\"     # JSON data files\n",
    "\n",
    "dublin_t1_dir = config.task1_data+dublin_path\n",
    "schema_t1_dir = config.task1_data+schema_path\n",
    "cidoc_t1_dir = config.task1_data+cidoc_path\n",
    "\n",
    "dublin_p1_dir = config.playgrd1_data+dublin_path\n",
    "schema_p1_dir = config.playgrd1_data+schema_path\n",
    "cidoc_p1_dir = config.playgrd1_data+cidoc_path\n",
    "\n",
    "dublin_p3_dir = config.playgrd3_data+dublin_path\n",
    "schema_p3_dir = config.playgrd3_data+schema_path\n",
    "cidoc_p3_dir = config.playgrd3_data+cidoc_path"
   ]
  },
  {
   "cell_type": "code",
   "execution_count": 9,
   "id": "3fc3bbfa",
   "metadata": {},
   "outputs": [],
   "source": [
    "dc_paths = [dublin_t1_dir, dublin_p1_dir, dublin_p3_dir]\n",
    "sdo_paths = [schema_t1_dir, schema_p1_dir, schema_p3_dir]\n",
    "cidoc_paths = [cidoc_t1_dir, cidoc_p1_dir, cidoc_p3_dir]"
   ]
  },
  {
   "cell_type": "markdown",
   "id": "3844591f",
   "metadata": {},
   "source": [
    "## Dublin Core"
   ]
  },
  {
   "cell_type": "markdown",
   "id": "b0f410af",
   "metadata": {},
   "source": [
    "***Note:***\n",
    "\n",
    "*The Dublin Core schemas' URLs below are from [dublincore.org](https://www.dublincore.org/schemas/xmls/) under \"Latest versions are always available as: ...\"*"
   ]
  },
  {
   "cell_type": "code",
   "execution_count": 3,
   "id": "3ef28086",
   "metadata": {},
   "outputs": [],
   "source": [
    "dc_elements_schema_url = \"https://www.dublincore.org/schemas/xmls/qdc/dc.xsd\"\n",
    "dc_terms_schema_url = \"https://www.dublincore.org/schemas/xmls/qdc/dcterms.xsd\"\n",
    "dc_mitype_schema_url = \"https://www.dublincore.org/schemas/xmls/qdc/dcmitype.xsd\""
   ]
  },
  {
   "cell_type": "markdown",
   "id": "c50c615f",
   "metadata": {},
   "source": [
    "Create variables for the two Dublin Core Metadata Initative namespaces."
   ]
  },
  {
   "cell_type": "code",
   "execution_count": 4,
   "id": "dec4bc34",
   "metadata": {},
   "outputs": [],
   "source": [
    "dcmi_legacy = [\"creator\", \"contributor\", \"date\", \"title\", \"publisher\", \n",
    "             \"language\", \"format\", \"subject\", \"description\", \"identifier\", \n",
    "             \"relation\", \"source\", \"type\", \"coverage\", \"rights\"]\n",
    "dcmi_terms = [\"dcterms:creator\", \"dcterms:contributor\", \"dcterms:date\", \"dcterms:title\", \"dcterms:publisher\", \n",
    "             \"dcterms:language\", \"dcterms:format\", \"dcterms:subject\", \"dcterms:description\", \"dcterms:identifier\", \n",
    "             \"dcterms:relation\", \"dcterms:source\", \"dcterms:type\", \"dcterms:coverage\", \"dcterms:rights\"]"
   ]
  },
  {
   "cell_type": "code",
   "execution_count": 5,
   "id": "061f6d6c",
   "metadata": {},
   "outputs": [],
   "source": [
    "url = dc_elements_schema_url"
   ]
  },
  {
   "cell_type": "code",
   "execution_count": null,
   "id": "a0360f28",
   "metadata": {},
   "outputs": [],
   "source": [
    "content = urllib.request.urlopen(url)\n",
    "parser = etree.XMLParser()\n",
    "dc_elements_tree = etree.parse(content, parser)\n",
    "dc_elements_schema = etree.XMLSchema(dc_elements_tree)"
   ]
  },
  {
   "cell_type": "code",
   "execution_count": 10,
   "id": "702b76a1",
   "metadata": {},
   "outputs": [
    {
     "name": "stdout",
     "output_type": "stream",
     "text": [
      "dc_record_024.xml\n"
     ]
    }
   ],
   "source": [
    "dc_t1_files = os.listdir(dc_paths[0])\n",
    "print(dc_t1_files[0])"
   ]
  },
  {
   "cell_type": "code",
   "execution_count": 12,
   "id": "ae842096",
   "metadata": {},
   "outputs": [],
   "source": [
    "xml_doc = etree.parse(dublin_t1_dir+dc_t1_files[0])\n",
    "result = dc_elements_schema.validate(xml_doc)"
   ]
  },
  {
   "cell_type": "code",
   "execution_count": null,
   "id": "050ee878",
   "metadata": {},
   "outputs": [
    {
     "data": {
      "text/plain": [
       "'data/data_playground_task1/cleaned/dublin_core/dc_record_001.xml'"
      ]
     },
     "metadata": {},
     "output_type": "display_data"
    }
   ],
   "source": [
    "dublin_file_paths[1]"
   ]
  },
  {
   "cell_type": "markdown",
   "id": "9c290e39",
   "metadata": {},
   "source": [
    "For metadata using the terms namespace (e.g., `dcterms:title`), make sure that only the properties permitted to have literals do, in fact, have literals (meaning they are not URIs, they're strings) and that only the properties permitted to have nonliterals do, in fact, have nonliterals (meaning they are URIs).  See a list of which properties can have what [here](https://www.dublincore.org/resources/userguide/publishing_metadata/#Properties_of_the_terms_namespace_used_only_with_literal_values).\n",
    "\n",
    "For metadata using the legacy namespace (e.g., `dc:title`), all properties' values can be literals or nonliterals.\n"
   ]
  },
  {
   "cell_type": "code",
   "execution_count": null,
   "id": "5e8dbbd2",
   "metadata": {},
   "outputs": [],
   "source": []
  },
  {
   "cell_type": "markdown",
   "id": "dde2e643",
   "metadata": {},
   "source": [
    "Check that each XML file includes a DOCTYPE and the simple Dublin Core namespace (an exception may not be thrown during parsing even if these are missing from an XML file)."
   ]
  },
  {
   "cell_type": "code",
   "execution_count": null,
   "id": "86d56f18",
   "metadata": {},
   "outputs": [],
   "source": [
    "prolog = '<?xml version=\"1.0\"?>'\n",
    "dc_namespace_simple = 'xmlns:dc=\"http://purl.org/dc/elements/1.1/\">'"
   ]
  },
  {
   "cell_type": "code",
   "execution_count": null,
   "id": "a3aaddc0",
   "metadata": {},
   "outputs": [
    {
     "name": "stdout",
     "output_type": "stream",
     "text": [
      "Total correct Dublin Core XML files: 2\n",
      "Files with errors: 105 of 107 (98.13%)\n"
     ]
    }
   ],
   "source": [
    "correct_files, other_errors = [], []\n",
    "for f_xml in dublin_file_paths:\n",
    "    if not f_xml in errored_files:\n",
    "        f_txt = f_xml.replace(\".xml\", \".txt\")\n",
    "        with open(f_txt, \"r\") as f:\n",
    "            content = f.read()\n",
    "            if not prolog in content:\n",
    "                errored_files += [f_xml]\n",
    "                f_error = {\"file\": f_xml, \"exception_type\": \"Custom syntax\", \"exception_subtype\": \"Prolog\", \"exception_message\": \"No prolog\"}\n",
    "                other_errors += [f_error]\n",
    "            if not dc_namespace_simple in content:\n",
    "                errored_files += [f_xml]\n",
    "                f_error = {\"file\": f_xml, \"exception_type\": \"Custom syntax\", \"exception_subtype\": \"Namespace\", \"exception_message\": \"No DC namespace\"}\n",
    "                other_errors += [f_error]\n",
    "            if not f_xml in errored_files:\n",
    "                correct_files += [f_xml]\n",
    "            f.close()\n",
    "\n",
    "errored_files = list(set(errored_files))\n",
    "correct_files = list(set(correct_files))\n",
    "\n",
    "print(\"Total correct Dublin Core XML files:\", len(correct_files))\n",
    "print(\"Files with errors:\", \n",
    "      len(errored_files), \"of\", total_dcxml_files,\n",
    "      f\"({(len(errored_files)/total_dcxml_files)*100:.2f}%)\")"
   ]
  },
  {
   "cell_type": "code",
   "execution_count": null,
   "id": "94e948f6",
   "metadata": {},
   "outputs": [],
   "source": [
    "prolog = '<?xml version=\"1.0\"?>'\n",
    "\n",
    "\n",
    "# Be sure the XML data includes a DOCTYPE declaration if specified in the prolog parameter\n",
    "has_prolog = re.findall(\"^\\<\\?xml version=.+\\?>\", f_string)\n",
    "if not include_prolog:\n",
    "    if len(has_prolog) > 0:\n",
    "        f_string = f_string.replace(has_prolog[0], \"\")\n",
    "else:\n",
    "    if len(has_prolog) == 0:\n",
    "        f_string = prolog + \"\\n\" + f_string\n",
    "    # Make sure the prolog is consistent across all files\n",
    "    elif has_prolog[0] != prolog:\n",
    "        f_string = f_string.replace(has_prolog[0], prolog)"
   ]
  },
  {
   "cell_type": "code",
   "execution_count": null,
   "id": "13378796",
   "metadata": {},
   "outputs": [],
   "source": []
  },
  {
   "cell_type": "code",
   "execution_count": null,
   "id": "e9d5b4a2",
   "metadata": {},
   "outputs": [],
   "source": []
  },
  {
   "cell_type": "markdown",
   "id": "40bae176",
   "metadata": {},
   "source": [
    "ALSO??? Make sure that literals (non-URIs, or strings) are not in the subject or predicate of a triple (they can only be in the object position, but objects can also be nonliterals)."
   ]
  },
  {
   "cell_type": "markdown",
   "id": "94b73809",
   "metadata": {},
   "source": [
    "## Schema.org\n",
    "\n",
    "Conformance basically a check that types exist and are referenced (spelled, structured) properly?"
   ]
  },
  {
   "cell_type": "code",
   "execution_count": null,
   "id": "053fdb64",
   "metadata": {},
   "outputs": [],
   "source": [
    "# JSON-LD Context (all types?): https://schema.org/docs/jsonldcontext.json\n",
    "# Current version of vocabulary: https://schema.org/version/latest/schemaorg-current-https.jsonld (from https://schema.org/docs/developers.html)"
   ]
  },
  {
   "cell_type": "markdown",
   "id": "d4095597",
   "metadata": {},
   "source": [
    "## CIDOC-CRM\n",
    "\n",
    "Conformance basically a check that types exist and are referenced (spelled, structured) properly?"
   ]
  },
  {
   "cell_type": "code",
   "execution_count": null,
   "id": "df73726f",
   "metadata": {},
   "outputs": [],
   "source": [
    "# JSON-LD Context: https://cidoc-crm.org/rdfs/7.1.3/CIDOC_CRM_v7.1.3_JSON-LD_Context.jsonld\n",
    "# Classes & properties: https://cidoc-crm.org/html/cidoc_crm_v7.1.3.html\n",
    "# Namespace: http://www.cidoc-crm.org/cidoc-crm/\n",
    "\n"
   ]
  },
  {
   "cell_type": "markdown",
   "id": "0491271f",
   "metadata": {},
   "source": [
    "Possible to automate check for event-centric modeling???"
   ]
  },
  {
   "cell_type": "markdown",
   "id": "da322983",
   "metadata": {},
   "source": []
  }
 ],
 "metadata": {
  "kernelspec": {
   "display_name": "ldeval",
   "language": "python",
   "name": "python3"
  },
  "language_info": {
   "codemirror_mode": {
    "name": "ipython",
    "version": 3
   },
   "file_extension": ".py",
   "mimetype": "text/x-python",
   "name": "python",
   "nbconvert_exporter": "python",
   "pygments_lexer": "ipython3",
   "version": "3.13.2"
  }
 },
 "nbformat": 4,
 "nbformat_minor": 5
}
