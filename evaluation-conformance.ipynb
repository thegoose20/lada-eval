{
 "cells": [
  {
   "cell_type": "markdown",
   "id": "9a6e0cf2",
   "metadata": {},
   "source": [
    "# Evaluation: Conformance and Consistency\n",
    "Part III of the computational evaluation of AI-generated linked data for [Linking Anthropology's Data and Archives (LADA)](https://ischool.umd.edu/projects/building-a-sustainable-future-for-anthropologys-archives-researching-primary-source-data-lifecycles-infrastructures-and-reuse/), focused on conformance to ontologies (i.e., CIDOC-CRM, Schema.org, Dublin Core) and consistency in the conformance across generated data points (e.g., is all data on one or two lines, or does each tag, subtag, etc. appear on its own line?).\n",
    "\n",
    "---\n",
    "\n",
    "**Table of Contents:**\n",
    "\n",
    "I. [Data Loading](#data-loading)\n",
    "\n",
    "II. [Dublin Core](#dublin-core)\n",
    "\n",
    "III. [Schema.org](#schemaorg)\n",
    "\n",
    "IV. [CIDOC-CRM](#cidoc-crm)\n",
    "\n",
    "---"
   ]
  },
  {
   "cell_type": "markdown",
   "id": "6dfa2d88",
   "metadata": {},
   "source": [
    "## Data Loading"
   ]
  },
  {
   "cell_type": "code",
   "execution_count": null,
   "id": "64193bd8",
   "metadata": {},
   "outputs": [],
   "source": [
    "import utils\n",
    "import config\n",
    "import pandas as pd\n",
    "import numpy as np\n",
    "import urllib.request\n",
    "import urllib\n",
    "import xml.etree.ElementTree as ET\n",
    "import json\n",
    "from lxml import etree\n",
    "import rdflib\n",
    "from rdflib.namespace import DC, SDO # Dublin Core, Schema.org\n",
    "from pathlib import Path\n",
    "import os\n",
    "import re\n",
    "\n",
    "# sax - to validate XML well-formed\n",
    "# xml.etree.ElementTree - to validate text between tags\n",
    "# xml.etree.ElementTree + xml.etree.ElementTree.XMLSchema's validate() - to validate XML well-formed\n",
    "# lxml etree.XMLParser - to validate well-formed based on input XML schema\n",
    "# json_checker - to validate Python data types (incl. but not limited to those obtained from JSON)\n",
    "# jsonschema.validate\n",
    "# ShEx - for RDF graphs, ShExJ for JSON - NOTE: couldn't install package\n",
    "# OntoME - for CIDOC-CRM ontology alignment"
   ]
  },
  {
   "cell_type": "markdown",
   "id": "2fb40902",
   "metadata": {},
   "source": [
    "Create variables to reference existing directories and files."
   ]
  },
  {
   "cell_type": "code",
   "execution_count": null,
   "id": "a8b711da",
   "metadata": {},
   "outputs": [],
   "source": [
    "dublin_path = \"cleaned/dublin_core/\"  # XML data files\n",
    "schema_path = \"cleaned/schema_org/\"   # JSON data files\n",
    "cidoc_path = \"cleaned/cidoc_crm/\"     # JSON data files\n",
    "\n",
    "dublin_t1_dir = config.task1_data+dublin_path\n",
    "schema_t1_dir = config.task1_data+schema_path\n",
    "cidoc_t1_dir = config.task1_data+cidoc_path\n",
    "\n",
    "dublin_p1_dir = config.playgrd1_data+dublin_path\n",
    "schema_p1_dir = config.playgrd1_data+schema_path\n",
    "cidoc_p1_dir = config.playgrd1_data+cidoc_path\n",
    "\n",
    "dublin_p3_dir = config.playgrd3_data+dublin_path\n",
    "schema_p3_dir = config.playgrd3_data+schema_path\n",
    "cidoc_p3_dir = config.playgrd3_data+cidoc_path"
   ]
  },
  {
   "cell_type": "markdown",
   "id": "06a2665c",
   "metadata": {},
   "source": [
    "Create variables to reference automatically corrected files and their directories."
   ]
  },
  {
   "cell_type": "code",
   "execution_count": null,
   "id": "03822856",
   "metadata": {},
   "outputs": [],
   "source": [
    "dublin_path = \"corrected/dublin_core/\"  # XML data files\n",
    "schema_path = \"corrected/schema_org/\"   # JSON data files\n",
    "cidoc_path = \"corrected/cidoc_crm/\"     # JSON data files\n",
    "\n",
    "dublin_t1_corrected_dir = config.task1_data+dublin_path\n",
    "schema_t1_corrected_dir = config.task1_data+schema_path\n",
    "cidoc_t1_corrected_dir = config.task1_data+cidoc_path\n",
    "\n",
    "dublin_p1_corrected_dir = config.playgrd1_data+dublin_path\n",
    "schema_p1_corrected_dir = config.playgrd1_data+schema_path\n",
    "cidoc_p1_corrected_dir = config.playgrd1_data+cidoc_path\n",
    "\n",
    "dublin_p3_corrected_dir = config.playgrd3_data+dublin_path\n",
    "schema_p3_corrected_dir = config.playgrd3_data+schema_path\n",
    "cidoc_p3_corrected_dir = config.playgrd3_data+cidoc_path\n",
    "\n",
    "corrected_dirs = [dublin_t1_corrected_dir, schema_t1_corrected_dir, cidoc_t1_corrected_dir,\n",
    "                  dublin_p1_corrected_dir, schema_p1_corrected_dir, cidoc_p1_corrected_dir,\n",
    "                  dublin_p3_corrected_dir, schema_p3_corrected_dir, cidoc_p3_corrected_dir\n",
    "                  ]\n",
    "for corrected_dir in corrected_dirs:\n",
    "    Path(corrected_dir).mkdir(parents=True, exist_ok=True)"
   ]
  },
  {
   "cell_type": "markdown",
   "id": "3844591f",
   "metadata": {},
   "source": [
    "## Dublin Core"
   ]
  },
  {
   "cell_type": "markdown",
   "id": "b0f410af",
   "metadata": {},
   "source": [
    "***Note:***\n",
    "\n",
    "*The Dublin Core schemas' URLs below are from [dublincore.org](https://www.dublincore.org/schemas/xmls/) under \"Latest versions are always available as: ...\"*"
   ]
  },
  {
   "cell_type": "code",
   "execution_count": null,
   "id": "3ef28086",
   "metadata": {},
   "outputs": [],
   "source": [
    "dc_elements_schema_url = \"https://www.dublincore.org/schemas/xmls/qdc/dc.xsd\"\n",
    "dc_terms_schema_url = \"https://www.dublincore.org/schemas/xmls/qdc/dcterms.xsd\"\n",
    "dc_mitype_schema_url = \"https://www.dublincore.org/schemas/xmls/qdc/dcmitype.xsd\""
   ]
  },
  {
   "cell_type": "code",
   "execution_count": null,
   "id": "dec4bc34",
   "metadata": {},
   "outputs": [],
   "source": [
    "dc_tags = [\"dcterms:creator\", \"dcterms:contributor\", \"dcterms:date\", \"dcterms:title\", \"dcterms:publisher\", \n",
    "             \"dcterms:language\", \"dcterms:format\", \"dcterms:subject\", \"dcterms:description\", \"dcterms:identifier\", \n",
    "             \"dcterms:relation\", \"dcterms:source\", \"dcterms:type\", \"dcterms:coverage\", \"dcterms:rights\"]"
   ]
  },
  {
   "cell_type": "code",
   "execution_count": null,
   "id": "061f6d6c",
   "metadata": {},
   "outputs": [],
   "source": [
    "url = dc_elements_schema_url"
   ]
  },
  {
   "cell_type": "code",
   "execution_count": null,
   "id": "a0360f28",
   "metadata": {},
   "outputs": [],
   "source": [
    "content = urllib.request.urlopen(url)\n",
    "parser = etree.XMLParser()\n",
    "dc_elements_tree = etree.parse(content, parser)\n",
    "dc_elements_schema = etree.XMLSchema(dc_elements_tree)\n",
    "\n",
    "    # dc_elements_tree = etree.parse(dc_elements_schema_path)\n",
    "    # dc_elements_schema = etree.XMLSchema(dc_elements_tree)"
   ]
  },
  {
   "cell_type": "code",
   "execution_count": null,
   "id": "ae842096",
   "metadata": {},
   "outputs": [
    {
     "ename": "XMLSyntaxError",
     "evalue": "Namespace prefix dc on title is not defined, line 1, column 10 (dc_record_005.xml, line 1)",
     "output_type": "error",
     "traceback": [
      "Traceback \u001b[36m(most recent call last)\u001b[39m:\n",
      "\n",
      "  File \u001b[92m~/miniconda3/envs/ldeval/lib/python3.13/site-packages/IPython/core/interactiveshell.py:3670\u001b[39m in \u001b[95mrun_code\u001b[39m\n",
      "    exec(code_obj, self.user_global_ns, self.user_ns)\n",
      "\n",
      "  Cell \u001b[92mIn[49]\u001b[39m\u001b[92m, line 1\u001b[39m\n",
      "    xml_doc = etree.parse(dublin_file_paths[1]) # valid   #[0] - invalid as expected\n",
      "\n",
      "  File \u001b[92msrc/lxml/etree.pyx:3589\u001b[39m in \u001b[95mlxml.etree.parse\u001b[39m\n",
      "\n",
      "  File \u001b[92msrc/lxml/parser.pxi:1958\u001b[39m in \u001b[95mlxml.etree._parseDocument\u001b[39m\n",
      "\n",
      "  File \u001b[92msrc/lxml/parser.pxi:1984\u001b[39m in \u001b[95mlxml.etree._parseDocumentFromURL\u001b[39m\n",
      "\n",
      "  File \u001b[92msrc/lxml/parser.pxi:1887\u001b[39m in \u001b[95mlxml.etree._parseDocFromFile\u001b[39m\n",
      "\n",
      "  File \u001b[92msrc/lxml/parser.pxi:1200\u001b[39m in \u001b[95mlxml.etree._BaseParser._parseDocFromFile\u001b[39m\n",
      "\n",
      "  File \u001b[92msrc/lxml/parser.pxi:633\u001b[39m in \u001b[95mlxml.etree._ParserContext._handleParseResultDoc\u001b[39m\n",
      "\n",
      "  File \u001b[92msrc/lxml/parser.pxi:743\u001b[39m in \u001b[95mlxml.etree._handleParseResult\u001b[39m\n",
      "\n",
      "\u001b[36m  \u001b[39m\u001b[36mFile \u001b[39m\u001b[32msrc/lxml/parser.pxi:672\u001b[39m\u001b[36m in \u001b[39m\u001b[35mlxml.etree._raiseParseError\u001b[39m\n",
      "\n",
      "  \u001b[36mFile \u001b[39m\u001b[32mdata/data_playground_task1/cleaned/dublin_core/dc_record_005.xml:1\u001b[39m\n",
      "\u001b[31m    \u001b[39m\u001b[31m<dc:title>Climbing Up: Fun Activities for You and Your Cat</dc:title>\u001b[39m\n",
      "            ^\n",
      "\u001b[31mXMLSyntaxError\u001b[39m\u001b[31m:\u001b[39m Namespace prefix dc on title is not defined, line 1, column 10\n"
     ]
    }
   ],
   "source": [
    "xml_doc = etree.parse(dublin_file_paths[1]) # valid   #[0] - invalid as expected\n",
    "result = dc_elements_schema.validate(xml_doc)"
   ]
  },
  {
   "cell_type": "code",
   "execution_count": null,
   "id": "050ee878",
   "metadata": {},
   "outputs": [
    {
     "data": {
      "text/plain": [
       "'data/data_playground_task1/cleaned/dublin_core/dc_record_001.xml'"
      ]
     },
     "metadata": {},
     "output_type": "display_data"
    }
   ],
   "source": [
    "dublin_file_paths[1]"
   ]
  },
  {
   "cell_type": "markdown",
   "id": "94b73809",
   "metadata": {},
   "source": [
    "## Schema.org"
   ]
  },
  {
   "cell_type": "code",
   "execution_count": null,
   "id": "053fdb64",
   "metadata": {},
   "outputs": [],
   "source": []
  },
  {
   "cell_type": "markdown",
   "id": "d4095597",
   "metadata": {},
   "source": [
    "## CIDOC-CRM"
   ]
  },
  {
   "cell_type": "markdown",
   "id": "0491271f",
   "metadata": {},
   "source": []
  }
 ],
 "metadata": {
  "language_info": {
   "name": "python"
  }
 },
 "nbformat": 4,
 "nbformat_minor": 5
}
