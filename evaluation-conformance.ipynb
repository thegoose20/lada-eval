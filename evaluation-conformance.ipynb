{
 "cells": [
  {
   "cell_type": "markdown",
   "id": "9a6e0cf2",
   "metadata": {},
   "source": [
    "# Evaluation: Conformance and Consistency\n",
    "Part III of the computational evaluation of AI-generated linked data for [Linking Anthropology's Data and Archives (LADA)](https://ischool.umd.edu/projects/building-a-sustainable-future-for-anthropologys-archives-researching-primary-source-data-lifecycles-infrastructures-and-reuse/), focused on conformance to ontologies (i.e., Dublin Core, Schema.org, CIDOC-CRM) and consistency in the conformance across generated data points (e.g., is all data on one or two lines, or does each tag, subtag, etc. appear on its own line?).\n",
    "\n",
    "---\n",
    "\n",
    "**Table of Contents:**\n",
    "\n",
    "I. [Data Loading](#data-loading)\n",
    "\n",
    "II. [XML and RDF/XML](#xml-and-rdfxml)\n",
    "\n",
    "  * [Dublin Core](#dublin-core)\n",
    "\n",
    "III. [JSON-LD](#json-ld)\n",
    "\n",
    "  * [Schema.org](#schemaorg)\n",
    "\n",
    "  * [CIDOC-CRM](#cidoc-crm)\n",
    "\n",
    "IV. [Linked Data Best Practices](#linked-data-best-practices)\n",
    "\n",
    "---\n",
    "\n",
    "**Resources:**\n",
    "* [W3C Best Practices for Publishing Linked Data](https://www.w3.org/TR/ld-bp/)\n",
    "* Dublin Core:\n",
    "  * [DCMI Dublin Core in XML](https://www.dublincore.org/schemas/xmls/)\n",
    "  * [DCMI Dublin Core in RDF](https://www.dublincore.org/specifications/dublin-core/dc-rdf-notes/)\n",
    "* Schema.org:\n",
    "  * [JSON-LD Context](https://schema.org/docs/jsonldcontext.json) - *question: is this for* ***all*** *Schema.org types?*\n",
    "  * [Current version of vocabulary](https://schema.org/version/latest/schemaorg-current-https.jsonld)\n",
    "  * [Documentation for developers](https://schema.org/docs/developers.html)\n",
    "  * [Stackoverflow Q&A on expansion and compaction](https://stackoverflow.com/questions/76795530/json-ld-expansion)\n",
    "* CIDOC-CRM:\n",
    "  * [JSON-LD Context](https://cidoc-crm.org/rdfs/7.1.3/CIDOC_CRM_v7.1.3_JSON-LD_Context.jsonld)\n",
    "  * [Classes & properties](https://cidoc-crm.org/html/cidoc_crm_v7.1.3.html)\n",
    "  * [Namespace](http://www.cidoc-crm.org/cidoc-crm/)"
   ]
  },
  {
   "cell_type": "markdown",
   "id": "6dfa2d88",
   "metadata": {},
   "source": [
    "## Data Loading"
   ]
  },
  {
   "cell_type": "code",
   "execution_count": 16,
   "id": "64193bd8",
   "metadata": {},
   "outputs": [],
   "source": [
    "import utils\n",
    "import config\n",
    "import pandas as pd\n",
    "import numpy as np\n",
    "import urllib\n",
    "from urllib.request import Request, urlopen\n",
    "import xml.etree.ElementTree as ET\n",
    "from lxml import etree\n",
    "from pyld import jsonld\n",
    "import json\n",
    "from pathlib import Path\n",
    "import os\n",
    "import re"
   ]
  },
  {
   "cell_type": "code",
   "execution_count": 2,
   "id": "693e1eb3",
   "metadata": {},
   "outputs": [],
   "source": [
    "os.environ[\"no_proxy\"] = \"*\"                                                                                                                     # https://docs.python.org/3/library/urllib.request.html \n",
    "headers = {'User-Agent': 'Mozilla/5.0 (Windows NT 10.0; Win64; x64) AppleWebKit/537.36 (KHTML, like Gecko) Chrome/58.0.3029.110 Safari/537.3'}   # As suggested here: https://www.reddit.com/r/learnpython/comments/1ea3r0z/how_to_avoid_http_error_403_forbidden/"
   ]
  },
  {
   "cell_type": "markdown",
   "id": "2fb40902",
   "metadata": {},
   "source": [
    "Create variables to reference existing folders (a.k.a. directories) and files."
   ]
  },
  {
   "cell_type": "code",
   "execution_count": 3,
   "id": "a8b711da",
   "metadata": {},
   "outputs": [],
   "source": [
    "dublin_path = \"cleaned/dublin_core/\"  # XML data files\n",
    "schema_path = \"cleaned/schema_org/\"   # JSON data files\n",
    "cidoc_path = \"cleaned/cidoc_crm/\"     # JSON data files\n",
    "\n",
    "dublin_t1_dir = config.task1_data+dublin_path\n",
    "schema_t1_dir = config.task1_data+schema_path\n",
    "cidoc_t1_dir = config.task1_data+cidoc_path\n",
    "\n",
    "dublin_p1_dir = config.playgrd1_data+dublin_path\n",
    "schema_p1_dir = config.playgrd1_data+schema_path\n",
    "cidoc_p1_dir = config.playgrd1_data+cidoc_path\n",
    "\n",
    "dublin_p3_dir = config.playgrd3_data+dublin_path\n",
    "schema_p3_dir = config.playgrd3_data+schema_path\n",
    "cidoc_p3_dir = config.playgrd3_data+cidoc_path"
   ]
  },
  {
   "cell_type": "code",
   "execution_count": 4,
   "id": "3fc3bbfa",
   "metadata": {},
   "outputs": [],
   "source": [
    "dc_paths = [dublin_t1_dir, dublin_p1_dir, dublin_p3_dir]\n",
    "sdo_paths = [schema_t1_dir, schema_p1_dir, schema_p3_dir]\n",
    "cidoc_paths = [cidoc_t1_dir, cidoc_p1_dir, cidoc_p3_dir]"
   ]
  },
  {
   "cell_type": "code",
   "execution_count": 5,
   "id": "ecf55161",
   "metadata": {},
   "outputs": [],
   "source": [
    "d = \"conformance\"\n",
    "report_dir = f\"data/error_reports/{d}/\"\n",
    "Path(report_dir).mkdir(parents=True, exist_ok=True)"
   ]
  },
  {
   "cell_type": "markdown",
   "id": "f60572ae",
   "metadata": {},
   "source": [
    "## XML and RDF/XML"
   ]
  },
  {
   "cell_type": "markdown",
   "id": "3844591f",
   "metadata": {},
   "source": [
    "### Dublin Core"
   ]
  },
  {
   "cell_type": "markdown",
   "id": "b0f410af",
   "metadata": {},
   "source": [
    "***Note:***\n",
    "\n",
    "*The Dublin Core schemas' URLs below are from [dublincore.org](https://www.dublincore.org/schemas/xmls/) under \"Latest versions are always available as: ...\"*"
   ]
  },
  {
   "cell_type": "markdown",
   "id": "c8569eb7",
   "metadata": {},
   "source": [
    "Sample empty record conforming to *simple* Dublin Core RDF/XML:\n",
    "\n",
    "```\n",
    "<?xml version=\"1.0\">\n",
    "<rdf:RDF xmlns:rdf=\"http://www.w3.org/1999/02/22-rdf-syntax-ns#\" xmlns:dc=\"http://purl.org/dc/elements/1.1/\">\n",
    "     <rdf:Description>\n",
    "          <dc:title></dc:title>\n",
    "          <dc:creator></dc:creator>\n",
    "          <dc:contributor></dc:contributor>\n",
    "          <dc:date></dc:date>\n",
    "          <dc:relation></dc:relation>\n",
    "          <dc:language></dc:language>\n",
    "          <dc:source></dc:source>\n",
    "          <dc:subject></dc:subject>\n",
    "          <dc:description></dc:description>\n",
    "          <dc:publisher></dc:publisher>\n",
    "          <dc:rights></dc:rights>\n",
    "          <dc:type></dc:type>\n",
    "          <dc:format></dc:format>\n",
    "          <dc:coverage></dc:coverage>\n",
    "          <dc:identifier></dc:identifier>\n",
    "     </rdf:Description>\n",
    "</rdf:RDF>\n",
    "```"
   ]
  },
  {
   "cell_type": "markdown",
   "id": "cdf328ca",
   "metadata": {},
   "source": [
    "Sample empty record conforming to *qualified* Dublin Core RDF/XML:\n",
    "\n",
    "```\n",
    "<?xml version=\"1.0\">\n",
    "<rdf:RDF xmlns:rdf=\"http://www.w3.org/1999/02/22-rdf-syntax-ns#\" xmlns:dc=\"http://purl.org/dc/elements/1.1/\">\n",
    "     <rdf:Description>\n",
    "          <dcterms:title></dc:title>\n",
    "          <dcterms:creator></dc:creator>\n",
    "          <dcterms:contributor></dc:contributor>\n",
    "          <dcterms:date></dc:date>\n",
    "          <dc:relation></dc:relation>\n",
    "          <dcterms:language></dc:language>\n",
    "          <dcterms:source></dc:source>\n",
    "          <dcterms:subject></dc:subject>\n",
    "          <dcterms:description></dc:description>\n",
    "          <dcterms:publisher></dc:publisher>\n",
    "          <dcterms:rights></dc:rights>\n",
    "          <dcterms:type></dc:type>\n",
    "          <dcterms:format></dc:format>\n",
    "          <dcterms:coverage></dc:coverage>\n",
    "          <dcterms:identifier></dc:identifier>\n",
    "     </rdf:Description>\n",
    "</rdf:RDF>\n",
    "```"
   ]
  },
  {
   "cell_type": "markdown",
   "id": "1cefcfc3",
   "metadata": {},
   "source": [
    "#### Metadata Field Names"
   ]
  },
  {
   "cell_type": "markdown",
   "id": "f74a091d",
   "metadata": {},
   "source": [
    "Create variables for the 15 \"core\" elements, or properties of Dublin Core and for the two Dublin Core Metadata Initative (DCMI) namespaces."
   ]
  },
  {
   "cell_type": "code",
   "execution_count": 22,
   "id": "be64f105",
   "metadata": {},
   "outputs": [
    {
     "name": "stdout",
     "output_type": "stream",
     "text": [
      "['dc:creator', 'dc:contributor', 'dc:date']\n",
      "['dcterms:creator', 'dcterms:contributor', 'dcterms:date']\n"
     ]
    }
   ],
   "source": [
    "dc_elements = [\"creator\", \"contributor\", \"date\", \"title\", \"publisher\", \n",
    "             \"language\", \"format\", \"subject\", \"description\", \"identifier\", \n",
    "             \"relation\", \"source\", \"type\", \"coverage\", \"rights\"]\n",
    "dcmi_simple = [\"dc:\"+elem for elem in dc_elements]\n",
    "dcmi_qualified = [\"dcterms:\"+elem for elem in dc_elements]\n",
    "print(dcmi_simple[:3])\n",
    "print(dcmi_qualified[:3])"
   ]
  },
  {
   "cell_type": "code",
   "execution_count": 23,
   "id": "bc97a4bc",
   "metadata": {},
   "outputs": [
    {
     "name": "stdout",
     "output_type": "stream",
     "text": [
      "Total Dublin Core TXT files: 107\n"
     ]
    }
   ],
   "source": [
    "# Read the TXT files so all generated metadata can be read, whether or not the XML is well-formed.\n",
    "extension = \".txt\"\n",
    "dublin_file_paths = []\n",
    "dublin_files_t1 = [f for f in os.listdir(dublin_t1_dir) if f.endswith(extension)]\n",
    "dublin_file_paths += [dublin_t1_dir+f for f in dublin_files_t1]\n",
    "dublin_files_p1 = [f for f in os.listdir(dublin_p1_dir) if f.endswith(extension)]\n",
    "dublin_file_paths += [dublin_p1_dir+f for f in dublin_files_p1]\n",
    "dublin_files_p3 = [f for f in os.listdir(dublin_p3_dir) if f.endswith(extension)]\n",
    "dublin_file_paths += [dublin_p3_dir+f for f in dublin_files_p3]\n",
    "dublin_file_paths.sort()\n",
    "total_dc_files = len(dublin_file_paths)\n",
    "print(f\"Total Dublin Core {extension[1:].upper()} files:\", total_dc_files)"
   ]
  },
  {
   "cell_type": "code",
   "execution_count": 61,
   "id": "e36307ec",
   "metadata": {},
   "outputs": [
    {
     "name": "stderr",
     "output_type": "stream",
     "text": [
      "<>:5: SyntaxWarning: invalid escape sequence '\\/'\n",
      "<>:6: SyntaxWarning: invalid escape sequence '\\/'\n",
      "<>:5: SyntaxWarning: invalid escape sequence '\\/'\n",
      "<>:6: SyntaxWarning: invalid escape sequence '\\/'\n",
      "/var/folders/9c/dtt4chrx6lgcgnfz6r_z5ymm0000gn/T/ipykernel_19037/3037577675.py:5: SyntaxWarning: invalid escape sequence '\\/'\n",
      "  rdf_tags = re.compile('<\\/?rdf:RDF\\s*[^>]*>')\n",
      "/var/folders/9c/dtt4chrx6lgcgnfz6r_z5ymm0000gn/T/ipykernel_19037/3037577675.py:6: SyntaxWarning: invalid escape sequence '\\/'\n",
      "  rdf_desc_tags = re.compile('<\\/?rdf:Description\\s*[^>]*>')\n"
     ]
    }
   ],
   "source": [
    "simple_tag = re.compile('<dc:[a-z]+>')\n",
    "qual_tag = re.compile('<dcterms:[a-z]+>')\n",
    "# attrib_tag = re.compile('<[a-z]+ [a-z]+=[a-z\"]+>')\n",
    "# field_tag = re.compile('<[^:^>^\\/^=]+>')\n",
    "rdf_tags = re.compile('<\\/?rdf:RDF\\s*[^>]*>')\n",
    "rdf_desc_tags = re.compile('<\\/?rdf:Description\\s*[^>]*>')\n",
    "prolog = '<?xml version=\"1.0\"'"
   ]
  },
  {
   "cell_type": "code",
   "execution_count": 68,
   "id": "21a944dd",
   "metadata": {},
   "outputs": [],
   "source": [
    "# Check whether fields present in DC metadata records are included according to simple or qualified Dublin Core\n",
    "use_prolog, use_simple, use_qualified, use_rdf, use_rdf_desc = [], [], [], [], []\n",
    "for file_path in dublin_file_paths:\n",
    "    with open(file_path, \"r\") as f:\n",
    "        f_lower = f.read() #.lower()\n",
    "\n",
    "        # Look for a prolog (with or without encoding specified)\n",
    "        has_prolog = re.findall(prolog, f_lower)\n",
    "        if len(has_prolog) > 0:\n",
    "            use_prolog += [True]\n",
    "        else:\n",
    "            use_prolog += [False]\n",
    "        \n",
    "        # Look for tags in simple Dublin Core\n",
    "        simples = re.findall(simple_tag, f_lower)\n",
    "        if len(simples) > 0:\n",
    "            use_simple += [simples]\n",
    "        else:\n",
    "            use_simple += [False]\n",
    "        \n",
    "        # Look for tags in qualified Dublin Core\n",
    "        quals = re.findall(qual_tag, f_lower)\n",
    "        if len(quals) > 0:\n",
    "            use_qualified += [quals]\n",
    "        else:\n",
    "            use_qualified += [False]\n",
    "\n",
    "        # Look for open and close rdf:RDF tags\n",
    "        rdfs = re.findall(rdf_tags, f_lower)\n",
    "        if len(rdfs) == 2:\n",
    "            use_rdf += [rdfs]\n",
    "        else:\n",
    "            use_rdf += [False]\n",
    "\n",
    "        # Look for open and close rdf:Description tags\n",
    "        rdf_descs = re.findall(rdf_desc_tags, f_lower)\n",
    "        if len(rdf_descs) == 2:\n",
    "            use_rdf_desc += [rdf_descs]\n",
    "        else:\n",
    "            use_rdf_desc += [False]\n"
   ]
  },
  {
   "cell_type": "code",
   "execution_count": 69,
   "id": "2cec8b76",
   "metadata": {},
   "outputs": [
    {
     "data": {
      "text/html": [
       "<div>\n",
       "<style scoped>\n",
       "    .dataframe tbody tr th:only-of-type {\n",
       "        vertical-align: middle;\n",
       "    }\n",
       "\n",
       "    .dataframe tbody tr th {\n",
       "        vertical-align: top;\n",
       "    }\n",
       "\n",
       "    .dataframe thead th {\n",
       "        text-align: right;\n",
       "    }\n",
       "</style>\n",
       "<table border=\"1\" class=\"dataframe\">\n",
       "  <thead>\n",
       "    <tr style=\"text-align: right;\">\n",
       "      <th></th>\n",
       "      <th>file</th>\n",
       "      <th>uses_prolog</th>\n",
       "      <th>uses_simple</th>\n",
       "      <th>uses_qualified</th>\n",
       "      <th>uses_rdf</th>\n",
       "      <th>uses_rdf_desc</th>\n",
       "    </tr>\n",
       "  </thead>\n",
       "  <tbody>\n",
       "    <tr>\n",
       "      <th>0</th>\n",
       "      <td>data/data_playground_task1/cleaned/dublin_core...</td>\n",
       "      <td>False</td>\n",
       "      <td>False</td>\n",
       "      <td>False</td>\n",
       "      <td>False</td>\n",
       "      <td>False</td>\n",
       "    </tr>\n",
       "    <tr>\n",
       "      <th>1</th>\n",
       "      <td>data/data_playground_task1/cleaned/dublin_core...</td>\n",
       "      <td>False</td>\n",
       "      <td>[&lt;dc:title&gt;, &lt;dc:creator&gt;, &lt;dc:subject&gt;, &lt;dc:d...</td>\n",
       "      <td>False</td>\n",
       "      <td>False</td>\n",
       "      <td>False</td>\n",
       "    </tr>\n",
       "    <tr>\n",
       "      <th>2</th>\n",
       "      <td>data/data_playground_task1/cleaned/dublin_core...</td>\n",
       "      <td>True</td>\n",
       "      <td>[&lt;dc:title&gt;, &lt;dc:subject&gt;, &lt;dc:description&gt;, &lt;...</td>\n",
       "      <td>False</td>\n",
       "      <td>False</td>\n",
       "      <td>False</td>\n",
       "    </tr>\n",
       "    <tr>\n",
       "      <th>3</th>\n",
       "      <td>data/data_playground_task1/cleaned/dublin_core...</td>\n",
       "      <td>False</td>\n",
       "      <td>[&lt;dc:title&gt;, &lt;dc:creator&gt;, &lt;dc:subject&gt;, &lt;dc:d...</td>\n",
       "      <td>False</td>\n",
       "      <td>False</td>\n",
       "      <td>False</td>\n",
       "    </tr>\n",
       "    <tr>\n",
       "      <th>4</th>\n",
       "      <td>data/data_playground_task1/cleaned/dublin_core...</td>\n",
       "      <td>False</td>\n",
       "      <td>[&lt;dc:title&gt;, &lt;dc:creator&gt;, &lt;dc:contributor&gt;, &lt;...</td>\n",
       "      <td>False</td>\n",
       "      <td>False</td>\n",
       "      <td>False</td>\n",
       "    </tr>\n",
       "  </tbody>\n",
       "</table>\n",
       "</div>"
      ],
      "text/plain": [
       "                                                file  uses_prolog  \\\n",
       "0  data/data_playground_task1/cleaned/dublin_core...        False   \n",
       "1  data/data_playground_task1/cleaned/dublin_core...        False   \n",
       "2  data/data_playground_task1/cleaned/dublin_core...         True   \n",
       "3  data/data_playground_task1/cleaned/dublin_core...        False   \n",
       "4  data/data_playground_task1/cleaned/dublin_core...        False   \n",
       "\n",
       "                                         uses_simple uses_qualified  uses_rdf  \\\n",
       "0                                              False          False     False   \n",
       "1  [<dc:title>, <dc:creator>, <dc:subject>, <dc:d...          False     False   \n",
       "2  [<dc:title>, <dc:subject>, <dc:description>, <...          False     False   \n",
       "3  [<dc:title>, <dc:creator>, <dc:subject>, <dc:d...          False     False   \n",
       "4  [<dc:title>, <dc:creator>, <dc:contributor>, <...          False     False   \n",
       "\n",
       "  uses_rdf_desc  \n",
       "0         False  \n",
       "1         False  \n",
       "2         False  \n",
       "3         False  \n",
       "4         False  "
      ]
     },
     "execution_count": 69,
     "metadata": {},
     "output_type": "execute_result"
    }
   ],
   "source": [
    "df = pd.DataFrame.from_dict({\"file\":dublin_file_paths, \"uses_prolog\":use_prolog, \"uses_simple\":use_simple, \"uses_qualified\":use_qualified, \"uses_rdf\":use_rdf, \"uses_rdf_desc\":use_rdf_desc})\n",
    "df.head()"
   ]
  },
  {
   "cell_type": "markdown",
   "id": "697078e2",
   "metadata": {},
   "source": [
    "Calculate the number of files with and without a prolog, the use of simple and qualified DC, and the use of RDF (Resource Description Framework)."
   ]
  },
  {
   "cell_type": "code",
   "execution_count": 71,
   "id": "702b76a1",
   "metadata": {},
   "outputs": [
    {
     "data": {
      "text/html": [
       "<div>\n",
       "<style scoped>\n",
       "    .dataframe tbody tr th:only-of-type {\n",
       "        vertical-align: middle;\n",
       "    }\n",
       "\n",
       "    .dataframe tbody tr th {\n",
       "        vertical-align: top;\n",
       "    }\n",
       "\n",
       "    .dataframe thead th {\n",
       "        text-align: right;\n",
       "    }\n",
       "</style>\n",
       "<table border=\"1\" class=\"dataframe\">\n",
       "  <thead>\n",
       "    <tr style=\"text-align: right;\">\n",
       "      <th></th>\n",
       "      <th>uses_prolog</th>\n",
       "      <th>file_count</th>\n",
       "      <th>proportion_of_files</th>\n",
       "    </tr>\n",
       "  </thead>\n",
       "  <tbody>\n",
       "    <tr>\n",
       "      <th>0</th>\n",
       "      <td>False</td>\n",
       "      <td>64</td>\n",
       "      <td>59.81%</td>\n",
       "    </tr>\n",
       "    <tr>\n",
       "      <th>1</th>\n",
       "      <td>True</td>\n",
       "      <td>43</td>\n",
       "      <td>40.19%</td>\n",
       "    </tr>\n",
       "  </tbody>\n",
       "</table>\n",
       "</div>"
      ],
      "text/plain": [
       "   uses_prolog  file_count proportion_of_files\n",
       "0        False          64              59.81%\n",
       "1         True          43              40.19%"
      ]
     },
     "execution_count": 71,
     "metadata": {},
     "output_type": "execute_result"
    }
   ],
   "source": [
    "prolog_counts = pd.DataFrame(df.uses_prolog.value_counts()).reset_index().rename(columns={\"count\":\"file_count\"})\n",
    "proportions = (prolog_counts[[\"file_count\"]]/(len(dublin_file_paths))).values\n",
    "percentages = [f\"{proportion[0]*100:.2f}%\" for proportion in proportions]\n",
    "prolog_counts.insert(len(prolog_counts.columns), \"proportion_of_files\", percentages)\n",
    "prolog_counts"
   ]
  },
  {
   "cell_type": "code",
   "execution_count": 72,
   "id": "69c101fd",
   "metadata": {},
   "outputs": [
    {
     "data": {
      "text/html": [
       "<div>\n",
       "<style scoped>\n",
       "    .dataframe tbody tr th:only-of-type {\n",
       "        vertical-align: middle;\n",
       "    }\n",
       "\n",
       "    .dataframe tbody tr th {\n",
       "        vertical-align: top;\n",
       "    }\n",
       "\n",
       "    .dataframe thead th {\n",
       "        text-align: right;\n",
       "    }\n",
       "</style>\n",
       "<table border=\"1\" class=\"dataframe\">\n",
       "  <thead>\n",
       "    <tr style=\"text-align: right;\">\n",
       "      <th></th>\n",
       "      <th>uses_simple</th>\n",
       "      <th>file_count</th>\n",
       "      <th>proportion_of_files</th>\n",
       "    </tr>\n",
       "  </thead>\n",
       "  <tbody>\n",
       "    <tr>\n",
       "      <th>0</th>\n",
       "      <td>False</td>\n",
       "      <td>14</td>\n",
       "      <td>13.08%</td>\n",
       "    </tr>\n",
       "    <tr>\n",
       "      <th>1</th>\n",
       "      <td>True</td>\n",
       "      <td>93</td>\n",
       "      <td>86.92%</td>\n",
       "    </tr>\n",
       "  </tbody>\n",
       "</table>\n",
       "</div>"
      ],
      "text/plain": [
       "   uses_simple  file_count proportion_of_files\n",
       "0        False          14              13.08%\n",
       "1         True          93              86.92%"
      ]
     },
     "execution_count": 72,
     "metadata": {},
     "output_type": "execute_result"
    }
   ],
   "source": [
    "col = \"uses_simple\"\n",
    "subdf = df.loc[df[col] == False]\n",
    "simple_counts = pd.DataFrame.from_dict({col:[False, True], \"file_count\":[subdf.shape[0], (df.shape[0] - subdf.shape[0])]})\n",
    "proportions = (simple_counts[[\"file_count\"]]/(len(dublin_file_paths))).values\n",
    "percentages = [f\"{proportion[0]*100:.2f}%\" for proportion in proportions]\n",
    "simple_counts.insert(len(simple_counts.columns), \"proportion_of_files\", percentages)\n",
    "simple_counts"
   ]
  },
  {
   "cell_type": "code",
   "execution_count": 81,
   "id": "13ff0392",
   "metadata": {},
   "outputs": [
    {
     "data": {
      "text/html": [
       "<div>\n",
       "<style scoped>\n",
       "    .dataframe tbody tr th:only-of-type {\n",
       "        vertical-align: middle;\n",
       "    }\n",
       "\n",
       "    .dataframe tbody tr th {\n",
       "        vertical-align: top;\n",
       "    }\n",
       "\n",
       "    .dataframe thead th {\n",
       "        text-align: right;\n",
       "    }\n",
       "</style>\n",
       "<table border=\"1\" class=\"dataframe\">\n",
       "  <thead>\n",
       "    <tr style=\"text-align: right;\">\n",
       "      <th></th>\n",
       "      <th>uses_simple</th>\n",
       "      <th>file_count</th>\n",
       "      <th>proportion_of_files</th>\n",
       "      <th>uses_qualified</th>\n",
       "      <th>file_count</th>\n",
       "      <th>proportion_of_files</th>\n",
       "    </tr>\n",
       "  </thead>\n",
       "  <tbody>\n",
       "    <tr>\n",
       "      <th>0</th>\n",
       "      <td>False</td>\n",
       "      <td>14</td>\n",
       "      <td>13.08%</td>\n",
       "      <td>False</td>\n",
       "      <td>97</td>\n",
       "      <td>90.65%</td>\n",
       "    </tr>\n",
       "    <tr>\n",
       "      <th>1</th>\n",
       "      <td>True</td>\n",
       "      <td>93</td>\n",
       "      <td>86.92%</td>\n",
       "      <td>True</td>\n",
       "      <td>10</td>\n",
       "      <td>9.35%</td>\n",
       "    </tr>\n",
       "  </tbody>\n",
       "</table>\n",
       "</div>"
      ],
      "text/plain": [
       "   uses_simple  file_count proportion_of_files  uses_qualified  file_count  \\\n",
       "0        False          14              13.08%           False          97   \n",
       "1         True          93              86.92%            True          10   \n",
       "\n",
       "  proportion_of_files  \n",
       "0              90.65%  \n",
       "1               9.35%  "
      ]
     },
     "execution_count": 81,
     "metadata": {},
     "output_type": "execute_result"
    }
   ],
   "source": [
    "col = \"uses_qualified\"\n",
    "subdf = df.loc[df[col] == False]\n",
    "qual_counts = pd.DataFrame.from_dict({col:[False, True], \"file_count\":[subdf.shape[0], (df.shape[0] - subdf.shape[0])]})\n",
    "proportions = (qual_counts[[\"file_count\"]]/(len(dublin_file_paths))).values\n",
    "percentages = [f\"{proportion[0]*100:.2f}%\" for proportion in proportions]\n",
    "qual_counts.insert(len(qual_counts.columns), \"proportion_of_files\", percentages)\n",
    "dc_counts = pd.concat([simple_counts, qual_counts], axis=1)\n",
    "dc_counts"
   ]
  },
  {
   "cell_type": "code",
   "execution_count": 84,
   "id": "9dab84a6",
   "metadata": {},
   "outputs": [
    {
     "data": {
      "text/html": [
       "<div>\n",
       "<style scoped>\n",
       "    .dataframe tbody tr th:only-of-type {\n",
       "        vertical-align: middle;\n",
       "    }\n",
       "\n",
       "    .dataframe tbody tr th {\n",
       "        vertical-align: top;\n",
       "    }\n",
       "\n",
       "    .dataframe thead th {\n",
       "        text-align: right;\n",
       "    }\n",
       "</style>\n",
       "<table border=\"1\" class=\"dataframe\">\n",
       "  <thead>\n",
       "    <tr style=\"text-align: right;\">\n",
       "      <th></th>\n",
       "      <th>uses_rdf</th>\n",
       "      <th>file_count</th>\n",
       "      <th>proportion_of_files</th>\n",
       "    </tr>\n",
       "  </thead>\n",
       "  <tbody>\n",
       "    <tr>\n",
       "      <th>0</th>\n",
       "      <td>False</td>\n",
       "      <td>107</td>\n",
       "      <td>100.00%</td>\n",
       "    </tr>\n",
       "    <tr>\n",
       "      <th>1</th>\n",
       "      <td>True</td>\n",
       "      <td>0</td>\n",
       "      <td>0.00%</td>\n",
       "    </tr>\n",
       "  </tbody>\n",
       "</table>\n",
       "</div>"
      ],
      "text/plain": [
       "   uses_rdf  file_count proportion_of_files\n",
       "0     False         107             100.00%\n",
       "1      True           0               0.00%"
      ]
     },
     "execution_count": 84,
     "metadata": {},
     "output_type": "execute_result"
    }
   ],
   "source": [
    "col = \"uses_rdf\"\n",
    "subdf = df.loc[df[col] == False]\n",
    "rdf_counts = pd.DataFrame.from_dict({col:[False, True], \"file_count\":[subdf.shape[0], (df.shape[0] - subdf.shape[0])]})\n",
    "proportions = (rdf_counts[[\"file_count\"]]/(len(dublin_file_paths))).values\n",
    "percentages = [f\"{proportion[0]*100:.2f}%\" for proportion in proportions]\n",
    "rdf_counts.insert(len(rdf_counts.columns), \"proportion_of_files\", percentages)\n",
    "rdf_counts"
   ]
  },
  {
   "cell_type": "code",
   "execution_count": 85,
   "id": "b9f034e3",
   "metadata": {},
   "outputs": [
    {
     "data": {
      "text/html": [
       "<div>\n",
       "<style scoped>\n",
       "    .dataframe tbody tr th:only-of-type {\n",
       "        vertical-align: middle;\n",
       "    }\n",
       "\n",
       "    .dataframe tbody tr th {\n",
       "        vertical-align: top;\n",
       "    }\n",
       "\n",
       "    .dataframe thead th {\n",
       "        text-align: right;\n",
       "    }\n",
       "</style>\n",
       "<table border=\"1\" class=\"dataframe\">\n",
       "  <thead>\n",
       "    <tr style=\"text-align: right;\">\n",
       "      <th></th>\n",
       "      <th>uses_rdf</th>\n",
       "      <th>file_count</th>\n",
       "      <th>proportion_of_files</th>\n",
       "      <th>uses_rdf_desc</th>\n",
       "      <th>file_count</th>\n",
       "      <th>proportion_of_files</th>\n",
       "    </tr>\n",
       "  </thead>\n",
       "  <tbody>\n",
       "    <tr>\n",
       "      <th>0</th>\n",
       "      <td>False</td>\n",
       "      <td>107</td>\n",
       "      <td>100.00%</td>\n",
       "      <td>False</td>\n",
       "      <td>99</td>\n",
       "      <td>92.52%</td>\n",
       "    </tr>\n",
       "    <tr>\n",
       "      <th>1</th>\n",
       "      <td>True</td>\n",
       "      <td>0</td>\n",
       "      <td>0.00%</td>\n",
       "      <td>True</td>\n",
       "      <td>8</td>\n",
       "      <td>7.48%</td>\n",
       "    </tr>\n",
       "  </tbody>\n",
       "</table>\n",
       "</div>"
      ],
      "text/plain": [
       "   uses_rdf  file_count proportion_of_files  uses_rdf_desc  file_count  \\\n",
       "0     False         107             100.00%          False          99   \n",
       "1      True           0               0.00%           True           8   \n",
       "\n",
       "  proportion_of_files  \n",
       "0              92.52%  \n",
       "1               7.48%  "
      ]
     },
     "execution_count": 85,
     "metadata": {},
     "output_type": "execute_result"
    }
   ],
   "source": [
    "col = \"uses_rdf_desc\"\n",
    "subdf = df.loc[df[col] == False]\n",
    "rdf_desc_counts = pd.DataFrame.from_dict({col:[False, True], \"file_count\":[subdf.shape[0], (df.shape[0] - subdf.shape[0])]})\n",
    "proportions = (rdf_desc_counts[[\"file_count\"]]/(len(dublin_file_paths))).values\n",
    "percentages = [f\"{proportion[0]*100:.2f}%\" for proportion in proportions]\n",
    "rdf_desc_counts.insert(len(rdf_desc_counts.columns), \"proportion_of_files\", percentages)\n",
    "rdf_counts = pd.concat([rdf_counts, rdf_desc_counts], axis=1)\n",
    "rdf_counts"
   ]
  },
  {
   "cell_type": "markdown",
   "id": "bcfb808f",
   "metadata": {},
   "source": [
    "Save the reports as CSV files."
   ]
  },
  {
   "cell_type": "code",
   "execution_count": 86,
   "id": "9df098e2",
   "metadata": {},
   "outputs": [],
   "source": [
    "metadata_standard = \"dublin_core\"\n",
    "data_serialization = \"xml\""
   ]
  },
  {
   "cell_type": "code",
   "execution_count": 87,
   "id": "5cb1e758",
   "metadata": {},
   "outputs": [],
   "source": [
    "report_type = \"conformance\"\n",
    "df.to_csv(\n",
    "    report_dir+\"{metadata_standard}_{data_serialization}_{report_type}.csv\".format(\n",
    "        metadata_standard=metadata_standard,\n",
    "        data_serialization=data_serialization,\n",
    "        report_type=report_type\n",
    "        ), index=True\n",
    "    )"
   ]
  },
  {
   "cell_type": "code",
   "execution_count": null,
   "id": "ff46100c",
   "metadata": {},
   "outputs": [],
   "source": [
    "report_type = \"prolog_stats\"\n",
    "prolog_counts.to_csv(\n",
    "    report_dir+\"{metadata_standard}_{data_serialization}_{report_type}.csv\".format(\n",
    "        metadata_standard=metadata_standard,\n",
    "        data_serialization=data_serialization,\n",
    "        report_type=report_type\n",
    "        ), index=True\n",
    "    )"
   ]
  },
  {
   "cell_type": "code",
   "execution_count": 89,
   "id": "ae842096",
   "metadata": {},
   "outputs": [],
   "source": [
    "report_type = \"dc_simple_qual_stats\"\n",
    "dc_counts.to_csv(\n",
    "    report_dir+\"{metadata_standard}_{data_serialization}_{report_type}.csv\".format(\n",
    "        metadata_standard=metadata_standard,\n",
    "        data_serialization=data_serialization,\n",
    "        report_type=report_type\n",
    "        ), index=True\n",
    "    )"
   ]
  },
  {
   "cell_type": "code",
   "execution_count": 90,
   "id": "876164b4",
   "metadata": {},
   "outputs": [],
   "source": [
    "report_type = \"rdf_stats\"\n",
    "rdf_counts.to_csv(\n",
    "    report_dir+\"{metadata_standard}_{data_serialization}_{report_type}.csv\".format(\n",
    "        metadata_standard=metadata_standard,\n",
    "        data_serialization=data_serialization,\n",
    "        report_type=report_type\n",
    "        ), index=True\n",
    "    )"
   ]
  },
  {
   "cell_type": "markdown",
   "id": "3539970c",
   "metadata": {},
   "source": [
    "## JSON-LD"
   ]
  },
  {
   "cell_type": "code",
   "execution_count": 11,
   "id": "f7fefb66",
   "metadata": {},
   "outputs": [
    {
     "name": "stdout",
     "output_type": "stream",
     "text": [
      "Total CIDOC-CRM JSON files: 148\n"
     ]
    }
   ],
   "source": [
    "extension = \".json\" #\".txt\"\n",
    "cidoc_file_paths = []\n",
    "cidoc_files_t1 = [f for f in os.listdir(cidoc_t1_dir) if f.endswith(extension)]\n",
    "cidoc_file_paths += [cidoc_t1_dir+f for f in cidoc_files_t1]\n",
    "cidoc_files_p1 = [f for f in os.listdir(cidoc_p1_dir) if f.endswith(extension)]\n",
    "cidoc_file_paths += [cidoc_p1_dir+f for f in cidoc_files_p1]\n",
    "cidoc_files_p3 = [f for f in os.listdir(cidoc_p3_dir) if f.endswith(extension)]\n",
    "cidoc_file_paths += [cidoc_p3_dir+f for f in cidoc_files_p3]\n",
    "cidoc_file_paths.sort()\n",
    "print(\"Total CIDOC-CRM JSON files:\", len(cidoc_file_paths))"
   ]
  },
  {
   "cell_type": "code",
   "execution_count": 12,
   "id": "ee237390",
   "metadata": {},
   "outputs": [
    {
     "data": {
      "text/plain": [
       "'data/data_playground_task1/cleaned/cidoc_crm/cidoccrm_record_000.json'"
      ]
     },
     "execution_count": 12,
     "metadata": {},
     "output_type": "execute_result"
    }
   ],
   "source": [
    "cidoc_file_paths[0]"
   ]
  },
  {
   "cell_type": "code",
   "execution_count": 13,
   "id": "5390dbcc",
   "metadata": {},
   "outputs": [
    {
     "name": "stdout",
     "output_type": "stream",
     "text": [
      "Total Schema.org JSON files: 182\n"
     ]
    }
   ],
   "source": [
    "extension = \".json\" #\".txt\"\n",
    "schema_file_paths = []\n",
    "schema_files_t1 = os.listdir(schema_t1_dir)\n",
    "schema_file_paths += [schema_t1_dir+f for f in schema_files_t1 if f.endswith(extension)]\n",
    "schema_files_p1 = os.listdir(schema_p1_dir)\n",
    "schema_file_paths += [schema_p1_dir+f for f in schema_files_p1 if f.endswith(extension)]\n",
    "schema_files_p3 = os.listdir(schema_p3_dir)\n",
    "schema_file_paths += [schema_p3_dir+f for f in schema_files_p3 if f.endswith(extension)]\n",
    "schema_file_paths.sort()\n",
    "print(\"Total Schema.org JSON files:\", len(schema_file_paths))"
   ]
  },
  {
   "cell_type": "code",
   "execution_count": 14,
   "id": "a35dc2e1",
   "metadata": {},
   "outputs": [
    {
     "data": {
      "text/plain": [
       "'data/data_playground_task1/cleaned/schema_org/sdo_record_000.json'"
      ]
     },
     "execution_count": 14,
     "metadata": {},
     "output_type": "execute_result"
    }
   ],
   "source": [
    "schema_file_paths[0]"
   ]
  },
  {
   "cell_type": "code",
   "execution_count": 15,
   "id": "24e9cba8",
   "metadata": {},
   "outputs": [
    {
     "name": "stdout",
     "output_type": "stream",
     "text": [
      "330\n"
     ]
    }
   ],
   "source": [
    "json_file_paths = cidoc_file_paths + schema_file_paths\n",
    "total_json_files = len(json_file_paths)\n",
    "print(len(json_file_paths))"
   ]
  },
  {
   "cell_type": "markdown",
   "id": "94b73809",
   "metadata": {},
   "source": [
    "### Schema.org\n",
    "\n",
    "Check whether the context for Schema.org is correctly included in the Schema.org JSON-LD metadata records."
   ]
  },
  {
   "cell_type": "code",
   "execution_count": null,
   "id": "3e8a7f62",
   "metadata": {},
   "outputs": [
    {
     "name": "stderr",
     "output_type": "stream",
     "text": [
      "<>:1: SyntaxWarning: invalid escape sequence '\\s'\n",
      "<>:1: SyntaxWarning: invalid escape sequence '\\s'\n",
      "/var/folders/9c/dtt4chrx6lgcgnfz6r_z5ymm0000gn/T/ipykernel_31179/3838518978.py:1: SyntaxWarning: invalid escape sequence '\\s'\n",
      "  context_pattern = re.compile('\"@context\":\\s*\\{\\s*\"@vocab\":\\s*\"https?://schema.org/\"\\s*\\}')\n"
     ]
    }
   ],
   "source": [
    "context_pattern = re.compile('\"@context\":\\s*\\{\\s*\"@vocab\":\\s*\"https?://schema.org/\"\\s*\\}')\n",
    "context_url_pattern = re.compile(\"https?://schema.org/?\") # allow for both 'http' and 'https' and for the URL to end with or without a forward slash\n",
    "data_model = \"Schema.org\"\n",
    "df = utils.contextInclusion(schema_file_paths, data_model, context_pattern, context_url_pattern)"
   ]
  },
  {
   "cell_type": "code",
   "execution_count": null,
   "id": "053fdb64",
   "metadata": {},
   "outputs": [
    {
     "data": {
      "text/html": [
       "<div>\n",
       "<style scoped>\n",
       "    .dataframe tbody tr th:only-of-type {\n",
       "        vertical-align: middle;\n",
       "    }\n",
       "\n",
       "    .dataframe tbody tr th {\n",
       "        vertical-align: top;\n",
       "    }\n",
       "\n",
       "    .dataframe thead th {\n",
       "        text-align: right;\n",
       "    }\n",
       "</style>\n",
       "<table border=\"1\" class=\"dataframe\">\n",
       "  <thead>\n",
       "    <tr style=\"text-align: right;\">\n",
       "      <th></th>\n",
       "      <th>file_path</th>\n",
       "      <th>data_model</th>\n",
       "      <th>includes_context_correctly</th>\n",
       "      <th>includes_@context</th>\n",
       "      <th>includes_data_model_url</th>\n",
       "    </tr>\n",
       "  </thead>\n",
       "  <tbody>\n",
       "    <tr>\n",
       "      <th>0</th>\n",
       "      <td>data/data_playground_task1/cleaned/schema_org/...</td>\n",
       "      <td>Schema.org</td>\n",
       "      <td>False</td>\n",
       "      <td>True</td>\n",
       "      <td>True</td>\n",
       "    </tr>\n",
       "    <tr>\n",
       "      <th>1</th>\n",
       "      <td>data/data_playground_task1/cleaned/schema_org/...</td>\n",
       "      <td>Schema.org</td>\n",
       "      <td>False</td>\n",
       "      <td>True</td>\n",
       "      <td>True</td>\n",
       "    </tr>\n",
       "    <tr>\n",
       "      <th>2</th>\n",
       "      <td>data/data_playground_task1/cleaned/schema_org/...</td>\n",
       "      <td>Schema.org</td>\n",
       "      <td>False</td>\n",
       "      <td>True</td>\n",
       "      <td>True</td>\n",
       "    </tr>\n",
       "    <tr>\n",
       "      <th>3</th>\n",
       "      <td>data/data_playground_task1/cleaned/schema_org/...</td>\n",
       "      <td>Schema.org</td>\n",
       "      <td>False</td>\n",
       "      <td>True</td>\n",
       "      <td>True</td>\n",
       "    </tr>\n",
       "    <tr>\n",
       "      <th>4</th>\n",
       "      <td>data/data_playground_task1/cleaned/schema_org/...</td>\n",
       "      <td>Schema.org</td>\n",
       "      <td>False</td>\n",
       "      <td>True</td>\n",
       "      <td>True</td>\n",
       "    </tr>\n",
       "  </tbody>\n",
       "</table>\n",
       "</div>"
      ],
      "text/plain": [
       "                                           file_path  data_model  \\\n",
       "0  data/data_playground_task1/cleaned/schema_org/...  Schema.org   \n",
       "1  data/data_playground_task1/cleaned/schema_org/...  Schema.org   \n",
       "2  data/data_playground_task1/cleaned/schema_org/...  Schema.org   \n",
       "3  data/data_playground_task1/cleaned/schema_org/...  Schema.org   \n",
       "4  data/data_playground_task1/cleaned/schema_org/...  Schema.org   \n",
       "\n",
       "   includes_context_correctly  includes_@context  includes_data_model_url  \n",
       "0                       False               True                     True  \n",
       "1                       False               True                     True  \n",
       "2                       False               True                     True  \n",
       "3                       False               True                     True  \n",
       "4                       False               True                     True  "
      ]
     },
     "execution_count": 71,
     "metadata": {},
     "output_type": "execute_result"
    }
   ],
   "source": [
    "# context_correct, has_context_var, has_model_url = [], [], []\n",
    "# for file_path in schema_file_paths:\n",
    "#     with open(file_path, \"r\") as f:\n",
    "#         f_string = f.read().lower()\n",
    "\n",
    "#         if re.search(context_pattern, f_string):\n",
    "#             context_correct += [True]\n",
    "#             has_context_var += [True]\n",
    "#             has_context_vocab += [True]\n",
    "#             ha_model_url += [True]\n",
    "#         else:\n",
    "#             context_correct += [False]\n",
    "#             if context_var in f_string:\n",
    "#                 has_context_var += [True]\n",
    "#             else:\n",
    "#                 has_context_var += [False]\n",
    "#             if re.search(context_url_pattern, f_string):\n",
    "#                 has_model_url += [True]\n",
    "#             else:\n",
    "#                 has_model_url += [False]\n",
    "\n",
    "#         f.close()\n",
    "# df = pd.DataFrame.from_dict({\n",
    "#     \"file_path\":schema_file_paths, \"data_model\":[\"Schema.org\"]*len(schema_file_paths), \n",
    "#     \"includes_context_correctly\":context_correct, \"includes_@context\":has_context_var, \n",
    "#     \"includes_data_model_url\":has_model_url\n",
    "#     })\n",
    "# df.head()"
   ]
  },
  {
   "cell_type": "code",
   "execution_count": 72,
   "id": "4dc865d3",
   "metadata": {},
   "outputs": [
    {
     "data": {
      "text/html": [
       "<div>\n",
       "<style scoped>\n",
       "    .dataframe tbody tr th:only-of-type {\n",
       "        vertical-align: middle;\n",
       "    }\n",
       "\n",
       "    .dataframe tbody tr th {\n",
       "        vertical-align: top;\n",
       "    }\n",
       "\n",
       "    .dataframe thead th {\n",
       "        text-align: right;\n",
       "    }\n",
       "</style>\n",
       "<table border=\"1\" class=\"dataframe\">\n",
       "  <thead>\n",
       "    <tr style=\"text-align: right;\">\n",
       "      <th></th>\n",
       "      <th>includes_context_correctly_file_count</th>\n",
       "      <th>includes_@context_file_count</th>\n",
       "      <th>includes_data_model_url_file_count</th>\n",
       "    </tr>\n",
       "  </thead>\n",
       "  <tbody>\n",
       "    <tr>\n",
       "      <th>False</th>\n",
       "      <td>182.0</td>\n",
       "      <td>0.0</td>\n",
       "      <td>0.0</td>\n",
       "    </tr>\n",
       "    <tr>\n",
       "      <th>True</th>\n",
       "      <td>0.0</td>\n",
       "      <td>182.0</td>\n",
       "      <td>182.0</td>\n",
       "    </tr>\n",
       "  </tbody>\n",
       "</table>\n",
       "</div>"
      ],
      "text/plain": [
       "       includes_context_correctly_file_count  includes_@context_file_count  \\\n",
       "False                                  182.0                           0.0   \n",
       "True                                     0.0                         182.0   \n",
       "\n",
       "       includes_data_model_url_file_count  \n",
       "False                                 0.0  \n",
       "True                                182.0  "
      ]
     },
     "execution_count": 72,
     "metadata": {},
     "output_type": "execute_result"
    }
   ],
   "source": [
    "cols = [\"includes_context_correctly\", \"includes_@context\", \"includes_data_model_url\"]\n",
    "df_counts = pd.DataFrame()\n",
    "for col in cols:\n",
    "    count = pd.DataFrame(df[col].value_counts()).rename(columns={\"count\":col+\"_file_count\"})\n",
    "    df_counts = pd.concat([df_counts, count], axis=1)\n",
    "df_counts = df_counts.fillna(0)\n",
    "df_counts"
   ]
  },
  {
   "cell_type": "markdown",
   "id": "4e95d972",
   "metadata": {},
   "source": [
    "Save the results as CSV reports."
   ]
  },
  {
   "cell_type": "code",
   "execution_count": 73,
   "id": "869dbc44",
   "metadata": {},
   "outputs": [],
   "source": [
    "metadata_standard = \"sdo\"\n",
    "data_serialization = \"json-ld\""
   ]
  },
  {
   "cell_type": "code",
   "execution_count": 74,
   "id": "9ab369b9",
   "metadata": {},
   "outputs": [],
   "source": [
    "report_type = \"context\"\n",
    "df.to_csv(\n",
    "    report_dir+\"{metadata_standard}_{data_serialization}_{report_type}.csv\".format(\n",
    "        metadata_standard=metadata_standard,\n",
    "        data_serialization=data_serialization,\n",
    "        report_type=report_type\n",
    "        ), index=True\n",
    "    )"
   ]
  },
  {
   "cell_type": "code",
   "execution_count": 75,
   "id": "dd7877d9",
   "metadata": {},
   "outputs": [],
   "source": [
    "report_type = \"context_counts\"\n",
    "df_counts.to_csv(\n",
    "    report_dir+\"{metadata_standard}_{data_serialization}_{report_type}.csv\".format(\n",
    "        metadata_standard=metadata_standard,\n",
    "        data_serialization=data_serialization,\n",
    "        report_type=report_type\n",
    "        ), index=True\n",
    "    )"
   ]
  },
  {
   "cell_type": "markdown",
   "id": "d4095597",
   "metadata": {},
   "source": [
    "### CIDOC-CRM\n",
    "\n",
    "Conformance basically a check that types exist and are referenced (spelled, structured) properly?"
   ]
  },
  {
   "cell_type": "code",
   "execution_count": null,
   "id": "df73726f",
   "metadata": {},
   "outputs": [],
   "source": [
    "# JSON-LD Context: https://cidoc-crm.org/rdfs/7.1.3/CIDOC_CRM_v7.1.3_JSON-LD_Context.jsonld\n",
    "# Classes & properties: https://cidoc-crm.org/html/cidoc_crm_v7.1.3.html\n",
    "# Namespace: http://www.cidoc-crm.org/cidoc-crm/"
   ]
  },
  {
   "cell_type": "code",
   "execution_count": null,
   "id": "977f4db7",
   "metadata": {},
   "outputs": [],
   "source": [
    "# to get all field names in JSON: '\"@?[a-zA-Z]+\"(?=:)'"
   ]
  }
 ],
 "metadata": {
  "kernelspec": {
   "display_name": "ldeval",
   "language": "python",
   "name": "python3"
  },
  "language_info": {
   "codemirror_mode": {
    "name": "ipython",
    "version": 3
   },
   "file_extension": ".py",
   "mimetype": "text/x-python",
   "name": "python",
   "nbconvert_exporter": "python",
   "pygments_lexer": "ipython3",
   "version": "3.13.2"
  }
 },
 "nbformat": 4,
 "nbformat_minor": 5
}
